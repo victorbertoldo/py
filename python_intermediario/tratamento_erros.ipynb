{
 "metadata": {
  "language_info": {
   "codemirror_mode": {
    "name": "ipython",
    "version": 3
   },
   "file_extension": ".py",
   "mimetype": "text/x-python",
   "name": "python",
   "nbconvert_exporter": "python",
   "pygments_lexer": "ipython3",
   "version": "3.8.5-final"
  },
  "orig_nbformat": 2,
  "kernelspec": {
   "name": "python3",
   "display_name": "Python 3.8.5 64-bit (conda)",
   "metadata": {
    "interpreter": {
     "hash": "c9ac96ecdbd0bc9af86bc43b03465688350896f5289c88a63f86f204affded0e"
    }
   }
  }
 },
 "nbformat": 4,
 "nbformat_minor": 2,
 "cells": [
  {
   "source": [
    "# Tratamento de erros"
   ],
   "cell_type": "markdown",
   "metadata": {}
  },
  {
   "source": [
    "### Utilizando o ** try **"
   ],
   "cell_type": "markdown",
   "metadata": {}
  },
  {
   "cell_type": "code",
   "execution_count": 9,
   "metadata": {},
   "outputs": [
    {
     "output_type": "stream",
     "name": "stdout",
     "text": [
      "division by zero\nSempre será executado! Independente do erro.\n"
     ]
    }
   ],
   "source": [
    "try:\n",
    "    print(2/0)\n",
    "except Exception as e: # a classe Exception é a classe pai dos erros de exceção em python\n",
    "    print(e)    \n",
    "else: # o else é executado apenas qndo o try dá certo\n",
    "    print('o else é executado apenas qndo o try dá certo')\n",
    "finally:\n",
    "    print('Sempre será executado! Independente do erro.')     "
   ]
  },
  {
   "cell_type": "code",
   "execution_count": 10,
   "metadata": {},
   "outputs": [
    {
     "output_type": "stream",
     "name": "stdout",
     "text": [
      "1.0\no else é executado apenas qndo o try dá certo\nSempre será executado! Independente do erro.\n"
     ]
    }
   ],
   "source": [
    "try:\n",
    "    print(2/2)\n",
    "except Exception as e: # a classe Exception é a classe pai dos erros de exceção em python\n",
    "    print(e)    \n",
    "else: # o else é executado apenas qndo o try dá certo\n",
    "    print('o else é executado apenas qndo o try dá certo')\n",
    "finally:\n",
    "    print('Sempre será executado! Independente do erro.')        "
   ]
  },
  {
   "source": [
    "### Segue um exemplo de uso para inserção no banco de dados"
   ],
   "cell_type": "markdown",
   "metadata": {}
  },
  {
   "cell_type": "code",
   "execution_count": null,
   "metadata": {},
   "outputs": [],
   "source": [
    "def insert_db(dados):\n",
    "    try:\n",
    "        sql.insert_db(dados)\n",
    "    except:\n",
    "        pass # O pass é para não fazer nada caso ocorra uma exceção"
   ]
  },
  {
   "source": [
    "for _, row in df.iterrrows():\n",
    "    insert_db(row.dado)"
   ],
   "cell_type": "code",
   "metadata": {},
   "execution_count": null,
   "outputs": []
  },
  {
   "cell_type": "code",
   "execution_count": null,
   "metadata": {},
   "outputs": [],
   "source": []
  }
 ]
}