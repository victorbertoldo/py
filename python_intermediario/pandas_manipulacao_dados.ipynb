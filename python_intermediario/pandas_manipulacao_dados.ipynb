{
 "metadata": {
  "language_info": {
   "codemirror_mode": {
    "name": "ipython",
    "version": 3
   },
   "file_extension": ".py",
   "mimetype": "text/x-python",
   "name": "python",
   "nbconvert_exporter": "python",
   "pygments_lexer": "ipython3",
   "version": "3.8.5-final"
  },
  "orig_nbformat": 2,
  "kernelspec": {
   "name": "python3",
   "display_name": "Python 3.8.5 64-bit (conda)",
   "metadata": {
    "interpreter": {
     "hash": "c9ac96ecdbd0bc9af86bc43b03465688350896f5289c88a63f86f204affded0e"
    }
   }
  }
 },
 "nbformat": 4,
 "nbformat_minor": 2,
 "cells": [
  {
   "cell_type": "code",
   "execution_count": 2,
   "metadata": {},
   "outputs": [],
   "source": [
    "import pandas as pd\n",
    "import numpy as np\n",
    "from faker import Faker"
   ]
  },
  {
   "cell_type": "code",
   "execution_count": 3,
   "metadata": {},
   "outputs": [],
   "source": [
    "faker = Faker('pt_BR')"
   ]
  },
  {
   "cell_type": "code",
   "execution_count": 4,
   "metadata": {},
   "outputs": [
    {
     "output_type": "execute_result",
     "data": {
      "text/plain": [
       "{'job': 'Cinematográfo',\n",
       " 'company': 'das Neves',\n",
       " 'ssn': '79802136530',\n",
       " 'residence': 'Vereda Jesus, 36\\nMarieta 3ª Seção\\n56645-328 Pereira das Pedras / AM',\n",
       " 'current_location': (Decimal('-41.929511'), Decimal('51.543927')),\n",
       " 'blood_group': 'O-',\n",
       " 'website': ['https://www.ferreira.net/',\n",
       "  'https://melo.br/',\n",
       "  'https://almeida.com/'],\n",
       " 'username': 'cavalcantiisadora',\n",
       " 'name': 'Manuela Cavalcanti',\n",
       " 'sex': 'F',\n",
       " 'address': 'Feira de Lima\\nJuliana\\n64586639 Nunes do Oeste / RJ',\n",
       " 'mail': 'milena93@ig.com.br',\n",
       " 'birthdate': datetime.date(2010, 2, 23)}"
      ]
     },
     "metadata": {},
     "execution_count": 4
    }
   ],
   "source": [
    "faker.profile()"
   ]
  },
  {
   "source": [
    "### Esta lib gera dados ficticios"
   ],
   "cell_type": "markdown",
   "metadata": {}
  },
  {
   "cell_type": "code",
   "execution_count": 5,
   "metadata": {},
   "outputs": [],
   "source": [
    "def make_fake_data(n_rows: int) -> pd.DataFrame:\n",
    "    faker = Faker('pt_BR')\n",
    "\n",
    "    aux = faker.profile()\n",
    "    aux.pop('address')\n",
    "    aux.pop('mail')\n",
    "    # até aqui está gerando 1 dict, dropando alguns campos para capturar a estrutura dos dicts no proximo passo\n",
    "\n",
    "    cols = list(aux.keys())\n",
    "\n",
    "    array = []\n",
    "    for _ in range(n_rows):\n",
    "        aux = faker.profile()\n",
    "        aux.pop('address')\n",
    "        aux.pop('mail')\n",
    "\n",
    "        array.append(list(aux.values()))\n",
    "\n",
    "    res = pd.DataFrame(columns=cols, data=array)\n",
    "    return res"
   ]
  },
  {
   "cell_type": "code",
   "execution_count": 6,
   "metadata": {},
   "outputs": [],
   "source": [
    "df = make_fake_data(1000)"
   ]
  },
  {
   "cell_type": "code",
   "execution_count": 7,
   "metadata": {},
   "outputs": [
    {
     "output_type": "execute_result",
     "data": {
      "text/plain": [
       "                                     job               company          ssn  \\\n",
       "0               Vistoriador de sinistros            Moraes S/A  46751830939   \n",
       "1                           Neurologista    Rocha da Mata - ME  36415280708   \n",
       "2                            Comerciante          Barros Ltda.  41395268746   \n",
       "3  Engenheiro de produção agroindustrial  Aragão da Mota Ltda.  13975462043   \n",
       "4        Tecnólogo em produção moveleira                  Dias  41395627819   \n",
       "\n",
       "                                           residence  \\\n",
       "0  Viaduto Luiz Felipe da Mata\\nBuritis\\n66533-68...   \n",
       "1  Setor de Nogueira, 44\\nVila Paris\\n73788783 Si...   \n",
       "2  Vale Francisco Ramos, 2\\nXangri-Lá\\n37092-109 ...   \n",
       "3  Via Cardoso, 65\\nMinas Brasil\\n69494149 Azeved...   \n",
       "4  Parque João da Costa, 39\\nConjunto Capitão Edu...   \n",
       "\n",
       "           current_location blood_group  \\\n",
       "0   (-6.4383875, 10.084124)          O-   \n",
       "1  (69.469232, -122.071707)         AB-   \n",
       "2    (75.228294, 86.553256)          B-   \n",
       "3   (59.609883, -45.639861)         AB+   \n",
       "4    (2.5948175, 19.847110)          B-   \n",
       "\n",
       "                                             website        username  \\\n",
       "0                          [https://www.moreira.br/]       laracosta   \n",
       "1          [http://costela.br/, http://cardoso.com/]   mendesheloisa   \n",
       "2  [http://www.monteiro.br/, http://araujo.br/, h...  rodriguesalice   \n",
       "3                               [http://cardoso.br/]     fogacamaysa   \n",
       "4  [https://aragao.com/, https://www.cavalcanti.o...        enrico84   \n",
       "\n",
       "                   name sex   birthdate  \n",
       "0      Isadora Teixeira   F  2018-12-09  \n",
       "1         Eduarda Moura   F  1933-05-31  \n",
       "2          Isabel Alves   F  2016-02-09  \n",
       "3  Luiz Gustavo da Mata   M  1979-09-14  \n",
       "4     Juliana das Neves   F  2019-07-03  "
      ],
      "text/html": "<div>\n<style scoped>\n    .dataframe tbody tr th:only-of-type {\n        vertical-align: middle;\n    }\n\n    .dataframe tbody tr th {\n        vertical-align: top;\n    }\n\n    .dataframe thead th {\n        text-align: right;\n    }\n</style>\n<table border=\"1\" class=\"dataframe\">\n  <thead>\n    <tr style=\"text-align: right;\">\n      <th></th>\n      <th>job</th>\n      <th>company</th>\n      <th>ssn</th>\n      <th>residence</th>\n      <th>current_location</th>\n      <th>blood_group</th>\n      <th>website</th>\n      <th>username</th>\n      <th>name</th>\n      <th>sex</th>\n      <th>birthdate</th>\n    </tr>\n  </thead>\n  <tbody>\n    <tr>\n      <th>0</th>\n      <td>Vistoriador de sinistros</td>\n      <td>Moraes S/A</td>\n      <td>46751830939</td>\n      <td>Viaduto Luiz Felipe da Mata\\nBuritis\\n66533-68...</td>\n      <td>(-6.4383875, 10.084124)</td>\n      <td>O-</td>\n      <td>[https://www.moreira.br/]</td>\n      <td>laracosta</td>\n      <td>Isadora Teixeira</td>\n      <td>F</td>\n      <td>2018-12-09</td>\n    </tr>\n    <tr>\n      <th>1</th>\n      <td>Neurologista</td>\n      <td>Rocha da Mata - ME</td>\n      <td>36415280708</td>\n      <td>Setor de Nogueira, 44\\nVila Paris\\n73788783 Si...</td>\n      <td>(69.469232, -122.071707)</td>\n      <td>AB-</td>\n      <td>[http://costela.br/, http://cardoso.com/]</td>\n      <td>mendesheloisa</td>\n      <td>Eduarda Moura</td>\n      <td>F</td>\n      <td>1933-05-31</td>\n    </tr>\n    <tr>\n      <th>2</th>\n      <td>Comerciante</td>\n      <td>Barros Ltda.</td>\n      <td>41395268746</td>\n      <td>Vale Francisco Ramos, 2\\nXangri-Lá\\n37092-109 ...</td>\n      <td>(75.228294, 86.553256)</td>\n      <td>B-</td>\n      <td>[http://www.monteiro.br/, http://araujo.br/, h...</td>\n      <td>rodriguesalice</td>\n      <td>Isabel Alves</td>\n      <td>F</td>\n      <td>2016-02-09</td>\n    </tr>\n    <tr>\n      <th>3</th>\n      <td>Engenheiro de produção agroindustrial</td>\n      <td>Aragão da Mota Ltda.</td>\n      <td>13975462043</td>\n      <td>Via Cardoso, 65\\nMinas Brasil\\n69494149 Azeved...</td>\n      <td>(59.609883, -45.639861)</td>\n      <td>AB+</td>\n      <td>[http://cardoso.br/]</td>\n      <td>fogacamaysa</td>\n      <td>Luiz Gustavo da Mata</td>\n      <td>M</td>\n      <td>1979-09-14</td>\n    </tr>\n    <tr>\n      <th>4</th>\n      <td>Tecnólogo em produção moveleira</td>\n      <td>Dias</td>\n      <td>41395627819</td>\n      <td>Parque João da Costa, 39\\nConjunto Capitão Edu...</td>\n      <td>(2.5948175, 19.847110)</td>\n      <td>B-</td>\n      <td>[https://aragao.com/, https://www.cavalcanti.o...</td>\n      <td>enrico84</td>\n      <td>Juliana das Neves</td>\n      <td>F</td>\n      <td>2019-07-03</td>\n    </tr>\n  </tbody>\n</table>\n</div>"
     },
     "metadata": {},
     "execution_count": 7
    }
   ],
   "source": [
    "df.head()"
   ]
  },
  {
   "cell_type": "code",
   "execution_count": 8,
   "metadata": {},
   "outputs": [
    {
     "output_type": "execute_result",
     "data": {
      "text/plain": [
       "(1000, 11)"
      ]
     },
     "metadata": {},
     "execution_count": 8
    }
   ],
   "source": [
    "df.shape"
   ]
  },
  {
   "cell_type": "code",
   "execution_count": 9,
   "metadata": {},
   "outputs": [
    {
     "output_type": "stream",
     "name": "stdout",
     "text": [
      "<class 'pandas.core.frame.DataFrame'>\nRangeIndex: 1000 entries, 0 to 999\nData columns (total 11 columns):\n #   Column            Non-Null Count  Dtype \n---  ------            --------------  ----- \n 0   job               1000 non-null   object\n 1   company           1000 non-null   object\n 2   ssn               1000 non-null   object\n 3   residence         1000 non-null   object\n 4   current_location  1000 non-null   object\n 5   blood_group       1000 non-null   object\n 6   website           1000 non-null   object\n 7   username          1000 non-null   object\n 8   name              1000 non-null   object\n 9   sex               1000 non-null   object\n 10  birthdate         1000 non-null   object\ndtypes: object(11)\nmemory usage: 86.1+ KB\n"
     ]
    }
   ],
   "source": [
    "df.info()"
   ]
  },
  {
   "cell_type": "code",
   "execution_count": 10,
   "metadata": {},
   "outputs": [],
   "source": [
    "# transformar uma coluna object para inteiro\n",
    "\n",
    "df.ssn = df.ssn.astype(np.int64)"
   ]
  },
  {
   "cell_type": "code",
   "execution_count": 11,
   "metadata": {},
   "outputs": [
    {
     "output_type": "stream",
     "name": "stdout",
     "text": [
      "<class 'pandas.core.frame.DataFrame'>\nRangeIndex: 1000 entries, 0 to 999\nData columns (total 11 columns):\n #   Column            Non-Null Count  Dtype \n---  ------            --------------  ----- \n 0   job               1000 non-null   object\n 1   company           1000 non-null   object\n 2   ssn               1000 non-null   int64 \n 3   residence         1000 non-null   object\n 4   current_location  1000 non-null   object\n 5   blood_group       1000 non-null   object\n 6   website           1000 non-null   object\n 7   username          1000 non-null   object\n 8   name              1000 non-null   object\n 9   sex               1000 non-null   object\n 10  birthdate         1000 non-null   object\ndtypes: int64(1), object(10)\nmemory usage: 86.1+ KB\n"
     ]
    }
   ],
   "source": [
    "df.info()"
   ]
  },
  {
   "cell_type": "code",
   "execution_count": 12,
   "metadata": {},
   "outputs": [
    {
     "output_type": "execute_result",
     "data": {
      "text/plain": [
       "                ssn\n",
       "count  1.000000e+03\n",
       "mean   5.054658e+10\n",
       "std    2.888691e+10\n",
       "min    1.238976e+09\n",
       "25%    2.558442e+10\n",
       "50%    5.056718e+10\n",
       "75%    7.591637e+10\n",
       "max    9.874156e+10"
      ],
      "text/html": "<div>\n<style scoped>\n    .dataframe tbody tr th:only-of-type {\n        vertical-align: middle;\n    }\n\n    .dataframe tbody tr th {\n        vertical-align: top;\n    }\n\n    .dataframe thead th {\n        text-align: right;\n    }\n</style>\n<table border=\"1\" class=\"dataframe\">\n  <thead>\n    <tr style=\"text-align: right;\">\n      <th></th>\n      <th>ssn</th>\n    </tr>\n  </thead>\n  <tbody>\n    <tr>\n      <th>count</th>\n      <td>1.000000e+03</td>\n    </tr>\n    <tr>\n      <th>mean</th>\n      <td>5.054658e+10</td>\n    </tr>\n    <tr>\n      <th>std</th>\n      <td>2.888691e+10</td>\n    </tr>\n    <tr>\n      <th>min</th>\n      <td>1.238976e+09</td>\n    </tr>\n    <tr>\n      <th>25%</th>\n      <td>2.558442e+10</td>\n    </tr>\n    <tr>\n      <th>50%</th>\n      <td>5.056718e+10</td>\n    </tr>\n    <tr>\n      <th>75%</th>\n      <td>7.591637e+10</td>\n    </tr>\n    <tr>\n      <th>max</th>\n      <td>9.874156e+10</td>\n    </tr>\n  </tbody>\n</table>\n</div>"
     },
     "metadata": {},
     "execution_count": 12
    }
   ],
   "source": [
    "df.describe()"
   ]
  },
  {
   "source": [
    "### Usando metodo copy em um dataframe"
   ],
   "cell_type": "markdown",
   "metadata": {}
  },
  {
   "cell_type": "code",
   "execution_count": 13,
   "metadata": {},
   "outputs": [
    {
     "output_type": "execute_result",
     "data": {
      "text/plain": [
       "                                     job               company          ssn  \\\n",
       "0               Vistoriador de sinistros            Moraes S/A  46751830939   \n",
       "1                           Neurologista    Rocha da Mata - ME  36415280708   \n",
       "2                            Comerciante          Barros Ltda.  41395268746   \n",
       "3  Engenheiro de produção agroindustrial  Aragão da Mota Ltda.  13975462043   \n",
       "4        Tecnólogo em produção moveleira                  Dias  41395627819   \n",
       "\n",
       "                                           residence  \\\n",
       "0  Viaduto Luiz Felipe da Mata\\nBuritis\\n66533-68...   \n",
       "1  Setor de Nogueira, 44\\nVila Paris\\n73788783 Si...   \n",
       "2  Vale Francisco Ramos, 2\\nXangri-Lá\\n37092-109 ...   \n",
       "3  Via Cardoso, 65\\nMinas Brasil\\n69494149 Azeved...   \n",
       "4  Parque João da Costa, 39\\nConjunto Capitão Edu...   \n",
       "\n",
       "           current_location blood_group  \\\n",
       "0   (-6.4383875, 10.084124)          O-   \n",
       "1  (69.469232, -122.071707)         AB-   \n",
       "2    (75.228294, 86.553256)          B-   \n",
       "3   (59.609883, -45.639861)         AB+   \n",
       "4    (2.5948175, 19.847110)          B-   \n",
       "\n",
       "                                             website        username  \\\n",
       "0                          [https://www.moreira.br/]       laracosta   \n",
       "1          [http://costela.br/, http://cardoso.com/]   mendesheloisa   \n",
       "2  [http://www.monteiro.br/, http://araujo.br/, h...  rodriguesalice   \n",
       "3                               [http://cardoso.br/]     fogacamaysa   \n",
       "4  [https://aragao.com/, https://www.cavalcanti.o...        enrico84   \n",
       "\n",
       "                   name sex   birthdate  \n",
       "0      Isadora Teixeira   F  2018-12-09  \n",
       "1         Eduarda Moura   F  1933-05-31  \n",
       "2          Isabel Alves   F  2016-02-09  \n",
       "3  Luiz Gustavo da Mata   M  1979-09-14  \n",
       "4     Juliana das Neves   F  2019-07-03  "
      ],
      "text/html": "<div>\n<style scoped>\n    .dataframe tbody tr th:only-of-type {\n        vertical-align: middle;\n    }\n\n    .dataframe tbody tr th {\n        vertical-align: top;\n    }\n\n    .dataframe thead th {\n        text-align: right;\n    }\n</style>\n<table border=\"1\" class=\"dataframe\">\n  <thead>\n    <tr style=\"text-align: right;\">\n      <th></th>\n      <th>job</th>\n      <th>company</th>\n      <th>ssn</th>\n      <th>residence</th>\n      <th>current_location</th>\n      <th>blood_group</th>\n      <th>website</th>\n      <th>username</th>\n      <th>name</th>\n      <th>sex</th>\n      <th>birthdate</th>\n    </tr>\n  </thead>\n  <tbody>\n    <tr>\n      <th>0</th>\n      <td>Vistoriador de sinistros</td>\n      <td>Moraes S/A</td>\n      <td>46751830939</td>\n      <td>Viaduto Luiz Felipe da Mata\\nBuritis\\n66533-68...</td>\n      <td>(-6.4383875, 10.084124)</td>\n      <td>O-</td>\n      <td>[https://www.moreira.br/]</td>\n      <td>laracosta</td>\n      <td>Isadora Teixeira</td>\n      <td>F</td>\n      <td>2018-12-09</td>\n    </tr>\n    <tr>\n      <th>1</th>\n      <td>Neurologista</td>\n      <td>Rocha da Mata - ME</td>\n      <td>36415280708</td>\n      <td>Setor de Nogueira, 44\\nVila Paris\\n73788783 Si...</td>\n      <td>(69.469232, -122.071707)</td>\n      <td>AB-</td>\n      <td>[http://costela.br/, http://cardoso.com/]</td>\n      <td>mendesheloisa</td>\n      <td>Eduarda Moura</td>\n      <td>F</td>\n      <td>1933-05-31</td>\n    </tr>\n    <tr>\n      <th>2</th>\n      <td>Comerciante</td>\n      <td>Barros Ltda.</td>\n      <td>41395268746</td>\n      <td>Vale Francisco Ramos, 2\\nXangri-Lá\\n37092-109 ...</td>\n      <td>(75.228294, 86.553256)</td>\n      <td>B-</td>\n      <td>[http://www.monteiro.br/, http://araujo.br/, h...</td>\n      <td>rodriguesalice</td>\n      <td>Isabel Alves</td>\n      <td>F</td>\n      <td>2016-02-09</td>\n    </tr>\n    <tr>\n      <th>3</th>\n      <td>Engenheiro de produção agroindustrial</td>\n      <td>Aragão da Mota Ltda.</td>\n      <td>13975462043</td>\n      <td>Via Cardoso, 65\\nMinas Brasil\\n69494149 Azeved...</td>\n      <td>(59.609883, -45.639861)</td>\n      <td>AB+</td>\n      <td>[http://cardoso.br/]</td>\n      <td>fogacamaysa</td>\n      <td>Luiz Gustavo da Mata</td>\n      <td>M</td>\n      <td>1979-09-14</td>\n    </tr>\n    <tr>\n      <th>4</th>\n      <td>Tecnólogo em produção moveleira</td>\n      <td>Dias</td>\n      <td>41395627819</td>\n      <td>Parque João da Costa, 39\\nConjunto Capitão Edu...</td>\n      <td>(2.5948175, 19.847110)</td>\n      <td>B-</td>\n      <td>[https://aragao.com/, https://www.cavalcanti.o...</td>\n      <td>enrico84</td>\n      <td>Juliana das Neves</td>\n      <td>F</td>\n      <td>2019-07-03</td>\n    </tr>\n  </tbody>\n</table>\n</div>"
     },
     "metadata": {},
     "execution_count": 13
    }
   ],
   "source": [
    "# se não usar o copy pode ser q ao alterar o df a alteração afete o df2 tbm\n",
    "df2 = df.copy()\n",
    "df2.head()"
   ]
  },
  {
   "cell_type": "code",
   "execution_count": 14,
   "metadata": {},
   "outputs": [],
   "source": [
    "df2.drop(0, inplace=True)"
   ]
  },
  {
   "cell_type": "code",
   "execution_count": 15,
   "metadata": {},
   "outputs": [
    {
     "output_type": "execute_result",
     "data": {
      "text/plain": [
       "                                     job               company          ssn  \\\n",
       "0               Vistoriador de sinistros            Moraes S/A  46751830939   \n",
       "1                           Neurologista    Rocha da Mata - ME  36415280708   \n",
       "2                            Comerciante          Barros Ltda.  41395268746   \n",
       "3  Engenheiro de produção agroindustrial  Aragão da Mota Ltda.  13975462043   \n",
       "4        Tecnólogo em produção moveleira                  Dias  41395627819   \n",
       "\n",
       "                                           residence  \\\n",
       "0  Viaduto Luiz Felipe da Mata\\nBuritis\\n66533-68...   \n",
       "1  Setor de Nogueira, 44\\nVila Paris\\n73788783 Si...   \n",
       "2  Vale Francisco Ramos, 2\\nXangri-Lá\\n37092-109 ...   \n",
       "3  Via Cardoso, 65\\nMinas Brasil\\n69494149 Azeved...   \n",
       "4  Parque João da Costa, 39\\nConjunto Capitão Edu...   \n",
       "\n",
       "           current_location blood_group  \\\n",
       "0   (-6.4383875, 10.084124)          O-   \n",
       "1  (69.469232, -122.071707)         AB-   \n",
       "2    (75.228294, 86.553256)          B-   \n",
       "3   (59.609883, -45.639861)         AB+   \n",
       "4    (2.5948175, 19.847110)          B-   \n",
       "\n",
       "                                             website        username  \\\n",
       "0                          [https://www.moreira.br/]       laracosta   \n",
       "1          [http://costela.br/, http://cardoso.com/]   mendesheloisa   \n",
       "2  [http://www.monteiro.br/, http://araujo.br/, h...  rodriguesalice   \n",
       "3                               [http://cardoso.br/]     fogacamaysa   \n",
       "4  [https://aragao.com/, https://www.cavalcanti.o...        enrico84   \n",
       "\n",
       "                   name sex   birthdate  \n",
       "0      Isadora Teixeira   F  2018-12-09  \n",
       "1         Eduarda Moura   F  1933-05-31  \n",
       "2          Isabel Alves   F  2016-02-09  \n",
       "3  Luiz Gustavo da Mata   M  1979-09-14  \n",
       "4     Juliana das Neves   F  2019-07-03  "
      ],
      "text/html": "<div>\n<style scoped>\n    .dataframe tbody tr th:only-of-type {\n        vertical-align: middle;\n    }\n\n    .dataframe tbody tr th {\n        vertical-align: top;\n    }\n\n    .dataframe thead th {\n        text-align: right;\n    }\n</style>\n<table border=\"1\" class=\"dataframe\">\n  <thead>\n    <tr style=\"text-align: right;\">\n      <th></th>\n      <th>job</th>\n      <th>company</th>\n      <th>ssn</th>\n      <th>residence</th>\n      <th>current_location</th>\n      <th>blood_group</th>\n      <th>website</th>\n      <th>username</th>\n      <th>name</th>\n      <th>sex</th>\n      <th>birthdate</th>\n    </tr>\n  </thead>\n  <tbody>\n    <tr>\n      <th>0</th>\n      <td>Vistoriador de sinistros</td>\n      <td>Moraes S/A</td>\n      <td>46751830939</td>\n      <td>Viaduto Luiz Felipe da Mata\\nBuritis\\n66533-68...</td>\n      <td>(-6.4383875, 10.084124)</td>\n      <td>O-</td>\n      <td>[https://www.moreira.br/]</td>\n      <td>laracosta</td>\n      <td>Isadora Teixeira</td>\n      <td>F</td>\n      <td>2018-12-09</td>\n    </tr>\n    <tr>\n      <th>1</th>\n      <td>Neurologista</td>\n      <td>Rocha da Mata - ME</td>\n      <td>36415280708</td>\n      <td>Setor de Nogueira, 44\\nVila Paris\\n73788783 Si...</td>\n      <td>(69.469232, -122.071707)</td>\n      <td>AB-</td>\n      <td>[http://costela.br/, http://cardoso.com/]</td>\n      <td>mendesheloisa</td>\n      <td>Eduarda Moura</td>\n      <td>F</td>\n      <td>1933-05-31</td>\n    </tr>\n    <tr>\n      <th>2</th>\n      <td>Comerciante</td>\n      <td>Barros Ltda.</td>\n      <td>41395268746</td>\n      <td>Vale Francisco Ramos, 2\\nXangri-Lá\\n37092-109 ...</td>\n      <td>(75.228294, 86.553256)</td>\n      <td>B-</td>\n      <td>[http://www.monteiro.br/, http://araujo.br/, h...</td>\n      <td>rodriguesalice</td>\n      <td>Isabel Alves</td>\n      <td>F</td>\n      <td>2016-02-09</td>\n    </tr>\n    <tr>\n      <th>3</th>\n      <td>Engenheiro de produção agroindustrial</td>\n      <td>Aragão da Mota Ltda.</td>\n      <td>13975462043</td>\n      <td>Via Cardoso, 65\\nMinas Brasil\\n69494149 Azeved...</td>\n      <td>(59.609883, -45.639861)</td>\n      <td>AB+</td>\n      <td>[http://cardoso.br/]</td>\n      <td>fogacamaysa</td>\n      <td>Luiz Gustavo da Mata</td>\n      <td>M</td>\n      <td>1979-09-14</td>\n    </tr>\n    <tr>\n      <th>4</th>\n      <td>Tecnólogo em produção moveleira</td>\n      <td>Dias</td>\n      <td>41395627819</td>\n      <td>Parque João da Costa, 39\\nConjunto Capitão Edu...</td>\n      <td>(2.5948175, 19.847110)</td>\n      <td>B-</td>\n      <td>[https://aragao.com/, https://www.cavalcanti.o...</td>\n      <td>enrico84</td>\n      <td>Juliana das Neves</td>\n      <td>F</td>\n      <td>2019-07-03</td>\n    </tr>\n  </tbody>\n</table>\n</div>"
     },
     "metadata": {},
     "execution_count": 15
    }
   ],
   "source": [
    "df.head()"
   ]
  },
  {
   "cell_type": "code",
   "execution_count": 16,
   "metadata": {},
   "outputs": [
    {
     "output_type": "execute_result",
     "data": {
      "text/plain": [
       "                                     job               company          ssn  \\\n",
       "1                           Neurologista    Rocha da Mata - ME  36415280708   \n",
       "2                            Comerciante          Barros Ltda.  41395268746   \n",
       "3  Engenheiro de produção agroindustrial  Aragão da Mota Ltda.  13975462043   \n",
       "4        Tecnólogo em produção moveleira                  Dias  41395627819   \n",
       "5                        Plastimodelista             das Neves  46327815928   \n",
       "\n",
       "                                           residence  \\\n",
       "1  Setor de Nogueira, 44\\nVila Paris\\n73788783 Si...   \n",
       "2  Vale Francisco Ramos, 2\\nXangri-Lá\\n37092-109 ...   \n",
       "3  Via Cardoso, 65\\nMinas Brasil\\n69494149 Azeved...   \n",
       "4  Parque João da Costa, 39\\nConjunto Capitão Edu...   \n",
       "5  Condomínio de Caldeira, 73\\nVila Da Paz\\n42017...   \n",
       "\n",
       "           current_location blood_group  \\\n",
       "1  (69.469232, -122.071707)         AB-   \n",
       "2    (75.228294, 86.553256)          B-   \n",
       "3   (59.609883, -45.639861)         AB+   \n",
       "4    (2.5948175, 19.847110)          B-   \n",
       "5  (70.6911485, -65.333709)          O+   \n",
       "\n",
       "                                             website        username  \\\n",
       "1          [http://costela.br/, http://cardoso.com/]   mendesheloisa   \n",
       "2  [http://www.monteiro.br/, http://araujo.br/, h...  rodriguesalice   \n",
       "3                               [http://cardoso.br/]     fogacamaysa   \n",
       "4  [https://aragao.com/, https://www.cavalcanti.o...        enrico84   \n",
       "5  [http://www.costela.br/, http://www.souza.br/,...         qaragao   \n",
       "\n",
       "                   name sex   birthdate  \n",
       "1         Eduarda Moura   F  1933-05-31  \n",
       "2          Isabel Alves   F  2016-02-09  \n",
       "3  Luiz Gustavo da Mata   M  1979-09-14  \n",
       "4     Juliana das Neves   F  2019-07-03  \n",
       "5    Dr. Nathan Barbosa   M  1960-02-26  "
      ],
      "text/html": "<div>\n<style scoped>\n    .dataframe tbody tr th:only-of-type {\n        vertical-align: middle;\n    }\n\n    .dataframe tbody tr th {\n        vertical-align: top;\n    }\n\n    .dataframe thead th {\n        text-align: right;\n    }\n</style>\n<table border=\"1\" class=\"dataframe\">\n  <thead>\n    <tr style=\"text-align: right;\">\n      <th></th>\n      <th>job</th>\n      <th>company</th>\n      <th>ssn</th>\n      <th>residence</th>\n      <th>current_location</th>\n      <th>blood_group</th>\n      <th>website</th>\n      <th>username</th>\n      <th>name</th>\n      <th>sex</th>\n      <th>birthdate</th>\n    </tr>\n  </thead>\n  <tbody>\n    <tr>\n      <th>1</th>\n      <td>Neurologista</td>\n      <td>Rocha da Mata - ME</td>\n      <td>36415280708</td>\n      <td>Setor de Nogueira, 44\\nVila Paris\\n73788783 Si...</td>\n      <td>(69.469232, -122.071707)</td>\n      <td>AB-</td>\n      <td>[http://costela.br/, http://cardoso.com/]</td>\n      <td>mendesheloisa</td>\n      <td>Eduarda Moura</td>\n      <td>F</td>\n      <td>1933-05-31</td>\n    </tr>\n    <tr>\n      <th>2</th>\n      <td>Comerciante</td>\n      <td>Barros Ltda.</td>\n      <td>41395268746</td>\n      <td>Vale Francisco Ramos, 2\\nXangri-Lá\\n37092-109 ...</td>\n      <td>(75.228294, 86.553256)</td>\n      <td>B-</td>\n      <td>[http://www.monteiro.br/, http://araujo.br/, h...</td>\n      <td>rodriguesalice</td>\n      <td>Isabel Alves</td>\n      <td>F</td>\n      <td>2016-02-09</td>\n    </tr>\n    <tr>\n      <th>3</th>\n      <td>Engenheiro de produção agroindustrial</td>\n      <td>Aragão da Mota Ltda.</td>\n      <td>13975462043</td>\n      <td>Via Cardoso, 65\\nMinas Brasil\\n69494149 Azeved...</td>\n      <td>(59.609883, -45.639861)</td>\n      <td>AB+</td>\n      <td>[http://cardoso.br/]</td>\n      <td>fogacamaysa</td>\n      <td>Luiz Gustavo da Mata</td>\n      <td>M</td>\n      <td>1979-09-14</td>\n    </tr>\n    <tr>\n      <th>4</th>\n      <td>Tecnólogo em produção moveleira</td>\n      <td>Dias</td>\n      <td>41395627819</td>\n      <td>Parque João da Costa, 39\\nConjunto Capitão Edu...</td>\n      <td>(2.5948175, 19.847110)</td>\n      <td>B-</td>\n      <td>[https://aragao.com/, https://www.cavalcanti.o...</td>\n      <td>enrico84</td>\n      <td>Juliana das Neves</td>\n      <td>F</td>\n      <td>2019-07-03</td>\n    </tr>\n    <tr>\n      <th>5</th>\n      <td>Plastimodelista</td>\n      <td>das Neves</td>\n      <td>46327815928</td>\n      <td>Condomínio de Caldeira, 73\\nVila Da Paz\\n42017...</td>\n      <td>(70.6911485, -65.333709)</td>\n      <td>O+</td>\n      <td>[http://www.costela.br/, http://www.souza.br/,...</td>\n      <td>qaragao</td>\n      <td>Dr. Nathan Barbosa</td>\n      <td>M</td>\n      <td>1960-02-26</td>\n    </tr>\n  </tbody>\n</table>\n</div>"
     },
     "metadata": {},
     "execution_count": 16
    }
   ],
   "source": [
    "df2.head()"
   ]
  },
  {
   "source": [
    "### Filtros"
   ],
   "cell_type": "markdown",
   "metadata": {}
  },
  {
   "cell_type": "code",
   "execution_count": 17,
   "metadata": {},
   "outputs": [
    {
     "output_type": "execute_result",
     "data": {
      "text/plain": [
       "job                                   Tecnólogo em produção moveleira\n",
       "company                                                          Dias\n",
       "ssn                                                       41395627819\n",
       "residence           Parque João da Costa, 39\\nConjunto Capitão Edu...\n",
       "current_location                               (2.5948175, 19.847110)\n",
       "blood_group                                                        B-\n",
       "website             [https://aragao.com/, https://www.cavalcanti.o...\n",
       "username                                                     enrico84\n",
       "name                                                Juliana das Neves\n",
       "sex                                                                 F\n",
       "birthdate                                                  2019-07-03\n",
       "Name: 4, dtype: object"
      ]
     },
     "metadata": {},
     "execution_count": 17
    }
   ],
   "source": [
    "# o loc pode ser usado para filtrar uma linha de acordo com o index\n",
    "df.loc[4]"
   ]
  },
  {
   "cell_type": "code",
   "execution_count": 18,
   "metadata": {},
   "outputs": [
    {
     "output_type": "execute_result",
     "data": {
      "text/plain": [
       "job                                   Tecnólogo em produção moveleira\n",
       "company                                                          Dias\n",
       "ssn                                                       41395627819\n",
       "residence           Parque João da Costa, 39\\nConjunto Capitão Edu...\n",
       "current_location                               (2.5948175, 19.847110)\n",
       "blood_group                                                        B-\n",
       "website             [https://aragao.com/, https://www.cavalcanti.o...\n",
       "username                                                     enrico84\n",
       "name                                                Juliana das Neves\n",
       "sex                                                                 F\n",
       "birthdate                                                  2019-07-03\n",
       "Name: 4, dtype: object"
      ]
     },
     "metadata": {},
     "execution_count": 18
    }
   ],
   "source": [
    "# o iloc  pode ser usado para filtrar uma linha de acordo com a ordem na memoria\n",
    "df.iloc[4]"
   ]
  },
  {
   "cell_type": "code",
   "execution_count": 19,
   "metadata": {},
   "outputs": [
    {
     "output_type": "execute_result",
     "data": {
      "text/plain": [
       "                                       job sex          ssn\n",
       "0                 Vistoriador de sinistros   F  46751830939\n",
       "1                             Neurologista   F  36415280708\n",
       "2                              Comerciante   F  41395268746\n",
       "3    Engenheiro de produção agroindustrial   M  13975462043\n",
       "4          Tecnólogo em produção moveleira   F  41395627819\n",
       "..                                     ...  ..          ...\n",
       "995                     Operador de bombas   M  15860749201\n",
       "996                Presidente da República   F  17936840222\n",
       "997                           Cabeleireiro   M  40597632847\n",
       "998                      Engenheiro têxtil   F  20896437574\n",
       "999                              Motorista   F  70823145905\n",
       "\n",
       "[1000 rows x 3 columns]"
      ],
      "text/html": "<div>\n<style scoped>\n    .dataframe tbody tr th:only-of-type {\n        vertical-align: middle;\n    }\n\n    .dataframe tbody tr th {\n        vertical-align: top;\n    }\n\n    .dataframe thead th {\n        text-align: right;\n    }\n</style>\n<table border=\"1\" class=\"dataframe\">\n  <thead>\n    <tr style=\"text-align: right;\">\n      <th></th>\n      <th>job</th>\n      <th>sex</th>\n      <th>ssn</th>\n    </tr>\n  </thead>\n  <tbody>\n    <tr>\n      <th>0</th>\n      <td>Vistoriador de sinistros</td>\n      <td>F</td>\n      <td>46751830939</td>\n    </tr>\n    <tr>\n      <th>1</th>\n      <td>Neurologista</td>\n      <td>F</td>\n      <td>36415280708</td>\n    </tr>\n    <tr>\n      <th>2</th>\n      <td>Comerciante</td>\n      <td>F</td>\n      <td>41395268746</td>\n    </tr>\n    <tr>\n      <th>3</th>\n      <td>Engenheiro de produção agroindustrial</td>\n      <td>M</td>\n      <td>13975462043</td>\n    </tr>\n    <tr>\n      <th>4</th>\n      <td>Tecnólogo em produção moveleira</td>\n      <td>F</td>\n      <td>41395627819</td>\n    </tr>\n    <tr>\n      <th>...</th>\n      <td>...</td>\n      <td>...</td>\n      <td>...</td>\n    </tr>\n    <tr>\n      <th>995</th>\n      <td>Operador de bombas</td>\n      <td>M</td>\n      <td>15860749201</td>\n    </tr>\n    <tr>\n      <th>996</th>\n      <td>Presidente da República</td>\n      <td>F</td>\n      <td>17936840222</td>\n    </tr>\n    <tr>\n      <th>997</th>\n      <td>Cabeleireiro</td>\n      <td>M</td>\n      <td>40597632847</td>\n    </tr>\n    <tr>\n      <th>998</th>\n      <td>Engenheiro têxtil</td>\n      <td>F</td>\n      <td>20896437574</td>\n    </tr>\n    <tr>\n      <th>999</th>\n      <td>Motorista</td>\n      <td>F</td>\n      <td>70823145905</td>\n    </tr>\n  </tbody>\n</table>\n<p>1000 rows × 3 columns</p>\n</div>"
     },
     "metadata": {},
     "execution_count": 19
    }
   ],
   "source": [
    "# filtrando varias colunas\n",
    "df[['job', 'sex', 'ssn']]"
   ]
  },
  {
   "cell_type": "code",
   "execution_count": 20,
   "metadata": {},
   "outputs": [
    {
     "output_type": "execute_result",
     "data": {
      "text/plain": [
       "                                 job                company          ssn  \\\n",
       "0           Vistoriador de sinistros             Moraes S/A  46751830939   \n",
       "1                       Neurologista     Rocha da Mata - ME  36415280708   \n",
       "2                        Comerciante           Barros Ltda.  41395268746   \n",
       "4    Tecnólogo em produção moveleira                   Dias  41395627819   \n",
       "6          Tecnólogo em silvicultura                  Silva   1872539602   \n",
       "..                               ...                    ...          ...   \n",
       "991               Controlador de vôo                Martins   4698235189   \n",
       "994                Consultor de moda   da Luz Oliveira - EI  75940612849   \n",
       "996          Presidente da República  Nascimento Farias S/A  17936840222   \n",
       "998                Engenheiro têxtil                 Barros  20896437574   \n",
       "999                        Motorista                   Dias  70823145905   \n",
       "\n",
       "                                             residence  \\\n",
       "0    Viaduto Luiz Felipe da Mata\\nBuritis\\n66533-68...   \n",
       "1    Setor de Nogueira, 44\\nVila Paris\\n73788783 Si...   \n",
       "2    Vale Francisco Ramos, 2\\nXangri-Lá\\n37092-109 ...   \n",
       "4    Parque João da Costa, 39\\nConjunto Capitão Edu...   \n",
       "6    Núcleo de Alves, 71\\nMangueiras\\n18058-565 Ram...   \n",
       "..                                                 ...   \n",
       "991  Vila de Araújo\\nConjunto Jardim Filadélfia\\n55...   \n",
       "994  Feira Melissa Ferreira\\nVila Nova Dos Milionar...   \n",
       "996  Vale Fogaça, 8\\nErmelinda\\n75126-258 Moreira / MT   \n",
       "998  Residencial de Cardoso, 86\\nVila Barragem Sant...   \n",
       "999  Colônia de da Paz, 888\\nVila Pinho\\n57166-060 ...   \n",
       "\n",
       "              current_location blood_group  \\\n",
       "0      (-6.4383875, 10.084124)          O-   \n",
       "1     (69.469232, -122.071707)         AB-   \n",
       "2       (75.228294, 86.553256)          B-   \n",
       "4       (2.5948175, 19.847110)          B-   \n",
       "6       (-2.309881, 71.051156)          A+   \n",
       "..                         ...         ...   \n",
       "991    (51.247155, 100.881681)          O+   \n",
       "994  (19.7613475, -121.307103)          A-   \n",
       "996   (58.6885005, -85.801808)          A+   \n",
       "998  (29.1206645, -165.611282)         AB-   \n",
       "999   (-53.170418, -14.825609)          B+   \n",
       "\n",
       "                                               website         username  \\\n",
       "0                            [https://www.moreira.br/]        laracosta   \n",
       "1            [http://costela.br/, http://cardoso.com/]    mendesheloisa   \n",
       "2    [http://www.monteiro.br/, http://araujo.br/, h...   rodriguesalice   \n",
       "4    [https://aragao.com/, https://www.cavalcanti.o...         enrico84   \n",
       "6         [https://www.castro.org/, http://www.da.br/]         mcardoso   \n",
       "..                                                 ...              ...   \n",
       "991          [http://peixoto.com/, https://www.da.br/]   maria-sophia43   \n",
       "994  [http://www.fernandes.com/, http://www.novaes....           oalves   \n",
       "996  [https://www.cardoso.com/, http://moreira.com/...  aragaodavi-luiz   \n",
       "998  [https://freitas.br/, http://sales.net/, http:...    camposnicolas   \n",
       "999    [http://www.cunha.br/, http://www.peixoto.net/]     matheusviana   \n",
       "\n",
       "                      name sex   birthdate  \n",
       "0         Isadora Teixeira   F  2018-12-09  \n",
       "1            Eduarda Moura   F  1933-05-31  \n",
       "2             Isabel Alves   F  2016-02-09  \n",
       "4        Juliana das Neves   F  2019-07-03  \n",
       "6           Alexia Pereira   F  1952-04-14  \n",
       "..                     ...  ..         ...  \n",
       "991  Srta. Stephany Castro   F  1982-10-05  \n",
       "994         Juliana Campos   F  1925-04-06  \n",
       "996     Sra. Beatriz Porto   F  1949-11-17  \n",
       "998  Sra. Ana Laura Aragão   F  1991-02-25  \n",
       "999          Milena Castro   F  1912-09-18  \n",
       "\n",
       "[490 rows x 11 columns]"
      ],
      "text/html": "<div>\n<style scoped>\n    .dataframe tbody tr th:only-of-type {\n        vertical-align: middle;\n    }\n\n    .dataframe tbody tr th {\n        vertical-align: top;\n    }\n\n    .dataframe thead th {\n        text-align: right;\n    }\n</style>\n<table border=\"1\" class=\"dataframe\">\n  <thead>\n    <tr style=\"text-align: right;\">\n      <th></th>\n      <th>job</th>\n      <th>company</th>\n      <th>ssn</th>\n      <th>residence</th>\n      <th>current_location</th>\n      <th>blood_group</th>\n      <th>website</th>\n      <th>username</th>\n      <th>name</th>\n      <th>sex</th>\n      <th>birthdate</th>\n    </tr>\n  </thead>\n  <tbody>\n    <tr>\n      <th>0</th>\n      <td>Vistoriador de sinistros</td>\n      <td>Moraes S/A</td>\n      <td>46751830939</td>\n      <td>Viaduto Luiz Felipe da Mata\\nBuritis\\n66533-68...</td>\n      <td>(-6.4383875, 10.084124)</td>\n      <td>O-</td>\n      <td>[https://www.moreira.br/]</td>\n      <td>laracosta</td>\n      <td>Isadora Teixeira</td>\n      <td>F</td>\n      <td>2018-12-09</td>\n    </tr>\n    <tr>\n      <th>1</th>\n      <td>Neurologista</td>\n      <td>Rocha da Mata - ME</td>\n      <td>36415280708</td>\n      <td>Setor de Nogueira, 44\\nVila Paris\\n73788783 Si...</td>\n      <td>(69.469232, -122.071707)</td>\n      <td>AB-</td>\n      <td>[http://costela.br/, http://cardoso.com/]</td>\n      <td>mendesheloisa</td>\n      <td>Eduarda Moura</td>\n      <td>F</td>\n      <td>1933-05-31</td>\n    </tr>\n    <tr>\n      <th>2</th>\n      <td>Comerciante</td>\n      <td>Barros Ltda.</td>\n      <td>41395268746</td>\n      <td>Vale Francisco Ramos, 2\\nXangri-Lá\\n37092-109 ...</td>\n      <td>(75.228294, 86.553256)</td>\n      <td>B-</td>\n      <td>[http://www.monteiro.br/, http://araujo.br/, h...</td>\n      <td>rodriguesalice</td>\n      <td>Isabel Alves</td>\n      <td>F</td>\n      <td>2016-02-09</td>\n    </tr>\n    <tr>\n      <th>4</th>\n      <td>Tecnólogo em produção moveleira</td>\n      <td>Dias</td>\n      <td>41395627819</td>\n      <td>Parque João da Costa, 39\\nConjunto Capitão Edu...</td>\n      <td>(2.5948175, 19.847110)</td>\n      <td>B-</td>\n      <td>[https://aragao.com/, https://www.cavalcanti.o...</td>\n      <td>enrico84</td>\n      <td>Juliana das Neves</td>\n      <td>F</td>\n      <td>2019-07-03</td>\n    </tr>\n    <tr>\n      <th>6</th>\n      <td>Tecnólogo em silvicultura</td>\n      <td>Silva</td>\n      <td>1872539602</td>\n      <td>Núcleo de Alves, 71\\nMangueiras\\n18058-565 Ram...</td>\n      <td>(-2.309881, 71.051156)</td>\n      <td>A+</td>\n      <td>[https://www.castro.org/, http://www.da.br/]</td>\n      <td>mcardoso</td>\n      <td>Alexia Pereira</td>\n      <td>F</td>\n      <td>1952-04-14</td>\n    </tr>\n    <tr>\n      <th>...</th>\n      <td>...</td>\n      <td>...</td>\n      <td>...</td>\n      <td>...</td>\n      <td>...</td>\n      <td>...</td>\n      <td>...</td>\n      <td>...</td>\n      <td>...</td>\n      <td>...</td>\n      <td>...</td>\n    </tr>\n    <tr>\n      <th>991</th>\n      <td>Controlador de vôo</td>\n      <td>Martins</td>\n      <td>4698235189</td>\n      <td>Vila de Araújo\\nConjunto Jardim Filadélfia\\n55...</td>\n      <td>(51.247155, 100.881681)</td>\n      <td>O+</td>\n      <td>[http://peixoto.com/, https://www.da.br/]</td>\n      <td>maria-sophia43</td>\n      <td>Srta. Stephany Castro</td>\n      <td>F</td>\n      <td>1982-10-05</td>\n    </tr>\n    <tr>\n      <th>994</th>\n      <td>Consultor de moda</td>\n      <td>da Luz Oliveira - EI</td>\n      <td>75940612849</td>\n      <td>Feira Melissa Ferreira\\nVila Nova Dos Milionar...</td>\n      <td>(19.7613475, -121.307103)</td>\n      <td>A-</td>\n      <td>[http://www.fernandes.com/, http://www.novaes....</td>\n      <td>oalves</td>\n      <td>Juliana Campos</td>\n      <td>F</td>\n      <td>1925-04-06</td>\n    </tr>\n    <tr>\n      <th>996</th>\n      <td>Presidente da República</td>\n      <td>Nascimento Farias S/A</td>\n      <td>17936840222</td>\n      <td>Vale Fogaça, 8\\nErmelinda\\n75126-258 Moreira / MT</td>\n      <td>(58.6885005, -85.801808)</td>\n      <td>A+</td>\n      <td>[https://www.cardoso.com/, http://moreira.com/...</td>\n      <td>aragaodavi-luiz</td>\n      <td>Sra. Beatriz Porto</td>\n      <td>F</td>\n      <td>1949-11-17</td>\n    </tr>\n    <tr>\n      <th>998</th>\n      <td>Engenheiro têxtil</td>\n      <td>Barros</td>\n      <td>20896437574</td>\n      <td>Residencial de Cardoso, 86\\nVila Barragem Sant...</td>\n      <td>(29.1206645, -165.611282)</td>\n      <td>AB-</td>\n      <td>[https://freitas.br/, http://sales.net/, http:...</td>\n      <td>camposnicolas</td>\n      <td>Sra. Ana Laura Aragão</td>\n      <td>F</td>\n      <td>1991-02-25</td>\n    </tr>\n    <tr>\n      <th>999</th>\n      <td>Motorista</td>\n      <td>Dias</td>\n      <td>70823145905</td>\n      <td>Colônia de da Paz, 888\\nVila Pinho\\n57166-060 ...</td>\n      <td>(-53.170418, -14.825609)</td>\n      <td>B+</td>\n      <td>[http://www.cunha.br/, http://www.peixoto.net/]</td>\n      <td>matheusviana</td>\n      <td>Milena Castro</td>\n      <td>F</td>\n      <td>1912-09-18</td>\n    </tr>\n  </tbody>\n</table>\n<p>490 rows × 11 columns</p>\n</div>"
     },
     "metadata": {},
     "execution_count": 20
    }
   ],
   "source": [
    "# slice dataset\n",
    "# usando apenas \"df.sex == 'F'\" retorna um array de true e false e usando ele dentro dos [] ele serve como filtro\n",
    "df[df.sex == 'F']"
   ]
  },
  {
   "cell_type": "code",
   "execution_count": 22,
   "metadata": {},
   "outputs": [
    {
     "output_type": "execute_result",
     "data": {
      "text/plain": [
       "                                 job company          ssn  \\\n",
       "4    Tecnólogo em produção moveleira    Dias  41395627819   \n",
       "785                          Capelão    Dias  23764510862   \n",
       "999                        Motorista    Dias  70823145905   \n",
       "\n",
       "                                             residence  \\\n",
       "4    Parque João da Costa, 39\\nConjunto Capitão Edu...   \n",
       "785  Núcleo Bruna Moreira, 29\\nGraça\\n84788-026 da ...   \n",
       "999  Colônia de da Paz, 888\\nVila Pinho\\n57166-060 ...   \n",
       "\n",
       "              current_location blood_group  \\\n",
       "4       (2.5948175, 19.847110)          B-   \n",
       "785  (-72.6081625, 139.730181)         AB-   \n",
       "999   (-53.170418, -14.825609)          B+   \n",
       "\n",
       "                                               website      username  \\\n",
       "4    [https://aragao.com/, https://www.cavalcanti.o...      enrico84   \n",
       "785  [http://www.viana.net/, http://www.da.org/, ht...  nataliapires   \n",
       "999    [http://www.cunha.br/, http://www.peixoto.net/]  matheusviana   \n",
       "\n",
       "                  name sex   birthdate  \n",
       "4    Juliana das Neves   F  2019-07-03  \n",
       "785      Clarice Gomes   F  1981-10-19  \n",
       "999      Milena Castro   F  1912-09-18  "
      ],
      "text/html": "<div>\n<style scoped>\n    .dataframe tbody tr th:only-of-type {\n        vertical-align: middle;\n    }\n\n    .dataframe tbody tr th {\n        vertical-align: top;\n    }\n\n    .dataframe thead th {\n        text-align: right;\n    }\n</style>\n<table border=\"1\" class=\"dataframe\">\n  <thead>\n    <tr style=\"text-align: right;\">\n      <th></th>\n      <th>job</th>\n      <th>company</th>\n      <th>ssn</th>\n      <th>residence</th>\n      <th>current_location</th>\n      <th>blood_group</th>\n      <th>website</th>\n      <th>username</th>\n      <th>name</th>\n      <th>sex</th>\n      <th>birthdate</th>\n    </tr>\n  </thead>\n  <tbody>\n    <tr>\n      <th>4</th>\n      <td>Tecnólogo em produção moveleira</td>\n      <td>Dias</td>\n      <td>41395627819</td>\n      <td>Parque João da Costa, 39\\nConjunto Capitão Edu...</td>\n      <td>(2.5948175, 19.847110)</td>\n      <td>B-</td>\n      <td>[https://aragao.com/, https://www.cavalcanti.o...</td>\n      <td>enrico84</td>\n      <td>Juliana das Neves</td>\n      <td>F</td>\n      <td>2019-07-03</td>\n    </tr>\n    <tr>\n      <th>785</th>\n      <td>Capelão</td>\n      <td>Dias</td>\n      <td>23764510862</td>\n      <td>Núcleo Bruna Moreira, 29\\nGraça\\n84788-026 da ...</td>\n      <td>(-72.6081625, 139.730181)</td>\n      <td>AB-</td>\n      <td>[http://www.viana.net/, http://www.da.org/, ht...</td>\n      <td>nataliapires</td>\n      <td>Clarice Gomes</td>\n      <td>F</td>\n      <td>1981-10-19</td>\n    </tr>\n    <tr>\n      <th>999</th>\n      <td>Motorista</td>\n      <td>Dias</td>\n      <td>70823145905</td>\n      <td>Colônia de da Paz, 888\\nVila Pinho\\n57166-060 ...</td>\n      <td>(-53.170418, -14.825609)</td>\n      <td>B+</td>\n      <td>[http://www.cunha.br/, http://www.peixoto.net/]</td>\n      <td>matheusviana</td>\n      <td>Milena Castro</td>\n      <td>F</td>\n      <td>1912-09-18</td>\n    </tr>\n  </tbody>\n</table>\n</div>"
     },
     "metadata": {},
     "execution_count": 22
    }
   ],
   "source": [
    "# slicing utilizando 2 ou mais condições\n",
    "df[(df.sex == 'F') & (df.company == 'Dias')]"
   ]
  },
  {
   "cell_type": "code",
   "execution_count": 23,
   "metadata": {},
   "outputs": [
    {
     "output_type": "execute_result",
     "data": {
      "text/plain": [
       "                                 job                company          ssn  \\\n",
       "0           Vistoriador de sinistros             Moraes S/A  46751830939   \n",
       "1                       Neurologista     Rocha da Mata - ME  36415280708   \n",
       "2                        Comerciante           Barros Ltda.  41395268746   \n",
       "4    Tecnólogo em produção moveleira                   Dias  41395627819   \n",
       "6          Tecnólogo em silvicultura                  Silva   1872539602   \n",
       "..                               ...                    ...          ...   \n",
       "991               Controlador de vôo                Martins   4698235189   \n",
       "994                Consultor de moda   da Luz Oliveira - EI  75940612849   \n",
       "996          Presidente da República  Nascimento Farias S/A  17936840222   \n",
       "998                Engenheiro têxtil                 Barros  20896437574   \n",
       "999                        Motorista                   Dias  70823145905   \n",
       "\n",
       "                                             residence  \\\n",
       "0    Viaduto Luiz Felipe da Mata\\nBuritis\\n66533-68...   \n",
       "1    Setor de Nogueira, 44\\nVila Paris\\n73788783 Si...   \n",
       "2    Vale Francisco Ramos, 2\\nXangri-Lá\\n37092-109 ...   \n",
       "4    Parque João da Costa, 39\\nConjunto Capitão Edu...   \n",
       "6    Núcleo de Alves, 71\\nMangueiras\\n18058-565 Ram...   \n",
       "..                                                 ...   \n",
       "991  Vila de Araújo\\nConjunto Jardim Filadélfia\\n55...   \n",
       "994  Feira Melissa Ferreira\\nVila Nova Dos Milionar...   \n",
       "996  Vale Fogaça, 8\\nErmelinda\\n75126-258 Moreira / MT   \n",
       "998  Residencial de Cardoso, 86\\nVila Barragem Sant...   \n",
       "999  Colônia de da Paz, 888\\nVila Pinho\\n57166-060 ...   \n",
       "\n",
       "              current_location blood_group  \\\n",
       "0      (-6.4383875, 10.084124)          O-   \n",
       "1     (69.469232, -122.071707)         AB-   \n",
       "2       (75.228294, 86.553256)          B-   \n",
       "4       (2.5948175, 19.847110)          B-   \n",
       "6       (-2.309881, 71.051156)          A+   \n",
       "..                         ...         ...   \n",
       "991    (51.247155, 100.881681)          O+   \n",
       "994  (19.7613475, -121.307103)          A-   \n",
       "996   (58.6885005, -85.801808)          A+   \n",
       "998  (29.1206645, -165.611282)         AB-   \n",
       "999   (-53.170418, -14.825609)          B+   \n",
       "\n",
       "                                               website         username  \\\n",
       "0                            [https://www.moreira.br/]        laracosta   \n",
       "1            [http://costela.br/, http://cardoso.com/]    mendesheloisa   \n",
       "2    [http://www.monteiro.br/, http://araujo.br/, h...   rodriguesalice   \n",
       "4    [https://aragao.com/, https://www.cavalcanti.o...         enrico84   \n",
       "6         [https://www.castro.org/, http://www.da.br/]         mcardoso   \n",
       "..                                                 ...              ...   \n",
       "991          [http://peixoto.com/, https://www.da.br/]   maria-sophia43   \n",
       "994  [http://www.fernandes.com/, http://www.novaes....           oalves   \n",
       "996  [https://www.cardoso.com/, http://moreira.com/...  aragaodavi-luiz   \n",
       "998  [https://freitas.br/, http://sales.net/, http:...    camposnicolas   \n",
       "999    [http://www.cunha.br/, http://www.peixoto.net/]     matheusviana   \n",
       "\n",
       "                      name sex   birthdate  \n",
       "0         Isadora Teixeira   F  2018-12-09  \n",
       "1            Eduarda Moura   F  1933-05-31  \n",
       "2             Isabel Alves   F  2016-02-09  \n",
       "4        Juliana das Neves   F  2019-07-03  \n",
       "6           Alexia Pereira   F  1952-04-14  \n",
       "..                     ...  ..         ...  \n",
       "991  Srta. Stephany Castro   F  1982-10-05  \n",
       "994         Juliana Campos   F  1925-04-06  \n",
       "996     Sra. Beatriz Porto   F  1949-11-17  \n",
       "998  Sra. Ana Laura Aragão   F  1991-02-25  \n",
       "999          Milena Castro   F  1912-09-18  \n",
       "\n",
       "[490 rows x 11 columns]"
      ],
      "text/html": "<div>\n<style scoped>\n    .dataframe tbody tr th:only-of-type {\n        vertical-align: middle;\n    }\n\n    .dataframe tbody tr th {\n        vertical-align: top;\n    }\n\n    .dataframe thead th {\n        text-align: right;\n    }\n</style>\n<table border=\"1\" class=\"dataframe\">\n  <thead>\n    <tr style=\"text-align: right;\">\n      <th></th>\n      <th>job</th>\n      <th>company</th>\n      <th>ssn</th>\n      <th>residence</th>\n      <th>current_location</th>\n      <th>blood_group</th>\n      <th>website</th>\n      <th>username</th>\n      <th>name</th>\n      <th>sex</th>\n      <th>birthdate</th>\n    </tr>\n  </thead>\n  <tbody>\n    <tr>\n      <th>0</th>\n      <td>Vistoriador de sinistros</td>\n      <td>Moraes S/A</td>\n      <td>46751830939</td>\n      <td>Viaduto Luiz Felipe da Mata\\nBuritis\\n66533-68...</td>\n      <td>(-6.4383875, 10.084124)</td>\n      <td>O-</td>\n      <td>[https://www.moreira.br/]</td>\n      <td>laracosta</td>\n      <td>Isadora Teixeira</td>\n      <td>F</td>\n      <td>2018-12-09</td>\n    </tr>\n    <tr>\n      <th>1</th>\n      <td>Neurologista</td>\n      <td>Rocha da Mata - ME</td>\n      <td>36415280708</td>\n      <td>Setor de Nogueira, 44\\nVila Paris\\n73788783 Si...</td>\n      <td>(69.469232, -122.071707)</td>\n      <td>AB-</td>\n      <td>[http://costela.br/, http://cardoso.com/]</td>\n      <td>mendesheloisa</td>\n      <td>Eduarda Moura</td>\n      <td>F</td>\n      <td>1933-05-31</td>\n    </tr>\n    <tr>\n      <th>2</th>\n      <td>Comerciante</td>\n      <td>Barros Ltda.</td>\n      <td>41395268746</td>\n      <td>Vale Francisco Ramos, 2\\nXangri-Lá\\n37092-109 ...</td>\n      <td>(75.228294, 86.553256)</td>\n      <td>B-</td>\n      <td>[http://www.monteiro.br/, http://araujo.br/, h...</td>\n      <td>rodriguesalice</td>\n      <td>Isabel Alves</td>\n      <td>F</td>\n      <td>2016-02-09</td>\n    </tr>\n    <tr>\n      <th>4</th>\n      <td>Tecnólogo em produção moveleira</td>\n      <td>Dias</td>\n      <td>41395627819</td>\n      <td>Parque João da Costa, 39\\nConjunto Capitão Edu...</td>\n      <td>(2.5948175, 19.847110)</td>\n      <td>B-</td>\n      <td>[https://aragao.com/, https://www.cavalcanti.o...</td>\n      <td>enrico84</td>\n      <td>Juliana das Neves</td>\n      <td>F</td>\n      <td>2019-07-03</td>\n    </tr>\n    <tr>\n      <th>6</th>\n      <td>Tecnólogo em silvicultura</td>\n      <td>Silva</td>\n      <td>1872539602</td>\n      <td>Núcleo de Alves, 71\\nMangueiras\\n18058-565 Ram...</td>\n      <td>(-2.309881, 71.051156)</td>\n      <td>A+</td>\n      <td>[https://www.castro.org/, http://www.da.br/]</td>\n      <td>mcardoso</td>\n      <td>Alexia Pereira</td>\n      <td>F</td>\n      <td>1952-04-14</td>\n    </tr>\n    <tr>\n      <th>...</th>\n      <td>...</td>\n      <td>...</td>\n      <td>...</td>\n      <td>...</td>\n      <td>...</td>\n      <td>...</td>\n      <td>...</td>\n      <td>...</td>\n      <td>...</td>\n      <td>...</td>\n      <td>...</td>\n    </tr>\n    <tr>\n      <th>991</th>\n      <td>Controlador de vôo</td>\n      <td>Martins</td>\n      <td>4698235189</td>\n      <td>Vila de Araújo\\nConjunto Jardim Filadélfia\\n55...</td>\n      <td>(51.247155, 100.881681)</td>\n      <td>O+</td>\n      <td>[http://peixoto.com/, https://www.da.br/]</td>\n      <td>maria-sophia43</td>\n      <td>Srta. Stephany Castro</td>\n      <td>F</td>\n      <td>1982-10-05</td>\n    </tr>\n    <tr>\n      <th>994</th>\n      <td>Consultor de moda</td>\n      <td>da Luz Oliveira - EI</td>\n      <td>75940612849</td>\n      <td>Feira Melissa Ferreira\\nVila Nova Dos Milionar...</td>\n      <td>(19.7613475, -121.307103)</td>\n      <td>A-</td>\n      <td>[http://www.fernandes.com/, http://www.novaes....</td>\n      <td>oalves</td>\n      <td>Juliana Campos</td>\n      <td>F</td>\n      <td>1925-04-06</td>\n    </tr>\n    <tr>\n      <th>996</th>\n      <td>Presidente da República</td>\n      <td>Nascimento Farias S/A</td>\n      <td>17936840222</td>\n      <td>Vale Fogaça, 8\\nErmelinda\\n75126-258 Moreira / MT</td>\n      <td>(58.6885005, -85.801808)</td>\n      <td>A+</td>\n      <td>[https://www.cardoso.com/, http://moreira.com/...</td>\n      <td>aragaodavi-luiz</td>\n      <td>Sra. Beatriz Porto</td>\n      <td>F</td>\n      <td>1949-11-17</td>\n    </tr>\n    <tr>\n      <th>998</th>\n      <td>Engenheiro têxtil</td>\n      <td>Barros</td>\n      <td>20896437574</td>\n      <td>Residencial de Cardoso, 86\\nVila Barragem Sant...</td>\n      <td>(29.1206645, -165.611282)</td>\n      <td>AB-</td>\n      <td>[https://freitas.br/, http://sales.net/, http:...</td>\n      <td>camposnicolas</td>\n      <td>Sra. Ana Laura Aragão</td>\n      <td>F</td>\n      <td>1991-02-25</td>\n    </tr>\n    <tr>\n      <th>999</th>\n      <td>Motorista</td>\n      <td>Dias</td>\n      <td>70823145905</td>\n      <td>Colônia de da Paz, 888\\nVila Pinho\\n57166-060 ...</td>\n      <td>(-53.170418, -14.825609)</td>\n      <td>B+</td>\n      <td>[http://www.cunha.br/, http://www.peixoto.net/]</td>\n      <td>matheusviana</td>\n      <td>Milena Castro</td>\n      <td>F</td>\n      <td>1912-09-18</td>\n    </tr>\n  </tbody>\n</table>\n<p>490 rows × 11 columns</p>\n</div>"
     },
     "metadata": {},
     "execution_count": 23
    }
   ],
   "source": [
    "# outra forma de fazer slicing\n",
    "df.query(\"sex == 'F'\")"
   ]
  },
  {
   "cell_type": "code",
   "execution_count": 24,
   "metadata": {},
   "outputs": [
    {
     "output_type": "execute_result",
     "data": {
      "text/plain": [
       "                                     job                company          ssn  \\\n",
       "557                    Torreiro/Torrista                  Gomes  72154830617   \n",
       "455                             Mecânico          Lima e Filhos  75401639252   \n",
       "940                           Jornalista  Nogueira Barbosa - EI  96713450857   \n",
       "186                               Judoca      Azevedo Lima S.A.  48325719664   \n",
       "558  Contramestre em transporte marítimo          da Rosa Ltda.  83124697022   \n",
       "467                            Separador                  Nunes  82716430535   \n",
       "804                             Escultor               da Cunha  36954072800   \n",
       "601                          Kite-surfer                 da Luz  60175483280   \n",
       "238                              Regente                Freitas  70432586938   \n",
       "\n",
       "                                             residence  \\\n",
       "557  Feira de Pereira, 76\\nPirineus\\n84258101 Dias ...   \n",
       "455  Via Jesus, 88\\nJardim Dos Comerciarios\\n186405...   \n",
       "940  Esplanada Camila da Rosa, 563\\nVila Nova\\n1791...   \n",
       "186  Núcleo Heitor Souza, 5\\nMiramar\\n28479-969 Alv...   \n",
       "558  Rua Brenda Sales, 2\\nVila Nova Paraíso\\n034402...   \n",
       "467  Rodovia Brenda das Neves\\nSion\\n09370-824 Mont...   \n",
       "804  Via da Conceição, 28\\nVila Formosa\\n98105637 d...   \n",
       "601  Viaduto de Alves, 93\\nBoa União 2ª Seção\\n9113...   \n",
       "238  Recanto Sales, 23\\nVila São Francisco\\n72452-0...   \n",
       "\n",
       "             current_location blood_group  \\\n",
       "557  (-89.040159, 128.391706)          B+   \n",
       "455   (46.781218, -36.646175)          B-   \n",
       "940  (40.4707105, 116.800886)          A+   \n",
       "186  (25.7347585, 167.436493)         AB+   \n",
       "558  (69.4663965, 130.680635)          O+   \n",
       "467   (-52.584789, 30.250952)          A+   \n",
       "804  (-82.277534, -20.222515)         AB+   \n",
       "601     (7.625095, 36.307740)         AB+   \n",
       "238   (-54.508991, 56.743869)         AB-   \n",
       "\n",
       "                                               website            username  \\\n",
       "557  [https://silva.org/, http://cavalcanti.com/, h...             lucca51   \n",
       "455                                   [http://da.org/]         ana-laura74   \n",
       "940                              [https://almeida.br/]        cardosodiego   \n",
       "186  [https://da.net/, http://costela.br/, https://...            amartins   \n",
       "558  [https://www.costa.org/, http://melo.br/, http...            zda-mota   \n",
       "467  [http://moraes.net/, http://www.oliveira.com/,...    teixeiravinicius   \n",
       "804                             [https://costela.com/]            hcostela   \n",
       "601  [http://www.pires.com/, https://www.ferreira.c...  luiz-miguelribeiro   \n",
       "238  [https://www.almeida.br/, http://www.silveira....       ana-vitoria80   \n",
       "\n",
       "                         name sex   birthdate  \n",
       "557                 João Lima   M  1928-06-30  \n",
       "455             Daniel da Luz   M  1965-03-30  \n",
       "940        André da Conceição   M  2015-12-20  \n",
       "186             Laura Rezende   F  1960-02-01  \n",
       "558     Sr. Gabriel Rodrigues   M  1932-11-05  \n",
       "467              João Pereira   M  1984-04-04  \n",
       "804               Breno Pires   M  1958-08-23  \n",
       "601   Srta. Daniela das Neves   F  1917-02-02  \n",
       "238  Luiz Henrique Cavalcanti   M  1928-08-12  "
      ],
      "text/html": "<div>\n<style scoped>\n    .dataframe tbody tr th:only-of-type {\n        vertical-align: middle;\n    }\n\n    .dataframe tbody tr th {\n        vertical-align: top;\n    }\n\n    .dataframe thead th {\n        text-align: right;\n    }\n</style>\n<table border=\"1\" class=\"dataframe\">\n  <thead>\n    <tr style=\"text-align: right;\">\n      <th></th>\n      <th>job</th>\n      <th>company</th>\n      <th>ssn</th>\n      <th>residence</th>\n      <th>current_location</th>\n      <th>blood_group</th>\n      <th>website</th>\n      <th>username</th>\n      <th>name</th>\n      <th>sex</th>\n      <th>birthdate</th>\n    </tr>\n  </thead>\n  <tbody>\n    <tr>\n      <th>557</th>\n      <td>Torreiro/Torrista</td>\n      <td>Gomes</td>\n      <td>72154830617</td>\n      <td>Feira de Pereira, 76\\nPirineus\\n84258101 Dias ...</td>\n      <td>(-89.040159, 128.391706)</td>\n      <td>B+</td>\n      <td>[https://silva.org/, http://cavalcanti.com/, h...</td>\n      <td>lucca51</td>\n      <td>João Lima</td>\n      <td>M</td>\n      <td>1928-06-30</td>\n    </tr>\n    <tr>\n      <th>455</th>\n      <td>Mecânico</td>\n      <td>Lima e Filhos</td>\n      <td>75401639252</td>\n      <td>Via Jesus, 88\\nJardim Dos Comerciarios\\n186405...</td>\n      <td>(46.781218, -36.646175)</td>\n      <td>B-</td>\n      <td>[http://da.org/]</td>\n      <td>ana-laura74</td>\n      <td>Daniel da Luz</td>\n      <td>M</td>\n      <td>1965-03-30</td>\n    </tr>\n    <tr>\n      <th>940</th>\n      <td>Jornalista</td>\n      <td>Nogueira Barbosa - EI</td>\n      <td>96713450857</td>\n      <td>Esplanada Camila da Rosa, 563\\nVila Nova\\n1791...</td>\n      <td>(40.4707105, 116.800886)</td>\n      <td>A+</td>\n      <td>[https://almeida.br/]</td>\n      <td>cardosodiego</td>\n      <td>André da Conceição</td>\n      <td>M</td>\n      <td>2015-12-20</td>\n    </tr>\n    <tr>\n      <th>186</th>\n      <td>Judoca</td>\n      <td>Azevedo Lima S.A.</td>\n      <td>48325719664</td>\n      <td>Núcleo Heitor Souza, 5\\nMiramar\\n28479-969 Alv...</td>\n      <td>(25.7347585, 167.436493)</td>\n      <td>AB+</td>\n      <td>[https://da.net/, http://costela.br/, https://...</td>\n      <td>amartins</td>\n      <td>Laura Rezende</td>\n      <td>F</td>\n      <td>1960-02-01</td>\n    </tr>\n    <tr>\n      <th>558</th>\n      <td>Contramestre em transporte marítimo</td>\n      <td>da Rosa Ltda.</td>\n      <td>83124697022</td>\n      <td>Rua Brenda Sales, 2\\nVila Nova Paraíso\\n034402...</td>\n      <td>(69.4663965, 130.680635)</td>\n      <td>O+</td>\n      <td>[https://www.costa.org/, http://melo.br/, http...</td>\n      <td>zda-mota</td>\n      <td>Sr. Gabriel Rodrigues</td>\n      <td>M</td>\n      <td>1932-11-05</td>\n    </tr>\n    <tr>\n      <th>467</th>\n      <td>Separador</td>\n      <td>Nunes</td>\n      <td>82716430535</td>\n      <td>Rodovia Brenda das Neves\\nSion\\n09370-824 Mont...</td>\n      <td>(-52.584789, 30.250952)</td>\n      <td>A+</td>\n      <td>[http://moraes.net/, http://www.oliveira.com/,...</td>\n      <td>teixeiravinicius</td>\n      <td>João Pereira</td>\n      <td>M</td>\n      <td>1984-04-04</td>\n    </tr>\n    <tr>\n      <th>804</th>\n      <td>Escultor</td>\n      <td>da Cunha</td>\n      <td>36954072800</td>\n      <td>Via da Conceição, 28\\nVila Formosa\\n98105637 d...</td>\n      <td>(-82.277534, -20.222515)</td>\n      <td>AB+</td>\n      <td>[https://costela.com/]</td>\n      <td>hcostela</td>\n      <td>Breno Pires</td>\n      <td>M</td>\n      <td>1958-08-23</td>\n    </tr>\n    <tr>\n      <th>601</th>\n      <td>Kite-surfer</td>\n      <td>da Luz</td>\n      <td>60175483280</td>\n      <td>Viaduto de Alves, 93\\nBoa União 2ª Seção\\n9113...</td>\n      <td>(7.625095, 36.307740)</td>\n      <td>AB+</td>\n      <td>[http://www.pires.com/, https://www.ferreira.c...</td>\n      <td>luiz-miguelribeiro</td>\n      <td>Srta. Daniela das Neves</td>\n      <td>F</td>\n      <td>1917-02-02</td>\n    </tr>\n    <tr>\n      <th>238</th>\n      <td>Regente</td>\n      <td>Freitas</td>\n      <td>70432586938</td>\n      <td>Recanto Sales, 23\\nVila São Francisco\\n72452-0...</td>\n      <td>(-54.508991, 56.743869)</td>\n      <td>AB-</td>\n      <td>[https://www.almeida.br/, http://www.silveira....</td>\n      <td>ana-vitoria80</td>\n      <td>Luiz Henrique Cavalcanti</td>\n      <td>M</td>\n      <td>1928-08-12</td>\n    </tr>\n  </tbody>\n</table>\n</div>"
     },
     "metadata": {},
     "execution_count": 24
    }
   ],
   "source": [
    "# retorna linhas aleatorias do seu dataset para realizar amostragem\n",
    "df.sample(9)"
   ]
  },
  {
   "cell_type": "code",
   "execution_count": 26,
   "metadata": {},
   "outputs": [
    {
     "output_type": "execute_result",
     "data": {
      "text/plain": [
       "                                   job              company          ssn  \\\n",
       "29         Promotor público/de justiça              Almeida  61732098530   \n",
       "68     Profissional de educação física              Moreira  39510786268   \n",
       "116                 Cirurgião dentista  Viana Freitas Ltda.  36781052977   \n",
       "127   Tecnólogo em recursos pesqueiros               Araújo  50318724626   \n",
       "144  Profissional de relações públicas            Pires S/A  70438219597   \n",
       "\n",
       "                                             residence  \\\n",
       "29   Sítio João Lucas da Cruz\\nPalmares\\n28045483 S...   \n",
       "68   Chácara Duarte\\nPiratininga\\n13230512 Novaes / AM   \n",
       "116  Área Maria Luiza da Luz, 977\\nNovo Santa Cecil...   \n",
       "127  Condomínio de Cunha, 950\\nVila Nova Dos Milion...   \n",
       "144  Conjunto Cauã Costa, 71\\nGrotinha\\n83964034 da...   \n",
       "\n",
       "             current_location blood_group  \\\n",
       "29     (-3.383139, 31.857693)         AB+   \n",
       "68     (39.774900, 97.633434)          B-   \n",
       "116    (28.705712, 70.138640)         AB+   \n",
       "127   (16.040326, 151.235651)          O+   \n",
       "144  (89.102010, -167.335539)          B-   \n",
       "\n",
       "                                               website           username  \\\n",
       "29   [http://www.carvalho.org/, https://www.caldeir...         catarina24   \n",
       "68        [http://barros.br/, https://www.pereira.br/]       stellafogaca   \n",
       "116          [http://pires.net/, https://peixoto.com/]      luiz-felipe10   \n",
       "127  [https://www.da.br/, http://freitas.br/, http:...   joao-gabrieldias   \n",
       "144          [https://www.duarte.net/, https://da.br/]  silveiraguilherme   \n",
       "\n",
       "                      name sex   birthdate  \n",
       "29      João Gabriel Viana   M  2002-02-19  \n",
       "68        João Vitor Pinto   M  1958-08-28  \n",
       "116   João Miguel da Rocha   M  1959-04-12  \n",
       "127     João Felipe Vieira   M  1939-09-20  \n",
       "144  João Gabriel Oliveira   M  1948-11-14  "
      ],
      "text/html": "<div>\n<style scoped>\n    .dataframe tbody tr th:only-of-type {\n        vertical-align: middle;\n    }\n\n    .dataframe tbody tr th {\n        vertical-align: top;\n    }\n\n    .dataframe thead th {\n        text-align: right;\n    }\n</style>\n<table border=\"1\" class=\"dataframe\">\n  <thead>\n    <tr style=\"text-align: right;\">\n      <th></th>\n      <th>job</th>\n      <th>company</th>\n      <th>ssn</th>\n      <th>residence</th>\n      <th>current_location</th>\n      <th>blood_group</th>\n      <th>website</th>\n      <th>username</th>\n      <th>name</th>\n      <th>sex</th>\n      <th>birthdate</th>\n    </tr>\n  </thead>\n  <tbody>\n    <tr>\n      <th>29</th>\n      <td>Promotor público/de justiça</td>\n      <td>Almeida</td>\n      <td>61732098530</td>\n      <td>Sítio João Lucas da Cruz\\nPalmares\\n28045483 S...</td>\n      <td>(-3.383139, 31.857693)</td>\n      <td>AB+</td>\n      <td>[http://www.carvalho.org/, https://www.caldeir...</td>\n      <td>catarina24</td>\n      <td>João Gabriel Viana</td>\n      <td>M</td>\n      <td>2002-02-19</td>\n    </tr>\n    <tr>\n      <th>68</th>\n      <td>Profissional de educação física</td>\n      <td>Moreira</td>\n      <td>39510786268</td>\n      <td>Chácara Duarte\\nPiratininga\\n13230512 Novaes / AM</td>\n      <td>(39.774900, 97.633434)</td>\n      <td>B-</td>\n      <td>[http://barros.br/, https://www.pereira.br/]</td>\n      <td>stellafogaca</td>\n      <td>João Vitor Pinto</td>\n      <td>M</td>\n      <td>1958-08-28</td>\n    </tr>\n    <tr>\n      <th>116</th>\n      <td>Cirurgião dentista</td>\n      <td>Viana Freitas Ltda.</td>\n      <td>36781052977</td>\n      <td>Área Maria Luiza da Luz, 977\\nNovo Santa Cecil...</td>\n      <td>(28.705712, 70.138640)</td>\n      <td>AB+</td>\n      <td>[http://pires.net/, https://peixoto.com/]</td>\n      <td>luiz-felipe10</td>\n      <td>João Miguel da Rocha</td>\n      <td>M</td>\n      <td>1959-04-12</td>\n    </tr>\n    <tr>\n      <th>127</th>\n      <td>Tecnólogo em recursos pesqueiros</td>\n      <td>Araújo</td>\n      <td>50318724626</td>\n      <td>Condomínio de Cunha, 950\\nVila Nova Dos Milion...</td>\n      <td>(16.040326, 151.235651)</td>\n      <td>O+</td>\n      <td>[https://www.da.br/, http://freitas.br/, http:...</td>\n      <td>joao-gabrieldias</td>\n      <td>João Felipe Vieira</td>\n      <td>M</td>\n      <td>1939-09-20</td>\n    </tr>\n    <tr>\n      <th>144</th>\n      <td>Profissional de relações públicas</td>\n      <td>Pires S/A</td>\n      <td>70438219597</td>\n      <td>Conjunto Cauã Costa, 71\\nGrotinha\\n83964034 da...</td>\n      <td>(89.102010, -167.335539)</td>\n      <td>B-</td>\n      <td>[https://www.duarte.net/, https://da.br/]</td>\n      <td>silveiraguilherme</td>\n      <td>João Gabriel Oliveira</td>\n      <td>M</td>\n      <td>1948-11-14</td>\n    </tr>\n  </tbody>\n</table>\n</div>"
     },
     "metadata": {},
     "execution_count": 26
    }
   ],
   "source": [
    "# trazer os dados se o campo começa com <cadeiacaracter>.\n",
    "df[df.name.str.startswith(\"João\")].head()"
   ]
  },
  {
   "cell_type": "code",
   "execution_count": 32,
   "metadata": {},
   "outputs": [
    {
     "output_type": "execute_result",
     "data": {
      "text/plain": [
       "                                         job         company          ssn  \\\n",
       "2                                Comerciante    Barros Ltda.  41395268746   \n",
       "8                                Panfleteiro         Ribeiro  13560872995   \n",
       "117                             Caminhoneiro        Carvalho  78962104520   \n",
       "156  Profissional de relações internacionais           Gomes  26813540726   \n",
       "202                       Médico geneticista  Alves e Filhos  62503148905   \n",
       "\n",
       "                                             residence  \\\n",
       "2    Vale Francisco Ramos, 2\\nXangri-Lá\\n37092-109 ...   \n",
       "8    Lagoa de da Paz, 20\\nVila Paraíso\\n20023673 Te...   \n",
       "117  Área de Cavalcanti, 7\\nMilionario\\n28511-943 M...   \n",
       "156    Esplanada Melo, 64\\nTupi B\\n64529312 Pinto / PR   \n",
       "202  Conjunto de Ferreira, 84\\nJoão Paulo Ii\\n51958...   \n",
       "\n",
       "             current_location blood_group  \\\n",
       "2      (75.228294, 86.553256)          B-   \n",
       "8    (-24.9578115, 67.906760)          O-   \n",
       "117   (-18.029002, 50.716030)         AB+   \n",
       "156   (34.5686925, 17.796756)          O-   \n",
       "202   (-10.222471, 97.035453)          O+   \n",
       "\n",
       "                                               website        username  \\\n",
       "2    [http://www.monteiro.br/, http://araujo.br/, h...  rodriguesalice   \n",
       "8      [http://www.correia.com/, https://cardoso.com/]  marceloazevedo   \n",
       "117  [https://da.br/, http://ramos.com/, http://www...   martinsyasmin   \n",
       "156                            [https://silveira.com/]         laura44   \n",
       "202  [https://www.caldeira.com/, https://www.montei...   fernandesigor   \n",
       "\n",
       "                    name sex   birthdate  \n",
       "2           Isabel Alves   F  2016-02-09  \n",
       "8            Julia Alves   F  1944-07-04  \n",
       "117         Milena Alves   F  1955-05-10  \n",
       "156  Lucas Gabriel Alves   M  1987-06-29  \n",
       "202        Benício Alves   M  1968-01-26  "
      ],
      "text/html": "<div>\n<style scoped>\n    .dataframe tbody tr th:only-of-type {\n        vertical-align: middle;\n    }\n\n    .dataframe tbody tr th {\n        vertical-align: top;\n    }\n\n    .dataframe thead th {\n        text-align: right;\n    }\n</style>\n<table border=\"1\" class=\"dataframe\">\n  <thead>\n    <tr style=\"text-align: right;\">\n      <th></th>\n      <th>job</th>\n      <th>company</th>\n      <th>ssn</th>\n      <th>residence</th>\n      <th>current_location</th>\n      <th>blood_group</th>\n      <th>website</th>\n      <th>username</th>\n      <th>name</th>\n      <th>sex</th>\n      <th>birthdate</th>\n    </tr>\n  </thead>\n  <tbody>\n    <tr>\n      <th>2</th>\n      <td>Comerciante</td>\n      <td>Barros Ltda.</td>\n      <td>41395268746</td>\n      <td>Vale Francisco Ramos, 2\\nXangri-Lá\\n37092-109 ...</td>\n      <td>(75.228294, 86.553256)</td>\n      <td>B-</td>\n      <td>[http://www.monteiro.br/, http://araujo.br/, h...</td>\n      <td>rodriguesalice</td>\n      <td>Isabel Alves</td>\n      <td>F</td>\n      <td>2016-02-09</td>\n    </tr>\n    <tr>\n      <th>8</th>\n      <td>Panfleteiro</td>\n      <td>Ribeiro</td>\n      <td>13560872995</td>\n      <td>Lagoa de da Paz, 20\\nVila Paraíso\\n20023673 Te...</td>\n      <td>(-24.9578115, 67.906760)</td>\n      <td>O-</td>\n      <td>[http://www.correia.com/, https://cardoso.com/]</td>\n      <td>marceloazevedo</td>\n      <td>Julia Alves</td>\n      <td>F</td>\n      <td>1944-07-04</td>\n    </tr>\n    <tr>\n      <th>117</th>\n      <td>Caminhoneiro</td>\n      <td>Carvalho</td>\n      <td>78962104520</td>\n      <td>Área de Cavalcanti, 7\\nMilionario\\n28511-943 M...</td>\n      <td>(-18.029002, 50.716030)</td>\n      <td>AB+</td>\n      <td>[https://da.br/, http://ramos.com/, http://www...</td>\n      <td>martinsyasmin</td>\n      <td>Milena Alves</td>\n      <td>F</td>\n      <td>1955-05-10</td>\n    </tr>\n    <tr>\n      <th>156</th>\n      <td>Profissional de relações internacionais</td>\n      <td>Gomes</td>\n      <td>26813540726</td>\n      <td>Esplanada Melo, 64\\nTupi B\\n64529312 Pinto / PR</td>\n      <td>(34.5686925, 17.796756)</td>\n      <td>O-</td>\n      <td>[https://silveira.com/]</td>\n      <td>laura44</td>\n      <td>Lucas Gabriel Alves</td>\n      <td>M</td>\n      <td>1987-06-29</td>\n    </tr>\n    <tr>\n      <th>202</th>\n      <td>Médico geneticista</td>\n      <td>Alves e Filhos</td>\n      <td>62503148905</td>\n      <td>Conjunto de Ferreira, 84\\nJoão Paulo Ii\\n51958...</td>\n      <td>(-10.222471, 97.035453)</td>\n      <td>O+</td>\n      <td>[https://www.caldeira.com/, https://www.montei...</td>\n      <td>fernandesigor</td>\n      <td>Benício Alves</td>\n      <td>M</td>\n      <td>1968-01-26</td>\n    </tr>\n  </tbody>\n</table>\n</div>"
     },
     "metadata": {},
     "execution_count": 32
    }
   ],
   "source": [
    "# Termina com\n",
    "df[df.name.str.endswith(\"Alves\")].head()"
   ]
  },
  {
   "cell_type": "code",
   "execution_count": 31,
   "metadata": {},
   "outputs": [
    {
     "output_type": "execute_result",
     "data": {
      "text/plain": [
       "                                         job         company          ssn  \\\n",
       "2                                Comerciante    Barros Ltda.  41395268746   \n",
       "8                                Panfleteiro         Ribeiro  13560872995   \n",
       "117                             Caminhoneiro        Carvalho  78962104520   \n",
       "156  Profissional de relações internacionais           Gomes  26813540726   \n",
       "202                       Médico geneticista  Alves e Filhos  62503148905   \n",
       "\n",
       "                                             residence  \\\n",
       "2    Vale Francisco Ramos, 2\\nXangri-Lá\\n37092-109 ...   \n",
       "8    Lagoa de da Paz, 20\\nVila Paraíso\\n20023673 Te...   \n",
       "117  Área de Cavalcanti, 7\\nMilionario\\n28511-943 M...   \n",
       "156    Esplanada Melo, 64\\nTupi B\\n64529312 Pinto / PR   \n",
       "202  Conjunto de Ferreira, 84\\nJoão Paulo Ii\\n51958...   \n",
       "\n",
       "             current_location blood_group  \\\n",
       "2      (75.228294, 86.553256)          B-   \n",
       "8    (-24.9578115, 67.906760)          O-   \n",
       "117   (-18.029002, 50.716030)         AB+   \n",
       "156   (34.5686925, 17.796756)          O-   \n",
       "202   (-10.222471, 97.035453)          O+   \n",
       "\n",
       "                                               website        username  \\\n",
       "2    [http://www.monteiro.br/, http://araujo.br/, h...  rodriguesalice   \n",
       "8      [http://www.correia.com/, https://cardoso.com/]  marceloazevedo   \n",
       "117  [https://da.br/, http://ramos.com/, http://www...   martinsyasmin   \n",
       "156                            [https://silveira.com/]         laura44   \n",
       "202  [https://www.caldeira.com/, https://www.montei...   fernandesigor   \n",
       "\n",
       "                    name sex   birthdate  \n",
       "2           Isabel Alves   F  2016-02-09  \n",
       "8            Julia Alves   F  1944-07-04  \n",
       "117         Milena Alves   F  1955-05-10  \n",
       "156  Lucas Gabriel Alves   M  1987-06-29  \n",
       "202        Benício Alves   M  1968-01-26  "
      ],
      "text/html": "<div>\n<style scoped>\n    .dataframe tbody tr th:only-of-type {\n        vertical-align: middle;\n    }\n\n    .dataframe tbody tr th {\n        vertical-align: top;\n    }\n\n    .dataframe thead th {\n        text-align: right;\n    }\n</style>\n<table border=\"1\" class=\"dataframe\">\n  <thead>\n    <tr style=\"text-align: right;\">\n      <th></th>\n      <th>job</th>\n      <th>company</th>\n      <th>ssn</th>\n      <th>residence</th>\n      <th>current_location</th>\n      <th>blood_group</th>\n      <th>website</th>\n      <th>username</th>\n      <th>name</th>\n      <th>sex</th>\n      <th>birthdate</th>\n    </tr>\n  </thead>\n  <tbody>\n    <tr>\n      <th>2</th>\n      <td>Comerciante</td>\n      <td>Barros Ltda.</td>\n      <td>41395268746</td>\n      <td>Vale Francisco Ramos, 2\\nXangri-Lá\\n37092-109 ...</td>\n      <td>(75.228294, 86.553256)</td>\n      <td>B-</td>\n      <td>[http://www.monteiro.br/, http://araujo.br/, h...</td>\n      <td>rodriguesalice</td>\n      <td>Isabel Alves</td>\n      <td>F</td>\n      <td>2016-02-09</td>\n    </tr>\n    <tr>\n      <th>8</th>\n      <td>Panfleteiro</td>\n      <td>Ribeiro</td>\n      <td>13560872995</td>\n      <td>Lagoa de da Paz, 20\\nVila Paraíso\\n20023673 Te...</td>\n      <td>(-24.9578115, 67.906760)</td>\n      <td>O-</td>\n      <td>[http://www.correia.com/, https://cardoso.com/]</td>\n      <td>marceloazevedo</td>\n      <td>Julia Alves</td>\n      <td>F</td>\n      <td>1944-07-04</td>\n    </tr>\n    <tr>\n      <th>117</th>\n      <td>Caminhoneiro</td>\n      <td>Carvalho</td>\n      <td>78962104520</td>\n      <td>Área de Cavalcanti, 7\\nMilionario\\n28511-943 M...</td>\n      <td>(-18.029002, 50.716030)</td>\n      <td>AB+</td>\n      <td>[https://da.br/, http://ramos.com/, http://www...</td>\n      <td>martinsyasmin</td>\n      <td>Milena Alves</td>\n      <td>F</td>\n      <td>1955-05-10</td>\n    </tr>\n    <tr>\n      <th>156</th>\n      <td>Profissional de relações internacionais</td>\n      <td>Gomes</td>\n      <td>26813540726</td>\n      <td>Esplanada Melo, 64\\nTupi B\\n64529312 Pinto / PR</td>\n      <td>(34.5686925, 17.796756)</td>\n      <td>O-</td>\n      <td>[https://silveira.com/]</td>\n      <td>laura44</td>\n      <td>Lucas Gabriel Alves</td>\n      <td>M</td>\n      <td>1987-06-29</td>\n    </tr>\n    <tr>\n      <th>202</th>\n      <td>Médico geneticista</td>\n      <td>Alves e Filhos</td>\n      <td>62503148905</td>\n      <td>Conjunto de Ferreira, 84\\nJoão Paulo Ii\\n51958...</td>\n      <td>(-10.222471, 97.035453)</td>\n      <td>O+</td>\n      <td>[https://www.caldeira.com/, https://www.montei...</td>\n      <td>fernandesigor</td>\n      <td>Benício Alves</td>\n      <td>M</td>\n      <td>1968-01-26</td>\n    </tr>\n  </tbody>\n</table>\n</div>"
     },
     "metadata": {},
     "execution_count": 31
    }
   ],
   "source": [
    "# Contem\n",
    "df[df.name.str.contains(\"Alves\")].head()\n"
   ]
  },
  {
   "cell_type": "code",
   "execution_count": 35,
   "metadata": {},
   "outputs": [
    {
     "output_type": "execute_result",
     "data": {
      "text/plain": [
       "                            job                         company          ssn  \\\n",
       "85   Profissional de reciclagem   Cavalcanti Rodrigues e Filhos  27845031941   \n",
       "421                   Separador  da Conceição Monteiro e Filhos  35602849700   \n",
       "578                      Judoca   da Mota da Conceição e Filhos  40237965810   \n",
       "\n",
       "                                             residence  \\\n",
       "85   Distrito Davi Campos, 161\\nNova Suíça\\n7982588...   \n",
       "421  Via de Sales, 54\\nSão José\\n84250751 Almeida / TO   \n",
       "578  Condomínio Alves, 341\\nPirineus\\n28729222 Azev...   \n",
       "\n",
       "              current_location blood_group  \\\n",
       "85   (-25.311126, -141.536075)          B+   \n",
       "421  (-35.0468645, 167.447196)          B+   \n",
       "578     (30.518676, 26.714960)          A+   \n",
       "\n",
       "                                               website        username  \\\n",
       "85                             [https://oliveira.net/]         xcampos   \n",
       "421  [https://pires.br/, http://silva.com/, http://...        qda-mata   \n",
       "578      [http://www.costela.br/, https://santos.com/]  fernandesmaysa   \n",
       "\n",
       "               name sex   birthdate  \n",
       "85     Rafael Rocha   M  2019-09-21  \n",
       "421  Miguel Barbosa   M  1999-01-08  \n",
       "578    Juan Barbosa   M  1948-12-14  "
      ],
      "text/html": "<div>\n<style scoped>\n    .dataframe tbody tr th:only-of-type {\n        vertical-align: middle;\n    }\n\n    .dataframe tbody tr th {\n        vertical-align: top;\n    }\n\n    .dataframe thead th {\n        text-align: right;\n    }\n</style>\n<table border=\"1\" class=\"dataframe\">\n  <thead>\n    <tr style=\"text-align: right;\">\n      <th></th>\n      <th>job</th>\n      <th>company</th>\n      <th>ssn</th>\n      <th>residence</th>\n      <th>current_location</th>\n      <th>blood_group</th>\n      <th>website</th>\n      <th>username</th>\n      <th>name</th>\n      <th>sex</th>\n      <th>birthdate</th>\n    </tr>\n  </thead>\n  <tbody>\n    <tr>\n      <th>85</th>\n      <td>Profissional de reciclagem</td>\n      <td>Cavalcanti Rodrigues e Filhos</td>\n      <td>27845031941</td>\n      <td>Distrito Davi Campos, 161\\nNova Suíça\\n7982588...</td>\n      <td>(-25.311126, -141.536075)</td>\n      <td>B+</td>\n      <td>[https://oliveira.net/]</td>\n      <td>xcampos</td>\n      <td>Rafael Rocha</td>\n      <td>M</td>\n      <td>2019-09-21</td>\n    </tr>\n    <tr>\n      <th>421</th>\n      <td>Separador</td>\n      <td>da Conceição Monteiro e Filhos</td>\n      <td>35602849700</td>\n      <td>Via de Sales, 54\\nSão José\\n84250751 Almeida / TO</td>\n      <td>(-35.0468645, 167.447196)</td>\n      <td>B+</td>\n      <td>[https://pires.br/, http://silva.com/, http://...</td>\n      <td>qda-mata</td>\n      <td>Miguel Barbosa</td>\n      <td>M</td>\n      <td>1999-01-08</td>\n    </tr>\n    <tr>\n      <th>578</th>\n      <td>Judoca</td>\n      <td>da Mota da Conceição e Filhos</td>\n      <td>40237965810</td>\n      <td>Condomínio Alves, 341\\nPirineus\\n28729222 Azev...</td>\n      <td>(30.518676, 26.714960)</td>\n      <td>A+</td>\n      <td>[http://www.costela.br/, https://santos.com/]</td>\n      <td>fernandesmaysa</td>\n      <td>Juan Barbosa</td>\n      <td>M</td>\n      <td>1948-12-14</td>\n    </tr>\n  </tbody>\n</table>\n</div>"
     },
     "metadata": {},
     "execution_count": 35
    }
   ],
   "source": [
    "# pelo tamanho do dado\n",
    "df[df.company.str.len()>27]"
   ]
  },
  {
   "cell_type": "code",
   "execution_count": 37,
   "metadata": {},
   "outputs": [
    {
     "output_type": "execute_result",
     "data": {
      "text/plain": [
       "                job         company          ssn  \\\n",
       "5   Plastimodelista       das Neves  46327815928   \n",
       "19            Bedel  Carvalho Ltda.  16302749840   \n",
       "22      Esteticista          Duarte  32486510753   \n",
       "\n",
       "                                            residence  \\\n",
       "5   Condomínio de Caldeira, 73\\nVila Da Paz\\n42017...   \n",
       "19  Travessa Daniela da Mota, 42\\nJardim América\\n...   \n",
       "22  Trevo Henrique da Costa, 88\\nBaleia\\n13367-401...   \n",
       "\n",
       "             current_location blood_group  \\\n",
       "5    (70.6911485, -65.333709)          O+   \n",
       "19    (-13.201328, 93.546838)          A-   \n",
       "22  (-14.1993255, -94.499141)          A-   \n",
       "\n",
       "                                              website   username  \\\n",
       "5   [http://www.costela.br/, http://www.souza.br/,...    qaragao   \n",
       "19  [https://da.br/, http://rocha.net/, http://www...   samuel09   \n",
       "22  [https://www.cavalcanti.br/, https://www.sales...  lferreira   \n",
       "\n",
       "                        name sex   birthdate  \n",
       "5         Dr. Nathan Barbosa   M  1960-02-26  \n",
       "19          Ana Julia Duarte   F  1908-02-11  \n",
       "22  Dr. Lucas Gabriel Araújo   M  1956-01-07  "
      ],
      "text/html": "<div>\n<style scoped>\n    .dataframe tbody tr th:only-of-type {\n        vertical-align: middle;\n    }\n\n    .dataframe tbody tr th {\n        vertical-align: top;\n    }\n\n    .dataframe thead th {\n        text-align: right;\n    }\n</style>\n<table border=\"1\" class=\"dataframe\">\n  <thead>\n    <tr style=\"text-align: right;\">\n      <th></th>\n      <th>job</th>\n      <th>company</th>\n      <th>ssn</th>\n      <th>residence</th>\n      <th>current_location</th>\n      <th>blood_group</th>\n      <th>website</th>\n      <th>username</th>\n      <th>name</th>\n      <th>sex</th>\n      <th>birthdate</th>\n    </tr>\n  </thead>\n  <tbody>\n    <tr>\n      <th>5</th>\n      <td>Plastimodelista</td>\n      <td>das Neves</td>\n      <td>46327815928</td>\n      <td>Condomínio de Caldeira, 73\\nVila Da Paz\\n42017...</td>\n      <td>(70.6911485, -65.333709)</td>\n      <td>O+</td>\n      <td>[http://www.costela.br/, http://www.souza.br/,...</td>\n      <td>qaragao</td>\n      <td>Dr. Nathan Barbosa</td>\n      <td>M</td>\n      <td>1960-02-26</td>\n    </tr>\n    <tr>\n      <th>19</th>\n      <td>Bedel</td>\n      <td>Carvalho Ltda.</td>\n      <td>16302749840</td>\n      <td>Travessa Daniela da Mota, 42\\nJardim América\\n...</td>\n      <td>(-13.201328, 93.546838)</td>\n      <td>A-</td>\n      <td>[https://da.br/, http://rocha.net/, http://www...</td>\n      <td>samuel09</td>\n      <td>Ana Julia Duarte</td>\n      <td>F</td>\n      <td>1908-02-11</td>\n    </tr>\n    <tr>\n      <th>22</th>\n      <td>Esteticista</td>\n      <td>Duarte</td>\n      <td>32486510753</td>\n      <td>Trevo Henrique da Costa, 88\\nBaleia\\n13367-401...</td>\n      <td>(-14.1993255, -94.499141)</td>\n      <td>A-</td>\n      <td>[https://www.cavalcanti.br/, https://www.sales...</td>\n      <td>lferreira</td>\n      <td>Dr. Lucas Gabriel Araújo</td>\n      <td>M</td>\n      <td>1956-01-07</td>\n    </tr>\n  </tbody>\n</table>\n</div>"
     },
     "metadata": {},
     "execution_count": 37
    }
   ],
   "source": [
    "# Passar uma lista na condição (IsIn)\n",
    "grupos_sang = ['O+', 'A-']\n",
    "df[df.blood_group.isin(grupos_sang)].head(3)"
   ]
  },
  {
   "cell_type": "code",
   "execution_count": 38,
   "metadata": {},
   "outputs": [
    {
     "output_type": "execute_result",
     "data": {
      "text/plain": [
       "Empty DataFrame\n",
       "Columns: [job, company, ssn, residence, current_location, blood_group, website, username, name, sex, birthdate]\n",
       "Index: []"
      ],
      "text/html": "<div>\n<style scoped>\n    .dataframe tbody tr th:only-of-type {\n        vertical-align: middle;\n    }\n\n    .dataframe tbody tr th {\n        vertical-align: top;\n    }\n\n    .dataframe thead th {\n        text-align: right;\n    }\n</style>\n<table border=\"1\" class=\"dataframe\">\n  <thead>\n    <tr style=\"text-align: right;\">\n      <th></th>\n      <th>job</th>\n      <th>company</th>\n      <th>ssn</th>\n      <th>residence</th>\n      <th>current_location</th>\n      <th>blood_group</th>\n      <th>website</th>\n      <th>username</th>\n      <th>name</th>\n      <th>sex</th>\n      <th>birthdate</th>\n    </tr>\n  </thead>\n  <tbody>\n  </tbody>\n</table>\n</div>"
     },
     "metadata": {},
     "execution_count": 38
    }
   ],
   "source": [
    "# trazer os dados qndo uma variavel é nula\n",
    "df[pd.isnull(df.ssn)]"
   ]
  },
  {
   "cell_type": "code",
   "execution_count": 39,
   "metadata": {},
   "outputs": [
    {
     "output_type": "execute_result",
     "data": {
      "text/plain": [
       "                                       job                company  \\\n",
       "0                 Vistoriador de sinistros             Moraes S/A   \n",
       "1                             Neurologista     Rocha da Mata - ME   \n",
       "2                              Comerciante           Barros Ltda.   \n",
       "3    Engenheiro de produção agroindustrial   Aragão da Mota Ltda.   \n",
       "4          Tecnólogo em produção moveleira                   Dias   \n",
       "..                                     ...                    ...   \n",
       "995                     Operador de bombas        da Luz e Filhos   \n",
       "996                Presidente da República  Nascimento Farias S/A   \n",
       "997                           Cabeleireiro            Moraes S.A.   \n",
       "998                      Engenheiro têxtil                 Barros   \n",
       "999                              Motorista                   Dias   \n",
       "\n",
       "             ssn                                          residence  \\\n",
       "0    46751830939  Viaduto Luiz Felipe da Mata\\nBuritis\\n66533-68...   \n",
       "1    36415280708  Setor de Nogueira, 44\\nVila Paris\\n73788783 Si...   \n",
       "2    41395268746  Vale Francisco Ramos, 2\\nXangri-Lá\\n37092-109 ...   \n",
       "3    13975462043  Via Cardoso, 65\\nMinas Brasil\\n69494149 Azeved...   \n",
       "4    41395627819  Parque João da Costa, 39\\nConjunto Capitão Edu...   \n",
       "..           ...                                                ...   \n",
       "995  15860749201  Viaduto Nascimento\\nBaleia\\n79324-279 Silveira...   \n",
       "996  17936840222  Vale Fogaça, 8\\nErmelinda\\n75126-258 Moreira / MT   \n",
       "997  40597632847  Campo de Vieira, 6\\nVila Piratininga\\n30212073...   \n",
       "998  20896437574  Residencial de Cardoso, 86\\nVila Barragem Sant...   \n",
       "999  70823145905  Colônia de da Paz, 888\\nVila Pinho\\n57166-060 ...   \n",
       "\n",
       "              current_location blood_group  \\\n",
       "0      (-6.4383875, 10.084124)          O-   \n",
       "1     (69.469232, -122.071707)         AB-   \n",
       "2       (75.228294, 86.553256)          B-   \n",
       "3      (59.609883, -45.639861)         AB+   \n",
       "4       (2.5948175, 19.847110)          B-   \n",
       "..                         ...         ...   \n",
       "995  (21.8469835, -158.836449)          A+   \n",
       "996   (58.6885005, -85.801808)          A+   \n",
       "997  (-78.2216955, 117.774014)          O+   \n",
       "998  (29.1206645, -165.611282)         AB-   \n",
       "999   (-53.170418, -14.825609)          B+   \n",
       "\n",
       "                                               website         username  \\\n",
       "0                            [https://www.moreira.br/]        laracosta   \n",
       "1            [http://costela.br/, http://cardoso.com/]    mendesheloisa   \n",
       "2    [http://www.monteiro.br/, http://araujo.br/, h...   rodriguesalice   \n",
       "3                                 [http://cardoso.br/]      fogacamaysa   \n",
       "4    [https://aragao.com/, https://www.cavalcanti.o...         enrico84   \n",
       "..                                                 ...              ...   \n",
       "995  [http://www.peixoto.br/, https://www.campos.ne...       kevinmoura   \n",
       "996  [https://www.cardoso.com/, http://moreira.com/...  aragaodavi-luiz   \n",
       "997  [https://nunes.com/, https://duarte.org/, http...    cardosomilena   \n",
       "998  [https://freitas.br/, http://sales.net/, http:...    camposnicolas   \n",
       "999    [http://www.cunha.br/, http://www.peixoto.net/]     matheusviana   \n",
       "\n",
       "                      name sex   birthdate  \n",
       "0         Isadora Teixeira   F  2018-12-09  \n",
       "1            Eduarda Moura   F  1933-05-31  \n",
       "2             Isabel Alves   F  2016-02-09  \n",
       "3     Luiz Gustavo da Mata   M  1979-09-14  \n",
       "4        Juliana das Neves   F  2019-07-03  \n",
       "..                     ...  ..         ...  \n",
       "995           Miguel Jesus   M  2000-04-03  \n",
       "996     Sra. Beatriz Porto   F  1949-11-17  \n",
       "997  Pedro Miguel Caldeira   M  1980-08-14  \n",
       "998  Sra. Ana Laura Aragão   F  1991-02-25  \n",
       "999          Milena Castro   F  1912-09-18  \n",
       "\n",
       "[1000 rows x 11 columns]"
      ],
      "text/html": "<div>\n<style scoped>\n    .dataframe tbody tr th:only-of-type {\n        vertical-align: middle;\n    }\n\n    .dataframe tbody tr th {\n        vertical-align: top;\n    }\n\n    .dataframe thead th {\n        text-align: right;\n    }\n</style>\n<table border=\"1\" class=\"dataframe\">\n  <thead>\n    <tr style=\"text-align: right;\">\n      <th></th>\n      <th>job</th>\n      <th>company</th>\n      <th>ssn</th>\n      <th>residence</th>\n      <th>current_location</th>\n      <th>blood_group</th>\n      <th>website</th>\n      <th>username</th>\n      <th>name</th>\n      <th>sex</th>\n      <th>birthdate</th>\n    </tr>\n  </thead>\n  <tbody>\n    <tr>\n      <th>0</th>\n      <td>Vistoriador de sinistros</td>\n      <td>Moraes S/A</td>\n      <td>46751830939</td>\n      <td>Viaduto Luiz Felipe da Mata\\nBuritis\\n66533-68...</td>\n      <td>(-6.4383875, 10.084124)</td>\n      <td>O-</td>\n      <td>[https://www.moreira.br/]</td>\n      <td>laracosta</td>\n      <td>Isadora Teixeira</td>\n      <td>F</td>\n      <td>2018-12-09</td>\n    </tr>\n    <tr>\n      <th>1</th>\n      <td>Neurologista</td>\n      <td>Rocha da Mata - ME</td>\n      <td>36415280708</td>\n      <td>Setor de Nogueira, 44\\nVila Paris\\n73788783 Si...</td>\n      <td>(69.469232, -122.071707)</td>\n      <td>AB-</td>\n      <td>[http://costela.br/, http://cardoso.com/]</td>\n      <td>mendesheloisa</td>\n      <td>Eduarda Moura</td>\n      <td>F</td>\n      <td>1933-05-31</td>\n    </tr>\n    <tr>\n      <th>2</th>\n      <td>Comerciante</td>\n      <td>Barros Ltda.</td>\n      <td>41395268746</td>\n      <td>Vale Francisco Ramos, 2\\nXangri-Lá\\n37092-109 ...</td>\n      <td>(75.228294, 86.553256)</td>\n      <td>B-</td>\n      <td>[http://www.monteiro.br/, http://araujo.br/, h...</td>\n      <td>rodriguesalice</td>\n      <td>Isabel Alves</td>\n      <td>F</td>\n      <td>2016-02-09</td>\n    </tr>\n    <tr>\n      <th>3</th>\n      <td>Engenheiro de produção agroindustrial</td>\n      <td>Aragão da Mota Ltda.</td>\n      <td>13975462043</td>\n      <td>Via Cardoso, 65\\nMinas Brasil\\n69494149 Azeved...</td>\n      <td>(59.609883, -45.639861)</td>\n      <td>AB+</td>\n      <td>[http://cardoso.br/]</td>\n      <td>fogacamaysa</td>\n      <td>Luiz Gustavo da Mata</td>\n      <td>M</td>\n      <td>1979-09-14</td>\n    </tr>\n    <tr>\n      <th>4</th>\n      <td>Tecnólogo em produção moveleira</td>\n      <td>Dias</td>\n      <td>41395627819</td>\n      <td>Parque João da Costa, 39\\nConjunto Capitão Edu...</td>\n      <td>(2.5948175, 19.847110)</td>\n      <td>B-</td>\n      <td>[https://aragao.com/, https://www.cavalcanti.o...</td>\n      <td>enrico84</td>\n      <td>Juliana das Neves</td>\n      <td>F</td>\n      <td>2019-07-03</td>\n    </tr>\n    <tr>\n      <th>...</th>\n      <td>...</td>\n      <td>...</td>\n      <td>...</td>\n      <td>...</td>\n      <td>...</td>\n      <td>...</td>\n      <td>...</td>\n      <td>...</td>\n      <td>...</td>\n      <td>...</td>\n      <td>...</td>\n    </tr>\n    <tr>\n      <th>995</th>\n      <td>Operador de bombas</td>\n      <td>da Luz e Filhos</td>\n      <td>15860749201</td>\n      <td>Viaduto Nascimento\\nBaleia\\n79324-279 Silveira...</td>\n      <td>(21.8469835, -158.836449)</td>\n      <td>A+</td>\n      <td>[http://www.peixoto.br/, https://www.campos.ne...</td>\n      <td>kevinmoura</td>\n      <td>Miguel Jesus</td>\n      <td>M</td>\n      <td>2000-04-03</td>\n    </tr>\n    <tr>\n      <th>996</th>\n      <td>Presidente da República</td>\n      <td>Nascimento Farias S/A</td>\n      <td>17936840222</td>\n      <td>Vale Fogaça, 8\\nErmelinda\\n75126-258 Moreira / MT</td>\n      <td>(58.6885005, -85.801808)</td>\n      <td>A+</td>\n      <td>[https://www.cardoso.com/, http://moreira.com/...</td>\n      <td>aragaodavi-luiz</td>\n      <td>Sra. Beatriz Porto</td>\n      <td>F</td>\n      <td>1949-11-17</td>\n    </tr>\n    <tr>\n      <th>997</th>\n      <td>Cabeleireiro</td>\n      <td>Moraes S.A.</td>\n      <td>40597632847</td>\n      <td>Campo de Vieira, 6\\nVila Piratininga\\n30212073...</td>\n      <td>(-78.2216955, 117.774014)</td>\n      <td>O+</td>\n      <td>[https://nunes.com/, https://duarte.org/, http...</td>\n      <td>cardosomilena</td>\n      <td>Pedro Miguel Caldeira</td>\n      <td>M</td>\n      <td>1980-08-14</td>\n    </tr>\n    <tr>\n      <th>998</th>\n      <td>Engenheiro têxtil</td>\n      <td>Barros</td>\n      <td>20896437574</td>\n      <td>Residencial de Cardoso, 86\\nVila Barragem Sant...</td>\n      <td>(29.1206645, -165.611282)</td>\n      <td>AB-</td>\n      <td>[https://freitas.br/, http://sales.net/, http:...</td>\n      <td>camposnicolas</td>\n      <td>Sra. Ana Laura Aragão</td>\n      <td>F</td>\n      <td>1991-02-25</td>\n    </tr>\n    <tr>\n      <th>999</th>\n      <td>Motorista</td>\n      <td>Dias</td>\n      <td>70823145905</td>\n      <td>Colônia de da Paz, 888\\nVila Pinho\\n57166-060 ...</td>\n      <td>(-53.170418, -14.825609)</td>\n      <td>B+</td>\n      <td>[http://www.cunha.br/, http://www.peixoto.net/]</td>\n      <td>matheusviana</td>\n      <td>Milena Castro</td>\n      <td>F</td>\n      <td>1912-09-18</td>\n    </tr>\n  </tbody>\n</table>\n<p>1000 rows × 11 columns</p>\n</div>"
     },
     "metadata": {},
     "execution_count": 39
    }
   ],
   "source": [
    "# negação de condição\n",
    "df[~pd.isnull(df.ssn)]"
   ]
  },
  {
   "source": [
    "### Inserindo colunas no dataframe"
   ],
   "cell_type": "markdown",
   "metadata": {}
  },
  {
   "cell_type": "code",
   "execution_count": 47,
   "metadata": {},
   "outputs": [
    {
     "output_type": "execute_result",
     "data": {
      "text/plain": [
       "                         job                  company          ssn  \\\n",
       "497      Projetista mecânico                Gonçalves  28951673464   \n",
       "486          Juiz de direito        Aragão Pires - EI  78406915366   \n",
       "232           Físico nuclear     Oliveira Pires Ltda.  21947065343   \n",
       "779                 Peixeiro                   Campos  52670398103   \n",
       "130                Xilógrafo                  Cardoso   8314925624   \n",
       "634               Maquinista                    Jesus  51306892406   \n",
       "1               Neurologista       Rocha da Mata - ME  36415280708   \n",
       "279  Representante comercial  das Neves Cardoso Ltda.   2963748574   \n",
       "853            Pneumologista                  Cardoso  89342510779   \n",
       "959                    Caixa                    Viana   7215849694   \n",
       "\n",
       "                                             residence  \\\n",
       "497  Recanto de Farias\\nConjunto Providencia\\n06151...   \n",
       "486  Estação de Sales, 499\\nPetropolis\\n95139337 Mo...   \n",
       "232  Morro Cardoso, 32\\nNova Pampulha\\n89162663 da ...   \n",
       "779  Campo de Cardoso, 384\\nCônego Pinheiro 2ª Seçã...   \n",
       "130  Morro Maria Cecília Duarte, 2\\nNova America\\n3...   \n",
       "634  Morro Castro, 4\\nDona Clara\\n66102-710 Almeida...   \n",
       "1    Setor de Nogueira, 44\\nVila Paris\\n73788783 Si...   \n",
       "279  Jardim de Peixoto, 518\\nJardim América\\n448987...   \n",
       "853   Campo Moreira, 82\\nSolimoes\\n82845794 Alves / ES   \n",
       "959  Sítio de Campos, 65\\nMaria Helena\\n95052-454 P...   \n",
       "\n",
       "              current_location blood_group  \\\n",
       "497  (63.7621115, -126.436840)         AB-   \n",
       "486  (15.7313935, -163.029281)          A-   \n",
       "232   (40.5824895, 143.345633)          A+   \n",
       "779   (62.5514235, -21.288615)          A-   \n",
       "130   (76.412237, -111.375502)          A+   \n",
       "634    (48.5553835, 56.948884)         AB-   \n",
       "1     (69.469232, -122.071707)         AB-   \n",
       "279    (37.6627095, 48.980621)          O-   \n",
       "853  (52.9687935, -127.960476)          B+   \n",
       "959     (78.447302, 33.236189)          A+   \n",
       "\n",
       "                                               website         username  \\\n",
       "497  [https://www.correia.com/, https://duarte.net/...  ana-sophiapires   \n",
       "486  [https://da.com/, https://www.da.br/, https://...            ian46   \n",
       "232                                    [http://da.br/]     nogueiracaio   \n",
       "779          [https://da.br/, http://www.cardoso.org/]         gomesana   \n",
       "130         [https://azevedo.br/, http://barbosa.org/]        qsilveira   \n",
       "634   [https://www.azevedo.com/, http://www.ramos.br/]          anovaes   \n",
       "1            [http://costela.br/, http://cardoso.com/]    mendesheloisa   \n",
       "279  [https://www.rodrigues.org/, https://www.santo...       henrique61   \n",
       "853                          [https://www.mendes.com/]           pcosta   \n",
       "959                            [http://www.sales.com/]   matheusfreitas   \n",
       "\n",
       "                       name sex   birthdate  \n",
       "497             Cauã Duarte   M  1946-08-11  \n",
       "486           Isabel da Paz   F  1940-09-27  \n",
       "232        João Felipe Lima   M  2017-12-04  \n",
       "779  Maria Julia Nascimento   F  2003-06-08  \n",
       "130             Raul Barros   M  1954-08-31  \n",
       "634         Clarice da Cruz   F  1937-01-07  \n",
       "1             Eduarda Moura   F  1933-05-31  \n",
       "279         Evelyn Caldeira   F  1908-01-05  \n",
       "853          Yasmin Correia   F  1986-08-28  \n",
       "959           Lorena Novaes   F  1983-01-14  "
      ],
      "text/html": "<div>\n<style scoped>\n    .dataframe tbody tr th:only-of-type {\n        vertical-align: middle;\n    }\n\n    .dataframe tbody tr th {\n        vertical-align: top;\n    }\n\n    .dataframe thead th {\n        text-align: right;\n    }\n</style>\n<table border=\"1\" class=\"dataframe\">\n  <thead>\n    <tr style=\"text-align: right;\">\n      <th></th>\n      <th>job</th>\n      <th>company</th>\n      <th>ssn</th>\n      <th>residence</th>\n      <th>current_location</th>\n      <th>blood_group</th>\n      <th>website</th>\n      <th>username</th>\n      <th>name</th>\n      <th>sex</th>\n      <th>birthdate</th>\n    </tr>\n  </thead>\n  <tbody>\n    <tr>\n      <th>497</th>\n      <td>Projetista mecânico</td>\n      <td>Gonçalves</td>\n      <td>28951673464</td>\n      <td>Recanto de Farias\\nConjunto Providencia\\n06151...</td>\n      <td>(63.7621115, -126.436840)</td>\n      <td>AB-</td>\n      <td>[https://www.correia.com/, https://duarte.net/...</td>\n      <td>ana-sophiapires</td>\n      <td>Cauã Duarte</td>\n      <td>M</td>\n      <td>1946-08-11</td>\n    </tr>\n    <tr>\n      <th>486</th>\n      <td>Juiz de direito</td>\n      <td>Aragão Pires - EI</td>\n      <td>78406915366</td>\n      <td>Estação de Sales, 499\\nPetropolis\\n95139337 Mo...</td>\n      <td>(15.7313935, -163.029281)</td>\n      <td>A-</td>\n      <td>[https://da.com/, https://www.da.br/, https://...</td>\n      <td>ian46</td>\n      <td>Isabel da Paz</td>\n      <td>F</td>\n      <td>1940-09-27</td>\n    </tr>\n    <tr>\n      <th>232</th>\n      <td>Físico nuclear</td>\n      <td>Oliveira Pires Ltda.</td>\n      <td>21947065343</td>\n      <td>Morro Cardoso, 32\\nNova Pampulha\\n89162663 da ...</td>\n      <td>(40.5824895, 143.345633)</td>\n      <td>A+</td>\n      <td>[http://da.br/]</td>\n      <td>nogueiracaio</td>\n      <td>João Felipe Lima</td>\n      <td>M</td>\n      <td>2017-12-04</td>\n    </tr>\n    <tr>\n      <th>779</th>\n      <td>Peixeiro</td>\n      <td>Campos</td>\n      <td>52670398103</td>\n      <td>Campo de Cardoso, 384\\nCônego Pinheiro 2ª Seçã...</td>\n      <td>(62.5514235, -21.288615)</td>\n      <td>A-</td>\n      <td>[https://da.br/, http://www.cardoso.org/]</td>\n      <td>gomesana</td>\n      <td>Maria Julia Nascimento</td>\n      <td>F</td>\n      <td>2003-06-08</td>\n    </tr>\n    <tr>\n      <th>130</th>\n      <td>Xilógrafo</td>\n      <td>Cardoso</td>\n      <td>8314925624</td>\n      <td>Morro Maria Cecília Duarte, 2\\nNova America\\n3...</td>\n      <td>(76.412237, -111.375502)</td>\n      <td>A+</td>\n      <td>[https://azevedo.br/, http://barbosa.org/]</td>\n      <td>qsilveira</td>\n      <td>Raul Barros</td>\n      <td>M</td>\n      <td>1954-08-31</td>\n    </tr>\n    <tr>\n      <th>634</th>\n      <td>Maquinista</td>\n      <td>Jesus</td>\n      <td>51306892406</td>\n      <td>Morro Castro, 4\\nDona Clara\\n66102-710 Almeida...</td>\n      <td>(48.5553835, 56.948884)</td>\n      <td>AB-</td>\n      <td>[https://www.azevedo.com/, http://www.ramos.br/]</td>\n      <td>anovaes</td>\n      <td>Clarice da Cruz</td>\n      <td>F</td>\n      <td>1937-01-07</td>\n    </tr>\n    <tr>\n      <th>1</th>\n      <td>Neurologista</td>\n      <td>Rocha da Mata - ME</td>\n      <td>36415280708</td>\n      <td>Setor de Nogueira, 44\\nVila Paris\\n73788783 Si...</td>\n      <td>(69.469232, -122.071707)</td>\n      <td>AB-</td>\n      <td>[http://costela.br/, http://cardoso.com/]</td>\n      <td>mendesheloisa</td>\n      <td>Eduarda Moura</td>\n      <td>F</td>\n      <td>1933-05-31</td>\n    </tr>\n    <tr>\n      <th>279</th>\n      <td>Representante comercial</td>\n      <td>das Neves Cardoso Ltda.</td>\n      <td>2963748574</td>\n      <td>Jardim de Peixoto, 518\\nJardim América\\n448987...</td>\n      <td>(37.6627095, 48.980621)</td>\n      <td>O-</td>\n      <td>[https://www.rodrigues.org/, https://www.santo...</td>\n      <td>henrique61</td>\n      <td>Evelyn Caldeira</td>\n      <td>F</td>\n      <td>1908-01-05</td>\n    </tr>\n    <tr>\n      <th>853</th>\n      <td>Pneumologista</td>\n      <td>Cardoso</td>\n      <td>89342510779</td>\n      <td>Campo Moreira, 82\\nSolimoes\\n82845794 Alves / ES</td>\n      <td>(52.9687935, -127.960476)</td>\n      <td>B+</td>\n      <td>[https://www.mendes.com/]</td>\n      <td>pcosta</td>\n      <td>Yasmin Correia</td>\n      <td>F</td>\n      <td>1986-08-28</td>\n    </tr>\n    <tr>\n      <th>959</th>\n      <td>Caixa</td>\n      <td>Viana</td>\n      <td>7215849694</td>\n      <td>Sítio de Campos, 65\\nMaria Helena\\n95052-454 P...</td>\n      <td>(78.447302, 33.236189)</td>\n      <td>A+</td>\n      <td>[http://www.sales.com/]</td>\n      <td>matheusfreitas</td>\n      <td>Lorena Novaes</td>\n      <td>F</td>\n      <td>1983-01-14</td>\n    </tr>\n  </tbody>\n</table>\n</div>"
     },
     "metadata": {},
     "execution_count": 47
    }
   ],
   "source": [
    "# gerando um dataframe por amostragem\n",
    "df2 = df.copy()\n",
    "df2 = df2.sample(10)\n",
    "df2"
   ]
  },
  {
   "source": [
    "> `Inserindo uma chave primaria para a amostragem`\n"
   ],
   "cell_type": "markdown",
   "metadata": {}
  },
  {
   "cell_type": "code",
   "execution_count": 48,
   "metadata": {},
   "outputs": [
    {
     "output_type": "execute_result",
     "data": {
      "text/plain": [
       "                         job                  company          ssn  \\\n",
       "497      Projetista mecânico                Gonçalves  28951673464   \n",
       "486          Juiz de direito        Aragão Pires - EI  78406915366   \n",
       "232           Físico nuclear     Oliveira Pires Ltda.  21947065343   \n",
       "779                 Peixeiro                   Campos  52670398103   \n",
       "130                Xilógrafo                  Cardoso   8314925624   \n",
       "634               Maquinista                    Jesus  51306892406   \n",
       "1               Neurologista       Rocha da Mata - ME  36415280708   \n",
       "279  Representante comercial  das Neves Cardoso Ltda.   2963748574   \n",
       "853            Pneumologista                  Cardoso  89342510779   \n",
       "959                    Caixa                    Viana   7215849694   \n",
       "\n",
       "                                             residence  \\\n",
       "497  Recanto de Farias\\nConjunto Providencia\\n06151...   \n",
       "486  Estação de Sales, 499\\nPetropolis\\n95139337 Mo...   \n",
       "232  Morro Cardoso, 32\\nNova Pampulha\\n89162663 da ...   \n",
       "779  Campo de Cardoso, 384\\nCônego Pinheiro 2ª Seçã...   \n",
       "130  Morro Maria Cecília Duarte, 2\\nNova America\\n3...   \n",
       "634  Morro Castro, 4\\nDona Clara\\n66102-710 Almeida...   \n",
       "1    Setor de Nogueira, 44\\nVila Paris\\n73788783 Si...   \n",
       "279  Jardim de Peixoto, 518\\nJardim América\\n448987...   \n",
       "853   Campo Moreira, 82\\nSolimoes\\n82845794 Alves / ES   \n",
       "959  Sítio de Campos, 65\\nMaria Helena\\n95052-454 P...   \n",
       "\n",
       "              current_location blood_group  \\\n",
       "497  (63.7621115, -126.436840)         AB-   \n",
       "486  (15.7313935, -163.029281)          A-   \n",
       "232   (40.5824895, 143.345633)          A+   \n",
       "779   (62.5514235, -21.288615)          A-   \n",
       "130   (76.412237, -111.375502)          A+   \n",
       "634    (48.5553835, 56.948884)         AB-   \n",
       "1     (69.469232, -122.071707)         AB-   \n",
       "279    (37.6627095, 48.980621)          O-   \n",
       "853  (52.9687935, -127.960476)          B+   \n",
       "959     (78.447302, 33.236189)          A+   \n",
       "\n",
       "                                               website         username  \\\n",
       "497  [https://www.correia.com/, https://duarte.net/...  ana-sophiapires   \n",
       "486  [https://da.com/, https://www.da.br/, https://...            ian46   \n",
       "232                                    [http://da.br/]     nogueiracaio   \n",
       "779          [https://da.br/, http://www.cardoso.org/]         gomesana   \n",
       "130         [https://azevedo.br/, http://barbosa.org/]        qsilveira   \n",
       "634   [https://www.azevedo.com/, http://www.ramos.br/]          anovaes   \n",
       "1            [http://costela.br/, http://cardoso.com/]    mendesheloisa   \n",
       "279  [https://www.rodrigues.org/, https://www.santo...       henrique61   \n",
       "853                          [https://www.mendes.com/]           pcosta   \n",
       "959                            [http://www.sales.com/]   matheusfreitas   \n",
       "\n",
       "                       name sex   birthdate  ID  \n",
       "497             Cauã Duarte   M  1946-08-11   0  \n",
       "486           Isabel da Paz   F  1940-09-27   1  \n",
       "232        João Felipe Lima   M  2017-12-04   2  \n",
       "779  Maria Julia Nascimento   F  2003-06-08   3  \n",
       "130             Raul Barros   M  1954-08-31   4  \n",
       "634         Clarice da Cruz   F  1937-01-07   5  \n",
       "1             Eduarda Moura   F  1933-05-31   6  \n",
       "279         Evelyn Caldeira   F  1908-01-05   7  \n",
       "853          Yasmin Correia   F  1986-08-28   8  \n",
       "959           Lorena Novaes   F  1983-01-14   9  "
      ],
      "text/html": "<div>\n<style scoped>\n    .dataframe tbody tr th:only-of-type {\n        vertical-align: middle;\n    }\n\n    .dataframe tbody tr th {\n        vertical-align: top;\n    }\n\n    .dataframe thead th {\n        text-align: right;\n    }\n</style>\n<table border=\"1\" class=\"dataframe\">\n  <thead>\n    <tr style=\"text-align: right;\">\n      <th></th>\n      <th>job</th>\n      <th>company</th>\n      <th>ssn</th>\n      <th>residence</th>\n      <th>current_location</th>\n      <th>blood_group</th>\n      <th>website</th>\n      <th>username</th>\n      <th>name</th>\n      <th>sex</th>\n      <th>birthdate</th>\n      <th>ID</th>\n    </tr>\n  </thead>\n  <tbody>\n    <tr>\n      <th>497</th>\n      <td>Projetista mecânico</td>\n      <td>Gonçalves</td>\n      <td>28951673464</td>\n      <td>Recanto de Farias\\nConjunto Providencia\\n06151...</td>\n      <td>(63.7621115, -126.436840)</td>\n      <td>AB-</td>\n      <td>[https://www.correia.com/, https://duarte.net/...</td>\n      <td>ana-sophiapires</td>\n      <td>Cauã Duarte</td>\n      <td>M</td>\n      <td>1946-08-11</td>\n      <td>0</td>\n    </tr>\n    <tr>\n      <th>486</th>\n      <td>Juiz de direito</td>\n      <td>Aragão Pires - EI</td>\n      <td>78406915366</td>\n      <td>Estação de Sales, 499\\nPetropolis\\n95139337 Mo...</td>\n      <td>(15.7313935, -163.029281)</td>\n      <td>A-</td>\n      <td>[https://da.com/, https://www.da.br/, https://...</td>\n      <td>ian46</td>\n      <td>Isabel da Paz</td>\n      <td>F</td>\n      <td>1940-09-27</td>\n      <td>1</td>\n    </tr>\n    <tr>\n      <th>232</th>\n      <td>Físico nuclear</td>\n      <td>Oliveira Pires Ltda.</td>\n      <td>21947065343</td>\n      <td>Morro Cardoso, 32\\nNova Pampulha\\n89162663 da ...</td>\n      <td>(40.5824895, 143.345633)</td>\n      <td>A+</td>\n      <td>[http://da.br/]</td>\n      <td>nogueiracaio</td>\n      <td>João Felipe Lima</td>\n      <td>M</td>\n      <td>2017-12-04</td>\n      <td>2</td>\n    </tr>\n    <tr>\n      <th>779</th>\n      <td>Peixeiro</td>\n      <td>Campos</td>\n      <td>52670398103</td>\n      <td>Campo de Cardoso, 384\\nCônego Pinheiro 2ª Seçã...</td>\n      <td>(62.5514235, -21.288615)</td>\n      <td>A-</td>\n      <td>[https://da.br/, http://www.cardoso.org/]</td>\n      <td>gomesana</td>\n      <td>Maria Julia Nascimento</td>\n      <td>F</td>\n      <td>2003-06-08</td>\n      <td>3</td>\n    </tr>\n    <tr>\n      <th>130</th>\n      <td>Xilógrafo</td>\n      <td>Cardoso</td>\n      <td>8314925624</td>\n      <td>Morro Maria Cecília Duarte, 2\\nNova America\\n3...</td>\n      <td>(76.412237, -111.375502)</td>\n      <td>A+</td>\n      <td>[https://azevedo.br/, http://barbosa.org/]</td>\n      <td>qsilveira</td>\n      <td>Raul Barros</td>\n      <td>M</td>\n      <td>1954-08-31</td>\n      <td>4</td>\n    </tr>\n    <tr>\n      <th>634</th>\n      <td>Maquinista</td>\n      <td>Jesus</td>\n      <td>51306892406</td>\n      <td>Morro Castro, 4\\nDona Clara\\n66102-710 Almeida...</td>\n      <td>(48.5553835, 56.948884)</td>\n      <td>AB-</td>\n      <td>[https://www.azevedo.com/, http://www.ramos.br/]</td>\n      <td>anovaes</td>\n      <td>Clarice da Cruz</td>\n      <td>F</td>\n      <td>1937-01-07</td>\n      <td>5</td>\n    </tr>\n    <tr>\n      <th>1</th>\n      <td>Neurologista</td>\n      <td>Rocha da Mata - ME</td>\n      <td>36415280708</td>\n      <td>Setor de Nogueira, 44\\nVila Paris\\n73788783 Si...</td>\n      <td>(69.469232, -122.071707)</td>\n      <td>AB-</td>\n      <td>[http://costela.br/, http://cardoso.com/]</td>\n      <td>mendesheloisa</td>\n      <td>Eduarda Moura</td>\n      <td>F</td>\n      <td>1933-05-31</td>\n      <td>6</td>\n    </tr>\n    <tr>\n      <th>279</th>\n      <td>Representante comercial</td>\n      <td>das Neves Cardoso Ltda.</td>\n      <td>2963748574</td>\n      <td>Jardim de Peixoto, 518\\nJardim América\\n448987...</td>\n      <td>(37.6627095, 48.980621)</td>\n      <td>O-</td>\n      <td>[https://www.rodrigues.org/, https://www.santo...</td>\n      <td>henrique61</td>\n      <td>Evelyn Caldeira</td>\n      <td>F</td>\n      <td>1908-01-05</td>\n      <td>7</td>\n    </tr>\n    <tr>\n      <th>853</th>\n      <td>Pneumologista</td>\n      <td>Cardoso</td>\n      <td>89342510779</td>\n      <td>Campo Moreira, 82\\nSolimoes\\n82845794 Alves / ES</td>\n      <td>(52.9687935, -127.960476)</td>\n      <td>B+</td>\n      <td>[https://www.mendes.com/]</td>\n      <td>pcosta</td>\n      <td>Yasmin Correia</td>\n      <td>F</td>\n      <td>1986-08-28</td>\n      <td>8</td>\n    </tr>\n    <tr>\n      <th>959</th>\n      <td>Caixa</td>\n      <td>Viana</td>\n      <td>7215849694</td>\n      <td>Sítio de Campos, 65\\nMaria Helena\\n95052-454 P...</td>\n      <td>(78.447302, 33.236189)</td>\n      <td>A+</td>\n      <td>[http://www.sales.com/]</td>\n      <td>matheusfreitas</td>\n      <td>Lorena Novaes</td>\n      <td>F</td>\n      <td>1983-01-14</td>\n      <td>9</td>\n    </tr>\n  </tbody>\n</table>\n</div>"
     },
     "metadata": {},
     "execution_count": 48
    }
   ],
   "source": [
    "# Este metodo sempre insere  à direita do df\n",
    "df2['ID'] = range(df2.shape[0])\n",
    "df2"
   ]
  },
  {
   "cell_type": "code",
   "execution_count": 51,
   "metadata": {},
   "outputs": [
    {
     "output_type": "execute_result",
     "data": {
      "text/plain": [
       "                         job                  company          ssn  \\\n",
       "497      Projetista mecânico                Gonçalves  28951673464   \n",
       "486          Juiz de direito        Aragão Pires - EI  78406915366   \n",
       "232           Físico nuclear     Oliveira Pires Ltda.  21947065343   \n",
       "779                 Peixeiro                   Campos  52670398103   \n",
       "130                Xilógrafo                  Cardoso   8314925624   \n",
       "634               Maquinista                    Jesus  51306892406   \n",
       "1               Neurologista       Rocha da Mata - ME  36415280708   \n",
       "279  Representante comercial  das Neves Cardoso Ltda.   2963748574   \n",
       "853            Pneumologista                  Cardoso  89342510779   \n",
       "959                    Caixa                    Viana   7215849694   \n",
       "\n",
       "                                             residence  \\\n",
       "497  Recanto de Farias\\nConjunto Providencia\\n06151...   \n",
       "486  Estação de Sales, 499\\nPetropolis\\n95139337 Mo...   \n",
       "232  Morro Cardoso, 32\\nNova Pampulha\\n89162663 da ...   \n",
       "779  Campo de Cardoso, 384\\nCônego Pinheiro 2ª Seçã...   \n",
       "130  Morro Maria Cecília Duarte, 2\\nNova America\\n3...   \n",
       "634  Morro Castro, 4\\nDona Clara\\n66102-710 Almeida...   \n",
       "1    Setor de Nogueira, 44\\nVila Paris\\n73788783 Si...   \n",
       "279  Jardim de Peixoto, 518\\nJardim América\\n448987...   \n",
       "853   Campo Moreira, 82\\nSolimoes\\n82845794 Alves / ES   \n",
       "959  Sítio de Campos, 65\\nMaria Helena\\n95052-454 P...   \n",
       "\n",
       "              current_location blood_group  \\\n",
       "497  (63.7621115, -126.436840)         AB-   \n",
       "486  (15.7313935, -163.029281)          A-   \n",
       "232   (40.5824895, 143.345633)          A+   \n",
       "779   (62.5514235, -21.288615)          A-   \n",
       "130   (76.412237, -111.375502)          A+   \n",
       "634    (48.5553835, 56.948884)         AB-   \n",
       "1     (69.469232, -122.071707)         AB-   \n",
       "279    (37.6627095, 48.980621)          O-   \n",
       "853  (52.9687935, -127.960476)          B+   \n",
       "959     (78.447302, 33.236189)          A+   \n",
       "\n",
       "                                               website         username  \\\n",
       "497  [https://www.correia.com/, https://duarte.net/...  ana-sophiapires   \n",
       "486  [https://da.com/, https://www.da.br/, https://...            ian46   \n",
       "232                                    [http://da.br/]     nogueiracaio   \n",
       "779          [https://da.br/, http://www.cardoso.org/]         gomesana   \n",
       "130         [https://azevedo.br/, http://barbosa.org/]        qsilveira   \n",
       "634   [https://www.azevedo.com/, http://www.ramos.br/]          anovaes   \n",
       "1            [http://costela.br/, http://cardoso.com/]    mendesheloisa   \n",
       "279  [https://www.rodrigues.org/, https://www.santo...       henrique61   \n",
       "853                          [https://www.mendes.com/]           pcosta   \n",
       "959                            [http://www.sales.com/]   matheusfreitas   \n",
       "\n",
       "                       name sex   birthdate  \n",
       "497             Cauã Duarte   M  1946-08-11  \n",
       "486           Isabel da Paz   F  1940-09-27  \n",
       "232        João Felipe Lima   M  2017-12-04  \n",
       "779  Maria Julia Nascimento   F  2003-06-08  \n",
       "130             Raul Barros   M  1954-08-31  \n",
       "634         Clarice da Cruz   F  1937-01-07  \n",
       "1             Eduarda Moura   F  1933-05-31  \n",
       "279         Evelyn Caldeira   F  1908-01-05  \n",
       "853          Yasmin Correia   F  1986-08-28  \n",
       "959           Lorena Novaes   F  1983-01-14  "
      ],
      "text/html": "<div>\n<style scoped>\n    .dataframe tbody tr th:only-of-type {\n        vertical-align: middle;\n    }\n\n    .dataframe tbody tr th {\n        vertical-align: top;\n    }\n\n    .dataframe thead th {\n        text-align: right;\n    }\n</style>\n<table border=\"1\" class=\"dataframe\">\n  <thead>\n    <tr style=\"text-align: right;\">\n      <th></th>\n      <th>job</th>\n      <th>company</th>\n      <th>ssn</th>\n      <th>residence</th>\n      <th>current_location</th>\n      <th>blood_group</th>\n      <th>website</th>\n      <th>username</th>\n      <th>name</th>\n      <th>sex</th>\n      <th>birthdate</th>\n    </tr>\n  </thead>\n  <tbody>\n    <tr>\n      <th>497</th>\n      <td>Projetista mecânico</td>\n      <td>Gonçalves</td>\n      <td>28951673464</td>\n      <td>Recanto de Farias\\nConjunto Providencia\\n06151...</td>\n      <td>(63.7621115, -126.436840)</td>\n      <td>AB-</td>\n      <td>[https://www.correia.com/, https://duarte.net/...</td>\n      <td>ana-sophiapires</td>\n      <td>Cauã Duarte</td>\n      <td>M</td>\n      <td>1946-08-11</td>\n    </tr>\n    <tr>\n      <th>486</th>\n      <td>Juiz de direito</td>\n      <td>Aragão Pires - EI</td>\n      <td>78406915366</td>\n      <td>Estação de Sales, 499\\nPetropolis\\n95139337 Mo...</td>\n      <td>(15.7313935, -163.029281)</td>\n      <td>A-</td>\n      <td>[https://da.com/, https://www.da.br/, https://...</td>\n      <td>ian46</td>\n      <td>Isabel da Paz</td>\n      <td>F</td>\n      <td>1940-09-27</td>\n    </tr>\n    <tr>\n      <th>232</th>\n      <td>Físico nuclear</td>\n      <td>Oliveira Pires Ltda.</td>\n      <td>21947065343</td>\n      <td>Morro Cardoso, 32\\nNova Pampulha\\n89162663 da ...</td>\n      <td>(40.5824895, 143.345633)</td>\n      <td>A+</td>\n      <td>[http://da.br/]</td>\n      <td>nogueiracaio</td>\n      <td>João Felipe Lima</td>\n      <td>M</td>\n      <td>2017-12-04</td>\n    </tr>\n    <tr>\n      <th>779</th>\n      <td>Peixeiro</td>\n      <td>Campos</td>\n      <td>52670398103</td>\n      <td>Campo de Cardoso, 384\\nCônego Pinheiro 2ª Seçã...</td>\n      <td>(62.5514235, -21.288615)</td>\n      <td>A-</td>\n      <td>[https://da.br/, http://www.cardoso.org/]</td>\n      <td>gomesana</td>\n      <td>Maria Julia Nascimento</td>\n      <td>F</td>\n      <td>2003-06-08</td>\n    </tr>\n    <tr>\n      <th>130</th>\n      <td>Xilógrafo</td>\n      <td>Cardoso</td>\n      <td>8314925624</td>\n      <td>Morro Maria Cecília Duarte, 2\\nNova America\\n3...</td>\n      <td>(76.412237, -111.375502)</td>\n      <td>A+</td>\n      <td>[https://azevedo.br/, http://barbosa.org/]</td>\n      <td>qsilveira</td>\n      <td>Raul Barros</td>\n      <td>M</td>\n      <td>1954-08-31</td>\n    </tr>\n    <tr>\n      <th>634</th>\n      <td>Maquinista</td>\n      <td>Jesus</td>\n      <td>51306892406</td>\n      <td>Morro Castro, 4\\nDona Clara\\n66102-710 Almeida...</td>\n      <td>(48.5553835, 56.948884)</td>\n      <td>AB-</td>\n      <td>[https://www.azevedo.com/, http://www.ramos.br/]</td>\n      <td>anovaes</td>\n      <td>Clarice da Cruz</td>\n      <td>F</td>\n      <td>1937-01-07</td>\n    </tr>\n    <tr>\n      <th>1</th>\n      <td>Neurologista</td>\n      <td>Rocha da Mata - ME</td>\n      <td>36415280708</td>\n      <td>Setor de Nogueira, 44\\nVila Paris\\n73788783 Si...</td>\n      <td>(69.469232, -122.071707)</td>\n      <td>AB-</td>\n      <td>[http://costela.br/, http://cardoso.com/]</td>\n      <td>mendesheloisa</td>\n      <td>Eduarda Moura</td>\n      <td>F</td>\n      <td>1933-05-31</td>\n    </tr>\n    <tr>\n      <th>279</th>\n      <td>Representante comercial</td>\n      <td>das Neves Cardoso Ltda.</td>\n      <td>2963748574</td>\n      <td>Jardim de Peixoto, 518\\nJardim América\\n448987...</td>\n      <td>(37.6627095, 48.980621)</td>\n      <td>O-</td>\n      <td>[https://www.rodrigues.org/, https://www.santo...</td>\n      <td>henrique61</td>\n      <td>Evelyn Caldeira</td>\n      <td>F</td>\n      <td>1908-01-05</td>\n    </tr>\n    <tr>\n      <th>853</th>\n      <td>Pneumologista</td>\n      <td>Cardoso</td>\n      <td>89342510779</td>\n      <td>Campo Moreira, 82\\nSolimoes\\n82845794 Alves / ES</td>\n      <td>(52.9687935, -127.960476)</td>\n      <td>B+</td>\n      <td>[https://www.mendes.com/]</td>\n      <td>pcosta</td>\n      <td>Yasmin Correia</td>\n      <td>F</td>\n      <td>1986-08-28</td>\n    </tr>\n    <tr>\n      <th>959</th>\n      <td>Caixa</td>\n      <td>Viana</td>\n      <td>7215849694</td>\n      <td>Sítio de Campos, 65\\nMaria Helena\\n95052-454 P...</td>\n      <td>(78.447302, 33.236189)</td>\n      <td>A+</td>\n      <td>[http://www.sales.com/]</td>\n      <td>matheusfreitas</td>\n      <td>Lorena Novaes</td>\n      <td>F</td>\n      <td>1983-01-14</td>\n    </tr>\n  </tbody>\n</table>\n</div>"
     },
     "metadata": {},
     "execution_count": 51
    }
   ],
   "source": [
    "# removendo a coluna criada\n",
    "del df2['ID']\n",
    "df2\n"
   ]
  },
  {
   "cell_type": "code",
   "execution_count": 52,
   "metadata": {},
   "outputs": [
    {
     "output_type": "execute_result",
     "data": {
      "text/plain": [
       "     ID                      job                  company          ssn  \\\n",
       "497   0      Projetista mecânico                Gonçalves  28951673464   \n",
       "486   1          Juiz de direito        Aragão Pires - EI  78406915366   \n",
       "232   2           Físico nuclear     Oliveira Pires Ltda.  21947065343   \n",
       "779   3                 Peixeiro                   Campos  52670398103   \n",
       "130   4                Xilógrafo                  Cardoso   8314925624   \n",
       "634   5               Maquinista                    Jesus  51306892406   \n",
       "1     6             Neurologista       Rocha da Mata - ME  36415280708   \n",
       "279   7  Representante comercial  das Neves Cardoso Ltda.   2963748574   \n",
       "853   8            Pneumologista                  Cardoso  89342510779   \n",
       "959   9                    Caixa                    Viana   7215849694   \n",
       "\n",
       "                                             residence  \\\n",
       "497  Recanto de Farias\\nConjunto Providencia\\n06151...   \n",
       "486  Estação de Sales, 499\\nPetropolis\\n95139337 Mo...   \n",
       "232  Morro Cardoso, 32\\nNova Pampulha\\n89162663 da ...   \n",
       "779  Campo de Cardoso, 384\\nCônego Pinheiro 2ª Seçã...   \n",
       "130  Morro Maria Cecília Duarte, 2\\nNova America\\n3...   \n",
       "634  Morro Castro, 4\\nDona Clara\\n66102-710 Almeida...   \n",
       "1    Setor de Nogueira, 44\\nVila Paris\\n73788783 Si...   \n",
       "279  Jardim de Peixoto, 518\\nJardim América\\n448987...   \n",
       "853   Campo Moreira, 82\\nSolimoes\\n82845794 Alves / ES   \n",
       "959  Sítio de Campos, 65\\nMaria Helena\\n95052-454 P...   \n",
       "\n",
       "              current_location blood_group  \\\n",
       "497  (63.7621115, -126.436840)         AB-   \n",
       "486  (15.7313935, -163.029281)          A-   \n",
       "232   (40.5824895, 143.345633)          A+   \n",
       "779   (62.5514235, -21.288615)          A-   \n",
       "130   (76.412237, -111.375502)          A+   \n",
       "634    (48.5553835, 56.948884)         AB-   \n",
       "1     (69.469232, -122.071707)         AB-   \n",
       "279    (37.6627095, 48.980621)          O-   \n",
       "853  (52.9687935, -127.960476)          B+   \n",
       "959     (78.447302, 33.236189)          A+   \n",
       "\n",
       "                                               website         username  \\\n",
       "497  [https://www.correia.com/, https://duarte.net/...  ana-sophiapires   \n",
       "486  [https://da.com/, https://www.da.br/, https://...            ian46   \n",
       "232                                    [http://da.br/]     nogueiracaio   \n",
       "779          [https://da.br/, http://www.cardoso.org/]         gomesana   \n",
       "130         [https://azevedo.br/, http://barbosa.org/]        qsilveira   \n",
       "634   [https://www.azevedo.com/, http://www.ramos.br/]          anovaes   \n",
       "1            [http://costela.br/, http://cardoso.com/]    mendesheloisa   \n",
       "279  [https://www.rodrigues.org/, https://www.santo...       henrique61   \n",
       "853                          [https://www.mendes.com/]           pcosta   \n",
       "959                            [http://www.sales.com/]   matheusfreitas   \n",
       "\n",
       "                       name sex   birthdate  \n",
       "497             Cauã Duarte   M  1946-08-11  \n",
       "486           Isabel da Paz   F  1940-09-27  \n",
       "232        João Felipe Lima   M  2017-12-04  \n",
       "779  Maria Julia Nascimento   F  2003-06-08  \n",
       "130             Raul Barros   M  1954-08-31  \n",
       "634         Clarice da Cruz   F  1937-01-07  \n",
       "1             Eduarda Moura   F  1933-05-31  \n",
       "279         Evelyn Caldeira   F  1908-01-05  \n",
       "853          Yasmin Correia   F  1986-08-28  \n",
       "959           Lorena Novaes   F  1983-01-14  "
      ],
      "text/html": "<div>\n<style scoped>\n    .dataframe tbody tr th:only-of-type {\n        vertical-align: middle;\n    }\n\n    .dataframe tbody tr th {\n        vertical-align: top;\n    }\n\n    .dataframe thead th {\n        text-align: right;\n    }\n</style>\n<table border=\"1\" class=\"dataframe\">\n  <thead>\n    <tr style=\"text-align: right;\">\n      <th></th>\n      <th>ID</th>\n      <th>job</th>\n      <th>company</th>\n      <th>ssn</th>\n      <th>residence</th>\n      <th>current_location</th>\n      <th>blood_group</th>\n      <th>website</th>\n      <th>username</th>\n      <th>name</th>\n      <th>sex</th>\n      <th>birthdate</th>\n    </tr>\n  </thead>\n  <tbody>\n    <tr>\n      <th>497</th>\n      <td>0</td>\n      <td>Projetista mecânico</td>\n      <td>Gonçalves</td>\n      <td>28951673464</td>\n      <td>Recanto de Farias\\nConjunto Providencia\\n06151...</td>\n      <td>(63.7621115, -126.436840)</td>\n      <td>AB-</td>\n      <td>[https://www.correia.com/, https://duarte.net/...</td>\n      <td>ana-sophiapires</td>\n      <td>Cauã Duarte</td>\n      <td>M</td>\n      <td>1946-08-11</td>\n    </tr>\n    <tr>\n      <th>486</th>\n      <td>1</td>\n      <td>Juiz de direito</td>\n      <td>Aragão Pires - EI</td>\n      <td>78406915366</td>\n      <td>Estação de Sales, 499\\nPetropolis\\n95139337 Mo...</td>\n      <td>(15.7313935, -163.029281)</td>\n      <td>A-</td>\n      <td>[https://da.com/, https://www.da.br/, https://...</td>\n      <td>ian46</td>\n      <td>Isabel da Paz</td>\n      <td>F</td>\n      <td>1940-09-27</td>\n    </tr>\n    <tr>\n      <th>232</th>\n      <td>2</td>\n      <td>Físico nuclear</td>\n      <td>Oliveira Pires Ltda.</td>\n      <td>21947065343</td>\n      <td>Morro Cardoso, 32\\nNova Pampulha\\n89162663 da ...</td>\n      <td>(40.5824895, 143.345633)</td>\n      <td>A+</td>\n      <td>[http://da.br/]</td>\n      <td>nogueiracaio</td>\n      <td>João Felipe Lima</td>\n      <td>M</td>\n      <td>2017-12-04</td>\n    </tr>\n    <tr>\n      <th>779</th>\n      <td>3</td>\n      <td>Peixeiro</td>\n      <td>Campos</td>\n      <td>52670398103</td>\n      <td>Campo de Cardoso, 384\\nCônego Pinheiro 2ª Seçã...</td>\n      <td>(62.5514235, -21.288615)</td>\n      <td>A-</td>\n      <td>[https://da.br/, http://www.cardoso.org/]</td>\n      <td>gomesana</td>\n      <td>Maria Julia Nascimento</td>\n      <td>F</td>\n      <td>2003-06-08</td>\n    </tr>\n    <tr>\n      <th>130</th>\n      <td>4</td>\n      <td>Xilógrafo</td>\n      <td>Cardoso</td>\n      <td>8314925624</td>\n      <td>Morro Maria Cecília Duarte, 2\\nNova America\\n3...</td>\n      <td>(76.412237, -111.375502)</td>\n      <td>A+</td>\n      <td>[https://azevedo.br/, http://barbosa.org/]</td>\n      <td>qsilveira</td>\n      <td>Raul Barros</td>\n      <td>M</td>\n      <td>1954-08-31</td>\n    </tr>\n    <tr>\n      <th>634</th>\n      <td>5</td>\n      <td>Maquinista</td>\n      <td>Jesus</td>\n      <td>51306892406</td>\n      <td>Morro Castro, 4\\nDona Clara\\n66102-710 Almeida...</td>\n      <td>(48.5553835, 56.948884)</td>\n      <td>AB-</td>\n      <td>[https://www.azevedo.com/, http://www.ramos.br/]</td>\n      <td>anovaes</td>\n      <td>Clarice da Cruz</td>\n      <td>F</td>\n      <td>1937-01-07</td>\n    </tr>\n    <tr>\n      <th>1</th>\n      <td>6</td>\n      <td>Neurologista</td>\n      <td>Rocha da Mata - ME</td>\n      <td>36415280708</td>\n      <td>Setor de Nogueira, 44\\nVila Paris\\n73788783 Si...</td>\n      <td>(69.469232, -122.071707)</td>\n      <td>AB-</td>\n      <td>[http://costela.br/, http://cardoso.com/]</td>\n      <td>mendesheloisa</td>\n      <td>Eduarda Moura</td>\n      <td>F</td>\n      <td>1933-05-31</td>\n    </tr>\n    <tr>\n      <th>279</th>\n      <td>7</td>\n      <td>Representante comercial</td>\n      <td>das Neves Cardoso Ltda.</td>\n      <td>2963748574</td>\n      <td>Jardim de Peixoto, 518\\nJardim América\\n448987...</td>\n      <td>(37.6627095, 48.980621)</td>\n      <td>O-</td>\n      <td>[https://www.rodrigues.org/, https://www.santo...</td>\n      <td>henrique61</td>\n      <td>Evelyn Caldeira</td>\n      <td>F</td>\n      <td>1908-01-05</td>\n    </tr>\n    <tr>\n      <th>853</th>\n      <td>8</td>\n      <td>Pneumologista</td>\n      <td>Cardoso</td>\n      <td>89342510779</td>\n      <td>Campo Moreira, 82\\nSolimoes\\n82845794 Alves / ES</td>\n      <td>(52.9687935, -127.960476)</td>\n      <td>B+</td>\n      <td>[https://www.mendes.com/]</td>\n      <td>pcosta</td>\n      <td>Yasmin Correia</td>\n      <td>F</td>\n      <td>1986-08-28</td>\n    </tr>\n    <tr>\n      <th>959</th>\n      <td>9</td>\n      <td>Caixa</td>\n      <td>Viana</td>\n      <td>7215849694</td>\n      <td>Sítio de Campos, 65\\nMaria Helena\\n95052-454 P...</td>\n      <td>(78.447302, 33.236189)</td>\n      <td>A+</td>\n      <td>[http://www.sales.com/]</td>\n      <td>matheusfreitas</td>\n      <td>Lorena Novaes</td>\n      <td>F</td>\n      <td>1983-01-14</td>\n    </tr>\n  </tbody>\n</table>\n</div>"
     },
     "metadata": {},
     "execution_count": 52
    }
   ],
   "source": [
    "# para selecionar o local da coluna basta usar o metodo insert\n",
    "df2.insert(0, 'ID', range(df2.shape[0]))\n",
    "df2"
   ]
  },
  {
   "cell_type": "code",
   "execution_count": null,
   "metadata": {},
   "outputs": [],
   "source": []
  }
 ]
}