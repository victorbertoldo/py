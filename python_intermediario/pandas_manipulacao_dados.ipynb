{
 "metadata": {
  "language_info": {
   "codemirror_mode": {
    "name": "ipython",
    "version": 3
   },
   "file_extension": ".py",
   "mimetype": "text/x-python",
   "name": "python",
   "nbconvert_exporter": "python",
   "pygments_lexer": "ipython3",
   "version": "3.8.5-final"
  },
  "orig_nbformat": 2,
  "kernelspec": {
   "name": "python385jvsc74a57bd0c9ac96ecdbd0bc9af86bc43b03465688350896f5289c88a63f86f204affded0e",
   "display_name": "Python 3.8.5 64-bit (conda)"
  }
 },
 "nbformat": 4,
 "nbformat_minor": 2,
 "cells": [
  {
   "cell_type": "code",
   "execution_count": 194,
   "metadata": {},
   "outputs": [],
   "source": [
    "import pandas as pd\n",
    "import numpy as np\n",
    "from faker import Faker"
   ]
  },
  {
   "cell_type": "code",
   "execution_count": 195,
   "metadata": {},
   "outputs": [],
   "source": [
    "faker = Faker('pt_BR')"
   ]
  },
  {
   "cell_type": "code",
   "execution_count": 196,
   "metadata": {},
   "outputs": [
    {
     "output_type": "execute_result",
     "data": {
      "text/plain": [
       "{'job': 'Prefeito',\n",
       " 'company': 'Rocha',\n",
       " 'ssn': '89540623774',\n",
       " 'residence': 'Avenida de Carvalho, 37\\nBarroca\\n67011-869 Peixoto de Rodrigues / SE',\n",
       " 'current_location': (Decimal('-68.6165715'), Decimal('-113.345287')),\n",
       " 'blood_group': 'A-',\n",
       " 'website': ['http://www.teixeira.net/'],\n",
       " 'username': 'kevinribeiro',\n",
       " 'name': 'Dr. Eduardo Pinto',\n",
       " 'sex': 'M',\n",
       " 'address': 'Colônia de Costela\\nCampo Alegre\\n31667-247 Porto do Campo / RS',\n",
       " 'mail': 'martinscarolina@gmail.com',\n",
       " 'birthdate': datetime.date(1964, 12, 15)}"
      ]
     },
     "metadata": {},
     "execution_count": 196
    }
   ],
   "source": [
    "faker.profile()"
   ]
  },
  {
   "source": [
    "### Esta lib gera dados ficticios"
   ],
   "cell_type": "markdown",
   "metadata": {}
  },
  {
   "cell_type": "code",
   "execution_count": 197,
   "metadata": {},
   "outputs": [],
   "source": [
    "def make_fake_data(n_rows: int) -> pd.DataFrame:\n",
    "    faker = Faker('pt_BR')\n",
    "\n",
    "    aux = faker.profile()\n",
    "    aux.pop('address')\n",
    "    aux.pop('mail')\n",
    "    # aux.pop('residence')\n",
    "    # até aqui está gerando 1 dict, dropando alguns campos para capturar a estrutura dos dicts no proximo passo\n",
    "\n",
    "    cols = list(aux.keys())\n",
    "\n",
    "    array = []\n",
    "    for _ in range(n_rows):\n",
    "        aux = faker.profile()\n",
    "        aux.pop('address')\n",
    "        aux.pop('mail')\n",
    "        # aux.pop('residence')\n",
    "\n",
    "        array.append(list(aux.values()))\n",
    "\n",
    "    res = pd.DataFrame(columns=cols, data=array)\n",
    "    return res"
   ]
  },
  {
   "cell_type": "code",
   "execution_count": 198,
   "metadata": {},
   "outputs": [],
   "source": [
    "df = make_fake_data(1000)"
   ]
  },
  {
   "cell_type": "code",
   "execution_count": 199,
   "metadata": {},
   "outputs": [
    {
     "output_type": "execute_result",
     "data": {
      "text/plain": [
       "                                  job             company          ssn  \\\n",
       "0                                Gari  da Cunha Lopes S/A  71934625809   \n",
       "1          Agente de defesa sanitária          Costa - EI  39561207877   \n",
       "2                            Peixeiro      Sales e Filhos  74081652317   \n",
       "3  Tecnólogo em negócios imobiliários             Correia  32598046170   \n",
       "4                  Produtor editorial            Oliveira  30471628913   \n",
       "\n",
       "                                           residence  \\\n",
       "0  Passarela Luiz Henrique Lopes, 605\\nJoão Alfre...   \n",
       "1  Passarela Kevin Porto, 48\\nPrado\\n03965859 da ...   \n",
       "2  Distrito de Rezende, 82\\nVila Da Amizade\\n2969...   \n",
       "3  Viela Sophie Moreira\\nVila Nova Dos Milionario...   \n",
       "4  Sítio da Mata, 89\\nVila Mangueiras\\n09083-075 ...   \n",
       "\n",
       "            current_location blood_group  \\\n",
       "0  (-71.7083325, -19.685561)          A+   \n",
       "1     (10.0459845, 8.899647)         AB-   \n",
       "2   (37.0933195, 147.091107)         AB+   \n",
       "3   (26.150407, -136.473033)          O+   \n",
       "4    (86.325111, 133.158348)          A-   \n",
       "\n",
       "                                             website            username  \\\n",
       "0                            [http://www.mendes.br/]       maria-julia16   \n",
       "1  [http://da.com/, https://rodrigues.net/, https...      emanuelcardoso   \n",
       "2  [http://www.das.com/, http://www.peixoto.org/,...           melissa92   \n",
       "3                           [http://www.araujo.com/]  gustavo-henrique05   \n",
       "4  [http://cardoso.br/, http://www.costa.br/, htt...           lnogueira   \n",
       "\n",
       "                           name sex   birthdate  \n",
       "0               Arthur Oliveira   M  2017-04-09  \n",
       "1                Eloah da Rocha   F  1984-11-15  \n",
       "2                 Clarice Pires   F  1910-04-07  \n",
       "3  Srta. Maria Vitória Ferreira   F  1928-07-04  \n",
       "4              Larissa Silveira   F  2020-02-13  "
      ],
      "text/html": "<div>\n<style scoped>\n    .dataframe tbody tr th:only-of-type {\n        vertical-align: middle;\n    }\n\n    .dataframe tbody tr th {\n        vertical-align: top;\n    }\n\n    .dataframe thead th {\n        text-align: right;\n    }\n</style>\n<table border=\"1\" class=\"dataframe\">\n  <thead>\n    <tr style=\"text-align: right;\">\n      <th></th>\n      <th>job</th>\n      <th>company</th>\n      <th>ssn</th>\n      <th>residence</th>\n      <th>current_location</th>\n      <th>blood_group</th>\n      <th>website</th>\n      <th>username</th>\n      <th>name</th>\n      <th>sex</th>\n      <th>birthdate</th>\n    </tr>\n  </thead>\n  <tbody>\n    <tr>\n      <th>0</th>\n      <td>Gari</td>\n      <td>da Cunha Lopes S/A</td>\n      <td>71934625809</td>\n      <td>Passarela Luiz Henrique Lopes, 605\\nJoão Alfre...</td>\n      <td>(-71.7083325, -19.685561)</td>\n      <td>A+</td>\n      <td>[http://www.mendes.br/]</td>\n      <td>maria-julia16</td>\n      <td>Arthur Oliveira</td>\n      <td>M</td>\n      <td>2017-04-09</td>\n    </tr>\n    <tr>\n      <th>1</th>\n      <td>Agente de defesa sanitária</td>\n      <td>Costa - EI</td>\n      <td>39561207877</td>\n      <td>Passarela Kevin Porto, 48\\nPrado\\n03965859 da ...</td>\n      <td>(10.0459845, 8.899647)</td>\n      <td>AB-</td>\n      <td>[http://da.com/, https://rodrigues.net/, https...</td>\n      <td>emanuelcardoso</td>\n      <td>Eloah da Rocha</td>\n      <td>F</td>\n      <td>1984-11-15</td>\n    </tr>\n    <tr>\n      <th>2</th>\n      <td>Peixeiro</td>\n      <td>Sales e Filhos</td>\n      <td>74081652317</td>\n      <td>Distrito de Rezende, 82\\nVila Da Amizade\\n2969...</td>\n      <td>(37.0933195, 147.091107)</td>\n      <td>AB+</td>\n      <td>[http://www.das.com/, http://www.peixoto.org/,...</td>\n      <td>melissa92</td>\n      <td>Clarice Pires</td>\n      <td>F</td>\n      <td>1910-04-07</td>\n    </tr>\n    <tr>\n      <th>3</th>\n      <td>Tecnólogo em negócios imobiliários</td>\n      <td>Correia</td>\n      <td>32598046170</td>\n      <td>Viela Sophie Moreira\\nVila Nova Dos Milionario...</td>\n      <td>(26.150407, -136.473033)</td>\n      <td>O+</td>\n      <td>[http://www.araujo.com/]</td>\n      <td>gustavo-henrique05</td>\n      <td>Srta. Maria Vitória Ferreira</td>\n      <td>F</td>\n      <td>1928-07-04</td>\n    </tr>\n    <tr>\n      <th>4</th>\n      <td>Produtor editorial</td>\n      <td>Oliveira</td>\n      <td>30471628913</td>\n      <td>Sítio da Mata, 89\\nVila Mangueiras\\n09083-075 ...</td>\n      <td>(86.325111, 133.158348)</td>\n      <td>A-</td>\n      <td>[http://cardoso.br/, http://www.costa.br/, htt...</td>\n      <td>lnogueira</td>\n      <td>Larissa Silveira</td>\n      <td>F</td>\n      <td>2020-02-13</td>\n    </tr>\n  </tbody>\n</table>\n</div>"
     },
     "metadata": {},
     "execution_count": 199
    }
   ],
   "source": [
    "df.head()"
   ]
  },
  {
   "cell_type": "code",
   "execution_count": 200,
   "metadata": {},
   "outputs": [
    {
     "output_type": "execute_result",
     "data": {
      "text/plain": [
       "(1000, 11)"
      ]
     },
     "metadata": {},
     "execution_count": 200
    }
   ],
   "source": [
    "df.shape"
   ]
  },
  {
   "cell_type": "code",
   "execution_count": 201,
   "metadata": {},
   "outputs": [
    {
     "output_type": "stream",
     "name": "stdout",
     "text": [
      "<class 'pandas.core.frame.DataFrame'>\nRangeIndex: 1000 entries, 0 to 999\nData columns (total 11 columns):\n #   Column            Non-Null Count  Dtype \n---  ------            --------------  ----- \n 0   job               1000 non-null   object\n 1   company           1000 non-null   object\n 2   ssn               1000 non-null   object\n 3   residence         1000 non-null   object\n 4   current_location  1000 non-null   object\n 5   blood_group       1000 non-null   object\n 6   website           1000 non-null   object\n 7   username          1000 non-null   object\n 8   name              1000 non-null   object\n 9   sex               1000 non-null   object\n 10  birthdate         1000 non-null   object\ndtypes: object(11)\nmemory usage: 86.1+ KB\n"
     ]
    }
   ],
   "source": [
    "df.info()"
   ]
  },
  {
   "cell_type": "code",
   "execution_count": 202,
   "metadata": {},
   "outputs": [],
   "source": [
    "# transformar uma coluna object para inteiro\n",
    "\n",
    "df.ssn = df.ssn.astype(np.int64)"
   ]
  },
  {
   "cell_type": "code",
   "execution_count": 203,
   "metadata": {},
   "outputs": [
    {
     "output_type": "stream",
     "name": "stdout",
     "text": [
      "<class 'pandas.core.frame.DataFrame'>\nRangeIndex: 1000 entries, 0 to 999\nData columns (total 11 columns):\n #   Column            Non-Null Count  Dtype \n---  ------            --------------  ----- \n 0   job               1000 non-null   object\n 1   company           1000 non-null   object\n 2   ssn               1000 non-null   int64 \n 3   residence         1000 non-null   object\n 4   current_location  1000 non-null   object\n 5   blood_group       1000 non-null   object\n 6   website           1000 non-null   object\n 7   username          1000 non-null   object\n 8   name              1000 non-null   object\n 9   sex               1000 non-null   object\n 10  birthdate         1000 non-null   object\ndtypes: int64(1), object(10)\nmemory usage: 86.1+ KB\n"
     ]
    }
   ],
   "source": [
    "df.info()"
   ]
  },
  {
   "cell_type": "code",
   "execution_count": 204,
   "metadata": {},
   "outputs": [
    {
     "output_type": "execute_result",
     "data": {
      "text/plain": [
       "                ssn\n",
       "count  1.000000e+03\n",
       "mean   4.939169e+10\n",
       "std    2.869944e+10\n",
       "min    1.239457e+09\n",
       "25%    2.468577e+10\n",
       "50%    4.816380e+10\n",
       "75%    7.520526e+10\n",
       "max    9.872514e+10"
      ],
      "text/html": "<div>\n<style scoped>\n    .dataframe tbody tr th:only-of-type {\n        vertical-align: middle;\n    }\n\n    .dataframe tbody tr th {\n        vertical-align: top;\n    }\n\n    .dataframe thead th {\n        text-align: right;\n    }\n</style>\n<table border=\"1\" class=\"dataframe\">\n  <thead>\n    <tr style=\"text-align: right;\">\n      <th></th>\n      <th>ssn</th>\n    </tr>\n  </thead>\n  <tbody>\n    <tr>\n      <th>count</th>\n      <td>1.000000e+03</td>\n    </tr>\n    <tr>\n      <th>mean</th>\n      <td>4.939169e+10</td>\n    </tr>\n    <tr>\n      <th>std</th>\n      <td>2.869944e+10</td>\n    </tr>\n    <tr>\n      <th>min</th>\n      <td>1.239457e+09</td>\n    </tr>\n    <tr>\n      <th>25%</th>\n      <td>2.468577e+10</td>\n    </tr>\n    <tr>\n      <th>50%</th>\n      <td>4.816380e+10</td>\n    </tr>\n    <tr>\n      <th>75%</th>\n      <td>7.520526e+10</td>\n    </tr>\n    <tr>\n      <th>max</th>\n      <td>9.872514e+10</td>\n    </tr>\n  </tbody>\n</table>\n</div>"
     },
     "metadata": {},
     "execution_count": 204
    }
   ],
   "source": [
    "df.describe()"
   ]
  },
  {
   "source": [
    "### Usando metodo copy em um dataframe"
   ],
   "cell_type": "markdown",
   "metadata": {}
  },
  {
   "cell_type": "code",
   "execution_count": 205,
   "metadata": {},
   "outputs": [
    {
     "output_type": "execute_result",
     "data": {
      "text/plain": [
       "                                  job             company          ssn  \\\n",
       "0                                Gari  da Cunha Lopes S/A  71934625809   \n",
       "1          Agente de defesa sanitária          Costa - EI  39561207877   \n",
       "2                            Peixeiro      Sales e Filhos  74081652317   \n",
       "3  Tecnólogo em negócios imobiliários             Correia  32598046170   \n",
       "4                  Produtor editorial            Oliveira  30471628913   \n",
       "\n",
       "                                           residence  \\\n",
       "0  Passarela Luiz Henrique Lopes, 605\\nJoão Alfre...   \n",
       "1  Passarela Kevin Porto, 48\\nPrado\\n03965859 da ...   \n",
       "2  Distrito de Rezende, 82\\nVila Da Amizade\\n2969...   \n",
       "3  Viela Sophie Moreira\\nVila Nova Dos Milionario...   \n",
       "4  Sítio da Mata, 89\\nVila Mangueiras\\n09083-075 ...   \n",
       "\n",
       "            current_location blood_group  \\\n",
       "0  (-71.7083325, -19.685561)          A+   \n",
       "1     (10.0459845, 8.899647)         AB-   \n",
       "2   (37.0933195, 147.091107)         AB+   \n",
       "3   (26.150407, -136.473033)          O+   \n",
       "4    (86.325111, 133.158348)          A-   \n",
       "\n",
       "                                             website            username  \\\n",
       "0                            [http://www.mendes.br/]       maria-julia16   \n",
       "1  [http://da.com/, https://rodrigues.net/, https...      emanuelcardoso   \n",
       "2  [http://www.das.com/, http://www.peixoto.org/,...           melissa92   \n",
       "3                           [http://www.araujo.com/]  gustavo-henrique05   \n",
       "4  [http://cardoso.br/, http://www.costa.br/, htt...           lnogueira   \n",
       "\n",
       "                           name sex   birthdate  \n",
       "0               Arthur Oliveira   M  2017-04-09  \n",
       "1                Eloah da Rocha   F  1984-11-15  \n",
       "2                 Clarice Pires   F  1910-04-07  \n",
       "3  Srta. Maria Vitória Ferreira   F  1928-07-04  \n",
       "4              Larissa Silveira   F  2020-02-13  "
      ],
      "text/html": "<div>\n<style scoped>\n    .dataframe tbody tr th:only-of-type {\n        vertical-align: middle;\n    }\n\n    .dataframe tbody tr th {\n        vertical-align: top;\n    }\n\n    .dataframe thead th {\n        text-align: right;\n    }\n</style>\n<table border=\"1\" class=\"dataframe\">\n  <thead>\n    <tr style=\"text-align: right;\">\n      <th></th>\n      <th>job</th>\n      <th>company</th>\n      <th>ssn</th>\n      <th>residence</th>\n      <th>current_location</th>\n      <th>blood_group</th>\n      <th>website</th>\n      <th>username</th>\n      <th>name</th>\n      <th>sex</th>\n      <th>birthdate</th>\n    </tr>\n  </thead>\n  <tbody>\n    <tr>\n      <th>0</th>\n      <td>Gari</td>\n      <td>da Cunha Lopes S/A</td>\n      <td>71934625809</td>\n      <td>Passarela Luiz Henrique Lopes, 605\\nJoão Alfre...</td>\n      <td>(-71.7083325, -19.685561)</td>\n      <td>A+</td>\n      <td>[http://www.mendes.br/]</td>\n      <td>maria-julia16</td>\n      <td>Arthur Oliveira</td>\n      <td>M</td>\n      <td>2017-04-09</td>\n    </tr>\n    <tr>\n      <th>1</th>\n      <td>Agente de defesa sanitária</td>\n      <td>Costa - EI</td>\n      <td>39561207877</td>\n      <td>Passarela Kevin Porto, 48\\nPrado\\n03965859 da ...</td>\n      <td>(10.0459845, 8.899647)</td>\n      <td>AB-</td>\n      <td>[http://da.com/, https://rodrigues.net/, https...</td>\n      <td>emanuelcardoso</td>\n      <td>Eloah da Rocha</td>\n      <td>F</td>\n      <td>1984-11-15</td>\n    </tr>\n    <tr>\n      <th>2</th>\n      <td>Peixeiro</td>\n      <td>Sales e Filhos</td>\n      <td>74081652317</td>\n      <td>Distrito de Rezende, 82\\nVila Da Amizade\\n2969...</td>\n      <td>(37.0933195, 147.091107)</td>\n      <td>AB+</td>\n      <td>[http://www.das.com/, http://www.peixoto.org/,...</td>\n      <td>melissa92</td>\n      <td>Clarice Pires</td>\n      <td>F</td>\n      <td>1910-04-07</td>\n    </tr>\n    <tr>\n      <th>3</th>\n      <td>Tecnólogo em negócios imobiliários</td>\n      <td>Correia</td>\n      <td>32598046170</td>\n      <td>Viela Sophie Moreira\\nVila Nova Dos Milionario...</td>\n      <td>(26.150407, -136.473033)</td>\n      <td>O+</td>\n      <td>[http://www.araujo.com/]</td>\n      <td>gustavo-henrique05</td>\n      <td>Srta. Maria Vitória Ferreira</td>\n      <td>F</td>\n      <td>1928-07-04</td>\n    </tr>\n    <tr>\n      <th>4</th>\n      <td>Produtor editorial</td>\n      <td>Oliveira</td>\n      <td>30471628913</td>\n      <td>Sítio da Mata, 89\\nVila Mangueiras\\n09083-075 ...</td>\n      <td>(86.325111, 133.158348)</td>\n      <td>A-</td>\n      <td>[http://cardoso.br/, http://www.costa.br/, htt...</td>\n      <td>lnogueira</td>\n      <td>Larissa Silveira</td>\n      <td>F</td>\n      <td>2020-02-13</td>\n    </tr>\n  </tbody>\n</table>\n</div>"
     },
     "metadata": {},
     "execution_count": 205
    }
   ],
   "source": [
    "# se não usar o copy pode ser q ao alterar o df a alteração afete o df2 tbm\n",
    "df2 = df.copy()\n",
    "df2.head()"
   ]
  },
  {
   "cell_type": "code",
   "execution_count": 206,
   "metadata": {},
   "outputs": [],
   "source": [
    "df2.drop(0, inplace=True)"
   ]
  },
  {
   "cell_type": "code",
   "execution_count": 207,
   "metadata": {},
   "outputs": [
    {
     "output_type": "execute_result",
     "data": {
      "text/plain": [
       "                                  job             company          ssn  \\\n",
       "0                                Gari  da Cunha Lopes S/A  71934625809   \n",
       "1          Agente de defesa sanitária          Costa - EI  39561207877   \n",
       "2                            Peixeiro      Sales e Filhos  74081652317   \n",
       "3  Tecnólogo em negócios imobiliários             Correia  32598046170   \n",
       "4                  Produtor editorial            Oliveira  30471628913   \n",
       "\n",
       "                                           residence  \\\n",
       "0  Passarela Luiz Henrique Lopes, 605\\nJoão Alfre...   \n",
       "1  Passarela Kevin Porto, 48\\nPrado\\n03965859 da ...   \n",
       "2  Distrito de Rezende, 82\\nVila Da Amizade\\n2969...   \n",
       "3  Viela Sophie Moreira\\nVila Nova Dos Milionario...   \n",
       "4  Sítio da Mata, 89\\nVila Mangueiras\\n09083-075 ...   \n",
       "\n",
       "            current_location blood_group  \\\n",
       "0  (-71.7083325, -19.685561)          A+   \n",
       "1     (10.0459845, 8.899647)         AB-   \n",
       "2   (37.0933195, 147.091107)         AB+   \n",
       "3   (26.150407, -136.473033)          O+   \n",
       "4    (86.325111, 133.158348)          A-   \n",
       "\n",
       "                                             website            username  \\\n",
       "0                            [http://www.mendes.br/]       maria-julia16   \n",
       "1  [http://da.com/, https://rodrigues.net/, https...      emanuelcardoso   \n",
       "2  [http://www.das.com/, http://www.peixoto.org/,...           melissa92   \n",
       "3                           [http://www.araujo.com/]  gustavo-henrique05   \n",
       "4  [http://cardoso.br/, http://www.costa.br/, htt...           lnogueira   \n",
       "\n",
       "                           name sex   birthdate  \n",
       "0               Arthur Oliveira   M  2017-04-09  \n",
       "1                Eloah da Rocha   F  1984-11-15  \n",
       "2                 Clarice Pires   F  1910-04-07  \n",
       "3  Srta. Maria Vitória Ferreira   F  1928-07-04  \n",
       "4              Larissa Silveira   F  2020-02-13  "
      ],
      "text/html": "<div>\n<style scoped>\n    .dataframe tbody tr th:only-of-type {\n        vertical-align: middle;\n    }\n\n    .dataframe tbody tr th {\n        vertical-align: top;\n    }\n\n    .dataframe thead th {\n        text-align: right;\n    }\n</style>\n<table border=\"1\" class=\"dataframe\">\n  <thead>\n    <tr style=\"text-align: right;\">\n      <th></th>\n      <th>job</th>\n      <th>company</th>\n      <th>ssn</th>\n      <th>residence</th>\n      <th>current_location</th>\n      <th>blood_group</th>\n      <th>website</th>\n      <th>username</th>\n      <th>name</th>\n      <th>sex</th>\n      <th>birthdate</th>\n    </tr>\n  </thead>\n  <tbody>\n    <tr>\n      <th>0</th>\n      <td>Gari</td>\n      <td>da Cunha Lopes S/A</td>\n      <td>71934625809</td>\n      <td>Passarela Luiz Henrique Lopes, 605\\nJoão Alfre...</td>\n      <td>(-71.7083325, -19.685561)</td>\n      <td>A+</td>\n      <td>[http://www.mendes.br/]</td>\n      <td>maria-julia16</td>\n      <td>Arthur Oliveira</td>\n      <td>M</td>\n      <td>2017-04-09</td>\n    </tr>\n    <tr>\n      <th>1</th>\n      <td>Agente de defesa sanitária</td>\n      <td>Costa - EI</td>\n      <td>39561207877</td>\n      <td>Passarela Kevin Porto, 48\\nPrado\\n03965859 da ...</td>\n      <td>(10.0459845, 8.899647)</td>\n      <td>AB-</td>\n      <td>[http://da.com/, https://rodrigues.net/, https...</td>\n      <td>emanuelcardoso</td>\n      <td>Eloah da Rocha</td>\n      <td>F</td>\n      <td>1984-11-15</td>\n    </tr>\n    <tr>\n      <th>2</th>\n      <td>Peixeiro</td>\n      <td>Sales e Filhos</td>\n      <td>74081652317</td>\n      <td>Distrito de Rezende, 82\\nVila Da Amizade\\n2969...</td>\n      <td>(37.0933195, 147.091107)</td>\n      <td>AB+</td>\n      <td>[http://www.das.com/, http://www.peixoto.org/,...</td>\n      <td>melissa92</td>\n      <td>Clarice Pires</td>\n      <td>F</td>\n      <td>1910-04-07</td>\n    </tr>\n    <tr>\n      <th>3</th>\n      <td>Tecnólogo em negócios imobiliários</td>\n      <td>Correia</td>\n      <td>32598046170</td>\n      <td>Viela Sophie Moreira\\nVila Nova Dos Milionario...</td>\n      <td>(26.150407, -136.473033)</td>\n      <td>O+</td>\n      <td>[http://www.araujo.com/]</td>\n      <td>gustavo-henrique05</td>\n      <td>Srta. Maria Vitória Ferreira</td>\n      <td>F</td>\n      <td>1928-07-04</td>\n    </tr>\n    <tr>\n      <th>4</th>\n      <td>Produtor editorial</td>\n      <td>Oliveira</td>\n      <td>30471628913</td>\n      <td>Sítio da Mata, 89\\nVila Mangueiras\\n09083-075 ...</td>\n      <td>(86.325111, 133.158348)</td>\n      <td>A-</td>\n      <td>[http://cardoso.br/, http://www.costa.br/, htt...</td>\n      <td>lnogueira</td>\n      <td>Larissa Silveira</td>\n      <td>F</td>\n      <td>2020-02-13</td>\n    </tr>\n  </tbody>\n</table>\n</div>"
     },
     "metadata": {},
     "execution_count": 207
    }
   ],
   "source": [
    "df.head()"
   ]
  },
  {
   "cell_type": "code",
   "execution_count": 208,
   "metadata": {},
   "outputs": [
    {
     "output_type": "execute_result",
     "data": {
      "text/plain": [
       "                                  job               company          ssn  \\\n",
       "1          Agente de defesa sanitária            Costa - EI  39561207877   \n",
       "2                            Peixeiro        Sales e Filhos  74081652317   \n",
       "3  Tecnólogo em negócios imobiliários               Correia  32598046170   \n",
       "4                  Produtor editorial              Oliveira  30471628913   \n",
       "5                           Topógrafo  Ferreira da Luz - ME  68317204553   \n",
       "\n",
       "                                           residence  \\\n",
       "1  Passarela Kevin Porto, 48\\nPrado\\n03965859 da ...   \n",
       "2  Distrito de Rezende, 82\\nVila Da Amizade\\n2969...   \n",
       "3  Viela Sophie Moreira\\nVila Nova Dos Milionario...   \n",
       "4  Sítio da Mata, 89\\nVila Mangueiras\\n09083-075 ...   \n",
       "5  Via de da Paz, 78\\nCapitão Eduardo\\n32446549 S...   \n",
       "\n",
       "           current_location blood_group  \\\n",
       "1    (10.0459845, 8.899647)         AB-   \n",
       "2  (37.0933195, 147.091107)         AB+   \n",
       "3  (26.150407, -136.473033)          O+   \n",
       "4   (86.325111, 133.158348)          A-   \n",
       "5  (67.2638555, -94.872680)          A+   \n",
       "\n",
       "                                             website            username  \\\n",
       "1  [http://da.com/, https://rodrigues.net/, https...      emanuelcardoso   \n",
       "2  [http://www.das.com/, http://www.peixoto.org/,...           melissa92   \n",
       "3                           [http://www.araujo.com/]  gustavo-henrique05   \n",
       "4  [http://cardoso.br/, http://www.costa.br/, htt...           lnogueira   \n",
       "5                          [https://www.ribeiro.br/]         yasminsouza   \n",
       "\n",
       "                           name sex   birthdate  \n",
       "1                Eloah da Rocha   F  1984-11-15  \n",
       "2                 Clarice Pires   F  1910-04-07  \n",
       "3  Srta. Maria Vitória Ferreira   F  1928-07-04  \n",
       "4              Larissa Silveira   F  2020-02-13  \n",
       "5               Murilo Caldeira   M  1947-06-02  "
      ],
      "text/html": "<div>\n<style scoped>\n    .dataframe tbody tr th:only-of-type {\n        vertical-align: middle;\n    }\n\n    .dataframe tbody tr th {\n        vertical-align: top;\n    }\n\n    .dataframe thead th {\n        text-align: right;\n    }\n</style>\n<table border=\"1\" class=\"dataframe\">\n  <thead>\n    <tr style=\"text-align: right;\">\n      <th></th>\n      <th>job</th>\n      <th>company</th>\n      <th>ssn</th>\n      <th>residence</th>\n      <th>current_location</th>\n      <th>blood_group</th>\n      <th>website</th>\n      <th>username</th>\n      <th>name</th>\n      <th>sex</th>\n      <th>birthdate</th>\n    </tr>\n  </thead>\n  <tbody>\n    <tr>\n      <th>1</th>\n      <td>Agente de defesa sanitária</td>\n      <td>Costa - EI</td>\n      <td>39561207877</td>\n      <td>Passarela Kevin Porto, 48\\nPrado\\n03965859 da ...</td>\n      <td>(10.0459845, 8.899647)</td>\n      <td>AB-</td>\n      <td>[http://da.com/, https://rodrigues.net/, https...</td>\n      <td>emanuelcardoso</td>\n      <td>Eloah da Rocha</td>\n      <td>F</td>\n      <td>1984-11-15</td>\n    </tr>\n    <tr>\n      <th>2</th>\n      <td>Peixeiro</td>\n      <td>Sales e Filhos</td>\n      <td>74081652317</td>\n      <td>Distrito de Rezende, 82\\nVila Da Amizade\\n2969...</td>\n      <td>(37.0933195, 147.091107)</td>\n      <td>AB+</td>\n      <td>[http://www.das.com/, http://www.peixoto.org/,...</td>\n      <td>melissa92</td>\n      <td>Clarice Pires</td>\n      <td>F</td>\n      <td>1910-04-07</td>\n    </tr>\n    <tr>\n      <th>3</th>\n      <td>Tecnólogo em negócios imobiliários</td>\n      <td>Correia</td>\n      <td>32598046170</td>\n      <td>Viela Sophie Moreira\\nVila Nova Dos Milionario...</td>\n      <td>(26.150407, -136.473033)</td>\n      <td>O+</td>\n      <td>[http://www.araujo.com/]</td>\n      <td>gustavo-henrique05</td>\n      <td>Srta. Maria Vitória Ferreira</td>\n      <td>F</td>\n      <td>1928-07-04</td>\n    </tr>\n    <tr>\n      <th>4</th>\n      <td>Produtor editorial</td>\n      <td>Oliveira</td>\n      <td>30471628913</td>\n      <td>Sítio da Mata, 89\\nVila Mangueiras\\n09083-075 ...</td>\n      <td>(86.325111, 133.158348)</td>\n      <td>A-</td>\n      <td>[http://cardoso.br/, http://www.costa.br/, htt...</td>\n      <td>lnogueira</td>\n      <td>Larissa Silveira</td>\n      <td>F</td>\n      <td>2020-02-13</td>\n    </tr>\n    <tr>\n      <th>5</th>\n      <td>Topógrafo</td>\n      <td>Ferreira da Luz - ME</td>\n      <td>68317204553</td>\n      <td>Via de da Paz, 78\\nCapitão Eduardo\\n32446549 S...</td>\n      <td>(67.2638555, -94.872680)</td>\n      <td>A+</td>\n      <td>[https://www.ribeiro.br/]</td>\n      <td>yasminsouza</td>\n      <td>Murilo Caldeira</td>\n      <td>M</td>\n      <td>1947-06-02</td>\n    </tr>\n  </tbody>\n</table>\n</div>"
     },
     "metadata": {},
     "execution_count": 208
    }
   ],
   "source": [
    "df2.head()"
   ]
  },
  {
   "source": [
    "### Filtros"
   ],
   "cell_type": "markdown",
   "metadata": {}
  },
  {
   "cell_type": "code",
   "execution_count": 209,
   "metadata": {},
   "outputs": [
    {
     "output_type": "execute_result",
     "data": {
      "text/plain": [
       "job                                                Produtor editorial\n",
       "company                                                      Oliveira\n",
       "ssn                                                       30471628913\n",
       "residence           Sítio da Mata, 89\\nVila Mangueiras\\n09083-075 ...\n",
       "current_location                              (86.325111, 133.158348)\n",
       "blood_group                                                        A-\n",
       "website             [http://cardoso.br/, http://www.costa.br/, htt...\n",
       "username                                                    lnogueira\n",
       "name                                                 Larissa Silveira\n",
       "sex                                                                 F\n",
       "birthdate                                                  2020-02-13\n",
       "Name: 4, dtype: object"
      ]
     },
     "metadata": {},
     "execution_count": 209
    }
   ],
   "source": [
    "# o loc pode ser usado para filtrar uma linha de acordo com o index\n",
    "df.loc[4]"
   ]
  },
  {
   "cell_type": "code",
   "execution_count": 210,
   "metadata": {},
   "outputs": [
    {
     "output_type": "execute_result",
     "data": {
      "text/plain": [
       "job                                                Produtor editorial\n",
       "company                                                      Oliveira\n",
       "ssn                                                       30471628913\n",
       "residence           Sítio da Mata, 89\\nVila Mangueiras\\n09083-075 ...\n",
       "current_location                              (86.325111, 133.158348)\n",
       "blood_group                                                        A-\n",
       "website             [http://cardoso.br/, http://www.costa.br/, htt...\n",
       "username                                                    lnogueira\n",
       "name                                                 Larissa Silveira\n",
       "sex                                                                 F\n",
       "birthdate                                                  2020-02-13\n",
       "Name: 4, dtype: object"
      ]
     },
     "metadata": {},
     "execution_count": 210
    }
   ],
   "source": [
    "# o iloc  pode ser usado para filtrar uma linha de acordo com a ordem na memoria\n",
    "df.iloc[4]"
   ]
  },
  {
   "cell_type": "code",
   "execution_count": 211,
   "metadata": {},
   "outputs": [
    {
     "output_type": "execute_result",
     "data": {
      "text/plain": [
       "                                    job sex          ssn\n",
       "0                                  Gari   M  71934625809\n",
       "1            Agente de defesa sanitária   F  39561207877\n",
       "2                              Peixeiro   F  74081652317\n",
       "3    Tecnólogo em negócios imobiliários   F  32598046170\n",
       "4                    Produtor editorial   F  30471628913\n",
       "..                                  ...  ..          ...\n",
       "995     Tecnólogo em rochas ornamentais   M  18230749523\n",
       "996                             Químico   M  85360247126\n",
       "997                          Jangadeiro   F  40671523880\n",
       "998                              Maitre   F  42619538700\n",
       "999                   Lutador de karatê   M  35089276102\n",
       "\n",
       "[1000 rows x 3 columns]"
      ],
      "text/html": "<div>\n<style scoped>\n    .dataframe tbody tr th:only-of-type {\n        vertical-align: middle;\n    }\n\n    .dataframe tbody tr th {\n        vertical-align: top;\n    }\n\n    .dataframe thead th {\n        text-align: right;\n    }\n</style>\n<table border=\"1\" class=\"dataframe\">\n  <thead>\n    <tr style=\"text-align: right;\">\n      <th></th>\n      <th>job</th>\n      <th>sex</th>\n      <th>ssn</th>\n    </tr>\n  </thead>\n  <tbody>\n    <tr>\n      <th>0</th>\n      <td>Gari</td>\n      <td>M</td>\n      <td>71934625809</td>\n    </tr>\n    <tr>\n      <th>1</th>\n      <td>Agente de defesa sanitária</td>\n      <td>F</td>\n      <td>39561207877</td>\n    </tr>\n    <tr>\n      <th>2</th>\n      <td>Peixeiro</td>\n      <td>F</td>\n      <td>74081652317</td>\n    </tr>\n    <tr>\n      <th>3</th>\n      <td>Tecnólogo em negócios imobiliários</td>\n      <td>F</td>\n      <td>32598046170</td>\n    </tr>\n    <tr>\n      <th>4</th>\n      <td>Produtor editorial</td>\n      <td>F</td>\n      <td>30471628913</td>\n    </tr>\n    <tr>\n      <th>...</th>\n      <td>...</td>\n      <td>...</td>\n      <td>...</td>\n    </tr>\n    <tr>\n      <th>995</th>\n      <td>Tecnólogo em rochas ornamentais</td>\n      <td>M</td>\n      <td>18230749523</td>\n    </tr>\n    <tr>\n      <th>996</th>\n      <td>Químico</td>\n      <td>M</td>\n      <td>85360247126</td>\n    </tr>\n    <tr>\n      <th>997</th>\n      <td>Jangadeiro</td>\n      <td>F</td>\n      <td>40671523880</td>\n    </tr>\n    <tr>\n      <th>998</th>\n      <td>Maitre</td>\n      <td>F</td>\n      <td>42619538700</td>\n    </tr>\n    <tr>\n      <th>999</th>\n      <td>Lutador de karatê</td>\n      <td>M</td>\n      <td>35089276102</td>\n    </tr>\n  </tbody>\n</table>\n<p>1000 rows × 3 columns</p>\n</div>"
     },
     "metadata": {},
     "execution_count": 211
    }
   ],
   "source": [
    "# filtrando varias colunas\n",
    "df[['job', 'sex', 'ssn']]"
   ]
  },
  {
   "cell_type": "code",
   "execution_count": 212,
   "metadata": {},
   "outputs": [
    {
     "output_type": "execute_result",
     "data": {
      "text/plain": [
       "                                    job                company          ssn  \\\n",
       "1            Agente de defesa sanitária             Costa - EI  39561207877   \n",
       "2                              Peixeiro         Sales e Filhos  74081652317   \n",
       "3    Tecnólogo em negócios imobiliários                Correia  32598046170   \n",
       "4                    Produtor editorial               Oliveira  30471628913   \n",
       "6                           Dialoguista             Viana S.A.  96013845700   \n",
       "..                                  ...                    ...          ...   \n",
       "986                Assistente de câmera               Caldeira  41076283969   \n",
       "989  Tecnólogo em negócios imobiliários  Nogueira Nogueira S/A  53918704610   \n",
       "990                             Ecólogo                Martins  81607549301   \n",
       "997                          Jangadeiro              das Neves  40671523880   \n",
       "998                              Maitre              das Neves  42619538700   \n",
       "\n",
       "                                             residence  \\\n",
       "1    Passarela Kevin Porto, 48\\nPrado\\n03965859 da ...   \n",
       "2    Distrito de Rezende, 82\\nVila Da Amizade\\n2969...   \n",
       "3    Viela Sophie Moreira\\nVila Nova Dos Milionario...   \n",
       "4    Sítio da Mata, 89\\nVila Mangueiras\\n09083-075 ...   \n",
       "6    Pátio de Martins\\nBom Jesus\\n11186405 Barros / SC   \n",
       "..                                                 ...   \n",
       "986  Aeroporto Nicole Almeida, 80\\nCentro\\n09518242...   \n",
       "989  Feira Amanda Farias, 1\\nMadre Gertrudes\\n52666...   \n",
       "990  Alameda Teixeira, 93\\nLagoinha Leblon\\n64885-3...   \n",
       "997  Área Pinto, 94\\nOlaria\\n68915-236 Rocha de Ara...   \n",
       "998  Favela Ana Beatriz Rodrigues, 7\\nSão Paulo\\n18...   \n",
       "\n",
       "               current_location blood_group  \\\n",
       "1        (10.0459845, 8.899647)         AB-   \n",
       "2      (37.0933195, 147.091107)         AB+   \n",
       "3      (26.150407, -136.473033)          O+   \n",
       "4       (86.325111, 133.158348)          A-   \n",
       "6    (-72.0245475, -126.678470)          A+   \n",
       "..                          ...         ...   \n",
       "986     (-42.766722, 67.114338)          B-   \n",
       "989     (9.6089545, -87.384852)          A-   \n",
       "990     (-11.605465, 16.164270)          O-   \n",
       "997   (52.5148665, -100.321234)         AB+   \n",
       "998    (61.6094915, 138.174555)          A-   \n",
       "\n",
       "                                               website  \\\n",
       "1    [http://da.com/, https://rodrigues.net/, https...   \n",
       "2    [http://www.das.com/, http://www.peixoto.org/,...   \n",
       "3                             [http://www.araujo.com/]   \n",
       "4    [http://cardoso.br/, http://www.costa.br/, htt...   \n",
       "6    [http://barbosa.com/, http://www.oliveira.net/...   \n",
       "..                                                 ...   \n",
       "986                            [http://www.lopes.com/]   \n",
       "989      [https://cavalcanti.net/, https://www.da.br/]   \n",
       "990                           [https://www.silva.com/]   \n",
       "997  [http://www.da.com/, http://www.goncalves.br/,...   \n",
       "998  [http://www.oliveira.br/, https://aragao.net/,...   \n",
       "\n",
       "                   username                          name sex   birthdate  \n",
       "1            emanuelcardoso                Eloah da Rocha   F  1984-11-15  \n",
       "2                 melissa92                 Clarice Pires   F  1910-04-07  \n",
       "3        gustavo-henrique05  Srta. Maria Vitória Ferreira   F  1928-07-04  \n",
       "4                 lnogueira              Larissa Silveira   F  2020-02-13  \n",
       "6    marcos-viniciusda-mota              Isabella Correia   F  1976-07-04  \n",
       "..                      ...                           ...  ..         ...  \n",
       "986                 isaac05                   Julia Cunha   F  1905-06-01  \n",
       "989         maria-eduarda15             Maria Julia Pires   F  1925-08-10  \n",
       "990             ana-luiza66             Valentina Rezende   F  1977-09-15  \n",
       "997               alvescaue              Larissa da Cunha   F  2006-07-26  \n",
       "998         emanuelteixeira              Clarice Ferreira   F  1936-05-04  \n",
       "\n",
       "[495 rows x 11 columns]"
      ],
      "text/html": "<div>\n<style scoped>\n    .dataframe tbody tr th:only-of-type {\n        vertical-align: middle;\n    }\n\n    .dataframe tbody tr th {\n        vertical-align: top;\n    }\n\n    .dataframe thead th {\n        text-align: right;\n    }\n</style>\n<table border=\"1\" class=\"dataframe\">\n  <thead>\n    <tr style=\"text-align: right;\">\n      <th></th>\n      <th>job</th>\n      <th>company</th>\n      <th>ssn</th>\n      <th>residence</th>\n      <th>current_location</th>\n      <th>blood_group</th>\n      <th>website</th>\n      <th>username</th>\n      <th>name</th>\n      <th>sex</th>\n      <th>birthdate</th>\n    </tr>\n  </thead>\n  <tbody>\n    <tr>\n      <th>1</th>\n      <td>Agente de defesa sanitária</td>\n      <td>Costa - EI</td>\n      <td>39561207877</td>\n      <td>Passarela Kevin Porto, 48\\nPrado\\n03965859 da ...</td>\n      <td>(10.0459845, 8.899647)</td>\n      <td>AB-</td>\n      <td>[http://da.com/, https://rodrigues.net/, https...</td>\n      <td>emanuelcardoso</td>\n      <td>Eloah da Rocha</td>\n      <td>F</td>\n      <td>1984-11-15</td>\n    </tr>\n    <tr>\n      <th>2</th>\n      <td>Peixeiro</td>\n      <td>Sales e Filhos</td>\n      <td>74081652317</td>\n      <td>Distrito de Rezende, 82\\nVila Da Amizade\\n2969...</td>\n      <td>(37.0933195, 147.091107)</td>\n      <td>AB+</td>\n      <td>[http://www.das.com/, http://www.peixoto.org/,...</td>\n      <td>melissa92</td>\n      <td>Clarice Pires</td>\n      <td>F</td>\n      <td>1910-04-07</td>\n    </tr>\n    <tr>\n      <th>3</th>\n      <td>Tecnólogo em negócios imobiliários</td>\n      <td>Correia</td>\n      <td>32598046170</td>\n      <td>Viela Sophie Moreira\\nVila Nova Dos Milionario...</td>\n      <td>(26.150407, -136.473033)</td>\n      <td>O+</td>\n      <td>[http://www.araujo.com/]</td>\n      <td>gustavo-henrique05</td>\n      <td>Srta. Maria Vitória Ferreira</td>\n      <td>F</td>\n      <td>1928-07-04</td>\n    </tr>\n    <tr>\n      <th>4</th>\n      <td>Produtor editorial</td>\n      <td>Oliveira</td>\n      <td>30471628913</td>\n      <td>Sítio da Mata, 89\\nVila Mangueiras\\n09083-075 ...</td>\n      <td>(86.325111, 133.158348)</td>\n      <td>A-</td>\n      <td>[http://cardoso.br/, http://www.costa.br/, htt...</td>\n      <td>lnogueira</td>\n      <td>Larissa Silveira</td>\n      <td>F</td>\n      <td>2020-02-13</td>\n    </tr>\n    <tr>\n      <th>6</th>\n      <td>Dialoguista</td>\n      <td>Viana S.A.</td>\n      <td>96013845700</td>\n      <td>Pátio de Martins\\nBom Jesus\\n11186405 Barros / SC</td>\n      <td>(-72.0245475, -126.678470)</td>\n      <td>A+</td>\n      <td>[http://barbosa.com/, http://www.oliveira.net/...</td>\n      <td>marcos-viniciusda-mota</td>\n      <td>Isabella Correia</td>\n      <td>F</td>\n      <td>1976-07-04</td>\n    </tr>\n    <tr>\n      <th>...</th>\n      <td>...</td>\n      <td>...</td>\n      <td>...</td>\n      <td>...</td>\n      <td>...</td>\n      <td>...</td>\n      <td>...</td>\n      <td>...</td>\n      <td>...</td>\n      <td>...</td>\n      <td>...</td>\n    </tr>\n    <tr>\n      <th>986</th>\n      <td>Assistente de câmera</td>\n      <td>Caldeira</td>\n      <td>41076283969</td>\n      <td>Aeroporto Nicole Almeida, 80\\nCentro\\n09518242...</td>\n      <td>(-42.766722, 67.114338)</td>\n      <td>B-</td>\n      <td>[http://www.lopes.com/]</td>\n      <td>isaac05</td>\n      <td>Julia Cunha</td>\n      <td>F</td>\n      <td>1905-06-01</td>\n    </tr>\n    <tr>\n      <th>989</th>\n      <td>Tecnólogo em negócios imobiliários</td>\n      <td>Nogueira Nogueira S/A</td>\n      <td>53918704610</td>\n      <td>Feira Amanda Farias, 1\\nMadre Gertrudes\\n52666...</td>\n      <td>(9.6089545, -87.384852)</td>\n      <td>A-</td>\n      <td>[https://cavalcanti.net/, https://www.da.br/]</td>\n      <td>maria-eduarda15</td>\n      <td>Maria Julia Pires</td>\n      <td>F</td>\n      <td>1925-08-10</td>\n    </tr>\n    <tr>\n      <th>990</th>\n      <td>Ecólogo</td>\n      <td>Martins</td>\n      <td>81607549301</td>\n      <td>Alameda Teixeira, 93\\nLagoinha Leblon\\n64885-3...</td>\n      <td>(-11.605465, 16.164270)</td>\n      <td>O-</td>\n      <td>[https://www.silva.com/]</td>\n      <td>ana-luiza66</td>\n      <td>Valentina Rezende</td>\n      <td>F</td>\n      <td>1977-09-15</td>\n    </tr>\n    <tr>\n      <th>997</th>\n      <td>Jangadeiro</td>\n      <td>das Neves</td>\n      <td>40671523880</td>\n      <td>Área Pinto, 94\\nOlaria\\n68915-236 Rocha de Ara...</td>\n      <td>(52.5148665, -100.321234)</td>\n      <td>AB+</td>\n      <td>[http://www.da.com/, http://www.goncalves.br/,...</td>\n      <td>alvescaue</td>\n      <td>Larissa da Cunha</td>\n      <td>F</td>\n      <td>2006-07-26</td>\n    </tr>\n    <tr>\n      <th>998</th>\n      <td>Maitre</td>\n      <td>das Neves</td>\n      <td>42619538700</td>\n      <td>Favela Ana Beatriz Rodrigues, 7\\nSão Paulo\\n18...</td>\n      <td>(61.6094915, 138.174555)</td>\n      <td>A-</td>\n      <td>[http://www.oliveira.br/, https://aragao.net/,...</td>\n      <td>emanuelteixeira</td>\n      <td>Clarice Ferreira</td>\n      <td>F</td>\n      <td>1936-05-04</td>\n    </tr>\n  </tbody>\n</table>\n<p>495 rows × 11 columns</p>\n</div>"
     },
     "metadata": {},
     "execution_count": 212
    }
   ],
   "source": [
    "# slice dataset\n",
    "# usando apenas \"df.sex == 'F'\" retorna um array de true e false e usando ele dentro dos [] ele serve como filtro\n",
    "df[df.sex == 'F']"
   ]
  },
  {
   "cell_type": "code",
   "execution_count": 213,
   "metadata": {},
   "outputs": [
    {
     "output_type": "execute_result",
     "data": {
      "text/plain": [
       "            job company          ssn  \\\n",
       "180  Headhunter    Dias  80965417301   \n",
       "\n",
       "                                          residence         current_location  \\\n",
       "180  Vila Teixeira\\nVila Cemig\\n76939745 Silva / SE  (-84.657268, 97.064326)   \n",
       "\n",
       "    blood_group                                website        username  \\\n",
       "180          O+  [http://cunha.br/, http://silva.org/]  oliveiraesther   \n",
       "\n",
       "              name sex   birthdate  \n",
       "180  Helena Novaes   F  2007-05-16  "
      ],
      "text/html": "<div>\n<style scoped>\n    .dataframe tbody tr th:only-of-type {\n        vertical-align: middle;\n    }\n\n    .dataframe tbody tr th {\n        vertical-align: top;\n    }\n\n    .dataframe thead th {\n        text-align: right;\n    }\n</style>\n<table border=\"1\" class=\"dataframe\">\n  <thead>\n    <tr style=\"text-align: right;\">\n      <th></th>\n      <th>job</th>\n      <th>company</th>\n      <th>ssn</th>\n      <th>residence</th>\n      <th>current_location</th>\n      <th>blood_group</th>\n      <th>website</th>\n      <th>username</th>\n      <th>name</th>\n      <th>sex</th>\n      <th>birthdate</th>\n    </tr>\n  </thead>\n  <tbody>\n    <tr>\n      <th>180</th>\n      <td>Headhunter</td>\n      <td>Dias</td>\n      <td>80965417301</td>\n      <td>Vila Teixeira\\nVila Cemig\\n76939745 Silva / SE</td>\n      <td>(-84.657268, 97.064326)</td>\n      <td>O+</td>\n      <td>[http://cunha.br/, http://silva.org/]</td>\n      <td>oliveiraesther</td>\n      <td>Helena Novaes</td>\n      <td>F</td>\n      <td>2007-05-16</td>\n    </tr>\n  </tbody>\n</table>\n</div>"
     },
     "metadata": {},
     "execution_count": 213
    }
   ],
   "source": [
    "# slicing utilizando 2 ou mais condições\n",
    "df[(df.sex == 'F') & (df.company == 'Dias')]"
   ]
  },
  {
   "cell_type": "code",
   "execution_count": 214,
   "metadata": {},
   "outputs": [
    {
     "output_type": "execute_result",
     "data": {
      "text/plain": [
       "                                    job                company          ssn  \\\n",
       "1            Agente de defesa sanitária             Costa - EI  39561207877   \n",
       "2                              Peixeiro         Sales e Filhos  74081652317   \n",
       "3    Tecnólogo em negócios imobiliários                Correia  32598046170   \n",
       "4                    Produtor editorial               Oliveira  30471628913   \n",
       "6                           Dialoguista             Viana S.A.  96013845700   \n",
       "..                                  ...                    ...          ...   \n",
       "986                Assistente de câmera               Caldeira  41076283969   \n",
       "989  Tecnólogo em negócios imobiliários  Nogueira Nogueira S/A  53918704610   \n",
       "990                             Ecólogo                Martins  81607549301   \n",
       "997                          Jangadeiro              das Neves  40671523880   \n",
       "998                              Maitre              das Neves  42619538700   \n",
       "\n",
       "                                             residence  \\\n",
       "1    Passarela Kevin Porto, 48\\nPrado\\n03965859 da ...   \n",
       "2    Distrito de Rezende, 82\\nVila Da Amizade\\n2969...   \n",
       "3    Viela Sophie Moreira\\nVila Nova Dos Milionario...   \n",
       "4    Sítio da Mata, 89\\nVila Mangueiras\\n09083-075 ...   \n",
       "6    Pátio de Martins\\nBom Jesus\\n11186405 Barros / SC   \n",
       "..                                                 ...   \n",
       "986  Aeroporto Nicole Almeida, 80\\nCentro\\n09518242...   \n",
       "989  Feira Amanda Farias, 1\\nMadre Gertrudes\\n52666...   \n",
       "990  Alameda Teixeira, 93\\nLagoinha Leblon\\n64885-3...   \n",
       "997  Área Pinto, 94\\nOlaria\\n68915-236 Rocha de Ara...   \n",
       "998  Favela Ana Beatriz Rodrigues, 7\\nSão Paulo\\n18...   \n",
       "\n",
       "               current_location blood_group  \\\n",
       "1        (10.0459845, 8.899647)         AB-   \n",
       "2      (37.0933195, 147.091107)         AB+   \n",
       "3      (26.150407, -136.473033)          O+   \n",
       "4       (86.325111, 133.158348)          A-   \n",
       "6    (-72.0245475, -126.678470)          A+   \n",
       "..                          ...         ...   \n",
       "986     (-42.766722, 67.114338)          B-   \n",
       "989     (9.6089545, -87.384852)          A-   \n",
       "990     (-11.605465, 16.164270)          O-   \n",
       "997   (52.5148665, -100.321234)         AB+   \n",
       "998    (61.6094915, 138.174555)          A-   \n",
       "\n",
       "                                               website  \\\n",
       "1    [http://da.com/, https://rodrigues.net/, https...   \n",
       "2    [http://www.das.com/, http://www.peixoto.org/,...   \n",
       "3                             [http://www.araujo.com/]   \n",
       "4    [http://cardoso.br/, http://www.costa.br/, htt...   \n",
       "6    [http://barbosa.com/, http://www.oliveira.net/...   \n",
       "..                                                 ...   \n",
       "986                            [http://www.lopes.com/]   \n",
       "989      [https://cavalcanti.net/, https://www.da.br/]   \n",
       "990                           [https://www.silva.com/]   \n",
       "997  [http://www.da.com/, http://www.goncalves.br/,...   \n",
       "998  [http://www.oliveira.br/, https://aragao.net/,...   \n",
       "\n",
       "                   username                          name sex   birthdate  \n",
       "1            emanuelcardoso                Eloah da Rocha   F  1984-11-15  \n",
       "2                 melissa92                 Clarice Pires   F  1910-04-07  \n",
       "3        gustavo-henrique05  Srta. Maria Vitória Ferreira   F  1928-07-04  \n",
       "4                 lnogueira              Larissa Silveira   F  2020-02-13  \n",
       "6    marcos-viniciusda-mota              Isabella Correia   F  1976-07-04  \n",
       "..                      ...                           ...  ..         ...  \n",
       "986                 isaac05                   Julia Cunha   F  1905-06-01  \n",
       "989         maria-eduarda15             Maria Julia Pires   F  1925-08-10  \n",
       "990             ana-luiza66             Valentina Rezende   F  1977-09-15  \n",
       "997               alvescaue              Larissa da Cunha   F  2006-07-26  \n",
       "998         emanuelteixeira              Clarice Ferreira   F  1936-05-04  \n",
       "\n",
       "[495 rows x 11 columns]"
      ],
      "text/html": "<div>\n<style scoped>\n    .dataframe tbody tr th:only-of-type {\n        vertical-align: middle;\n    }\n\n    .dataframe tbody tr th {\n        vertical-align: top;\n    }\n\n    .dataframe thead th {\n        text-align: right;\n    }\n</style>\n<table border=\"1\" class=\"dataframe\">\n  <thead>\n    <tr style=\"text-align: right;\">\n      <th></th>\n      <th>job</th>\n      <th>company</th>\n      <th>ssn</th>\n      <th>residence</th>\n      <th>current_location</th>\n      <th>blood_group</th>\n      <th>website</th>\n      <th>username</th>\n      <th>name</th>\n      <th>sex</th>\n      <th>birthdate</th>\n    </tr>\n  </thead>\n  <tbody>\n    <tr>\n      <th>1</th>\n      <td>Agente de defesa sanitária</td>\n      <td>Costa - EI</td>\n      <td>39561207877</td>\n      <td>Passarela Kevin Porto, 48\\nPrado\\n03965859 da ...</td>\n      <td>(10.0459845, 8.899647)</td>\n      <td>AB-</td>\n      <td>[http://da.com/, https://rodrigues.net/, https...</td>\n      <td>emanuelcardoso</td>\n      <td>Eloah da Rocha</td>\n      <td>F</td>\n      <td>1984-11-15</td>\n    </tr>\n    <tr>\n      <th>2</th>\n      <td>Peixeiro</td>\n      <td>Sales e Filhos</td>\n      <td>74081652317</td>\n      <td>Distrito de Rezende, 82\\nVila Da Amizade\\n2969...</td>\n      <td>(37.0933195, 147.091107)</td>\n      <td>AB+</td>\n      <td>[http://www.das.com/, http://www.peixoto.org/,...</td>\n      <td>melissa92</td>\n      <td>Clarice Pires</td>\n      <td>F</td>\n      <td>1910-04-07</td>\n    </tr>\n    <tr>\n      <th>3</th>\n      <td>Tecnólogo em negócios imobiliários</td>\n      <td>Correia</td>\n      <td>32598046170</td>\n      <td>Viela Sophie Moreira\\nVila Nova Dos Milionario...</td>\n      <td>(26.150407, -136.473033)</td>\n      <td>O+</td>\n      <td>[http://www.araujo.com/]</td>\n      <td>gustavo-henrique05</td>\n      <td>Srta. Maria Vitória Ferreira</td>\n      <td>F</td>\n      <td>1928-07-04</td>\n    </tr>\n    <tr>\n      <th>4</th>\n      <td>Produtor editorial</td>\n      <td>Oliveira</td>\n      <td>30471628913</td>\n      <td>Sítio da Mata, 89\\nVila Mangueiras\\n09083-075 ...</td>\n      <td>(86.325111, 133.158348)</td>\n      <td>A-</td>\n      <td>[http://cardoso.br/, http://www.costa.br/, htt...</td>\n      <td>lnogueira</td>\n      <td>Larissa Silveira</td>\n      <td>F</td>\n      <td>2020-02-13</td>\n    </tr>\n    <tr>\n      <th>6</th>\n      <td>Dialoguista</td>\n      <td>Viana S.A.</td>\n      <td>96013845700</td>\n      <td>Pátio de Martins\\nBom Jesus\\n11186405 Barros / SC</td>\n      <td>(-72.0245475, -126.678470)</td>\n      <td>A+</td>\n      <td>[http://barbosa.com/, http://www.oliveira.net/...</td>\n      <td>marcos-viniciusda-mota</td>\n      <td>Isabella Correia</td>\n      <td>F</td>\n      <td>1976-07-04</td>\n    </tr>\n    <tr>\n      <th>...</th>\n      <td>...</td>\n      <td>...</td>\n      <td>...</td>\n      <td>...</td>\n      <td>...</td>\n      <td>...</td>\n      <td>...</td>\n      <td>...</td>\n      <td>...</td>\n      <td>...</td>\n      <td>...</td>\n    </tr>\n    <tr>\n      <th>986</th>\n      <td>Assistente de câmera</td>\n      <td>Caldeira</td>\n      <td>41076283969</td>\n      <td>Aeroporto Nicole Almeida, 80\\nCentro\\n09518242...</td>\n      <td>(-42.766722, 67.114338)</td>\n      <td>B-</td>\n      <td>[http://www.lopes.com/]</td>\n      <td>isaac05</td>\n      <td>Julia Cunha</td>\n      <td>F</td>\n      <td>1905-06-01</td>\n    </tr>\n    <tr>\n      <th>989</th>\n      <td>Tecnólogo em negócios imobiliários</td>\n      <td>Nogueira Nogueira S/A</td>\n      <td>53918704610</td>\n      <td>Feira Amanda Farias, 1\\nMadre Gertrudes\\n52666...</td>\n      <td>(9.6089545, -87.384852)</td>\n      <td>A-</td>\n      <td>[https://cavalcanti.net/, https://www.da.br/]</td>\n      <td>maria-eduarda15</td>\n      <td>Maria Julia Pires</td>\n      <td>F</td>\n      <td>1925-08-10</td>\n    </tr>\n    <tr>\n      <th>990</th>\n      <td>Ecólogo</td>\n      <td>Martins</td>\n      <td>81607549301</td>\n      <td>Alameda Teixeira, 93\\nLagoinha Leblon\\n64885-3...</td>\n      <td>(-11.605465, 16.164270)</td>\n      <td>O-</td>\n      <td>[https://www.silva.com/]</td>\n      <td>ana-luiza66</td>\n      <td>Valentina Rezende</td>\n      <td>F</td>\n      <td>1977-09-15</td>\n    </tr>\n    <tr>\n      <th>997</th>\n      <td>Jangadeiro</td>\n      <td>das Neves</td>\n      <td>40671523880</td>\n      <td>Área Pinto, 94\\nOlaria\\n68915-236 Rocha de Ara...</td>\n      <td>(52.5148665, -100.321234)</td>\n      <td>AB+</td>\n      <td>[http://www.da.com/, http://www.goncalves.br/,...</td>\n      <td>alvescaue</td>\n      <td>Larissa da Cunha</td>\n      <td>F</td>\n      <td>2006-07-26</td>\n    </tr>\n    <tr>\n      <th>998</th>\n      <td>Maitre</td>\n      <td>das Neves</td>\n      <td>42619538700</td>\n      <td>Favela Ana Beatriz Rodrigues, 7\\nSão Paulo\\n18...</td>\n      <td>(61.6094915, 138.174555)</td>\n      <td>A-</td>\n      <td>[http://www.oliveira.br/, https://aragao.net/,...</td>\n      <td>emanuelteixeira</td>\n      <td>Clarice Ferreira</td>\n      <td>F</td>\n      <td>1936-05-04</td>\n    </tr>\n  </tbody>\n</table>\n<p>495 rows × 11 columns</p>\n</div>"
     },
     "metadata": {},
     "execution_count": 214
    }
   ],
   "source": [
    "# outra forma de fazer slicing\n",
    "df.query(\"sex == 'F'\")"
   ]
  },
  {
   "cell_type": "code",
   "execution_count": 215,
   "metadata": {},
   "outputs": [
    {
     "output_type": "execute_result",
     "data": {
      "text/plain": [
       "                       job                  company          ssn  \\\n",
       "422   Ajudante de produção                    Lopes  38412570626   \n",
       "356             Windsurfer  Sales Carvalho e Filhos  40693127813   \n",
       "519    Rebarbador de metal                    Sales  81450273653   \n",
       "936          Quiropraxista                     Lima  69825741058   \n",
       "77             Clap loader          Fernandes Ltda.  82310549797   \n",
       "198  Instalador de painéis                   Moraes  76152809312   \n",
       "601               Prefeito      Moraes Campos Ltda.  85294073692   \n",
       "853               Dublador     Aragão Nogueira - EI  94530876292   \n",
       "118              Digitador                 Caldeira  60841275920   \n",
       "\n",
       "                                             residence  \\\n",
       "422  Largo de Rezende\\nCruzeiro\\n22743569 da Mata d...   \n",
       "356  Travessa Rodrigues, 176\\nNossa Senhora De Fáti...   \n",
       "519  Trevo Marcela Nascimento, 639\\nVila Betânia\\n7...   \n",
       "936  Pátio de Cardoso\\nSão Pedro\\n81236132 da Mata ...   \n",
       "77   Recanto de Duarte\\nCandelaria\\n26667665 Cardos...   \n",
       "198  Rua Yago da Rocha, 23\\nDelta\\n24738483 Porto / AP   \n",
       "601  Recanto Rafaela Teixeira, 99\\nMariquinhas\\n880...   \n",
       "853  Aeroporto Eloah Souza\\nCenaculo\\n81265783 da C...   \n",
       "118  Rua de Castro\\nVila Suzana Segunda Seção\\n6056...   \n",
       "\n",
       "              current_location blood_group  \\\n",
       "422   (75.830742, -128.744189)         AB-   \n",
       "356    (43.2068385, 53.983495)          O+   \n",
       "519  (-79.3195375, -66.021489)         AB+   \n",
       "936    (-54.524083, 81.646824)         AB-   \n",
       "77     (-43.196582, 10.948989)          B-   \n",
       "198  (-50.3713875, 155.388276)          O+   \n",
       "601  (-86.0947805, 177.218964)          B+   \n",
       "853     (51.086748, 34.982793)         AB+   \n",
       "118    (38.1600265, 99.345549)          B+   \n",
       "\n",
       "                                               website              username  \\\n",
       "422         [https://ferreira.com/, http://pinto.com/]  luiz-fernandomartins   \n",
       "356  [https://www.da.br/, https://www.moreira.com/,...               varaujo   \n",
       "519                              [https://costela.br/]              alexia97   \n",
       "936                                [http://pinto.com/]        otaviosilveira   \n",
       "77                               [https://mendes.net/]              samuel23   \n",
       "198  [http://www.teixeira.br/, https://www.jesus.co...    luiz-otavioda-cruz   \n",
       "601  [https://ferreira.br/, https://da.com/, http:/...      pintojoao-miguel   \n",
       "853  [https://www.monteiro.br/, http://www.barbosa....             heloisa28   \n",
       "118  [https://santos.org/, http://almeida.org/, htt...               renan86   \n",
       "\n",
       "                       name sex   birthdate  \n",
       "422       João Lucas Campos   M  1943-01-05  \n",
       "356           Heloísa Gomes   F  1941-03-07  \n",
       "519           Leandro Pinto   M  1990-09-10  \n",
       "936  Srta. Ana Clara Aragão   F  1961-11-01  \n",
       "77        Dra. Olivia Rocha   F  1911-07-13  \n",
       "198          Calebe Peixoto   M  1959-01-23  \n",
       "601         Agatha da Cunha   F  2000-07-26  \n",
       "853            João da Cruz   M  1932-05-19  \n",
       "118           Sophia Farias   F  1962-11-18  "
      ],
      "text/html": "<div>\n<style scoped>\n    .dataframe tbody tr th:only-of-type {\n        vertical-align: middle;\n    }\n\n    .dataframe tbody tr th {\n        vertical-align: top;\n    }\n\n    .dataframe thead th {\n        text-align: right;\n    }\n</style>\n<table border=\"1\" class=\"dataframe\">\n  <thead>\n    <tr style=\"text-align: right;\">\n      <th></th>\n      <th>job</th>\n      <th>company</th>\n      <th>ssn</th>\n      <th>residence</th>\n      <th>current_location</th>\n      <th>blood_group</th>\n      <th>website</th>\n      <th>username</th>\n      <th>name</th>\n      <th>sex</th>\n      <th>birthdate</th>\n    </tr>\n  </thead>\n  <tbody>\n    <tr>\n      <th>422</th>\n      <td>Ajudante de produção</td>\n      <td>Lopes</td>\n      <td>38412570626</td>\n      <td>Largo de Rezende\\nCruzeiro\\n22743569 da Mata d...</td>\n      <td>(75.830742, -128.744189)</td>\n      <td>AB-</td>\n      <td>[https://ferreira.com/, http://pinto.com/]</td>\n      <td>luiz-fernandomartins</td>\n      <td>João Lucas Campos</td>\n      <td>M</td>\n      <td>1943-01-05</td>\n    </tr>\n    <tr>\n      <th>356</th>\n      <td>Windsurfer</td>\n      <td>Sales Carvalho e Filhos</td>\n      <td>40693127813</td>\n      <td>Travessa Rodrigues, 176\\nNossa Senhora De Fáti...</td>\n      <td>(43.2068385, 53.983495)</td>\n      <td>O+</td>\n      <td>[https://www.da.br/, https://www.moreira.com/,...</td>\n      <td>varaujo</td>\n      <td>Heloísa Gomes</td>\n      <td>F</td>\n      <td>1941-03-07</td>\n    </tr>\n    <tr>\n      <th>519</th>\n      <td>Rebarbador de metal</td>\n      <td>Sales</td>\n      <td>81450273653</td>\n      <td>Trevo Marcela Nascimento, 639\\nVila Betânia\\n7...</td>\n      <td>(-79.3195375, -66.021489)</td>\n      <td>AB+</td>\n      <td>[https://costela.br/]</td>\n      <td>alexia97</td>\n      <td>Leandro Pinto</td>\n      <td>M</td>\n      <td>1990-09-10</td>\n    </tr>\n    <tr>\n      <th>936</th>\n      <td>Quiropraxista</td>\n      <td>Lima</td>\n      <td>69825741058</td>\n      <td>Pátio de Cardoso\\nSão Pedro\\n81236132 da Mata ...</td>\n      <td>(-54.524083, 81.646824)</td>\n      <td>AB-</td>\n      <td>[http://pinto.com/]</td>\n      <td>otaviosilveira</td>\n      <td>Srta. Ana Clara Aragão</td>\n      <td>F</td>\n      <td>1961-11-01</td>\n    </tr>\n    <tr>\n      <th>77</th>\n      <td>Clap loader</td>\n      <td>Fernandes Ltda.</td>\n      <td>82310549797</td>\n      <td>Recanto de Duarte\\nCandelaria\\n26667665 Cardos...</td>\n      <td>(-43.196582, 10.948989)</td>\n      <td>B-</td>\n      <td>[https://mendes.net/]</td>\n      <td>samuel23</td>\n      <td>Dra. Olivia Rocha</td>\n      <td>F</td>\n      <td>1911-07-13</td>\n    </tr>\n    <tr>\n      <th>198</th>\n      <td>Instalador de painéis</td>\n      <td>Moraes</td>\n      <td>76152809312</td>\n      <td>Rua Yago da Rocha, 23\\nDelta\\n24738483 Porto / AP</td>\n      <td>(-50.3713875, 155.388276)</td>\n      <td>O+</td>\n      <td>[http://www.teixeira.br/, https://www.jesus.co...</td>\n      <td>luiz-otavioda-cruz</td>\n      <td>Calebe Peixoto</td>\n      <td>M</td>\n      <td>1959-01-23</td>\n    </tr>\n    <tr>\n      <th>601</th>\n      <td>Prefeito</td>\n      <td>Moraes Campos Ltda.</td>\n      <td>85294073692</td>\n      <td>Recanto Rafaela Teixeira, 99\\nMariquinhas\\n880...</td>\n      <td>(-86.0947805, 177.218964)</td>\n      <td>B+</td>\n      <td>[https://ferreira.br/, https://da.com/, http:/...</td>\n      <td>pintojoao-miguel</td>\n      <td>Agatha da Cunha</td>\n      <td>F</td>\n      <td>2000-07-26</td>\n    </tr>\n    <tr>\n      <th>853</th>\n      <td>Dublador</td>\n      <td>Aragão Nogueira - EI</td>\n      <td>94530876292</td>\n      <td>Aeroporto Eloah Souza\\nCenaculo\\n81265783 da C...</td>\n      <td>(51.086748, 34.982793)</td>\n      <td>AB+</td>\n      <td>[https://www.monteiro.br/, http://www.barbosa....</td>\n      <td>heloisa28</td>\n      <td>João da Cruz</td>\n      <td>M</td>\n      <td>1932-05-19</td>\n    </tr>\n    <tr>\n      <th>118</th>\n      <td>Digitador</td>\n      <td>Caldeira</td>\n      <td>60841275920</td>\n      <td>Rua de Castro\\nVila Suzana Segunda Seção\\n6056...</td>\n      <td>(38.1600265, 99.345549)</td>\n      <td>B+</td>\n      <td>[https://santos.org/, http://almeida.org/, htt...</td>\n      <td>renan86</td>\n      <td>Sophia Farias</td>\n      <td>F</td>\n      <td>1962-11-18</td>\n    </tr>\n  </tbody>\n</table>\n</div>"
     },
     "metadata": {},
     "execution_count": 215
    }
   ],
   "source": [
    "# retorna linhas aleatorias do seu dataset para realizar amostragem\n",
    "df.sample(9)"
   ]
  },
  {
   "cell_type": "code",
   "execution_count": 216,
   "metadata": {},
   "outputs": [
    {
     "output_type": "execute_result",
     "data": {
      "text/plain": [
       "            job               company          ssn  \\\n",
       "16     Vendedor  Carvalho Peixoto S/A  27543681080   \n",
       "99      General              Monteiro  10697538400   \n",
       "114  Urologista         da Rosa Ltda.  90532786130   \n",
       "148   Professor                Duarte  62073581986   \n",
       "168   Cientista                da Paz  84953712609   \n",
       "\n",
       "                                             residence  \\\n",
       "16   Sítio Stella Barbosa, 8\\nVila Nova Cachoeirinh...   \n",
       "99   Colônia de Silva, 49\\nConjunto Santa Maria\\n28...   \n",
       "114   Favela Santos, 48\\nCenaculo\\n68243-288 Lima / RR   \n",
       "148  Distrito Duarte, 663\\nMonsenhor Messias\\n96340...   \n",
       "168  Pátio Maitê das Neves, 41\\nVila Jardim Leblon\\...   \n",
       "\n",
       "               current_location blood_group  \\\n",
       "16     (-12.864476, -96.075438)          O+   \n",
       "99    (-64.8127305, 111.520633)         AB+   \n",
       "114   (28.1124105, -129.423964)          O+   \n",
       "148     (-42.539751, 38.505322)          B+   \n",
       "168  (-72.3121605, -131.478587)         AB-   \n",
       "\n",
       "                                         website            username  \\\n",
       "16                           [http://gomes.org/]  cavalcantifernando   \n",
       "99                          [http://freitas.br/]          leonardo89   \n",
       "114                             [http://da.net/]             jmoraes   \n",
       "148  [https://mendes.net/, http://www.dias.org/]           jda-rocha   \n",
       "168                             [https://da.br/]      joao-gabriel21   \n",
       "\n",
       "                     name sex   birthdate  \n",
       "16    João Gabriel Vieira   M  1936-05-27  \n",
       "99        João Pedro Lima   M  1969-08-11  \n",
       "114   João Miguel Cardoso   M  1963-07-02  \n",
       "148  João Guilherme Moura   M  1911-03-31  \n",
       "168   João Gabriel Barros   M  1929-04-23  "
      ],
      "text/html": "<div>\n<style scoped>\n    .dataframe tbody tr th:only-of-type {\n        vertical-align: middle;\n    }\n\n    .dataframe tbody tr th {\n        vertical-align: top;\n    }\n\n    .dataframe thead th {\n        text-align: right;\n    }\n</style>\n<table border=\"1\" class=\"dataframe\">\n  <thead>\n    <tr style=\"text-align: right;\">\n      <th></th>\n      <th>job</th>\n      <th>company</th>\n      <th>ssn</th>\n      <th>residence</th>\n      <th>current_location</th>\n      <th>blood_group</th>\n      <th>website</th>\n      <th>username</th>\n      <th>name</th>\n      <th>sex</th>\n      <th>birthdate</th>\n    </tr>\n  </thead>\n  <tbody>\n    <tr>\n      <th>16</th>\n      <td>Vendedor</td>\n      <td>Carvalho Peixoto S/A</td>\n      <td>27543681080</td>\n      <td>Sítio Stella Barbosa, 8\\nVila Nova Cachoeirinh...</td>\n      <td>(-12.864476, -96.075438)</td>\n      <td>O+</td>\n      <td>[http://gomes.org/]</td>\n      <td>cavalcantifernando</td>\n      <td>João Gabriel Vieira</td>\n      <td>M</td>\n      <td>1936-05-27</td>\n    </tr>\n    <tr>\n      <th>99</th>\n      <td>General</td>\n      <td>Monteiro</td>\n      <td>10697538400</td>\n      <td>Colônia de Silva, 49\\nConjunto Santa Maria\\n28...</td>\n      <td>(-64.8127305, 111.520633)</td>\n      <td>AB+</td>\n      <td>[http://freitas.br/]</td>\n      <td>leonardo89</td>\n      <td>João Pedro Lima</td>\n      <td>M</td>\n      <td>1969-08-11</td>\n    </tr>\n    <tr>\n      <th>114</th>\n      <td>Urologista</td>\n      <td>da Rosa Ltda.</td>\n      <td>90532786130</td>\n      <td>Favela Santos, 48\\nCenaculo\\n68243-288 Lima / RR</td>\n      <td>(28.1124105, -129.423964)</td>\n      <td>O+</td>\n      <td>[http://da.net/]</td>\n      <td>jmoraes</td>\n      <td>João Miguel Cardoso</td>\n      <td>M</td>\n      <td>1963-07-02</td>\n    </tr>\n    <tr>\n      <th>148</th>\n      <td>Professor</td>\n      <td>Duarte</td>\n      <td>62073581986</td>\n      <td>Distrito Duarte, 663\\nMonsenhor Messias\\n96340...</td>\n      <td>(-42.539751, 38.505322)</td>\n      <td>B+</td>\n      <td>[https://mendes.net/, http://www.dias.org/]</td>\n      <td>jda-rocha</td>\n      <td>João Guilherme Moura</td>\n      <td>M</td>\n      <td>1911-03-31</td>\n    </tr>\n    <tr>\n      <th>168</th>\n      <td>Cientista</td>\n      <td>da Paz</td>\n      <td>84953712609</td>\n      <td>Pátio Maitê das Neves, 41\\nVila Jardim Leblon\\...</td>\n      <td>(-72.3121605, -131.478587)</td>\n      <td>AB-</td>\n      <td>[https://da.br/]</td>\n      <td>joao-gabriel21</td>\n      <td>João Gabriel Barros</td>\n      <td>M</td>\n      <td>1929-04-23</td>\n    </tr>\n  </tbody>\n</table>\n</div>"
     },
     "metadata": {},
     "execution_count": 216
    }
   ],
   "source": [
    "# trazer os dados se o campo começa com <cadeiacaracter>.\n",
    "df[df.name.str.startswith(\"João\")].head()"
   ]
  },
  {
   "cell_type": "code",
   "execution_count": 217,
   "metadata": {},
   "outputs": [
    {
     "output_type": "execute_result",
     "data": {
      "text/plain": [
       "                           job                      company          ssn  \\\n",
       "128                 Massagista  Silva da Conceição e Filhos  21576049361   \n",
       "129      Adestrador de animais                       Aragão  67354189057   \n",
       "135    Representante comercial           Costa Freitas - EI  20498316769   \n",
       "186             Médico legista       Gonçalves Pereira - EI  43978601222   \n",
       "203  Profissional de logística      Correia Cavalcanti S.A.  21843569051   \n",
       "\n",
       "                                             residence  \\\n",
       "128  Quadra de da Costa, 72\\nSolar Do Barreiro\\n357...   \n",
       "129  Parque Rocha, 72\\nCruzeiro\\n67868-026 Costela ...   \n",
       "135  Quadra Bruna Nunes, 67\\nMarieta 1ª Seção\\n2221...   \n",
       "186  Aeroporto de Fernandes\\nBaleia\\n55647026 Nasci...   \n",
       "203  Campo da Cruz\\nVila Madre Gertrudes 3ª Seção\\n...   \n",
       "\n",
       "              current_location blood_group  \\\n",
       "128     (3.198423, 103.804140)          O-   \n",
       "129   (-17.840241, -99.553241)          O-   \n",
       "135  (63.9080485, -164.512084)          A-   \n",
       "186    (28.658371, -22.581278)         AB-   \n",
       "203  (-69.3962915, 132.015247)          B+   \n",
       "\n",
       "                                               website        username  \\\n",
       "128  [http://www.barros.br/, http://www.costela.br/...         wda-luz   \n",
       "129  [http://www.castro.net/, https://www.lopes.com...        kfreitas   \n",
       "135       [https://peixoto.net/, https://www.das.com/]     fcavalcanti   \n",
       "186      [https://www.da.com/, http://www.moraes.org/]   maria-luiza65   \n",
       "203  [http://almeida.com/, http://www.moreira.org/,...  emanuelrezende   \n",
       "\n",
       "                 name sex   birthdate  \n",
       "128     Rodrigo Alves   M  1942-01-22  \n",
       "129    Carolina Alves   F  1934-06-15  \n",
       "135  Dra. Alice Alves   F  1970-06-05  \n",
       "186       Lucas Alves   M  2000-06-05  \n",
       "203      Felipe Alves   M  1924-03-27  "
      ],
      "text/html": "<div>\n<style scoped>\n    .dataframe tbody tr th:only-of-type {\n        vertical-align: middle;\n    }\n\n    .dataframe tbody tr th {\n        vertical-align: top;\n    }\n\n    .dataframe thead th {\n        text-align: right;\n    }\n</style>\n<table border=\"1\" class=\"dataframe\">\n  <thead>\n    <tr style=\"text-align: right;\">\n      <th></th>\n      <th>job</th>\n      <th>company</th>\n      <th>ssn</th>\n      <th>residence</th>\n      <th>current_location</th>\n      <th>blood_group</th>\n      <th>website</th>\n      <th>username</th>\n      <th>name</th>\n      <th>sex</th>\n      <th>birthdate</th>\n    </tr>\n  </thead>\n  <tbody>\n    <tr>\n      <th>128</th>\n      <td>Massagista</td>\n      <td>Silva da Conceição e Filhos</td>\n      <td>21576049361</td>\n      <td>Quadra de da Costa, 72\\nSolar Do Barreiro\\n357...</td>\n      <td>(3.198423, 103.804140)</td>\n      <td>O-</td>\n      <td>[http://www.barros.br/, http://www.costela.br/...</td>\n      <td>wda-luz</td>\n      <td>Rodrigo Alves</td>\n      <td>M</td>\n      <td>1942-01-22</td>\n    </tr>\n    <tr>\n      <th>129</th>\n      <td>Adestrador de animais</td>\n      <td>Aragão</td>\n      <td>67354189057</td>\n      <td>Parque Rocha, 72\\nCruzeiro\\n67868-026 Costela ...</td>\n      <td>(-17.840241, -99.553241)</td>\n      <td>O-</td>\n      <td>[http://www.castro.net/, https://www.lopes.com...</td>\n      <td>kfreitas</td>\n      <td>Carolina Alves</td>\n      <td>F</td>\n      <td>1934-06-15</td>\n    </tr>\n    <tr>\n      <th>135</th>\n      <td>Representante comercial</td>\n      <td>Costa Freitas - EI</td>\n      <td>20498316769</td>\n      <td>Quadra Bruna Nunes, 67\\nMarieta 1ª Seção\\n2221...</td>\n      <td>(63.9080485, -164.512084)</td>\n      <td>A-</td>\n      <td>[https://peixoto.net/, https://www.das.com/]</td>\n      <td>fcavalcanti</td>\n      <td>Dra. Alice Alves</td>\n      <td>F</td>\n      <td>1970-06-05</td>\n    </tr>\n    <tr>\n      <th>186</th>\n      <td>Médico legista</td>\n      <td>Gonçalves Pereira - EI</td>\n      <td>43978601222</td>\n      <td>Aeroporto de Fernandes\\nBaleia\\n55647026 Nasci...</td>\n      <td>(28.658371, -22.581278)</td>\n      <td>AB-</td>\n      <td>[https://www.da.com/, http://www.moraes.org/]</td>\n      <td>maria-luiza65</td>\n      <td>Lucas Alves</td>\n      <td>M</td>\n      <td>2000-06-05</td>\n    </tr>\n    <tr>\n      <th>203</th>\n      <td>Profissional de logística</td>\n      <td>Correia Cavalcanti S.A.</td>\n      <td>21843569051</td>\n      <td>Campo da Cruz\\nVila Madre Gertrudes 3ª Seção\\n...</td>\n      <td>(-69.3962915, 132.015247)</td>\n      <td>B+</td>\n      <td>[http://almeida.com/, http://www.moreira.org/,...</td>\n      <td>emanuelrezende</td>\n      <td>Felipe Alves</td>\n      <td>M</td>\n      <td>1924-03-27</td>\n    </tr>\n  </tbody>\n</table>\n</div>"
     },
     "metadata": {},
     "execution_count": 217
    }
   ],
   "source": [
    "# Termina com\n",
    "df[df.name.str.endswith(\"Alves\")].head()"
   ]
  },
  {
   "cell_type": "code",
   "execution_count": 218,
   "metadata": {},
   "outputs": [
    {
     "output_type": "execute_result",
     "data": {
      "text/plain": [
       "                           job                      company          ssn  \\\n",
       "128                 Massagista  Silva da Conceição e Filhos  21576049361   \n",
       "129      Adestrador de animais                       Aragão  67354189057   \n",
       "135    Representante comercial           Costa Freitas - EI  20498316769   \n",
       "186             Médico legista       Gonçalves Pereira - EI  43978601222   \n",
       "203  Profissional de logística      Correia Cavalcanti S.A.  21843569051   \n",
       "\n",
       "                                             residence  \\\n",
       "128  Quadra de da Costa, 72\\nSolar Do Barreiro\\n357...   \n",
       "129  Parque Rocha, 72\\nCruzeiro\\n67868-026 Costela ...   \n",
       "135  Quadra Bruna Nunes, 67\\nMarieta 1ª Seção\\n2221...   \n",
       "186  Aeroporto de Fernandes\\nBaleia\\n55647026 Nasci...   \n",
       "203  Campo da Cruz\\nVila Madre Gertrudes 3ª Seção\\n...   \n",
       "\n",
       "              current_location blood_group  \\\n",
       "128     (3.198423, 103.804140)          O-   \n",
       "129   (-17.840241, -99.553241)          O-   \n",
       "135  (63.9080485, -164.512084)          A-   \n",
       "186    (28.658371, -22.581278)         AB-   \n",
       "203  (-69.3962915, 132.015247)          B+   \n",
       "\n",
       "                                               website        username  \\\n",
       "128  [http://www.barros.br/, http://www.costela.br/...         wda-luz   \n",
       "129  [http://www.castro.net/, https://www.lopes.com...        kfreitas   \n",
       "135       [https://peixoto.net/, https://www.das.com/]     fcavalcanti   \n",
       "186      [https://www.da.com/, http://www.moraes.org/]   maria-luiza65   \n",
       "203  [http://almeida.com/, http://www.moreira.org/,...  emanuelrezende   \n",
       "\n",
       "                 name sex   birthdate  \n",
       "128     Rodrigo Alves   M  1942-01-22  \n",
       "129    Carolina Alves   F  1934-06-15  \n",
       "135  Dra. Alice Alves   F  1970-06-05  \n",
       "186       Lucas Alves   M  2000-06-05  \n",
       "203      Felipe Alves   M  1924-03-27  "
      ],
      "text/html": "<div>\n<style scoped>\n    .dataframe tbody tr th:only-of-type {\n        vertical-align: middle;\n    }\n\n    .dataframe tbody tr th {\n        vertical-align: top;\n    }\n\n    .dataframe thead th {\n        text-align: right;\n    }\n</style>\n<table border=\"1\" class=\"dataframe\">\n  <thead>\n    <tr style=\"text-align: right;\">\n      <th></th>\n      <th>job</th>\n      <th>company</th>\n      <th>ssn</th>\n      <th>residence</th>\n      <th>current_location</th>\n      <th>blood_group</th>\n      <th>website</th>\n      <th>username</th>\n      <th>name</th>\n      <th>sex</th>\n      <th>birthdate</th>\n    </tr>\n  </thead>\n  <tbody>\n    <tr>\n      <th>128</th>\n      <td>Massagista</td>\n      <td>Silva da Conceição e Filhos</td>\n      <td>21576049361</td>\n      <td>Quadra de da Costa, 72\\nSolar Do Barreiro\\n357...</td>\n      <td>(3.198423, 103.804140)</td>\n      <td>O-</td>\n      <td>[http://www.barros.br/, http://www.costela.br/...</td>\n      <td>wda-luz</td>\n      <td>Rodrigo Alves</td>\n      <td>M</td>\n      <td>1942-01-22</td>\n    </tr>\n    <tr>\n      <th>129</th>\n      <td>Adestrador de animais</td>\n      <td>Aragão</td>\n      <td>67354189057</td>\n      <td>Parque Rocha, 72\\nCruzeiro\\n67868-026 Costela ...</td>\n      <td>(-17.840241, -99.553241)</td>\n      <td>O-</td>\n      <td>[http://www.castro.net/, https://www.lopes.com...</td>\n      <td>kfreitas</td>\n      <td>Carolina Alves</td>\n      <td>F</td>\n      <td>1934-06-15</td>\n    </tr>\n    <tr>\n      <th>135</th>\n      <td>Representante comercial</td>\n      <td>Costa Freitas - EI</td>\n      <td>20498316769</td>\n      <td>Quadra Bruna Nunes, 67\\nMarieta 1ª Seção\\n2221...</td>\n      <td>(63.9080485, -164.512084)</td>\n      <td>A-</td>\n      <td>[https://peixoto.net/, https://www.das.com/]</td>\n      <td>fcavalcanti</td>\n      <td>Dra. Alice Alves</td>\n      <td>F</td>\n      <td>1970-06-05</td>\n    </tr>\n    <tr>\n      <th>186</th>\n      <td>Médico legista</td>\n      <td>Gonçalves Pereira - EI</td>\n      <td>43978601222</td>\n      <td>Aeroporto de Fernandes\\nBaleia\\n55647026 Nasci...</td>\n      <td>(28.658371, -22.581278)</td>\n      <td>AB-</td>\n      <td>[https://www.da.com/, http://www.moraes.org/]</td>\n      <td>maria-luiza65</td>\n      <td>Lucas Alves</td>\n      <td>M</td>\n      <td>2000-06-05</td>\n    </tr>\n    <tr>\n      <th>203</th>\n      <td>Profissional de logística</td>\n      <td>Correia Cavalcanti S.A.</td>\n      <td>21843569051</td>\n      <td>Campo da Cruz\\nVila Madre Gertrudes 3ª Seção\\n...</td>\n      <td>(-69.3962915, 132.015247)</td>\n      <td>B+</td>\n      <td>[http://almeida.com/, http://www.moreira.org/,...</td>\n      <td>emanuelrezende</td>\n      <td>Felipe Alves</td>\n      <td>M</td>\n      <td>1924-03-27</td>\n    </tr>\n  </tbody>\n</table>\n</div>"
     },
     "metadata": {},
     "execution_count": 218
    }
   ],
   "source": [
    "# Contem\n",
    "df[df.name.str.contains(\"Alves\")].head()\n"
   ]
  },
  {
   "cell_type": "code",
   "execution_count": 219,
   "metadata": {},
   "outputs": [
    {
     "output_type": "execute_result",
     "data": {
      "text/plain": [
       "Empty DataFrame\n",
       "Columns: [job, company, ssn, residence, current_location, blood_group, website, username, name, sex, birthdate]\n",
       "Index: []"
      ],
      "text/html": "<div>\n<style scoped>\n    .dataframe tbody tr th:only-of-type {\n        vertical-align: middle;\n    }\n\n    .dataframe tbody tr th {\n        vertical-align: top;\n    }\n\n    .dataframe thead th {\n        text-align: right;\n    }\n</style>\n<table border=\"1\" class=\"dataframe\">\n  <thead>\n    <tr style=\"text-align: right;\">\n      <th></th>\n      <th>job</th>\n      <th>company</th>\n      <th>ssn</th>\n      <th>residence</th>\n      <th>current_location</th>\n      <th>blood_group</th>\n      <th>website</th>\n      <th>username</th>\n      <th>name</th>\n      <th>sex</th>\n      <th>birthdate</th>\n    </tr>\n  </thead>\n  <tbody>\n  </tbody>\n</table>\n</div>"
     },
     "metadata": {},
     "execution_count": 219
    }
   ],
   "source": [
    "# pelo tamanho do dado\n",
    "df[df.company.str.len()>27]"
   ]
  },
  {
   "cell_type": "code",
   "execution_count": 220,
   "metadata": {},
   "outputs": [
    {
     "output_type": "execute_result",
     "data": {
      "text/plain": [
       "                                   job         company          ssn  \\\n",
       "3   Tecnólogo em negócios imobiliários         Correia  32598046170   \n",
       "4                   Produtor editorial        Oliveira  30471628913   \n",
       "11                            Pedagogo  Gomes e Filhos  78310659466   \n",
       "\n",
       "                                            residence  \\\n",
       "3   Viela Sophie Moreira\\nVila Nova Dos Milionario...   \n",
       "4   Sítio da Mata, 89\\nVila Mangueiras\\n09083-075 ...   \n",
       "11  Largo de Rodrigues, 15\\nFuncionários\\n49217-11...   \n",
       "\n",
       "            current_location blood_group  \\\n",
       "3   (26.150407, -136.473033)          O+   \n",
       "4    (86.325111, 133.158348)          A-   \n",
       "11   (84.5482525, 37.475805)          A-   \n",
       "\n",
       "                                              website            username  \\\n",
       "3                            [http://www.araujo.com/]  gustavo-henrique05   \n",
       "4   [http://cardoso.br/, http://www.costa.br/, htt...           lnogueira   \n",
       "11  [http://silva.br/, https://da.org/, http://vie...             lcampos   \n",
       "\n",
       "                            name sex   birthdate  \n",
       "3   Srta. Maria Vitória Ferreira   F  1928-07-04  \n",
       "4               Larissa Silveira   F  2020-02-13  \n",
       "11     Dr. Luiz Fernando Cardoso   M  1942-01-30  "
      ],
      "text/html": "<div>\n<style scoped>\n    .dataframe tbody tr th:only-of-type {\n        vertical-align: middle;\n    }\n\n    .dataframe tbody tr th {\n        vertical-align: top;\n    }\n\n    .dataframe thead th {\n        text-align: right;\n    }\n</style>\n<table border=\"1\" class=\"dataframe\">\n  <thead>\n    <tr style=\"text-align: right;\">\n      <th></th>\n      <th>job</th>\n      <th>company</th>\n      <th>ssn</th>\n      <th>residence</th>\n      <th>current_location</th>\n      <th>blood_group</th>\n      <th>website</th>\n      <th>username</th>\n      <th>name</th>\n      <th>sex</th>\n      <th>birthdate</th>\n    </tr>\n  </thead>\n  <tbody>\n    <tr>\n      <th>3</th>\n      <td>Tecnólogo em negócios imobiliários</td>\n      <td>Correia</td>\n      <td>32598046170</td>\n      <td>Viela Sophie Moreira\\nVila Nova Dos Milionario...</td>\n      <td>(26.150407, -136.473033)</td>\n      <td>O+</td>\n      <td>[http://www.araujo.com/]</td>\n      <td>gustavo-henrique05</td>\n      <td>Srta. Maria Vitória Ferreira</td>\n      <td>F</td>\n      <td>1928-07-04</td>\n    </tr>\n    <tr>\n      <th>4</th>\n      <td>Produtor editorial</td>\n      <td>Oliveira</td>\n      <td>30471628913</td>\n      <td>Sítio da Mata, 89\\nVila Mangueiras\\n09083-075 ...</td>\n      <td>(86.325111, 133.158348)</td>\n      <td>A-</td>\n      <td>[http://cardoso.br/, http://www.costa.br/, htt...</td>\n      <td>lnogueira</td>\n      <td>Larissa Silveira</td>\n      <td>F</td>\n      <td>2020-02-13</td>\n    </tr>\n    <tr>\n      <th>11</th>\n      <td>Pedagogo</td>\n      <td>Gomes e Filhos</td>\n      <td>78310659466</td>\n      <td>Largo de Rodrigues, 15\\nFuncionários\\n49217-11...</td>\n      <td>(84.5482525, 37.475805)</td>\n      <td>A-</td>\n      <td>[http://silva.br/, https://da.org/, http://vie...</td>\n      <td>lcampos</td>\n      <td>Dr. Luiz Fernando Cardoso</td>\n      <td>M</td>\n      <td>1942-01-30</td>\n    </tr>\n  </tbody>\n</table>\n</div>"
     },
     "metadata": {},
     "execution_count": 220
    }
   ],
   "source": [
    "# Passar uma lista na condição (IsIn)\n",
    "grupos_sang = ['O+', 'A-']\n",
    "df[df.blood_group.isin(grupos_sang)].head(3)"
   ]
  },
  {
   "cell_type": "code",
   "execution_count": 221,
   "metadata": {},
   "outputs": [
    {
     "output_type": "execute_result",
     "data": {
      "text/plain": [
       "Empty DataFrame\n",
       "Columns: [job, company, ssn, residence, current_location, blood_group, website, username, name, sex, birthdate]\n",
       "Index: []"
      ],
      "text/html": "<div>\n<style scoped>\n    .dataframe tbody tr th:only-of-type {\n        vertical-align: middle;\n    }\n\n    .dataframe tbody tr th {\n        vertical-align: top;\n    }\n\n    .dataframe thead th {\n        text-align: right;\n    }\n</style>\n<table border=\"1\" class=\"dataframe\">\n  <thead>\n    <tr style=\"text-align: right;\">\n      <th></th>\n      <th>job</th>\n      <th>company</th>\n      <th>ssn</th>\n      <th>residence</th>\n      <th>current_location</th>\n      <th>blood_group</th>\n      <th>website</th>\n      <th>username</th>\n      <th>name</th>\n      <th>sex</th>\n      <th>birthdate</th>\n    </tr>\n  </thead>\n  <tbody>\n  </tbody>\n</table>\n</div>"
     },
     "metadata": {},
     "execution_count": 221
    }
   ],
   "source": [
    "# trazer os dados qndo uma variavel é nula\n",
    "df[pd.isnull(df.ssn)]"
   ]
  },
  {
   "cell_type": "code",
   "execution_count": 222,
   "metadata": {},
   "outputs": [
    {
     "output_type": "execute_result",
     "data": {
      "text/plain": [
       "                                    job                   company  \\\n",
       "0                                  Gari        da Cunha Lopes S/A   \n",
       "1            Agente de defesa sanitária                Costa - EI   \n",
       "2                              Peixeiro            Sales e Filhos   \n",
       "3    Tecnólogo em negócios imobiliários                   Correia   \n",
       "4                    Produtor editorial                  Oliveira   \n",
       "..                                  ...                       ...   \n",
       "995     Tecnólogo em rochas ornamentais                    Fogaça   \n",
       "996                             Químico                     Pires   \n",
       "997                          Jangadeiro                 das Neves   \n",
       "998                              Maitre                 das Neves   \n",
       "999                   Lutador de karatê  da Mota Pereira e Filhos   \n",
       "\n",
       "             ssn                                          residence  \\\n",
       "0    71934625809  Passarela Luiz Henrique Lopes, 605\\nJoão Alfre...   \n",
       "1    39561207877  Passarela Kevin Porto, 48\\nPrado\\n03965859 da ...   \n",
       "2    74081652317  Distrito de Rezende, 82\\nVila Da Amizade\\n2969...   \n",
       "3    32598046170  Viela Sophie Moreira\\nVila Nova Dos Milionario...   \n",
       "4    30471628913  Sítio da Mata, 89\\nVila Mangueiras\\n09083-075 ...   \n",
       "..           ...                                                ...   \n",
       "995  18230749523  Chácara Isabel da Paz, 88\\nVila Nova Cachoeiri...   \n",
       "996  85360247126  Alameda Peixoto, 53\\nAraguaia\\n22480111 Azeved...   \n",
       "997  40671523880  Área Pinto, 94\\nOlaria\\n68915-236 Rocha de Ara...   \n",
       "998  42619538700  Favela Ana Beatriz Rodrigues, 7\\nSão Paulo\\n18...   \n",
       "999  35089276102  Rodovia Cavalcanti, 835\\nJaqueline\\n25326-371 ...   \n",
       "\n",
       "              current_location blood_group  \\\n",
       "0    (-71.7083325, -19.685561)          A+   \n",
       "1       (10.0459845, 8.899647)         AB-   \n",
       "2     (37.0933195, 147.091107)         AB+   \n",
       "3     (26.150407, -136.473033)          O+   \n",
       "4      (86.325111, 133.158348)          A-   \n",
       "..                         ...         ...   \n",
       "995     (71.887598, 29.613037)          B+   \n",
       "996   (-36.765167, 110.164831)          O+   \n",
       "997  (52.5148665, -100.321234)         AB+   \n",
       "998   (61.6094915, 138.174555)          A-   \n",
       "999    (-78.202119, 82.542684)          A-   \n",
       "\n",
       "                                               website            username  \\\n",
       "0                              [http://www.mendes.br/]       maria-julia16   \n",
       "1    [http://da.com/, https://rodrigues.net/, https...      emanuelcardoso   \n",
       "2    [http://www.das.com/, http://www.peixoto.org/,...           melissa92   \n",
       "3                             [http://www.araujo.com/]  gustavo-henrique05   \n",
       "4    [http://cardoso.br/, http://www.costa.br/, htt...           lnogueira   \n",
       "..                                                 ...                 ...   \n",
       "995                            [http://www.mendes.br/]         alexiacosta   \n",
       "996                        [https://www.teixeira.net/]       moreiraenrico   \n",
       "997  [http://www.da.com/, http://www.goncalves.br/,...           alvescaue   \n",
       "998  [http://www.oliveira.br/, https://aragao.net/,...     emanuelteixeira   \n",
       "999  [https://fernandes.com/, http://da.br/, https:...   nogueiraana-clara   \n",
       "\n",
       "                             name sex   birthdate  \n",
       "0                 Arthur Oliveira   M  2017-04-09  \n",
       "1                  Eloah da Rocha   F  1984-11-15  \n",
       "2                   Clarice Pires   F  1910-04-07  \n",
       "3    Srta. Maria Vitória Ferreira   F  1928-07-04  \n",
       "4                Larissa Silveira   F  2020-02-13  \n",
       "..                            ...  ..         ...  \n",
       "995           Dr. Vicente da Rosa   M  1932-01-07  \n",
       "996             João Pedro Santos   M  1976-09-22  \n",
       "997              Larissa da Cunha   F  2006-07-26  \n",
       "998              Clarice Ferreira   F  1936-05-04  \n",
       "999              Sr. Danilo Ramos   M  1981-12-19  \n",
       "\n",
       "[1000 rows x 11 columns]"
      ],
      "text/html": "<div>\n<style scoped>\n    .dataframe tbody tr th:only-of-type {\n        vertical-align: middle;\n    }\n\n    .dataframe tbody tr th {\n        vertical-align: top;\n    }\n\n    .dataframe thead th {\n        text-align: right;\n    }\n</style>\n<table border=\"1\" class=\"dataframe\">\n  <thead>\n    <tr style=\"text-align: right;\">\n      <th></th>\n      <th>job</th>\n      <th>company</th>\n      <th>ssn</th>\n      <th>residence</th>\n      <th>current_location</th>\n      <th>blood_group</th>\n      <th>website</th>\n      <th>username</th>\n      <th>name</th>\n      <th>sex</th>\n      <th>birthdate</th>\n    </tr>\n  </thead>\n  <tbody>\n    <tr>\n      <th>0</th>\n      <td>Gari</td>\n      <td>da Cunha Lopes S/A</td>\n      <td>71934625809</td>\n      <td>Passarela Luiz Henrique Lopes, 605\\nJoão Alfre...</td>\n      <td>(-71.7083325, -19.685561)</td>\n      <td>A+</td>\n      <td>[http://www.mendes.br/]</td>\n      <td>maria-julia16</td>\n      <td>Arthur Oliveira</td>\n      <td>M</td>\n      <td>2017-04-09</td>\n    </tr>\n    <tr>\n      <th>1</th>\n      <td>Agente de defesa sanitária</td>\n      <td>Costa - EI</td>\n      <td>39561207877</td>\n      <td>Passarela Kevin Porto, 48\\nPrado\\n03965859 da ...</td>\n      <td>(10.0459845, 8.899647)</td>\n      <td>AB-</td>\n      <td>[http://da.com/, https://rodrigues.net/, https...</td>\n      <td>emanuelcardoso</td>\n      <td>Eloah da Rocha</td>\n      <td>F</td>\n      <td>1984-11-15</td>\n    </tr>\n    <tr>\n      <th>2</th>\n      <td>Peixeiro</td>\n      <td>Sales e Filhos</td>\n      <td>74081652317</td>\n      <td>Distrito de Rezende, 82\\nVila Da Amizade\\n2969...</td>\n      <td>(37.0933195, 147.091107)</td>\n      <td>AB+</td>\n      <td>[http://www.das.com/, http://www.peixoto.org/,...</td>\n      <td>melissa92</td>\n      <td>Clarice Pires</td>\n      <td>F</td>\n      <td>1910-04-07</td>\n    </tr>\n    <tr>\n      <th>3</th>\n      <td>Tecnólogo em negócios imobiliários</td>\n      <td>Correia</td>\n      <td>32598046170</td>\n      <td>Viela Sophie Moreira\\nVila Nova Dos Milionario...</td>\n      <td>(26.150407, -136.473033)</td>\n      <td>O+</td>\n      <td>[http://www.araujo.com/]</td>\n      <td>gustavo-henrique05</td>\n      <td>Srta. Maria Vitória Ferreira</td>\n      <td>F</td>\n      <td>1928-07-04</td>\n    </tr>\n    <tr>\n      <th>4</th>\n      <td>Produtor editorial</td>\n      <td>Oliveira</td>\n      <td>30471628913</td>\n      <td>Sítio da Mata, 89\\nVila Mangueiras\\n09083-075 ...</td>\n      <td>(86.325111, 133.158348)</td>\n      <td>A-</td>\n      <td>[http://cardoso.br/, http://www.costa.br/, htt...</td>\n      <td>lnogueira</td>\n      <td>Larissa Silveira</td>\n      <td>F</td>\n      <td>2020-02-13</td>\n    </tr>\n    <tr>\n      <th>...</th>\n      <td>...</td>\n      <td>...</td>\n      <td>...</td>\n      <td>...</td>\n      <td>...</td>\n      <td>...</td>\n      <td>...</td>\n      <td>...</td>\n      <td>...</td>\n      <td>...</td>\n      <td>...</td>\n    </tr>\n    <tr>\n      <th>995</th>\n      <td>Tecnólogo em rochas ornamentais</td>\n      <td>Fogaça</td>\n      <td>18230749523</td>\n      <td>Chácara Isabel da Paz, 88\\nVila Nova Cachoeiri...</td>\n      <td>(71.887598, 29.613037)</td>\n      <td>B+</td>\n      <td>[http://www.mendes.br/]</td>\n      <td>alexiacosta</td>\n      <td>Dr. Vicente da Rosa</td>\n      <td>M</td>\n      <td>1932-01-07</td>\n    </tr>\n    <tr>\n      <th>996</th>\n      <td>Químico</td>\n      <td>Pires</td>\n      <td>85360247126</td>\n      <td>Alameda Peixoto, 53\\nAraguaia\\n22480111 Azeved...</td>\n      <td>(-36.765167, 110.164831)</td>\n      <td>O+</td>\n      <td>[https://www.teixeira.net/]</td>\n      <td>moreiraenrico</td>\n      <td>João Pedro Santos</td>\n      <td>M</td>\n      <td>1976-09-22</td>\n    </tr>\n    <tr>\n      <th>997</th>\n      <td>Jangadeiro</td>\n      <td>das Neves</td>\n      <td>40671523880</td>\n      <td>Área Pinto, 94\\nOlaria\\n68915-236 Rocha de Ara...</td>\n      <td>(52.5148665, -100.321234)</td>\n      <td>AB+</td>\n      <td>[http://www.da.com/, http://www.goncalves.br/,...</td>\n      <td>alvescaue</td>\n      <td>Larissa da Cunha</td>\n      <td>F</td>\n      <td>2006-07-26</td>\n    </tr>\n    <tr>\n      <th>998</th>\n      <td>Maitre</td>\n      <td>das Neves</td>\n      <td>42619538700</td>\n      <td>Favela Ana Beatriz Rodrigues, 7\\nSão Paulo\\n18...</td>\n      <td>(61.6094915, 138.174555)</td>\n      <td>A-</td>\n      <td>[http://www.oliveira.br/, https://aragao.net/,...</td>\n      <td>emanuelteixeira</td>\n      <td>Clarice Ferreira</td>\n      <td>F</td>\n      <td>1936-05-04</td>\n    </tr>\n    <tr>\n      <th>999</th>\n      <td>Lutador de karatê</td>\n      <td>da Mota Pereira e Filhos</td>\n      <td>35089276102</td>\n      <td>Rodovia Cavalcanti, 835\\nJaqueline\\n25326-371 ...</td>\n      <td>(-78.202119, 82.542684)</td>\n      <td>A-</td>\n      <td>[https://fernandes.com/, http://da.br/, https:...</td>\n      <td>nogueiraana-clara</td>\n      <td>Sr. Danilo Ramos</td>\n      <td>M</td>\n      <td>1981-12-19</td>\n    </tr>\n  </tbody>\n</table>\n<p>1000 rows × 11 columns</p>\n</div>"
     },
     "metadata": {},
     "execution_count": 222
    }
   ],
   "source": [
    "# negação de condição\n",
    "df[~pd.isnull(df.ssn)]"
   ]
  },
  {
   "source": [
    "### Inserindo colunas no dataframe"
   ],
   "cell_type": "markdown",
   "metadata": {}
  },
  {
   "cell_type": "code",
   "execution_count": 223,
   "metadata": {},
   "outputs": [
    {
     "output_type": "execute_result",
     "data": {
      "text/plain": [
       "                                    job                  company          ssn  \\\n",
       "467                         Trompetista             Silveira S/A  12786304903   \n",
       "522                 Seguidor de compras               Fogaça S/A  39170648557   \n",
       "873                             Lavador         Campos Nunes S/A  57182940620   \n",
       "66                             Oculista         Pereira e Filhos   3764982187   \n",
       "163                      Massoterapeuta                  Freitas  25340689115   \n",
       "153                    Artista plástico      Campos Cardoso S.A.  75624908130   \n",
       "700  Engenheiro de controle e automação           Rodrigues - ME   8674321526   \n",
       "415                          Revendedor                 Oliveira  61924073552   \n",
       "918                           Biomédico  da Rocha da Costa Ltda.  45826910720   \n",
       "283                Economista doméstico  Oliveira Fernandes - ME  76102348931   \n",
       "\n",
       "                                             residence  \\\n",
       "467  Morro Jesus, 18\\nNossa Senhora Do Rosário\\n631...   \n",
       "522  Viela João Lucas Lima, 9\\nPadre Eustáquio\\n343...   \n",
       "873  Rodovia da Conceição, 82\\nVila Real 2ª Seção\\n...   \n",
       "66   Vereda Moura, 47\\nMarçola\\n40671-689 da Mata / RO   \n",
       "163  Viela Ferreira, 910\\nBetânia\\n00687606 da Cruz...   \n",
       "153  Setor Lopes, 2\\nVila Ipiranga\\n86129410 Rodrig...   \n",
       "700  Sítio de Novaes\\nBela Vitoria\\n15327-465 Melo ...   \n",
       "415  Fazenda Alves, 12\\nVila Madre Gertrudes 1ª Seç...   \n",
       "918  Vereda Juan Castro, 351\\nAntonio Ribeiro De Ab...   \n",
       "283  Alameda Monteiro, 777\\nSanta Inês\\n68971940 Ca...   \n",
       "\n",
       "              current_location blood_group  \\\n",
       "467  (-26.4747815, -79.757851)          B+   \n",
       "522     (15.0367785, 0.140978)         AB+   \n",
       "873   (27.902729, -173.986728)          A-   \n",
       "66   (-55.9290795, 103.893325)         AB-   \n",
       "163   (19.5908915, -91.872860)          A-   \n",
       "153      (58.880171, 7.937855)         AB+   \n",
       "700     (47.675336, 64.485598)          B+   \n",
       "415     (60.811091, 63.872449)         AB-   \n",
       "918    (-33.181667, 67.175345)         AB-   \n",
       "283    (58.7767335, 66.022628)          O+   \n",
       "\n",
       "                                               website              username  \\\n",
       "467                          [https://www.peixoto.br/]               eloah27   \n",
       "522                         [http://www.carvalho.net/]         joaquimfogaca   \n",
       "873                            [https://rodrigues.br/]             xda-rocha   \n",
       "66                                [http://ribeiro.br/]      nicolasdas-neves   \n",
       "163                         [https://www.silveira.br/]              wribeiro   \n",
       "153  [http://pinto.com/, https://nascimento.org/, h...             steixeira   \n",
       "700  [https://moraes.br/, http://barbosa.com/, http...  santospedro-henrique   \n",
       "415                               [http://barros.com/]    nascimentovinicius   \n",
       "918           [https://www.da.br/, http://castro.com/]             benicio42   \n",
       "283  [http://costa.br/, http://goncalves.com/, http...              mcorreia   \n",
       "\n",
       "                          name sex   birthdate  \n",
       "467  Dr. Vitor Gabriel Costela   M  1959-08-27  \n",
       "522               Pietro Nunes   M  2009-05-04  \n",
       "873                  Isis Lima   F  1942-02-03  \n",
       "66            Bianca Fernandes   F  1922-12-03  \n",
       "163             Alana da Costa   F  1951-03-17  \n",
       "153   Dr. Carlos Eduardo Jesus   M  1928-12-08  \n",
       "700            Sr. Vitor Pinto   M  1924-08-10  \n",
       "415     Srta. Larissa da Costa   F  1905-11-03  \n",
       "918             Pietra Ribeiro   F  1979-12-13  \n",
       "283          Sr. Rafael Mendes   M  1984-04-26  "
      ],
      "text/html": "<div>\n<style scoped>\n    .dataframe tbody tr th:only-of-type {\n        vertical-align: middle;\n    }\n\n    .dataframe tbody tr th {\n        vertical-align: top;\n    }\n\n    .dataframe thead th {\n        text-align: right;\n    }\n</style>\n<table border=\"1\" class=\"dataframe\">\n  <thead>\n    <tr style=\"text-align: right;\">\n      <th></th>\n      <th>job</th>\n      <th>company</th>\n      <th>ssn</th>\n      <th>residence</th>\n      <th>current_location</th>\n      <th>blood_group</th>\n      <th>website</th>\n      <th>username</th>\n      <th>name</th>\n      <th>sex</th>\n      <th>birthdate</th>\n    </tr>\n  </thead>\n  <tbody>\n    <tr>\n      <th>467</th>\n      <td>Trompetista</td>\n      <td>Silveira S/A</td>\n      <td>12786304903</td>\n      <td>Morro Jesus, 18\\nNossa Senhora Do Rosário\\n631...</td>\n      <td>(-26.4747815, -79.757851)</td>\n      <td>B+</td>\n      <td>[https://www.peixoto.br/]</td>\n      <td>eloah27</td>\n      <td>Dr. Vitor Gabriel Costela</td>\n      <td>M</td>\n      <td>1959-08-27</td>\n    </tr>\n    <tr>\n      <th>522</th>\n      <td>Seguidor de compras</td>\n      <td>Fogaça S/A</td>\n      <td>39170648557</td>\n      <td>Viela João Lucas Lima, 9\\nPadre Eustáquio\\n343...</td>\n      <td>(15.0367785, 0.140978)</td>\n      <td>AB+</td>\n      <td>[http://www.carvalho.net/]</td>\n      <td>joaquimfogaca</td>\n      <td>Pietro Nunes</td>\n      <td>M</td>\n      <td>2009-05-04</td>\n    </tr>\n    <tr>\n      <th>873</th>\n      <td>Lavador</td>\n      <td>Campos Nunes S/A</td>\n      <td>57182940620</td>\n      <td>Rodovia da Conceição, 82\\nVila Real 2ª Seção\\n...</td>\n      <td>(27.902729, -173.986728)</td>\n      <td>A-</td>\n      <td>[https://rodrigues.br/]</td>\n      <td>xda-rocha</td>\n      <td>Isis Lima</td>\n      <td>F</td>\n      <td>1942-02-03</td>\n    </tr>\n    <tr>\n      <th>66</th>\n      <td>Oculista</td>\n      <td>Pereira e Filhos</td>\n      <td>3764982187</td>\n      <td>Vereda Moura, 47\\nMarçola\\n40671-689 da Mata / RO</td>\n      <td>(-55.9290795, 103.893325)</td>\n      <td>AB-</td>\n      <td>[http://ribeiro.br/]</td>\n      <td>nicolasdas-neves</td>\n      <td>Bianca Fernandes</td>\n      <td>F</td>\n      <td>1922-12-03</td>\n    </tr>\n    <tr>\n      <th>163</th>\n      <td>Massoterapeuta</td>\n      <td>Freitas</td>\n      <td>25340689115</td>\n      <td>Viela Ferreira, 910\\nBetânia\\n00687606 da Cruz...</td>\n      <td>(19.5908915, -91.872860)</td>\n      <td>A-</td>\n      <td>[https://www.silveira.br/]</td>\n      <td>wribeiro</td>\n      <td>Alana da Costa</td>\n      <td>F</td>\n      <td>1951-03-17</td>\n    </tr>\n    <tr>\n      <th>153</th>\n      <td>Artista plástico</td>\n      <td>Campos Cardoso S.A.</td>\n      <td>75624908130</td>\n      <td>Setor Lopes, 2\\nVila Ipiranga\\n86129410 Rodrig...</td>\n      <td>(58.880171, 7.937855)</td>\n      <td>AB+</td>\n      <td>[http://pinto.com/, https://nascimento.org/, h...</td>\n      <td>steixeira</td>\n      <td>Dr. Carlos Eduardo Jesus</td>\n      <td>M</td>\n      <td>1928-12-08</td>\n    </tr>\n    <tr>\n      <th>700</th>\n      <td>Engenheiro de controle e automação</td>\n      <td>Rodrigues - ME</td>\n      <td>8674321526</td>\n      <td>Sítio de Novaes\\nBela Vitoria\\n15327-465 Melo ...</td>\n      <td>(47.675336, 64.485598)</td>\n      <td>B+</td>\n      <td>[https://moraes.br/, http://barbosa.com/, http...</td>\n      <td>santospedro-henrique</td>\n      <td>Sr. Vitor Pinto</td>\n      <td>M</td>\n      <td>1924-08-10</td>\n    </tr>\n    <tr>\n      <th>415</th>\n      <td>Revendedor</td>\n      <td>Oliveira</td>\n      <td>61924073552</td>\n      <td>Fazenda Alves, 12\\nVila Madre Gertrudes 1ª Seç...</td>\n      <td>(60.811091, 63.872449)</td>\n      <td>AB-</td>\n      <td>[http://barros.com/]</td>\n      <td>nascimentovinicius</td>\n      <td>Srta. Larissa da Costa</td>\n      <td>F</td>\n      <td>1905-11-03</td>\n    </tr>\n    <tr>\n      <th>918</th>\n      <td>Biomédico</td>\n      <td>da Rocha da Costa Ltda.</td>\n      <td>45826910720</td>\n      <td>Vereda Juan Castro, 351\\nAntonio Ribeiro De Ab...</td>\n      <td>(-33.181667, 67.175345)</td>\n      <td>AB-</td>\n      <td>[https://www.da.br/, http://castro.com/]</td>\n      <td>benicio42</td>\n      <td>Pietra Ribeiro</td>\n      <td>F</td>\n      <td>1979-12-13</td>\n    </tr>\n    <tr>\n      <th>283</th>\n      <td>Economista doméstico</td>\n      <td>Oliveira Fernandes - ME</td>\n      <td>76102348931</td>\n      <td>Alameda Monteiro, 777\\nSanta Inês\\n68971940 Ca...</td>\n      <td>(58.7767335, 66.022628)</td>\n      <td>O+</td>\n      <td>[http://costa.br/, http://goncalves.com/, http...</td>\n      <td>mcorreia</td>\n      <td>Sr. Rafael Mendes</td>\n      <td>M</td>\n      <td>1984-04-26</td>\n    </tr>\n  </tbody>\n</table>\n</div>"
     },
     "metadata": {},
     "execution_count": 223
    }
   ],
   "source": [
    "# gerando um dataframe por amostragem\n",
    "df2 = df.copy()\n",
    "df2 = df2.sample(10)\n",
    "df2"
   ]
  },
  {
   "source": [
    "> `Inserindo uma chave primaria para a amostragem`\n"
   ],
   "cell_type": "markdown",
   "metadata": {}
  },
  {
   "cell_type": "code",
   "execution_count": 224,
   "metadata": {},
   "outputs": [
    {
     "output_type": "execute_result",
     "data": {
      "text/plain": [
       "                                    job                  company          ssn  \\\n",
       "467                         Trompetista             Silveira S/A  12786304903   \n",
       "522                 Seguidor de compras               Fogaça S/A  39170648557   \n",
       "873                             Lavador         Campos Nunes S/A  57182940620   \n",
       "66                             Oculista         Pereira e Filhos   3764982187   \n",
       "163                      Massoterapeuta                  Freitas  25340689115   \n",
       "153                    Artista plástico      Campos Cardoso S.A.  75624908130   \n",
       "700  Engenheiro de controle e automação           Rodrigues - ME   8674321526   \n",
       "415                          Revendedor                 Oliveira  61924073552   \n",
       "918                           Biomédico  da Rocha da Costa Ltda.  45826910720   \n",
       "283                Economista doméstico  Oliveira Fernandes - ME  76102348931   \n",
       "\n",
       "                                             residence  \\\n",
       "467  Morro Jesus, 18\\nNossa Senhora Do Rosário\\n631...   \n",
       "522  Viela João Lucas Lima, 9\\nPadre Eustáquio\\n343...   \n",
       "873  Rodovia da Conceição, 82\\nVila Real 2ª Seção\\n...   \n",
       "66   Vereda Moura, 47\\nMarçola\\n40671-689 da Mata / RO   \n",
       "163  Viela Ferreira, 910\\nBetânia\\n00687606 da Cruz...   \n",
       "153  Setor Lopes, 2\\nVila Ipiranga\\n86129410 Rodrig...   \n",
       "700  Sítio de Novaes\\nBela Vitoria\\n15327-465 Melo ...   \n",
       "415  Fazenda Alves, 12\\nVila Madre Gertrudes 1ª Seç...   \n",
       "918  Vereda Juan Castro, 351\\nAntonio Ribeiro De Ab...   \n",
       "283  Alameda Monteiro, 777\\nSanta Inês\\n68971940 Ca...   \n",
       "\n",
       "              current_location blood_group  \\\n",
       "467  (-26.4747815, -79.757851)          B+   \n",
       "522     (15.0367785, 0.140978)         AB+   \n",
       "873   (27.902729, -173.986728)          A-   \n",
       "66   (-55.9290795, 103.893325)         AB-   \n",
       "163   (19.5908915, -91.872860)          A-   \n",
       "153      (58.880171, 7.937855)         AB+   \n",
       "700     (47.675336, 64.485598)          B+   \n",
       "415     (60.811091, 63.872449)         AB-   \n",
       "918    (-33.181667, 67.175345)         AB-   \n",
       "283    (58.7767335, 66.022628)          O+   \n",
       "\n",
       "                                               website              username  \\\n",
       "467                          [https://www.peixoto.br/]               eloah27   \n",
       "522                         [http://www.carvalho.net/]         joaquimfogaca   \n",
       "873                            [https://rodrigues.br/]             xda-rocha   \n",
       "66                                [http://ribeiro.br/]      nicolasdas-neves   \n",
       "163                         [https://www.silveira.br/]              wribeiro   \n",
       "153  [http://pinto.com/, https://nascimento.org/, h...             steixeira   \n",
       "700  [https://moraes.br/, http://barbosa.com/, http...  santospedro-henrique   \n",
       "415                               [http://barros.com/]    nascimentovinicius   \n",
       "918           [https://www.da.br/, http://castro.com/]             benicio42   \n",
       "283  [http://costa.br/, http://goncalves.com/, http...              mcorreia   \n",
       "\n",
       "                          name sex   birthdate  ID  \n",
       "467  Dr. Vitor Gabriel Costela   M  1959-08-27   0  \n",
       "522               Pietro Nunes   M  2009-05-04   1  \n",
       "873                  Isis Lima   F  1942-02-03   2  \n",
       "66            Bianca Fernandes   F  1922-12-03   3  \n",
       "163             Alana da Costa   F  1951-03-17   4  \n",
       "153   Dr. Carlos Eduardo Jesus   M  1928-12-08   5  \n",
       "700            Sr. Vitor Pinto   M  1924-08-10   6  \n",
       "415     Srta. Larissa da Costa   F  1905-11-03   7  \n",
       "918             Pietra Ribeiro   F  1979-12-13   8  \n",
       "283          Sr. Rafael Mendes   M  1984-04-26   9  "
      ],
      "text/html": "<div>\n<style scoped>\n    .dataframe tbody tr th:only-of-type {\n        vertical-align: middle;\n    }\n\n    .dataframe tbody tr th {\n        vertical-align: top;\n    }\n\n    .dataframe thead th {\n        text-align: right;\n    }\n</style>\n<table border=\"1\" class=\"dataframe\">\n  <thead>\n    <tr style=\"text-align: right;\">\n      <th></th>\n      <th>job</th>\n      <th>company</th>\n      <th>ssn</th>\n      <th>residence</th>\n      <th>current_location</th>\n      <th>blood_group</th>\n      <th>website</th>\n      <th>username</th>\n      <th>name</th>\n      <th>sex</th>\n      <th>birthdate</th>\n      <th>ID</th>\n    </tr>\n  </thead>\n  <tbody>\n    <tr>\n      <th>467</th>\n      <td>Trompetista</td>\n      <td>Silveira S/A</td>\n      <td>12786304903</td>\n      <td>Morro Jesus, 18\\nNossa Senhora Do Rosário\\n631...</td>\n      <td>(-26.4747815, -79.757851)</td>\n      <td>B+</td>\n      <td>[https://www.peixoto.br/]</td>\n      <td>eloah27</td>\n      <td>Dr. Vitor Gabriel Costela</td>\n      <td>M</td>\n      <td>1959-08-27</td>\n      <td>0</td>\n    </tr>\n    <tr>\n      <th>522</th>\n      <td>Seguidor de compras</td>\n      <td>Fogaça S/A</td>\n      <td>39170648557</td>\n      <td>Viela João Lucas Lima, 9\\nPadre Eustáquio\\n343...</td>\n      <td>(15.0367785, 0.140978)</td>\n      <td>AB+</td>\n      <td>[http://www.carvalho.net/]</td>\n      <td>joaquimfogaca</td>\n      <td>Pietro Nunes</td>\n      <td>M</td>\n      <td>2009-05-04</td>\n      <td>1</td>\n    </tr>\n    <tr>\n      <th>873</th>\n      <td>Lavador</td>\n      <td>Campos Nunes S/A</td>\n      <td>57182940620</td>\n      <td>Rodovia da Conceição, 82\\nVila Real 2ª Seção\\n...</td>\n      <td>(27.902729, -173.986728)</td>\n      <td>A-</td>\n      <td>[https://rodrigues.br/]</td>\n      <td>xda-rocha</td>\n      <td>Isis Lima</td>\n      <td>F</td>\n      <td>1942-02-03</td>\n      <td>2</td>\n    </tr>\n    <tr>\n      <th>66</th>\n      <td>Oculista</td>\n      <td>Pereira e Filhos</td>\n      <td>3764982187</td>\n      <td>Vereda Moura, 47\\nMarçola\\n40671-689 da Mata / RO</td>\n      <td>(-55.9290795, 103.893325)</td>\n      <td>AB-</td>\n      <td>[http://ribeiro.br/]</td>\n      <td>nicolasdas-neves</td>\n      <td>Bianca Fernandes</td>\n      <td>F</td>\n      <td>1922-12-03</td>\n      <td>3</td>\n    </tr>\n    <tr>\n      <th>163</th>\n      <td>Massoterapeuta</td>\n      <td>Freitas</td>\n      <td>25340689115</td>\n      <td>Viela Ferreira, 910\\nBetânia\\n00687606 da Cruz...</td>\n      <td>(19.5908915, -91.872860)</td>\n      <td>A-</td>\n      <td>[https://www.silveira.br/]</td>\n      <td>wribeiro</td>\n      <td>Alana da Costa</td>\n      <td>F</td>\n      <td>1951-03-17</td>\n      <td>4</td>\n    </tr>\n    <tr>\n      <th>153</th>\n      <td>Artista plástico</td>\n      <td>Campos Cardoso S.A.</td>\n      <td>75624908130</td>\n      <td>Setor Lopes, 2\\nVila Ipiranga\\n86129410 Rodrig...</td>\n      <td>(58.880171, 7.937855)</td>\n      <td>AB+</td>\n      <td>[http://pinto.com/, https://nascimento.org/, h...</td>\n      <td>steixeira</td>\n      <td>Dr. Carlos Eduardo Jesus</td>\n      <td>M</td>\n      <td>1928-12-08</td>\n      <td>5</td>\n    </tr>\n    <tr>\n      <th>700</th>\n      <td>Engenheiro de controle e automação</td>\n      <td>Rodrigues - ME</td>\n      <td>8674321526</td>\n      <td>Sítio de Novaes\\nBela Vitoria\\n15327-465 Melo ...</td>\n      <td>(47.675336, 64.485598)</td>\n      <td>B+</td>\n      <td>[https://moraes.br/, http://barbosa.com/, http...</td>\n      <td>santospedro-henrique</td>\n      <td>Sr. Vitor Pinto</td>\n      <td>M</td>\n      <td>1924-08-10</td>\n      <td>6</td>\n    </tr>\n    <tr>\n      <th>415</th>\n      <td>Revendedor</td>\n      <td>Oliveira</td>\n      <td>61924073552</td>\n      <td>Fazenda Alves, 12\\nVila Madre Gertrudes 1ª Seç...</td>\n      <td>(60.811091, 63.872449)</td>\n      <td>AB-</td>\n      <td>[http://barros.com/]</td>\n      <td>nascimentovinicius</td>\n      <td>Srta. Larissa da Costa</td>\n      <td>F</td>\n      <td>1905-11-03</td>\n      <td>7</td>\n    </tr>\n    <tr>\n      <th>918</th>\n      <td>Biomédico</td>\n      <td>da Rocha da Costa Ltda.</td>\n      <td>45826910720</td>\n      <td>Vereda Juan Castro, 351\\nAntonio Ribeiro De Ab...</td>\n      <td>(-33.181667, 67.175345)</td>\n      <td>AB-</td>\n      <td>[https://www.da.br/, http://castro.com/]</td>\n      <td>benicio42</td>\n      <td>Pietra Ribeiro</td>\n      <td>F</td>\n      <td>1979-12-13</td>\n      <td>8</td>\n    </tr>\n    <tr>\n      <th>283</th>\n      <td>Economista doméstico</td>\n      <td>Oliveira Fernandes - ME</td>\n      <td>76102348931</td>\n      <td>Alameda Monteiro, 777\\nSanta Inês\\n68971940 Ca...</td>\n      <td>(58.7767335, 66.022628)</td>\n      <td>O+</td>\n      <td>[http://costa.br/, http://goncalves.com/, http...</td>\n      <td>mcorreia</td>\n      <td>Sr. Rafael Mendes</td>\n      <td>M</td>\n      <td>1984-04-26</td>\n      <td>9</td>\n    </tr>\n  </tbody>\n</table>\n</div>"
     },
     "metadata": {},
     "execution_count": 224
    }
   ],
   "source": [
    "# Este metodo sempre insere  à direita do df\n",
    "df2['ID'] = range(df2.shape[0])\n",
    "df2"
   ]
  },
  {
   "cell_type": "code",
   "execution_count": 225,
   "metadata": {},
   "outputs": [
    {
     "output_type": "execute_result",
     "data": {
      "text/plain": [
       "                                    job                  company          ssn  \\\n",
       "467                         Trompetista             Silveira S/A  12786304903   \n",
       "522                 Seguidor de compras               Fogaça S/A  39170648557   \n",
       "873                             Lavador         Campos Nunes S/A  57182940620   \n",
       "66                             Oculista         Pereira e Filhos   3764982187   \n",
       "163                      Massoterapeuta                  Freitas  25340689115   \n",
       "153                    Artista plástico      Campos Cardoso S.A.  75624908130   \n",
       "700  Engenheiro de controle e automação           Rodrigues - ME   8674321526   \n",
       "415                          Revendedor                 Oliveira  61924073552   \n",
       "918                           Biomédico  da Rocha da Costa Ltda.  45826910720   \n",
       "283                Economista doméstico  Oliveira Fernandes - ME  76102348931   \n",
       "\n",
       "                                             residence  \\\n",
       "467  Morro Jesus, 18\\nNossa Senhora Do Rosário\\n631...   \n",
       "522  Viela João Lucas Lima, 9\\nPadre Eustáquio\\n343...   \n",
       "873  Rodovia da Conceição, 82\\nVila Real 2ª Seção\\n...   \n",
       "66   Vereda Moura, 47\\nMarçola\\n40671-689 da Mata / RO   \n",
       "163  Viela Ferreira, 910\\nBetânia\\n00687606 da Cruz...   \n",
       "153  Setor Lopes, 2\\nVila Ipiranga\\n86129410 Rodrig...   \n",
       "700  Sítio de Novaes\\nBela Vitoria\\n15327-465 Melo ...   \n",
       "415  Fazenda Alves, 12\\nVila Madre Gertrudes 1ª Seç...   \n",
       "918  Vereda Juan Castro, 351\\nAntonio Ribeiro De Ab...   \n",
       "283  Alameda Monteiro, 777\\nSanta Inês\\n68971940 Ca...   \n",
       "\n",
       "              current_location blood_group  \\\n",
       "467  (-26.4747815, -79.757851)          B+   \n",
       "522     (15.0367785, 0.140978)         AB+   \n",
       "873   (27.902729, -173.986728)          A-   \n",
       "66   (-55.9290795, 103.893325)         AB-   \n",
       "163   (19.5908915, -91.872860)          A-   \n",
       "153      (58.880171, 7.937855)         AB+   \n",
       "700     (47.675336, 64.485598)          B+   \n",
       "415     (60.811091, 63.872449)         AB-   \n",
       "918    (-33.181667, 67.175345)         AB-   \n",
       "283    (58.7767335, 66.022628)          O+   \n",
       "\n",
       "                                               website              username  \\\n",
       "467                          [https://www.peixoto.br/]               eloah27   \n",
       "522                         [http://www.carvalho.net/]         joaquimfogaca   \n",
       "873                            [https://rodrigues.br/]             xda-rocha   \n",
       "66                                [http://ribeiro.br/]      nicolasdas-neves   \n",
       "163                         [https://www.silveira.br/]              wribeiro   \n",
       "153  [http://pinto.com/, https://nascimento.org/, h...             steixeira   \n",
       "700  [https://moraes.br/, http://barbosa.com/, http...  santospedro-henrique   \n",
       "415                               [http://barros.com/]    nascimentovinicius   \n",
       "918           [https://www.da.br/, http://castro.com/]             benicio42   \n",
       "283  [http://costa.br/, http://goncalves.com/, http...              mcorreia   \n",
       "\n",
       "                          name sex   birthdate  \n",
       "467  Dr. Vitor Gabriel Costela   M  1959-08-27  \n",
       "522               Pietro Nunes   M  2009-05-04  \n",
       "873                  Isis Lima   F  1942-02-03  \n",
       "66            Bianca Fernandes   F  1922-12-03  \n",
       "163             Alana da Costa   F  1951-03-17  \n",
       "153   Dr. Carlos Eduardo Jesus   M  1928-12-08  \n",
       "700            Sr. Vitor Pinto   M  1924-08-10  \n",
       "415     Srta. Larissa da Costa   F  1905-11-03  \n",
       "918             Pietra Ribeiro   F  1979-12-13  \n",
       "283          Sr. Rafael Mendes   M  1984-04-26  "
      ],
      "text/html": "<div>\n<style scoped>\n    .dataframe tbody tr th:only-of-type {\n        vertical-align: middle;\n    }\n\n    .dataframe tbody tr th {\n        vertical-align: top;\n    }\n\n    .dataframe thead th {\n        text-align: right;\n    }\n</style>\n<table border=\"1\" class=\"dataframe\">\n  <thead>\n    <tr style=\"text-align: right;\">\n      <th></th>\n      <th>job</th>\n      <th>company</th>\n      <th>ssn</th>\n      <th>residence</th>\n      <th>current_location</th>\n      <th>blood_group</th>\n      <th>website</th>\n      <th>username</th>\n      <th>name</th>\n      <th>sex</th>\n      <th>birthdate</th>\n    </tr>\n  </thead>\n  <tbody>\n    <tr>\n      <th>467</th>\n      <td>Trompetista</td>\n      <td>Silveira S/A</td>\n      <td>12786304903</td>\n      <td>Morro Jesus, 18\\nNossa Senhora Do Rosário\\n631...</td>\n      <td>(-26.4747815, -79.757851)</td>\n      <td>B+</td>\n      <td>[https://www.peixoto.br/]</td>\n      <td>eloah27</td>\n      <td>Dr. Vitor Gabriel Costela</td>\n      <td>M</td>\n      <td>1959-08-27</td>\n    </tr>\n    <tr>\n      <th>522</th>\n      <td>Seguidor de compras</td>\n      <td>Fogaça S/A</td>\n      <td>39170648557</td>\n      <td>Viela João Lucas Lima, 9\\nPadre Eustáquio\\n343...</td>\n      <td>(15.0367785, 0.140978)</td>\n      <td>AB+</td>\n      <td>[http://www.carvalho.net/]</td>\n      <td>joaquimfogaca</td>\n      <td>Pietro Nunes</td>\n      <td>M</td>\n      <td>2009-05-04</td>\n    </tr>\n    <tr>\n      <th>873</th>\n      <td>Lavador</td>\n      <td>Campos Nunes S/A</td>\n      <td>57182940620</td>\n      <td>Rodovia da Conceição, 82\\nVila Real 2ª Seção\\n...</td>\n      <td>(27.902729, -173.986728)</td>\n      <td>A-</td>\n      <td>[https://rodrigues.br/]</td>\n      <td>xda-rocha</td>\n      <td>Isis Lima</td>\n      <td>F</td>\n      <td>1942-02-03</td>\n    </tr>\n    <tr>\n      <th>66</th>\n      <td>Oculista</td>\n      <td>Pereira e Filhos</td>\n      <td>3764982187</td>\n      <td>Vereda Moura, 47\\nMarçola\\n40671-689 da Mata / RO</td>\n      <td>(-55.9290795, 103.893325)</td>\n      <td>AB-</td>\n      <td>[http://ribeiro.br/]</td>\n      <td>nicolasdas-neves</td>\n      <td>Bianca Fernandes</td>\n      <td>F</td>\n      <td>1922-12-03</td>\n    </tr>\n    <tr>\n      <th>163</th>\n      <td>Massoterapeuta</td>\n      <td>Freitas</td>\n      <td>25340689115</td>\n      <td>Viela Ferreira, 910\\nBetânia\\n00687606 da Cruz...</td>\n      <td>(19.5908915, -91.872860)</td>\n      <td>A-</td>\n      <td>[https://www.silveira.br/]</td>\n      <td>wribeiro</td>\n      <td>Alana da Costa</td>\n      <td>F</td>\n      <td>1951-03-17</td>\n    </tr>\n    <tr>\n      <th>153</th>\n      <td>Artista plástico</td>\n      <td>Campos Cardoso S.A.</td>\n      <td>75624908130</td>\n      <td>Setor Lopes, 2\\nVila Ipiranga\\n86129410 Rodrig...</td>\n      <td>(58.880171, 7.937855)</td>\n      <td>AB+</td>\n      <td>[http://pinto.com/, https://nascimento.org/, h...</td>\n      <td>steixeira</td>\n      <td>Dr. Carlos Eduardo Jesus</td>\n      <td>M</td>\n      <td>1928-12-08</td>\n    </tr>\n    <tr>\n      <th>700</th>\n      <td>Engenheiro de controle e automação</td>\n      <td>Rodrigues - ME</td>\n      <td>8674321526</td>\n      <td>Sítio de Novaes\\nBela Vitoria\\n15327-465 Melo ...</td>\n      <td>(47.675336, 64.485598)</td>\n      <td>B+</td>\n      <td>[https://moraes.br/, http://barbosa.com/, http...</td>\n      <td>santospedro-henrique</td>\n      <td>Sr. Vitor Pinto</td>\n      <td>M</td>\n      <td>1924-08-10</td>\n    </tr>\n    <tr>\n      <th>415</th>\n      <td>Revendedor</td>\n      <td>Oliveira</td>\n      <td>61924073552</td>\n      <td>Fazenda Alves, 12\\nVila Madre Gertrudes 1ª Seç...</td>\n      <td>(60.811091, 63.872449)</td>\n      <td>AB-</td>\n      <td>[http://barros.com/]</td>\n      <td>nascimentovinicius</td>\n      <td>Srta. Larissa da Costa</td>\n      <td>F</td>\n      <td>1905-11-03</td>\n    </tr>\n    <tr>\n      <th>918</th>\n      <td>Biomédico</td>\n      <td>da Rocha da Costa Ltda.</td>\n      <td>45826910720</td>\n      <td>Vereda Juan Castro, 351\\nAntonio Ribeiro De Ab...</td>\n      <td>(-33.181667, 67.175345)</td>\n      <td>AB-</td>\n      <td>[https://www.da.br/, http://castro.com/]</td>\n      <td>benicio42</td>\n      <td>Pietra Ribeiro</td>\n      <td>F</td>\n      <td>1979-12-13</td>\n    </tr>\n    <tr>\n      <th>283</th>\n      <td>Economista doméstico</td>\n      <td>Oliveira Fernandes - ME</td>\n      <td>76102348931</td>\n      <td>Alameda Monteiro, 777\\nSanta Inês\\n68971940 Ca...</td>\n      <td>(58.7767335, 66.022628)</td>\n      <td>O+</td>\n      <td>[http://costa.br/, http://goncalves.com/, http...</td>\n      <td>mcorreia</td>\n      <td>Sr. Rafael Mendes</td>\n      <td>M</td>\n      <td>1984-04-26</td>\n    </tr>\n  </tbody>\n</table>\n</div>"
     },
     "metadata": {},
     "execution_count": 225
    }
   ],
   "source": [
    "# removendo a coluna criada\n",
    "del df2['ID']\n",
    "df2\n"
   ]
  },
  {
   "cell_type": "code",
   "execution_count": 226,
   "metadata": {},
   "outputs": [
    {
     "output_type": "execute_result",
     "data": {
      "text/plain": [
       "     ID                                 job                  company  \\\n",
       "467   0                         Trompetista             Silveira S/A   \n",
       "522   1                 Seguidor de compras               Fogaça S/A   \n",
       "873   2                             Lavador         Campos Nunes S/A   \n",
       "66    3                            Oculista         Pereira e Filhos   \n",
       "163   4                      Massoterapeuta                  Freitas   \n",
       "153   5                    Artista plástico      Campos Cardoso S.A.   \n",
       "700   6  Engenheiro de controle e automação           Rodrigues - ME   \n",
       "415   7                          Revendedor                 Oliveira   \n",
       "918   8                           Biomédico  da Rocha da Costa Ltda.   \n",
       "283   9                Economista doméstico  Oliveira Fernandes - ME   \n",
       "\n",
       "             ssn                                          residence  \\\n",
       "467  12786304903  Morro Jesus, 18\\nNossa Senhora Do Rosário\\n631...   \n",
       "522  39170648557  Viela João Lucas Lima, 9\\nPadre Eustáquio\\n343...   \n",
       "873  57182940620  Rodovia da Conceição, 82\\nVila Real 2ª Seção\\n...   \n",
       "66    3764982187  Vereda Moura, 47\\nMarçola\\n40671-689 da Mata / RO   \n",
       "163  25340689115  Viela Ferreira, 910\\nBetânia\\n00687606 da Cruz...   \n",
       "153  75624908130  Setor Lopes, 2\\nVila Ipiranga\\n86129410 Rodrig...   \n",
       "700   8674321526  Sítio de Novaes\\nBela Vitoria\\n15327-465 Melo ...   \n",
       "415  61924073552  Fazenda Alves, 12\\nVila Madre Gertrudes 1ª Seç...   \n",
       "918  45826910720  Vereda Juan Castro, 351\\nAntonio Ribeiro De Ab...   \n",
       "283  76102348931  Alameda Monteiro, 777\\nSanta Inês\\n68971940 Ca...   \n",
       "\n",
       "              current_location blood_group  \\\n",
       "467  (-26.4747815, -79.757851)          B+   \n",
       "522     (15.0367785, 0.140978)         AB+   \n",
       "873   (27.902729, -173.986728)          A-   \n",
       "66   (-55.9290795, 103.893325)         AB-   \n",
       "163   (19.5908915, -91.872860)          A-   \n",
       "153      (58.880171, 7.937855)         AB+   \n",
       "700     (47.675336, 64.485598)          B+   \n",
       "415     (60.811091, 63.872449)         AB-   \n",
       "918    (-33.181667, 67.175345)         AB-   \n",
       "283    (58.7767335, 66.022628)          O+   \n",
       "\n",
       "                                               website              username  \\\n",
       "467                          [https://www.peixoto.br/]               eloah27   \n",
       "522                         [http://www.carvalho.net/]         joaquimfogaca   \n",
       "873                            [https://rodrigues.br/]             xda-rocha   \n",
       "66                                [http://ribeiro.br/]      nicolasdas-neves   \n",
       "163                         [https://www.silveira.br/]              wribeiro   \n",
       "153  [http://pinto.com/, https://nascimento.org/, h...             steixeira   \n",
       "700  [https://moraes.br/, http://barbosa.com/, http...  santospedro-henrique   \n",
       "415                               [http://barros.com/]    nascimentovinicius   \n",
       "918           [https://www.da.br/, http://castro.com/]             benicio42   \n",
       "283  [http://costa.br/, http://goncalves.com/, http...              mcorreia   \n",
       "\n",
       "                          name sex   birthdate  \n",
       "467  Dr. Vitor Gabriel Costela   M  1959-08-27  \n",
       "522               Pietro Nunes   M  2009-05-04  \n",
       "873                  Isis Lima   F  1942-02-03  \n",
       "66            Bianca Fernandes   F  1922-12-03  \n",
       "163             Alana da Costa   F  1951-03-17  \n",
       "153   Dr. Carlos Eduardo Jesus   M  1928-12-08  \n",
       "700            Sr. Vitor Pinto   M  1924-08-10  \n",
       "415     Srta. Larissa da Costa   F  1905-11-03  \n",
       "918             Pietra Ribeiro   F  1979-12-13  \n",
       "283          Sr. Rafael Mendes   M  1984-04-26  "
      ],
      "text/html": "<div>\n<style scoped>\n    .dataframe tbody tr th:only-of-type {\n        vertical-align: middle;\n    }\n\n    .dataframe tbody tr th {\n        vertical-align: top;\n    }\n\n    .dataframe thead th {\n        text-align: right;\n    }\n</style>\n<table border=\"1\" class=\"dataframe\">\n  <thead>\n    <tr style=\"text-align: right;\">\n      <th></th>\n      <th>ID</th>\n      <th>job</th>\n      <th>company</th>\n      <th>ssn</th>\n      <th>residence</th>\n      <th>current_location</th>\n      <th>blood_group</th>\n      <th>website</th>\n      <th>username</th>\n      <th>name</th>\n      <th>sex</th>\n      <th>birthdate</th>\n    </tr>\n  </thead>\n  <tbody>\n    <tr>\n      <th>467</th>\n      <td>0</td>\n      <td>Trompetista</td>\n      <td>Silveira S/A</td>\n      <td>12786304903</td>\n      <td>Morro Jesus, 18\\nNossa Senhora Do Rosário\\n631...</td>\n      <td>(-26.4747815, -79.757851)</td>\n      <td>B+</td>\n      <td>[https://www.peixoto.br/]</td>\n      <td>eloah27</td>\n      <td>Dr. Vitor Gabriel Costela</td>\n      <td>M</td>\n      <td>1959-08-27</td>\n    </tr>\n    <tr>\n      <th>522</th>\n      <td>1</td>\n      <td>Seguidor de compras</td>\n      <td>Fogaça S/A</td>\n      <td>39170648557</td>\n      <td>Viela João Lucas Lima, 9\\nPadre Eustáquio\\n343...</td>\n      <td>(15.0367785, 0.140978)</td>\n      <td>AB+</td>\n      <td>[http://www.carvalho.net/]</td>\n      <td>joaquimfogaca</td>\n      <td>Pietro Nunes</td>\n      <td>M</td>\n      <td>2009-05-04</td>\n    </tr>\n    <tr>\n      <th>873</th>\n      <td>2</td>\n      <td>Lavador</td>\n      <td>Campos Nunes S/A</td>\n      <td>57182940620</td>\n      <td>Rodovia da Conceição, 82\\nVila Real 2ª Seção\\n...</td>\n      <td>(27.902729, -173.986728)</td>\n      <td>A-</td>\n      <td>[https://rodrigues.br/]</td>\n      <td>xda-rocha</td>\n      <td>Isis Lima</td>\n      <td>F</td>\n      <td>1942-02-03</td>\n    </tr>\n    <tr>\n      <th>66</th>\n      <td>3</td>\n      <td>Oculista</td>\n      <td>Pereira e Filhos</td>\n      <td>3764982187</td>\n      <td>Vereda Moura, 47\\nMarçola\\n40671-689 da Mata / RO</td>\n      <td>(-55.9290795, 103.893325)</td>\n      <td>AB-</td>\n      <td>[http://ribeiro.br/]</td>\n      <td>nicolasdas-neves</td>\n      <td>Bianca Fernandes</td>\n      <td>F</td>\n      <td>1922-12-03</td>\n    </tr>\n    <tr>\n      <th>163</th>\n      <td>4</td>\n      <td>Massoterapeuta</td>\n      <td>Freitas</td>\n      <td>25340689115</td>\n      <td>Viela Ferreira, 910\\nBetânia\\n00687606 da Cruz...</td>\n      <td>(19.5908915, -91.872860)</td>\n      <td>A-</td>\n      <td>[https://www.silveira.br/]</td>\n      <td>wribeiro</td>\n      <td>Alana da Costa</td>\n      <td>F</td>\n      <td>1951-03-17</td>\n    </tr>\n    <tr>\n      <th>153</th>\n      <td>5</td>\n      <td>Artista plástico</td>\n      <td>Campos Cardoso S.A.</td>\n      <td>75624908130</td>\n      <td>Setor Lopes, 2\\nVila Ipiranga\\n86129410 Rodrig...</td>\n      <td>(58.880171, 7.937855)</td>\n      <td>AB+</td>\n      <td>[http://pinto.com/, https://nascimento.org/, h...</td>\n      <td>steixeira</td>\n      <td>Dr. Carlos Eduardo Jesus</td>\n      <td>M</td>\n      <td>1928-12-08</td>\n    </tr>\n    <tr>\n      <th>700</th>\n      <td>6</td>\n      <td>Engenheiro de controle e automação</td>\n      <td>Rodrigues - ME</td>\n      <td>8674321526</td>\n      <td>Sítio de Novaes\\nBela Vitoria\\n15327-465 Melo ...</td>\n      <td>(47.675336, 64.485598)</td>\n      <td>B+</td>\n      <td>[https://moraes.br/, http://barbosa.com/, http...</td>\n      <td>santospedro-henrique</td>\n      <td>Sr. Vitor Pinto</td>\n      <td>M</td>\n      <td>1924-08-10</td>\n    </tr>\n    <tr>\n      <th>415</th>\n      <td>7</td>\n      <td>Revendedor</td>\n      <td>Oliveira</td>\n      <td>61924073552</td>\n      <td>Fazenda Alves, 12\\nVila Madre Gertrudes 1ª Seç...</td>\n      <td>(60.811091, 63.872449)</td>\n      <td>AB-</td>\n      <td>[http://barros.com/]</td>\n      <td>nascimentovinicius</td>\n      <td>Srta. Larissa da Costa</td>\n      <td>F</td>\n      <td>1905-11-03</td>\n    </tr>\n    <tr>\n      <th>918</th>\n      <td>8</td>\n      <td>Biomédico</td>\n      <td>da Rocha da Costa Ltda.</td>\n      <td>45826910720</td>\n      <td>Vereda Juan Castro, 351\\nAntonio Ribeiro De Ab...</td>\n      <td>(-33.181667, 67.175345)</td>\n      <td>AB-</td>\n      <td>[https://www.da.br/, http://castro.com/]</td>\n      <td>benicio42</td>\n      <td>Pietra Ribeiro</td>\n      <td>F</td>\n      <td>1979-12-13</td>\n    </tr>\n    <tr>\n      <th>283</th>\n      <td>9</td>\n      <td>Economista doméstico</td>\n      <td>Oliveira Fernandes - ME</td>\n      <td>76102348931</td>\n      <td>Alameda Monteiro, 777\\nSanta Inês\\n68971940 Ca...</td>\n      <td>(58.7767335, 66.022628)</td>\n      <td>O+</td>\n      <td>[http://costa.br/, http://goncalves.com/, http...</td>\n      <td>mcorreia</td>\n      <td>Sr. Rafael Mendes</td>\n      <td>M</td>\n      <td>1984-04-26</td>\n    </tr>\n  </tbody>\n</table>\n</div>"
     },
     "metadata": {},
     "execution_count": 226
    }
   ],
   "source": [
    "# para selecionar o local da coluna basta usar o metodo insert\n",
    "df2.insert(0, 'ID', range(df2.shape[0]))\n",
    "df2"
   ]
  },
  {
   "source": [
    "### Modificação de dataframes"
   ],
   "cell_type": "markdown",
   "metadata": {}
  },
  {
   "cell_type": "code",
   "execution_count": 227,
   "metadata": {},
   "outputs": [
    {
     "output_type": "execute_result",
     "data": {
      "text/plain": [
       "                           job                company          ssn  \\\n",
       "755                   Fresador                da Cruz  96152308712   \n",
       "711  Tecnólogo em silvicultura               Carvalho  28397014640   \n",
       "765    Lixeiro/Coletor de lixo          da Cunha - ME  36420985170   \n",
       "477                    Capataz                   Melo  58274309197   \n",
       "966     Otorrinolaringologista  Rezende Ribeiro Ltda.  53690472865   \n",
       "595             Oftalmologista                Correia  67430258107   \n",
       "941      Guardador de veículos                  Rocha  64203598729   \n",
       "926               Microfonista            da Paz - ME  89370621431   \n",
       "710   Apontador de mão-de-obra                da Cruz  13948650233   \n",
       "253                  Dançarino                   Dias  36945107884   \n",
       "\n",
       "                                             residence  \\\n",
       "755  Setor Letícia Moreira, 29\\nVila Primeiro De Ma...   \n",
       "711  Distrito Costa, 83\\nCastelo\\n85489-014 Nunes / RJ   \n",
       "765  Pátio Ferreira\\nNossa Senhora De Fátima\\n61790...   \n",
       "477  Sítio de Alves, 28\\nSerra Verde\\n49833387 Lima...   \n",
       "966  Área Araújo, 7\\nDas Industrias I\\n85600-417 da...   \n",
       "595  Morro Francisco da Conceição, 26\\nHavaí\\n63723...   \n",
       "941  Avenida de Cavalcanti, 408\\nVila De Sá\\n30909-...   \n",
       "926  Lago Amanda Oliveira, 7\\nMarilandia\\n25208-328...   \n",
       "710  Sítio Bruno Barros, 307\\nSanto Agostinho\\n5548...   \n",
       "253  Estrada Eloah Sales, 598\\nVila Aeroporto Jarag...   \n",
       "\n",
       "               current_location blood_group  \\\n",
       "755    (25.1405145, 139.891089)          O+   \n",
       "711     (84.655873, -11.840715)          A+   \n",
       "765  (-39.9396565, -167.643257)          B-   \n",
       "477    (17.6954405, -80.903456)          B+   \n",
       "966   (-40.1585215, 102.703068)         AB-   \n",
       "595     (70.3161285, 87.771628)         AB-   \n",
       "941      (-64.969722, 3.300348)         AB-   \n",
       "926       (29.926771, 6.163834)          A-   \n",
       "710    (-8.1833245, 178.948782)          O+   \n",
       "253   (-64.9420375, -83.533286)          O+   \n",
       "\n",
       "                                               website            username  \\\n",
       "755                                [https://alves.br/]           anthony57   \n",
       "711  [https://www.correia.com/, https://teixeira.ne...           zsilveira   \n",
       "765           [https://costela.com/, http://melo.com/]             eda-paz   \n",
       "477  [http://lima.com/, http://www.moraes.com/, htt...           kmonteiro   \n",
       "966  [http://www.teixeira.br/, http://ferreira.org/...  gustavo-henrique67   \n",
       "595          [http://gomes.net/, https://moreira.com/]          leonardo96   \n",
       "941                         [https://www.martins.com/]        aragaodaniel   \n",
       "926       [https://silveira.br/, https://peixoto.org/]          yagosantos   \n",
       "710  [https://www.da.br/, http://www.lopes.com/, ht...      amandacaldeira   \n",
       "253  [https://www.santos.com/, http://www.rocha.com...             ccastro   \n",
       "\n",
       "                     name sex   birthdate  \n",
       "755         Esther Santos   F  2012-06-01  \n",
       "711       Lavínia Peixoto   F  1947-05-01  \n",
       "765     Sr. Rodrigo Ramos   M  1932-12-28  \n",
       "477       Antônio Freitas   M  1958-01-07  \n",
       "966    Maria Sophia Cunha   F  1912-12-09  \n",
       "595     Dra. Eloah Barros   F  1994-04-13  \n",
       "941          Lívia Aragão   F  2004-11-21  \n",
       "926  Maria Vitória da Luz   F  2020-04-29  \n",
       "710  Marcos Vinicius Lima   M  1938-05-17  \n",
       "253            Yuri Nunes   M  1919-03-10  "
      ],
      "text/html": "<div>\n<style scoped>\n    .dataframe tbody tr th:only-of-type {\n        vertical-align: middle;\n    }\n\n    .dataframe tbody tr th {\n        vertical-align: top;\n    }\n\n    .dataframe thead th {\n        text-align: right;\n    }\n</style>\n<table border=\"1\" class=\"dataframe\">\n  <thead>\n    <tr style=\"text-align: right;\">\n      <th></th>\n      <th>job</th>\n      <th>company</th>\n      <th>ssn</th>\n      <th>residence</th>\n      <th>current_location</th>\n      <th>blood_group</th>\n      <th>website</th>\n      <th>username</th>\n      <th>name</th>\n      <th>sex</th>\n      <th>birthdate</th>\n    </tr>\n  </thead>\n  <tbody>\n    <tr>\n      <th>755</th>\n      <td>Fresador</td>\n      <td>da Cruz</td>\n      <td>96152308712</td>\n      <td>Setor Letícia Moreira, 29\\nVila Primeiro De Ma...</td>\n      <td>(25.1405145, 139.891089)</td>\n      <td>O+</td>\n      <td>[https://alves.br/]</td>\n      <td>anthony57</td>\n      <td>Esther Santos</td>\n      <td>F</td>\n      <td>2012-06-01</td>\n    </tr>\n    <tr>\n      <th>711</th>\n      <td>Tecnólogo em silvicultura</td>\n      <td>Carvalho</td>\n      <td>28397014640</td>\n      <td>Distrito Costa, 83\\nCastelo\\n85489-014 Nunes / RJ</td>\n      <td>(84.655873, -11.840715)</td>\n      <td>A+</td>\n      <td>[https://www.correia.com/, https://teixeira.ne...</td>\n      <td>zsilveira</td>\n      <td>Lavínia Peixoto</td>\n      <td>F</td>\n      <td>1947-05-01</td>\n    </tr>\n    <tr>\n      <th>765</th>\n      <td>Lixeiro/Coletor de lixo</td>\n      <td>da Cunha - ME</td>\n      <td>36420985170</td>\n      <td>Pátio Ferreira\\nNossa Senhora De Fátima\\n61790...</td>\n      <td>(-39.9396565, -167.643257)</td>\n      <td>B-</td>\n      <td>[https://costela.com/, http://melo.com/]</td>\n      <td>eda-paz</td>\n      <td>Sr. Rodrigo Ramos</td>\n      <td>M</td>\n      <td>1932-12-28</td>\n    </tr>\n    <tr>\n      <th>477</th>\n      <td>Capataz</td>\n      <td>Melo</td>\n      <td>58274309197</td>\n      <td>Sítio de Alves, 28\\nSerra Verde\\n49833387 Lima...</td>\n      <td>(17.6954405, -80.903456)</td>\n      <td>B+</td>\n      <td>[http://lima.com/, http://www.moraes.com/, htt...</td>\n      <td>kmonteiro</td>\n      <td>Antônio Freitas</td>\n      <td>M</td>\n      <td>1958-01-07</td>\n    </tr>\n    <tr>\n      <th>966</th>\n      <td>Otorrinolaringologista</td>\n      <td>Rezende Ribeiro Ltda.</td>\n      <td>53690472865</td>\n      <td>Área Araújo, 7\\nDas Industrias I\\n85600-417 da...</td>\n      <td>(-40.1585215, 102.703068)</td>\n      <td>AB-</td>\n      <td>[http://www.teixeira.br/, http://ferreira.org/...</td>\n      <td>gustavo-henrique67</td>\n      <td>Maria Sophia Cunha</td>\n      <td>F</td>\n      <td>1912-12-09</td>\n    </tr>\n    <tr>\n      <th>595</th>\n      <td>Oftalmologista</td>\n      <td>Correia</td>\n      <td>67430258107</td>\n      <td>Morro Francisco da Conceição, 26\\nHavaí\\n63723...</td>\n      <td>(70.3161285, 87.771628)</td>\n      <td>AB-</td>\n      <td>[http://gomes.net/, https://moreira.com/]</td>\n      <td>leonardo96</td>\n      <td>Dra. Eloah Barros</td>\n      <td>F</td>\n      <td>1994-04-13</td>\n    </tr>\n    <tr>\n      <th>941</th>\n      <td>Guardador de veículos</td>\n      <td>Rocha</td>\n      <td>64203598729</td>\n      <td>Avenida de Cavalcanti, 408\\nVila De Sá\\n30909-...</td>\n      <td>(-64.969722, 3.300348)</td>\n      <td>AB-</td>\n      <td>[https://www.martins.com/]</td>\n      <td>aragaodaniel</td>\n      <td>Lívia Aragão</td>\n      <td>F</td>\n      <td>2004-11-21</td>\n    </tr>\n    <tr>\n      <th>926</th>\n      <td>Microfonista</td>\n      <td>da Paz - ME</td>\n      <td>89370621431</td>\n      <td>Lago Amanda Oliveira, 7\\nMarilandia\\n25208-328...</td>\n      <td>(29.926771, 6.163834)</td>\n      <td>A-</td>\n      <td>[https://silveira.br/, https://peixoto.org/]</td>\n      <td>yagosantos</td>\n      <td>Maria Vitória da Luz</td>\n      <td>F</td>\n      <td>2020-04-29</td>\n    </tr>\n    <tr>\n      <th>710</th>\n      <td>Apontador de mão-de-obra</td>\n      <td>da Cruz</td>\n      <td>13948650233</td>\n      <td>Sítio Bruno Barros, 307\\nSanto Agostinho\\n5548...</td>\n      <td>(-8.1833245, 178.948782)</td>\n      <td>O+</td>\n      <td>[https://www.da.br/, http://www.lopes.com/, ht...</td>\n      <td>amandacaldeira</td>\n      <td>Marcos Vinicius Lima</td>\n      <td>M</td>\n      <td>1938-05-17</td>\n    </tr>\n    <tr>\n      <th>253</th>\n      <td>Dançarino</td>\n      <td>Dias</td>\n      <td>36945107884</td>\n      <td>Estrada Eloah Sales, 598\\nVila Aeroporto Jarag...</td>\n      <td>(-64.9420375, -83.533286)</td>\n      <td>O+</td>\n      <td>[https://www.santos.com/, http://www.rocha.com...</td>\n      <td>ccastro</td>\n      <td>Yuri Nunes</td>\n      <td>M</td>\n      <td>1919-03-10</td>\n    </tr>\n  </tbody>\n</table>\n</div>"
     },
     "metadata": {},
     "execution_count": 227
    }
   ],
   "source": [
    "df3 = df.sample(10).copy()\n",
    "df3"
   ]
  },
  {
   "cell_type": "code",
   "execution_count": 228,
   "metadata": {},
   "outputs": [
    {
     "output_type": "execute_result",
     "data": {
      "text/plain": [
       "                           job                company           ssn  \\\n",
       "755                   Fresador                da Cruz  96152.308712   \n",
       "711  Tecnólogo em silvicultura               Carvalho  28397.014640   \n",
       "765    Lixeiro/Coletor de lixo          da Cunha - ME  36420.985170   \n",
       "477                    Capataz                   Melo  58274.309197   \n",
       "966     Otorrinolaringologista  Rezende Ribeiro Ltda.  53690.472865   \n",
       "595             Oftalmologista                Correia  67430.258107   \n",
       "941      Guardador de veículos                  Rocha  64203.598729   \n",
       "926               Microfonista            da Paz - ME  89370.621431   \n",
       "710   Apontador de mão-de-obra                da Cruz  13948.650233   \n",
       "253                  Dançarino                   Dias  36945.107884   \n",
       "\n",
       "                                             residence  \\\n",
       "755  Setor Letícia Moreira, 29\\nVila Primeiro De Ma...   \n",
       "711  Distrito Costa, 83\\nCastelo\\n85489-014 Nunes / RJ   \n",
       "765  Pátio Ferreira\\nNossa Senhora De Fátima\\n61790...   \n",
       "477  Sítio de Alves, 28\\nSerra Verde\\n49833387 Lima...   \n",
       "966  Área Araújo, 7\\nDas Industrias I\\n85600-417 da...   \n",
       "595  Morro Francisco da Conceição, 26\\nHavaí\\n63723...   \n",
       "941  Avenida de Cavalcanti, 408\\nVila De Sá\\n30909-...   \n",
       "926  Lago Amanda Oliveira, 7\\nMarilandia\\n25208-328...   \n",
       "710  Sítio Bruno Barros, 307\\nSanto Agostinho\\n5548...   \n",
       "253  Estrada Eloah Sales, 598\\nVila Aeroporto Jarag...   \n",
       "\n",
       "               current_location blood_group  \\\n",
       "755    (25.1405145, 139.891089)          O+   \n",
       "711     (84.655873, -11.840715)          A+   \n",
       "765  (-39.9396565, -167.643257)          B-   \n",
       "477    (17.6954405, -80.903456)          B+   \n",
       "966   (-40.1585215, 102.703068)         AB-   \n",
       "595     (70.3161285, 87.771628)         AB-   \n",
       "941      (-64.969722, 3.300348)         AB-   \n",
       "926       (29.926771, 6.163834)          A-   \n",
       "710    (-8.1833245, 178.948782)          O+   \n",
       "253   (-64.9420375, -83.533286)          O+   \n",
       "\n",
       "                                               website            username  \\\n",
       "755                                [https://alves.br/]           anthony57   \n",
       "711  [https://www.correia.com/, https://teixeira.ne...           zsilveira   \n",
       "765           [https://costela.com/, http://melo.com/]             eda-paz   \n",
       "477  [http://lima.com/, http://www.moraes.com/, htt...           kmonteiro   \n",
       "966  [http://www.teixeira.br/, http://ferreira.org/...  gustavo-henrique67   \n",
       "595          [http://gomes.net/, https://moreira.com/]          leonardo96   \n",
       "941                         [https://www.martins.com/]        aragaodaniel   \n",
       "926       [https://silveira.br/, https://peixoto.org/]          yagosantos   \n",
       "710  [https://www.da.br/, http://www.lopes.com/, ht...      amandacaldeira   \n",
       "253  [https://www.santos.com/, http://www.rocha.com...             ccastro   \n",
       "\n",
       "                     name sex   birthdate  \n",
       "755         Esther Santos   F  2012-06-01  \n",
       "711       Lavínia Peixoto   F  1947-05-01  \n",
       "765     Sr. Rodrigo Ramos   M  1932-12-28  \n",
       "477       Antônio Freitas   M  1958-01-07  \n",
       "966    Maria Sophia Cunha   F  1912-12-09  \n",
       "595     Dra. Eloah Barros   F  1994-04-13  \n",
       "941          Lívia Aragão   F  2004-11-21  \n",
       "926  Maria Vitória da Luz   F  2020-04-29  \n",
       "710  Marcos Vinicius Lima   M  1938-05-17  \n",
       "253            Yuri Nunes   M  1919-03-10  "
      ],
      "text/html": "<div>\n<style scoped>\n    .dataframe tbody tr th:only-of-type {\n        vertical-align: middle;\n    }\n\n    .dataframe tbody tr th {\n        vertical-align: top;\n    }\n\n    .dataframe thead th {\n        text-align: right;\n    }\n</style>\n<table border=\"1\" class=\"dataframe\">\n  <thead>\n    <tr style=\"text-align: right;\">\n      <th></th>\n      <th>job</th>\n      <th>company</th>\n      <th>ssn</th>\n      <th>residence</th>\n      <th>current_location</th>\n      <th>blood_group</th>\n      <th>website</th>\n      <th>username</th>\n      <th>name</th>\n      <th>sex</th>\n      <th>birthdate</th>\n    </tr>\n  </thead>\n  <tbody>\n    <tr>\n      <th>755</th>\n      <td>Fresador</td>\n      <td>da Cruz</td>\n      <td>96152.308712</td>\n      <td>Setor Letícia Moreira, 29\\nVila Primeiro De Ma...</td>\n      <td>(25.1405145, 139.891089)</td>\n      <td>O+</td>\n      <td>[https://alves.br/]</td>\n      <td>anthony57</td>\n      <td>Esther Santos</td>\n      <td>F</td>\n      <td>2012-06-01</td>\n    </tr>\n    <tr>\n      <th>711</th>\n      <td>Tecnólogo em silvicultura</td>\n      <td>Carvalho</td>\n      <td>28397.014640</td>\n      <td>Distrito Costa, 83\\nCastelo\\n85489-014 Nunes / RJ</td>\n      <td>(84.655873, -11.840715)</td>\n      <td>A+</td>\n      <td>[https://www.correia.com/, https://teixeira.ne...</td>\n      <td>zsilveira</td>\n      <td>Lavínia Peixoto</td>\n      <td>F</td>\n      <td>1947-05-01</td>\n    </tr>\n    <tr>\n      <th>765</th>\n      <td>Lixeiro/Coletor de lixo</td>\n      <td>da Cunha - ME</td>\n      <td>36420.985170</td>\n      <td>Pátio Ferreira\\nNossa Senhora De Fátima\\n61790...</td>\n      <td>(-39.9396565, -167.643257)</td>\n      <td>B-</td>\n      <td>[https://costela.com/, http://melo.com/]</td>\n      <td>eda-paz</td>\n      <td>Sr. Rodrigo Ramos</td>\n      <td>M</td>\n      <td>1932-12-28</td>\n    </tr>\n    <tr>\n      <th>477</th>\n      <td>Capataz</td>\n      <td>Melo</td>\n      <td>58274.309197</td>\n      <td>Sítio de Alves, 28\\nSerra Verde\\n49833387 Lima...</td>\n      <td>(17.6954405, -80.903456)</td>\n      <td>B+</td>\n      <td>[http://lima.com/, http://www.moraes.com/, htt...</td>\n      <td>kmonteiro</td>\n      <td>Antônio Freitas</td>\n      <td>M</td>\n      <td>1958-01-07</td>\n    </tr>\n    <tr>\n      <th>966</th>\n      <td>Otorrinolaringologista</td>\n      <td>Rezende Ribeiro Ltda.</td>\n      <td>53690.472865</td>\n      <td>Área Araújo, 7\\nDas Industrias I\\n85600-417 da...</td>\n      <td>(-40.1585215, 102.703068)</td>\n      <td>AB-</td>\n      <td>[http://www.teixeira.br/, http://ferreira.org/...</td>\n      <td>gustavo-henrique67</td>\n      <td>Maria Sophia Cunha</td>\n      <td>F</td>\n      <td>1912-12-09</td>\n    </tr>\n    <tr>\n      <th>595</th>\n      <td>Oftalmologista</td>\n      <td>Correia</td>\n      <td>67430.258107</td>\n      <td>Morro Francisco da Conceição, 26\\nHavaí\\n63723...</td>\n      <td>(70.3161285, 87.771628)</td>\n      <td>AB-</td>\n      <td>[http://gomes.net/, https://moreira.com/]</td>\n      <td>leonardo96</td>\n      <td>Dra. Eloah Barros</td>\n      <td>F</td>\n      <td>1994-04-13</td>\n    </tr>\n    <tr>\n      <th>941</th>\n      <td>Guardador de veículos</td>\n      <td>Rocha</td>\n      <td>64203.598729</td>\n      <td>Avenida de Cavalcanti, 408\\nVila De Sá\\n30909-...</td>\n      <td>(-64.969722, 3.300348)</td>\n      <td>AB-</td>\n      <td>[https://www.martins.com/]</td>\n      <td>aragaodaniel</td>\n      <td>Lívia Aragão</td>\n      <td>F</td>\n      <td>2004-11-21</td>\n    </tr>\n    <tr>\n      <th>926</th>\n      <td>Microfonista</td>\n      <td>da Paz - ME</td>\n      <td>89370.621431</td>\n      <td>Lago Amanda Oliveira, 7\\nMarilandia\\n25208-328...</td>\n      <td>(29.926771, 6.163834)</td>\n      <td>A-</td>\n      <td>[https://silveira.br/, https://peixoto.org/]</td>\n      <td>yagosantos</td>\n      <td>Maria Vitória da Luz</td>\n      <td>F</td>\n      <td>2020-04-29</td>\n    </tr>\n    <tr>\n      <th>710</th>\n      <td>Apontador de mão-de-obra</td>\n      <td>da Cruz</td>\n      <td>13948.650233</td>\n      <td>Sítio Bruno Barros, 307\\nSanto Agostinho\\n5548...</td>\n      <td>(-8.1833245, 178.948782)</td>\n      <td>O+</td>\n      <td>[https://www.da.br/, http://www.lopes.com/, ht...</td>\n      <td>amandacaldeira</td>\n      <td>Marcos Vinicius Lima</td>\n      <td>M</td>\n      <td>1938-05-17</td>\n    </tr>\n    <tr>\n      <th>253</th>\n      <td>Dançarino</td>\n      <td>Dias</td>\n      <td>36945.107884</td>\n      <td>Estrada Eloah Sales, 598\\nVila Aeroporto Jarag...</td>\n      <td>(-64.9420375, -83.533286)</td>\n      <td>O+</td>\n      <td>[https://www.santos.com/, http://www.rocha.com...</td>\n      <td>ccastro</td>\n      <td>Yuri Nunes</td>\n      <td>M</td>\n      <td>1919-03-10</td>\n    </tr>\n  </tbody>\n</table>\n</div>"
     },
     "metadata": {},
     "execution_count": 228
    }
   ],
   "source": [
    "# todos os 'ssn' divido por 1000\n",
    "df3['ssn'] = (df3.ssn/ 1000) / 1000\n",
    "df3"
   ]
  },
  {
   "cell_type": "code",
   "execution_count": 229,
   "metadata": {},
   "outputs": [
    {
     "output_type": "execute_result",
     "data": {
      "text/plain": [
       "                           job                company           ssn  \\\n",
       "755                   Fresador                da Cruz  96152.308712   \n",
       "711  Tecnólogo em silvicultura               Carvalho  28397.014640   \n",
       "765    Lixeiro/Coletor de lixo          da Cunha - ME  36420.985170   \n",
       "477                    Capataz                   Melo  58274.309197   \n",
       "966     Otorrinolaringologista  Rezende Ribeiro Ltda.  53690.472865   \n",
       "595             Oftalmologista                Correia  67430.258107   \n",
       "941      Guardador de veículos                  Rocha  64203.598729   \n",
       "926               Microfonista            da Paz - ME  89370.621431   \n",
       "710   Apontador de mão-de-obra                da Cruz  13948.650233   \n",
       "253                  Dançarino                   Dias  36945.107884   \n",
       "\n",
       "                                             residence  \\\n",
       "755  Setor Letícia Moreira, 29\\nVila Primeiro De Ma...   \n",
       "711  Distrito Costa, 83\\nCastelo\\n85489-014 Nunes / RJ   \n",
       "765  Pátio Ferreira\\nNossa Senhora De Fátima\\n61790...   \n",
       "477  Sítio de Alves, 28\\nSerra Verde\\n49833387 Lima...   \n",
       "966  Área Araújo, 7\\nDas Industrias I\\n85600-417 da...   \n",
       "595  Morro Francisco da Conceição, 26\\nHavaí\\n63723...   \n",
       "941  Avenida de Cavalcanti, 408\\nVila De Sá\\n30909-...   \n",
       "926  Lago Amanda Oliveira, 7\\nMarilandia\\n25208-328...   \n",
       "710  Sítio Bruno Barros, 307\\nSanto Agostinho\\n5548...   \n",
       "253  Estrada Eloah Sales, 598\\nVila Aeroporto Jarag...   \n",
       "\n",
       "               current_location blood_group  \\\n",
       "755    (25.1405145, 139.891089)          O+   \n",
       "711     (84.655873, -11.840715)          A+   \n",
       "765  (-39.9396565, -167.643257)          B-   \n",
       "477    (17.6954405, -80.903456)          B+   \n",
       "966   (-40.1585215, 102.703068)         AB-   \n",
       "595     (70.3161285, 87.771628)         AB-   \n",
       "941      (-64.969722, 3.300348)         AB-   \n",
       "926       (29.926771, 6.163834)          A-   \n",
       "710    (-8.1833245, 178.948782)          O+   \n",
       "253   (-64.9420375, -83.533286)          O+   \n",
       "\n",
       "                                               website            username  \\\n",
       "755                                [https://alves.br/]           anthony57   \n",
       "711  [https://www.correia.com/, https://teixeira.ne...           zsilveira   \n",
       "765           [https://costela.com/, http://melo.com/]             eda-paz   \n",
       "477  [http://lima.com/, http://www.moraes.com/, htt...           kmonteiro   \n",
       "966  [http://www.teixeira.br/, http://ferreira.org/...  gustavo-henrique67   \n",
       "595          [http://gomes.net/, https://moreira.com/]          leonardo96   \n",
       "941                         [https://www.martins.com/]        aragaodaniel   \n",
       "926       [https://silveira.br/, https://peixoto.org/]          yagosantos   \n",
       "710  [https://www.da.br/, http://www.lopes.com/, ht...      amandacaldeira   \n",
       "253  [https://www.santos.com/, http://www.rocha.com...             ccastro   \n",
       "\n",
       "                     name        sex   birthdate  \n",
       "755         Esther Santos   Feminino  2012-06-01  \n",
       "711       Lavínia Peixoto   Feminino  1947-05-01  \n",
       "765     Sr. Rodrigo Ramos  Masculino  1932-12-28  \n",
       "477       Antônio Freitas  Masculino  1958-01-07  \n",
       "966    Maria Sophia Cunha   Feminino  1912-12-09  \n",
       "595     Dra. Eloah Barros   Feminino  1994-04-13  \n",
       "941          Lívia Aragão   Feminino  2004-11-21  \n",
       "926  Maria Vitória da Luz   Feminino  2020-04-29  \n",
       "710  Marcos Vinicius Lima  Masculino  1938-05-17  \n",
       "253            Yuri Nunes  Masculino  1919-03-10  "
      ],
      "text/html": "<div>\n<style scoped>\n    .dataframe tbody tr th:only-of-type {\n        vertical-align: middle;\n    }\n\n    .dataframe tbody tr th {\n        vertical-align: top;\n    }\n\n    .dataframe thead th {\n        text-align: right;\n    }\n</style>\n<table border=\"1\" class=\"dataframe\">\n  <thead>\n    <tr style=\"text-align: right;\">\n      <th></th>\n      <th>job</th>\n      <th>company</th>\n      <th>ssn</th>\n      <th>residence</th>\n      <th>current_location</th>\n      <th>blood_group</th>\n      <th>website</th>\n      <th>username</th>\n      <th>name</th>\n      <th>sex</th>\n      <th>birthdate</th>\n    </tr>\n  </thead>\n  <tbody>\n    <tr>\n      <th>755</th>\n      <td>Fresador</td>\n      <td>da Cruz</td>\n      <td>96152.308712</td>\n      <td>Setor Letícia Moreira, 29\\nVila Primeiro De Ma...</td>\n      <td>(25.1405145, 139.891089)</td>\n      <td>O+</td>\n      <td>[https://alves.br/]</td>\n      <td>anthony57</td>\n      <td>Esther Santos</td>\n      <td>Feminino</td>\n      <td>2012-06-01</td>\n    </tr>\n    <tr>\n      <th>711</th>\n      <td>Tecnólogo em silvicultura</td>\n      <td>Carvalho</td>\n      <td>28397.014640</td>\n      <td>Distrito Costa, 83\\nCastelo\\n85489-014 Nunes / RJ</td>\n      <td>(84.655873, -11.840715)</td>\n      <td>A+</td>\n      <td>[https://www.correia.com/, https://teixeira.ne...</td>\n      <td>zsilveira</td>\n      <td>Lavínia Peixoto</td>\n      <td>Feminino</td>\n      <td>1947-05-01</td>\n    </tr>\n    <tr>\n      <th>765</th>\n      <td>Lixeiro/Coletor de lixo</td>\n      <td>da Cunha - ME</td>\n      <td>36420.985170</td>\n      <td>Pátio Ferreira\\nNossa Senhora De Fátima\\n61790...</td>\n      <td>(-39.9396565, -167.643257)</td>\n      <td>B-</td>\n      <td>[https://costela.com/, http://melo.com/]</td>\n      <td>eda-paz</td>\n      <td>Sr. Rodrigo Ramos</td>\n      <td>Masculino</td>\n      <td>1932-12-28</td>\n    </tr>\n    <tr>\n      <th>477</th>\n      <td>Capataz</td>\n      <td>Melo</td>\n      <td>58274.309197</td>\n      <td>Sítio de Alves, 28\\nSerra Verde\\n49833387 Lima...</td>\n      <td>(17.6954405, -80.903456)</td>\n      <td>B+</td>\n      <td>[http://lima.com/, http://www.moraes.com/, htt...</td>\n      <td>kmonteiro</td>\n      <td>Antônio Freitas</td>\n      <td>Masculino</td>\n      <td>1958-01-07</td>\n    </tr>\n    <tr>\n      <th>966</th>\n      <td>Otorrinolaringologista</td>\n      <td>Rezende Ribeiro Ltda.</td>\n      <td>53690.472865</td>\n      <td>Área Araújo, 7\\nDas Industrias I\\n85600-417 da...</td>\n      <td>(-40.1585215, 102.703068)</td>\n      <td>AB-</td>\n      <td>[http://www.teixeira.br/, http://ferreira.org/...</td>\n      <td>gustavo-henrique67</td>\n      <td>Maria Sophia Cunha</td>\n      <td>Feminino</td>\n      <td>1912-12-09</td>\n    </tr>\n    <tr>\n      <th>595</th>\n      <td>Oftalmologista</td>\n      <td>Correia</td>\n      <td>67430.258107</td>\n      <td>Morro Francisco da Conceição, 26\\nHavaí\\n63723...</td>\n      <td>(70.3161285, 87.771628)</td>\n      <td>AB-</td>\n      <td>[http://gomes.net/, https://moreira.com/]</td>\n      <td>leonardo96</td>\n      <td>Dra. Eloah Barros</td>\n      <td>Feminino</td>\n      <td>1994-04-13</td>\n    </tr>\n    <tr>\n      <th>941</th>\n      <td>Guardador de veículos</td>\n      <td>Rocha</td>\n      <td>64203.598729</td>\n      <td>Avenida de Cavalcanti, 408\\nVila De Sá\\n30909-...</td>\n      <td>(-64.969722, 3.300348)</td>\n      <td>AB-</td>\n      <td>[https://www.martins.com/]</td>\n      <td>aragaodaniel</td>\n      <td>Lívia Aragão</td>\n      <td>Feminino</td>\n      <td>2004-11-21</td>\n    </tr>\n    <tr>\n      <th>926</th>\n      <td>Microfonista</td>\n      <td>da Paz - ME</td>\n      <td>89370.621431</td>\n      <td>Lago Amanda Oliveira, 7\\nMarilandia\\n25208-328...</td>\n      <td>(29.926771, 6.163834)</td>\n      <td>A-</td>\n      <td>[https://silveira.br/, https://peixoto.org/]</td>\n      <td>yagosantos</td>\n      <td>Maria Vitória da Luz</td>\n      <td>Feminino</td>\n      <td>2020-04-29</td>\n    </tr>\n    <tr>\n      <th>710</th>\n      <td>Apontador de mão-de-obra</td>\n      <td>da Cruz</td>\n      <td>13948.650233</td>\n      <td>Sítio Bruno Barros, 307\\nSanto Agostinho\\n5548...</td>\n      <td>(-8.1833245, 178.948782)</td>\n      <td>O+</td>\n      <td>[https://www.da.br/, http://www.lopes.com/, ht...</td>\n      <td>amandacaldeira</td>\n      <td>Marcos Vinicius Lima</td>\n      <td>Masculino</td>\n      <td>1938-05-17</td>\n    </tr>\n    <tr>\n      <th>253</th>\n      <td>Dançarino</td>\n      <td>Dias</td>\n      <td>36945.107884</td>\n      <td>Estrada Eloah Sales, 598\\nVila Aeroporto Jarag...</td>\n      <td>(-64.9420375, -83.533286)</td>\n      <td>O+</td>\n      <td>[https://www.santos.com/, http://www.rocha.com...</td>\n      <td>ccastro</td>\n      <td>Yuri Nunes</td>\n      <td>Masculino</td>\n      <td>1919-03-10</td>\n    </tr>\n  </tbody>\n</table>\n</div>"
     },
     "metadata": {},
     "execution_count": 229
    }
   ],
   "source": [
    "# alterar as siglas de sexo para a descrição\n",
    "df3['sex'] = df3.sex.replace({'F': 'Feminino', 'M': 'Masculino', 'I':'indefinido'})\n",
    "df3"
   ]
  },
  {
   "cell_type": "code",
   "execution_count": 230,
   "metadata": {},
   "outputs": [
    {
     "output_type": "execute_result",
     "data": {
      "text/plain": [
       "                           job                company           ssn  \\\n",
       "755                   Fresador                da Cruz  96152.308712   \n",
       "711  Tecnólogo em silvicultura               Carvalho  28397.014640   \n",
       "765    Lixeiro/Coletor de lixo          da Cunha - ME  36420.985170   \n",
       "477                    Capataz                   Melo  58274.309197   \n",
       "966     Otorrinolaringologista  Rezende Ribeiro Ltda.  53690.472865   \n",
       "595             Oftalmologista                Correia  67430.258107   \n",
       "941      Guardador de veículos                  Rocha  64203.598729   \n",
       "926               Microfonista            da Paz - ME  89370.621431   \n",
       "710   Apontador de mão-de-obra                da Cruz  13948.650233   \n",
       "253                  Dançarino                   Dias  36945.107884   \n",
       "\n",
       "                                             residence  \\\n",
       "755  Setor Letícia Moreira, 29\\nVila Primeiro De Ma...   \n",
       "711  Distrito Costa, 83\\nCastelo\\n85489-014 Nunes / RJ   \n",
       "765  Pátio Ferreira\\nNossa Senhora De Fátima\\n61790...   \n",
       "477  Sítio de Alves, 28\\nSerra Verde\\n49833387 Lima...   \n",
       "966  Área Araújo, 7\\nDas Industrias I\\n85600-417 da...   \n",
       "595  Morro Francisco da Conceição, 26\\nHavaí\\n63723...   \n",
       "941  Avenida de Cavalcanti, 408\\nVila De Sá\\n30909-...   \n",
       "926  Lago Amanda Oliveira, 7\\nMarilandia\\n25208-328...   \n",
       "710  Sítio Bruno Barros, 307\\nSanto Agostinho\\n5548...   \n",
       "253  Estrada Eloah Sales, 598\\nVila Aeroporto Jarag...   \n",
       "\n",
       "               current_location blood_group  \\\n",
       "755    (25.1405145, 139.891089)          O+   \n",
       "711     (84.655873, -11.840715)          A+   \n",
       "765  (-39.9396565, -167.643257)          B-   \n",
       "477    (17.6954405, -80.903456)          B+   \n",
       "966   (-40.1585215, 102.703068)         AB-   \n",
       "595     (70.3161285, 87.771628)         AB-   \n",
       "941      (-64.969722, 3.300348)         AB-   \n",
       "926       (29.926771, 6.163834)          A-   \n",
       "710    (-8.1833245, 178.948782)          O+   \n",
       "253   (-64.9420375, -83.533286)          O+   \n",
       "\n",
       "                                               website            username  \\\n",
       "755                                [https://alves.br/]           anthony57   \n",
       "711  [https://www.correia.com/, https://teixeira.ne...           zsilveira   \n",
       "765           [https://costela.com/, http://melo.com/]             eda-paz   \n",
       "477  [http://lima.com/, http://www.moraes.com/, htt...           kmonteiro   \n",
       "966  [http://www.teixeira.br/, http://ferreira.org/...  gustavo-henrique67   \n",
       "595          [http://gomes.net/, https://moreira.com/]          leonardo96   \n",
       "941                         [https://www.martins.com/]        aragaodaniel   \n",
       "926       [https://silveira.br/, https://peixoto.org/]          yagosantos   \n",
       "710  [https://www.da.br/, http://www.lopes.com/, ht...      amandacaldeira   \n",
       "253  [https://www.santos.com/, http://www.rocha.com...             ccastro   \n",
       "\n",
       "                     name        sex   birthdate  \n",
       "755         ESTHER SANTOS   Feminino  2012-06-01  \n",
       "711       LAVÍNIA PEIXOTO   Feminino  1947-05-01  \n",
       "765     SR. RODRIGO RAMOS  Masculino  1932-12-28  \n",
       "477       ANTÔNIO FREITAS  Masculino  1958-01-07  \n",
       "966    MARIA SOPHIA CUNHA   Feminino  1912-12-09  \n",
       "595     DRA. ELOAH BARROS   Feminino  1994-04-13  \n",
       "941          LÍVIA ARAGÃO   Feminino  2004-11-21  \n",
       "926  MARIA VITÓRIA DA LUZ   Feminino  2020-04-29  \n",
       "710  MARCOS VINICIUS LIMA  Masculino  1938-05-17  \n",
       "253            YURI NUNES  Masculino  1919-03-10  "
      ],
      "text/html": "<div>\n<style scoped>\n    .dataframe tbody tr th:only-of-type {\n        vertical-align: middle;\n    }\n\n    .dataframe tbody tr th {\n        vertical-align: top;\n    }\n\n    .dataframe thead th {\n        text-align: right;\n    }\n</style>\n<table border=\"1\" class=\"dataframe\">\n  <thead>\n    <tr style=\"text-align: right;\">\n      <th></th>\n      <th>job</th>\n      <th>company</th>\n      <th>ssn</th>\n      <th>residence</th>\n      <th>current_location</th>\n      <th>blood_group</th>\n      <th>website</th>\n      <th>username</th>\n      <th>name</th>\n      <th>sex</th>\n      <th>birthdate</th>\n    </tr>\n  </thead>\n  <tbody>\n    <tr>\n      <th>755</th>\n      <td>Fresador</td>\n      <td>da Cruz</td>\n      <td>96152.308712</td>\n      <td>Setor Letícia Moreira, 29\\nVila Primeiro De Ma...</td>\n      <td>(25.1405145, 139.891089)</td>\n      <td>O+</td>\n      <td>[https://alves.br/]</td>\n      <td>anthony57</td>\n      <td>ESTHER SANTOS</td>\n      <td>Feminino</td>\n      <td>2012-06-01</td>\n    </tr>\n    <tr>\n      <th>711</th>\n      <td>Tecnólogo em silvicultura</td>\n      <td>Carvalho</td>\n      <td>28397.014640</td>\n      <td>Distrito Costa, 83\\nCastelo\\n85489-014 Nunes / RJ</td>\n      <td>(84.655873, -11.840715)</td>\n      <td>A+</td>\n      <td>[https://www.correia.com/, https://teixeira.ne...</td>\n      <td>zsilveira</td>\n      <td>LAVÍNIA PEIXOTO</td>\n      <td>Feminino</td>\n      <td>1947-05-01</td>\n    </tr>\n    <tr>\n      <th>765</th>\n      <td>Lixeiro/Coletor de lixo</td>\n      <td>da Cunha - ME</td>\n      <td>36420.985170</td>\n      <td>Pátio Ferreira\\nNossa Senhora De Fátima\\n61790...</td>\n      <td>(-39.9396565, -167.643257)</td>\n      <td>B-</td>\n      <td>[https://costela.com/, http://melo.com/]</td>\n      <td>eda-paz</td>\n      <td>SR. RODRIGO RAMOS</td>\n      <td>Masculino</td>\n      <td>1932-12-28</td>\n    </tr>\n    <tr>\n      <th>477</th>\n      <td>Capataz</td>\n      <td>Melo</td>\n      <td>58274.309197</td>\n      <td>Sítio de Alves, 28\\nSerra Verde\\n49833387 Lima...</td>\n      <td>(17.6954405, -80.903456)</td>\n      <td>B+</td>\n      <td>[http://lima.com/, http://www.moraes.com/, htt...</td>\n      <td>kmonteiro</td>\n      <td>ANTÔNIO FREITAS</td>\n      <td>Masculino</td>\n      <td>1958-01-07</td>\n    </tr>\n    <tr>\n      <th>966</th>\n      <td>Otorrinolaringologista</td>\n      <td>Rezende Ribeiro Ltda.</td>\n      <td>53690.472865</td>\n      <td>Área Araújo, 7\\nDas Industrias I\\n85600-417 da...</td>\n      <td>(-40.1585215, 102.703068)</td>\n      <td>AB-</td>\n      <td>[http://www.teixeira.br/, http://ferreira.org/...</td>\n      <td>gustavo-henrique67</td>\n      <td>MARIA SOPHIA CUNHA</td>\n      <td>Feminino</td>\n      <td>1912-12-09</td>\n    </tr>\n    <tr>\n      <th>595</th>\n      <td>Oftalmologista</td>\n      <td>Correia</td>\n      <td>67430.258107</td>\n      <td>Morro Francisco da Conceição, 26\\nHavaí\\n63723...</td>\n      <td>(70.3161285, 87.771628)</td>\n      <td>AB-</td>\n      <td>[http://gomes.net/, https://moreira.com/]</td>\n      <td>leonardo96</td>\n      <td>DRA. ELOAH BARROS</td>\n      <td>Feminino</td>\n      <td>1994-04-13</td>\n    </tr>\n    <tr>\n      <th>941</th>\n      <td>Guardador de veículos</td>\n      <td>Rocha</td>\n      <td>64203.598729</td>\n      <td>Avenida de Cavalcanti, 408\\nVila De Sá\\n30909-...</td>\n      <td>(-64.969722, 3.300348)</td>\n      <td>AB-</td>\n      <td>[https://www.martins.com/]</td>\n      <td>aragaodaniel</td>\n      <td>LÍVIA ARAGÃO</td>\n      <td>Feminino</td>\n      <td>2004-11-21</td>\n    </tr>\n    <tr>\n      <th>926</th>\n      <td>Microfonista</td>\n      <td>da Paz - ME</td>\n      <td>89370.621431</td>\n      <td>Lago Amanda Oliveira, 7\\nMarilandia\\n25208-328...</td>\n      <td>(29.926771, 6.163834)</td>\n      <td>A-</td>\n      <td>[https://silveira.br/, https://peixoto.org/]</td>\n      <td>yagosantos</td>\n      <td>MARIA VITÓRIA DA LUZ</td>\n      <td>Feminino</td>\n      <td>2020-04-29</td>\n    </tr>\n    <tr>\n      <th>710</th>\n      <td>Apontador de mão-de-obra</td>\n      <td>da Cruz</td>\n      <td>13948.650233</td>\n      <td>Sítio Bruno Barros, 307\\nSanto Agostinho\\n5548...</td>\n      <td>(-8.1833245, 178.948782)</td>\n      <td>O+</td>\n      <td>[https://www.da.br/, http://www.lopes.com/, ht...</td>\n      <td>amandacaldeira</td>\n      <td>MARCOS VINICIUS LIMA</td>\n      <td>Masculino</td>\n      <td>1938-05-17</td>\n    </tr>\n    <tr>\n      <th>253</th>\n      <td>Dançarino</td>\n      <td>Dias</td>\n      <td>36945.107884</td>\n      <td>Estrada Eloah Sales, 598\\nVila Aeroporto Jarag...</td>\n      <td>(-64.9420375, -83.533286)</td>\n      <td>O+</td>\n      <td>[https://www.santos.com/, http://www.rocha.com...</td>\n      <td>ccastro</td>\n      <td>YURI NUNES</td>\n      <td>Masculino</td>\n      <td>1919-03-10</td>\n    </tr>\n  </tbody>\n</table>\n</div>"
     },
     "metadata": {},
     "execution_count": 230
    }
   ],
   "source": [
    "# função lambda para deixar todos os nomes maiusculos\n",
    "df3['name'] = df3.name.apply(lambda x: x.upper())\n",
    "df3"
   ]
  },
  {
   "cell_type": "code",
   "execution_count": 231,
   "metadata": {},
   "outputs": [
    {
     "output_type": "execute_result",
     "data": {
      "text/plain": [
       "                           job                company           ssn  \\\n",
       "755                   Fresador                da Cruz  96152.308712   \n",
       "711  Tecnólogo em silvicultura               Carvalho  28397.014640   \n",
       "765    Lixeiro/Coletor de lixo          da Cunha - ME  36420.985170   \n",
       "477                    Capataz                   Melo  58274.309197   \n",
       "966     Otorrinolaringologista  Rezende Ribeiro Ltda.  53690.472865   \n",
       "595             Oftalmologista                Correia  67430.258107   \n",
       "941      Guardador de veículos                  Rocha  64203.598729   \n",
       "926               Microfonista            da Paz - ME  89370.621431   \n",
       "710   Apontador de mão-de-obra                da Cruz  13948.650233   \n",
       "253                  Dançarino                   Dias  36945.107884   \n",
       "\n",
       "                                             residence  \\\n",
       "755  Setor Letícia Moreira, 29 Vila Primeiro De Mai...   \n",
       "711    Distrito Costa, 83 Castelo 85489-014 Nunes / RJ   \n",
       "765  Pátio Ferreira Nossa Senhora De Fátima 61790-4...   \n",
       "477  Sítio de Alves, 28 Serra Verde 49833387 Lima d...   \n",
       "966  Área Araújo, 7 Das Industrias I 85600-417 da C...   \n",
       "595  Morro Francisco da Conceição, 26 Havaí 6372383...   \n",
       "941  Avenida de Cavalcanti, 408 Vila De Sá 30909-17...   \n",
       "926  Lago Amanda Oliveira, 7 Marilandia 25208-328 d...   \n",
       "710  Sítio Bruno Barros, 307 Santo Agostinho 554803...   \n",
       "253  Estrada Eloah Sales, 598 Vila Aeroporto Jaragu...   \n",
       "\n",
       "               current_location blood_group  \\\n",
       "755    (25.1405145, 139.891089)          O+   \n",
       "711     (84.655873, -11.840715)          A+   \n",
       "765  (-39.9396565, -167.643257)          B-   \n",
       "477    (17.6954405, -80.903456)          B+   \n",
       "966   (-40.1585215, 102.703068)         AB-   \n",
       "595     (70.3161285, 87.771628)         AB-   \n",
       "941      (-64.969722, 3.300348)         AB-   \n",
       "926       (29.926771, 6.163834)          A-   \n",
       "710    (-8.1833245, 178.948782)          O+   \n",
       "253   (-64.9420375, -83.533286)          O+   \n",
       "\n",
       "                                               website            username  \\\n",
       "755                                [https://alves.br/]           anthony57   \n",
       "711  [https://www.correia.com/, https://teixeira.ne...           zsilveira   \n",
       "765           [https://costela.com/, http://melo.com/]             eda-paz   \n",
       "477  [http://lima.com/, http://www.moraes.com/, htt...           kmonteiro   \n",
       "966  [http://www.teixeira.br/, http://ferreira.org/...  gustavo-henrique67   \n",
       "595          [http://gomes.net/, https://moreira.com/]          leonardo96   \n",
       "941                         [https://www.martins.com/]        aragaodaniel   \n",
       "926       [https://silveira.br/, https://peixoto.org/]          yagosantos   \n",
       "710  [https://www.da.br/, http://www.lopes.com/, ht...      amandacaldeira   \n",
       "253  [https://www.santos.com/, http://www.rocha.com...             ccastro   \n",
       "\n",
       "                     name        sex   birthdate  \n",
       "755         ESTHER SANTOS   Feminino  2012-06-01  \n",
       "711       LAVÍNIA PEIXOTO   Feminino  1947-05-01  \n",
       "765     SR. RODRIGO RAMOS  Masculino  1932-12-28  \n",
       "477       ANTÔNIO FREITAS  Masculino  1958-01-07  \n",
       "966    MARIA SOPHIA CUNHA   Feminino  1912-12-09  \n",
       "595     DRA. ELOAH BARROS   Feminino  1994-04-13  \n",
       "941          LÍVIA ARAGÃO   Feminino  2004-11-21  \n",
       "926  MARIA VITÓRIA DA LUZ   Feminino  2020-04-29  \n",
       "710  MARCOS VINICIUS LIMA  Masculino  1938-05-17  \n",
       "253            YURI NUNES  Masculino  1919-03-10  "
      ],
      "text/html": "<div>\n<style scoped>\n    .dataframe tbody tr th:only-of-type {\n        vertical-align: middle;\n    }\n\n    .dataframe tbody tr th {\n        vertical-align: top;\n    }\n\n    .dataframe thead th {\n        text-align: right;\n    }\n</style>\n<table border=\"1\" class=\"dataframe\">\n  <thead>\n    <tr style=\"text-align: right;\">\n      <th></th>\n      <th>job</th>\n      <th>company</th>\n      <th>ssn</th>\n      <th>residence</th>\n      <th>current_location</th>\n      <th>blood_group</th>\n      <th>website</th>\n      <th>username</th>\n      <th>name</th>\n      <th>sex</th>\n      <th>birthdate</th>\n    </tr>\n  </thead>\n  <tbody>\n    <tr>\n      <th>755</th>\n      <td>Fresador</td>\n      <td>da Cruz</td>\n      <td>96152.308712</td>\n      <td>Setor Letícia Moreira, 29 Vila Primeiro De Mai...</td>\n      <td>(25.1405145, 139.891089)</td>\n      <td>O+</td>\n      <td>[https://alves.br/]</td>\n      <td>anthony57</td>\n      <td>ESTHER SANTOS</td>\n      <td>Feminino</td>\n      <td>2012-06-01</td>\n    </tr>\n    <tr>\n      <th>711</th>\n      <td>Tecnólogo em silvicultura</td>\n      <td>Carvalho</td>\n      <td>28397.014640</td>\n      <td>Distrito Costa, 83 Castelo 85489-014 Nunes / RJ</td>\n      <td>(84.655873, -11.840715)</td>\n      <td>A+</td>\n      <td>[https://www.correia.com/, https://teixeira.ne...</td>\n      <td>zsilveira</td>\n      <td>LAVÍNIA PEIXOTO</td>\n      <td>Feminino</td>\n      <td>1947-05-01</td>\n    </tr>\n    <tr>\n      <th>765</th>\n      <td>Lixeiro/Coletor de lixo</td>\n      <td>da Cunha - ME</td>\n      <td>36420.985170</td>\n      <td>Pátio Ferreira Nossa Senhora De Fátima 61790-4...</td>\n      <td>(-39.9396565, -167.643257)</td>\n      <td>B-</td>\n      <td>[https://costela.com/, http://melo.com/]</td>\n      <td>eda-paz</td>\n      <td>SR. RODRIGO RAMOS</td>\n      <td>Masculino</td>\n      <td>1932-12-28</td>\n    </tr>\n    <tr>\n      <th>477</th>\n      <td>Capataz</td>\n      <td>Melo</td>\n      <td>58274.309197</td>\n      <td>Sítio de Alves, 28 Serra Verde 49833387 Lima d...</td>\n      <td>(17.6954405, -80.903456)</td>\n      <td>B+</td>\n      <td>[http://lima.com/, http://www.moraes.com/, htt...</td>\n      <td>kmonteiro</td>\n      <td>ANTÔNIO FREITAS</td>\n      <td>Masculino</td>\n      <td>1958-01-07</td>\n    </tr>\n    <tr>\n      <th>966</th>\n      <td>Otorrinolaringologista</td>\n      <td>Rezende Ribeiro Ltda.</td>\n      <td>53690.472865</td>\n      <td>Área Araújo, 7 Das Industrias I 85600-417 da C...</td>\n      <td>(-40.1585215, 102.703068)</td>\n      <td>AB-</td>\n      <td>[http://www.teixeira.br/, http://ferreira.org/...</td>\n      <td>gustavo-henrique67</td>\n      <td>MARIA SOPHIA CUNHA</td>\n      <td>Feminino</td>\n      <td>1912-12-09</td>\n    </tr>\n    <tr>\n      <th>595</th>\n      <td>Oftalmologista</td>\n      <td>Correia</td>\n      <td>67430.258107</td>\n      <td>Morro Francisco da Conceição, 26 Havaí 6372383...</td>\n      <td>(70.3161285, 87.771628)</td>\n      <td>AB-</td>\n      <td>[http://gomes.net/, https://moreira.com/]</td>\n      <td>leonardo96</td>\n      <td>DRA. ELOAH BARROS</td>\n      <td>Feminino</td>\n      <td>1994-04-13</td>\n    </tr>\n    <tr>\n      <th>941</th>\n      <td>Guardador de veículos</td>\n      <td>Rocha</td>\n      <td>64203.598729</td>\n      <td>Avenida de Cavalcanti, 408 Vila De Sá 30909-17...</td>\n      <td>(-64.969722, 3.300348)</td>\n      <td>AB-</td>\n      <td>[https://www.martins.com/]</td>\n      <td>aragaodaniel</td>\n      <td>LÍVIA ARAGÃO</td>\n      <td>Feminino</td>\n      <td>2004-11-21</td>\n    </tr>\n    <tr>\n      <th>926</th>\n      <td>Microfonista</td>\n      <td>da Paz - ME</td>\n      <td>89370.621431</td>\n      <td>Lago Amanda Oliveira, 7 Marilandia 25208-328 d...</td>\n      <td>(29.926771, 6.163834)</td>\n      <td>A-</td>\n      <td>[https://silveira.br/, https://peixoto.org/]</td>\n      <td>yagosantos</td>\n      <td>MARIA VITÓRIA DA LUZ</td>\n      <td>Feminino</td>\n      <td>2020-04-29</td>\n    </tr>\n    <tr>\n      <th>710</th>\n      <td>Apontador de mão-de-obra</td>\n      <td>da Cruz</td>\n      <td>13948.650233</td>\n      <td>Sítio Bruno Barros, 307 Santo Agostinho 554803...</td>\n      <td>(-8.1833245, 178.948782)</td>\n      <td>O+</td>\n      <td>[https://www.da.br/, http://www.lopes.com/, ht...</td>\n      <td>amandacaldeira</td>\n      <td>MARCOS VINICIUS LIMA</td>\n      <td>Masculino</td>\n      <td>1938-05-17</td>\n    </tr>\n    <tr>\n      <th>253</th>\n      <td>Dançarino</td>\n      <td>Dias</td>\n      <td>36945.107884</td>\n      <td>Estrada Eloah Sales, 598 Vila Aeroporto Jaragu...</td>\n      <td>(-64.9420375, -83.533286)</td>\n      <td>O+</td>\n      <td>[https://www.santos.com/, http://www.rocha.com...</td>\n      <td>ccastro</td>\n      <td>YURI NUNES</td>\n      <td>Masculino</td>\n      <td>1919-03-10</td>\n    </tr>\n  </tbody>\n</table>\n</div>"
     },
     "metadata": {},
     "execution_count": 231
    }
   ],
   "source": [
    "# função lambda para tirar as quebras de lina em residence\n",
    "df3['residence'] = df3.residence.apply(lambda x: x.replace('\\n',' '))\n",
    "df3"
   ]
  },
  {
   "source": [
    "### Deleções"
   ],
   "cell_type": "markdown",
   "metadata": {}
  },
  {
   "cell_type": "code",
   "execution_count": 232,
   "metadata": {},
   "outputs": [
    {
     "output_type": "execute_result",
     "data": {
      "text/plain": [
       "                   company           ssn  \\\n",
       "755                da Cruz  96152.308712   \n",
       "711               Carvalho  28397.014640   \n",
       "765          da Cunha - ME  36420.985170   \n",
       "477                   Melo  58274.309197   \n",
       "966  Rezende Ribeiro Ltda.  53690.472865   \n",
       "595                Correia  67430.258107   \n",
       "941                  Rocha  64203.598729   \n",
       "926            da Paz - ME  89370.621431   \n",
       "710                da Cruz  13948.650233   \n",
       "253                   Dias  36945.107884   \n",
       "\n",
       "                                             residence  \\\n",
       "755  Setor Letícia Moreira, 29 Vila Primeiro De Mai...   \n",
       "711    Distrito Costa, 83 Castelo 85489-014 Nunes / RJ   \n",
       "765  Pátio Ferreira Nossa Senhora De Fátima 61790-4...   \n",
       "477  Sítio de Alves, 28 Serra Verde 49833387 Lima d...   \n",
       "966  Área Araújo, 7 Das Industrias I 85600-417 da C...   \n",
       "595  Morro Francisco da Conceição, 26 Havaí 6372383...   \n",
       "941  Avenida de Cavalcanti, 408 Vila De Sá 30909-17...   \n",
       "926  Lago Amanda Oliveira, 7 Marilandia 25208-328 d...   \n",
       "710  Sítio Bruno Barros, 307 Santo Agostinho 554803...   \n",
       "253  Estrada Eloah Sales, 598 Vila Aeroporto Jaragu...   \n",
       "\n",
       "               current_location blood_group  \\\n",
       "755    (25.1405145, 139.891089)          O+   \n",
       "711     (84.655873, -11.840715)          A+   \n",
       "765  (-39.9396565, -167.643257)          B-   \n",
       "477    (17.6954405, -80.903456)          B+   \n",
       "966   (-40.1585215, 102.703068)         AB-   \n",
       "595     (70.3161285, 87.771628)         AB-   \n",
       "941      (-64.969722, 3.300348)         AB-   \n",
       "926       (29.926771, 6.163834)          A-   \n",
       "710    (-8.1833245, 178.948782)          O+   \n",
       "253   (-64.9420375, -83.533286)          O+   \n",
       "\n",
       "                                               website            username  \\\n",
       "755                                [https://alves.br/]           anthony57   \n",
       "711  [https://www.correia.com/, https://teixeira.ne...           zsilveira   \n",
       "765           [https://costela.com/, http://melo.com/]             eda-paz   \n",
       "477  [http://lima.com/, http://www.moraes.com/, htt...           kmonteiro   \n",
       "966  [http://www.teixeira.br/, http://ferreira.org/...  gustavo-henrique67   \n",
       "595          [http://gomes.net/, https://moreira.com/]          leonardo96   \n",
       "941                         [https://www.martins.com/]        aragaodaniel   \n",
       "926       [https://silveira.br/, https://peixoto.org/]          yagosantos   \n",
       "710  [https://www.da.br/, http://www.lopes.com/, ht...      amandacaldeira   \n",
       "253  [https://www.santos.com/, http://www.rocha.com...             ccastro   \n",
       "\n",
       "                     name        sex   birthdate  \n",
       "755         ESTHER SANTOS   Feminino  2012-06-01  \n",
       "711       LAVÍNIA PEIXOTO   Feminino  1947-05-01  \n",
       "765     SR. RODRIGO RAMOS  Masculino  1932-12-28  \n",
       "477       ANTÔNIO FREITAS  Masculino  1958-01-07  \n",
       "966    MARIA SOPHIA CUNHA   Feminino  1912-12-09  \n",
       "595     DRA. ELOAH BARROS   Feminino  1994-04-13  \n",
       "941          LÍVIA ARAGÃO   Feminino  2004-11-21  \n",
       "926  MARIA VITÓRIA DA LUZ   Feminino  2020-04-29  \n",
       "710  MARCOS VINICIUS LIMA  Masculino  1938-05-17  \n",
       "253            YURI NUNES  Masculino  1919-03-10  "
      ],
      "text/html": "<div>\n<style scoped>\n    .dataframe tbody tr th:only-of-type {\n        vertical-align: middle;\n    }\n\n    .dataframe tbody tr th {\n        vertical-align: top;\n    }\n\n    .dataframe thead th {\n        text-align: right;\n    }\n</style>\n<table border=\"1\" class=\"dataframe\">\n  <thead>\n    <tr style=\"text-align: right;\">\n      <th></th>\n      <th>company</th>\n      <th>ssn</th>\n      <th>residence</th>\n      <th>current_location</th>\n      <th>blood_group</th>\n      <th>website</th>\n      <th>username</th>\n      <th>name</th>\n      <th>sex</th>\n      <th>birthdate</th>\n    </tr>\n  </thead>\n  <tbody>\n    <tr>\n      <th>755</th>\n      <td>da Cruz</td>\n      <td>96152.308712</td>\n      <td>Setor Letícia Moreira, 29 Vila Primeiro De Mai...</td>\n      <td>(25.1405145, 139.891089)</td>\n      <td>O+</td>\n      <td>[https://alves.br/]</td>\n      <td>anthony57</td>\n      <td>ESTHER SANTOS</td>\n      <td>Feminino</td>\n      <td>2012-06-01</td>\n    </tr>\n    <tr>\n      <th>711</th>\n      <td>Carvalho</td>\n      <td>28397.014640</td>\n      <td>Distrito Costa, 83 Castelo 85489-014 Nunes / RJ</td>\n      <td>(84.655873, -11.840715)</td>\n      <td>A+</td>\n      <td>[https://www.correia.com/, https://teixeira.ne...</td>\n      <td>zsilveira</td>\n      <td>LAVÍNIA PEIXOTO</td>\n      <td>Feminino</td>\n      <td>1947-05-01</td>\n    </tr>\n    <tr>\n      <th>765</th>\n      <td>da Cunha - ME</td>\n      <td>36420.985170</td>\n      <td>Pátio Ferreira Nossa Senhora De Fátima 61790-4...</td>\n      <td>(-39.9396565, -167.643257)</td>\n      <td>B-</td>\n      <td>[https://costela.com/, http://melo.com/]</td>\n      <td>eda-paz</td>\n      <td>SR. RODRIGO RAMOS</td>\n      <td>Masculino</td>\n      <td>1932-12-28</td>\n    </tr>\n    <tr>\n      <th>477</th>\n      <td>Melo</td>\n      <td>58274.309197</td>\n      <td>Sítio de Alves, 28 Serra Verde 49833387 Lima d...</td>\n      <td>(17.6954405, -80.903456)</td>\n      <td>B+</td>\n      <td>[http://lima.com/, http://www.moraes.com/, htt...</td>\n      <td>kmonteiro</td>\n      <td>ANTÔNIO FREITAS</td>\n      <td>Masculino</td>\n      <td>1958-01-07</td>\n    </tr>\n    <tr>\n      <th>966</th>\n      <td>Rezende Ribeiro Ltda.</td>\n      <td>53690.472865</td>\n      <td>Área Araújo, 7 Das Industrias I 85600-417 da C...</td>\n      <td>(-40.1585215, 102.703068)</td>\n      <td>AB-</td>\n      <td>[http://www.teixeira.br/, http://ferreira.org/...</td>\n      <td>gustavo-henrique67</td>\n      <td>MARIA SOPHIA CUNHA</td>\n      <td>Feminino</td>\n      <td>1912-12-09</td>\n    </tr>\n    <tr>\n      <th>595</th>\n      <td>Correia</td>\n      <td>67430.258107</td>\n      <td>Morro Francisco da Conceição, 26 Havaí 6372383...</td>\n      <td>(70.3161285, 87.771628)</td>\n      <td>AB-</td>\n      <td>[http://gomes.net/, https://moreira.com/]</td>\n      <td>leonardo96</td>\n      <td>DRA. ELOAH BARROS</td>\n      <td>Feminino</td>\n      <td>1994-04-13</td>\n    </tr>\n    <tr>\n      <th>941</th>\n      <td>Rocha</td>\n      <td>64203.598729</td>\n      <td>Avenida de Cavalcanti, 408 Vila De Sá 30909-17...</td>\n      <td>(-64.969722, 3.300348)</td>\n      <td>AB-</td>\n      <td>[https://www.martins.com/]</td>\n      <td>aragaodaniel</td>\n      <td>LÍVIA ARAGÃO</td>\n      <td>Feminino</td>\n      <td>2004-11-21</td>\n    </tr>\n    <tr>\n      <th>926</th>\n      <td>da Paz - ME</td>\n      <td>89370.621431</td>\n      <td>Lago Amanda Oliveira, 7 Marilandia 25208-328 d...</td>\n      <td>(29.926771, 6.163834)</td>\n      <td>A-</td>\n      <td>[https://silveira.br/, https://peixoto.org/]</td>\n      <td>yagosantos</td>\n      <td>MARIA VITÓRIA DA LUZ</td>\n      <td>Feminino</td>\n      <td>2020-04-29</td>\n    </tr>\n    <tr>\n      <th>710</th>\n      <td>da Cruz</td>\n      <td>13948.650233</td>\n      <td>Sítio Bruno Barros, 307 Santo Agostinho 554803...</td>\n      <td>(-8.1833245, 178.948782)</td>\n      <td>O+</td>\n      <td>[https://www.da.br/, http://www.lopes.com/, ht...</td>\n      <td>amandacaldeira</td>\n      <td>MARCOS VINICIUS LIMA</td>\n      <td>Masculino</td>\n      <td>1938-05-17</td>\n    </tr>\n    <tr>\n      <th>253</th>\n      <td>Dias</td>\n      <td>36945.107884</td>\n      <td>Estrada Eloah Sales, 598 Vila Aeroporto Jaragu...</td>\n      <td>(-64.9420375, -83.533286)</td>\n      <td>O+</td>\n      <td>[https://www.santos.com/, http://www.rocha.com...</td>\n      <td>ccastro</td>\n      <td>YURI NUNES</td>\n      <td>Masculino</td>\n      <td>1919-03-10</td>\n    </tr>\n  </tbody>\n</table>\n</div>"
     },
     "metadata": {},
     "execution_count": 232
    }
   ],
   "source": [
    "# para deletar uma coluna podemos usar por exemplo o comando 'del'\n",
    "del df3['job']\n",
    "df3"
   ]
  },
  {
   "cell_type": "code",
   "execution_count": 234,
   "metadata": {},
   "outputs": [
    {
     "output_type": "execute_result",
     "data": {
      "text/plain": [
       "                   company           ssn  \\\n",
       "755                da Cruz  96152.308712   \n",
       "711               Carvalho  28397.014640   \n",
       "765          da Cunha - ME  36420.985170   \n",
       "477                   Melo  58274.309197   \n",
       "966  Rezende Ribeiro Ltda.  53690.472865   \n",
       "595                Correia  67430.258107   \n",
       "941                  Rocha  64203.598729   \n",
       "710                da Cruz  13948.650233   \n",
       "253                   Dias  36945.107884   \n",
       "\n",
       "                                             residence  \\\n",
       "755  Setor Letícia Moreira, 29 Vila Primeiro De Mai...   \n",
       "711    Distrito Costa, 83 Castelo 85489-014 Nunes / RJ   \n",
       "765  Pátio Ferreira Nossa Senhora De Fátima 61790-4...   \n",
       "477  Sítio de Alves, 28 Serra Verde 49833387 Lima d...   \n",
       "966  Área Araújo, 7 Das Industrias I 85600-417 da C...   \n",
       "595  Morro Francisco da Conceição, 26 Havaí 6372383...   \n",
       "941  Avenida de Cavalcanti, 408 Vila De Sá 30909-17...   \n",
       "710  Sítio Bruno Barros, 307 Santo Agostinho 554803...   \n",
       "253  Estrada Eloah Sales, 598 Vila Aeroporto Jaragu...   \n",
       "\n",
       "               current_location blood_group  \\\n",
       "755    (25.1405145, 139.891089)          O+   \n",
       "711     (84.655873, -11.840715)          A+   \n",
       "765  (-39.9396565, -167.643257)          B-   \n",
       "477    (17.6954405, -80.903456)          B+   \n",
       "966   (-40.1585215, 102.703068)         AB-   \n",
       "595     (70.3161285, 87.771628)         AB-   \n",
       "941      (-64.969722, 3.300348)         AB-   \n",
       "710    (-8.1833245, 178.948782)          O+   \n",
       "253   (-64.9420375, -83.533286)          O+   \n",
       "\n",
       "                                               website            username  \\\n",
       "755                                [https://alves.br/]           anthony57   \n",
       "711  [https://www.correia.com/, https://teixeira.ne...           zsilveira   \n",
       "765           [https://costela.com/, http://melo.com/]             eda-paz   \n",
       "477  [http://lima.com/, http://www.moraes.com/, htt...           kmonteiro   \n",
       "966  [http://www.teixeira.br/, http://ferreira.org/...  gustavo-henrique67   \n",
       "595          [http://gomes.net/, https://moreira.com/]          leonardo96   \n",
       "941                         [https://www.martins.com/]        aragaodaniel   \n",
       "710  [https://www.da.br/, http://www.lopes.com/, ht...      amandacaldeira   \n",
       "253  [https://www.santos.com/, http://www.rocha.com...             ccastro   \n",
       "\n",
       "                     name        sex   birthdate  \n",
       "755         ESTHER SANTOS   Feminino  2012-06-01  \n",
       "711       LAVÍNIA PEIXOTO   Feminino  1947-05-01  \n",
       "765     SR. RODRIGO RAMOS  Masculino  1932-12-28  \n",
       "477       ANTÔNIO FREITAS  Masculino  1958-01-07  \n",
       "966    MARIA SOPHIA CUNHA   Feminino  1912-12-09  \n",
       "595     DRA. ELOAH BARROS   Feminino  1994-04-13  \n",
       "941          LÍVIA ARAGÃO   Feminino  2004-11-21  \n",
       "710  MARCOS VINICIUS LIMA  Masculino  1938-05-17  \n",
       "253            YURI NUNES  Masculino  1919-03-10  "
      ],
      "text/html": "<div>\n<style scoped>\n    .dataframe tbody tr th:only-of-type {\n        vertical-align: middle;\n    }\n\n    .dataframe tbody tr th {\n        vertical-align: top;\n    }\n\n    .dataframe thead th {\n        text-align: right;\n    }\n</style>\n<table border=\"1\" class=\"dataframe\">\n  <thead>\n    <tr style=\"text-align: right;\">\n      <th></th>\n      <th>company</th>\n      <th>ssn</th>\n      <th>residence</th>\n      <th>current_location</th>\n      <th>blood_group</th>\n      <th>website</th>\n      <th>username</th>\n      <th>name</th>\n      <th>sex</th>\n      <th>birthdate</th>\n    </tr>\n  </thead>\n  <tbody>\n    <tr>\n      <th>755</th>\n      <td>da Cruz</td>\n      <td>96152.308712</td>\n      <td>Setor Letícia Moreira, 29 Vila Primeiro De Mai...</td>\n      <td>(25.1405145, 139.891089)</td>\n      <td>O+</td>\n      <td>[https://alves.br/]</td>\n      <td>anthony57</td>\n      <td>ESTHER SANTOS</td>\n      <td>Feminino</td>\n      <td>2012-06-01</td>\n    </tr>\n    <tr>\n      <th>711</th>\n      <td>Carvalho</td>\n      <td>28397.014640</td>\n      <td>Distrito Costa, 83 Castelo 85489-014 Nunes / RJ</td>\n      <td>(84.655873, -11.840715)</td>\n      <td>A+</td>\n      <td>[https://www.correia.com/, https://teixeira.ne...</td>\n      <td>zsilveira</td>\n      <td>LAVÍNIA PEIXOTO</td>\n      <td>Feminino</td>\n      <td>1947-05-01</td>\n    </tr>\n    <tr>\n      <th>765</th>\n      <td>da Cunha - ME</td>\n      <td>36420.985170</td>\n      <td>Pátio Ferreira Nossa Senhora De Fátima 61790-4...</td>\n      <td>(-39.9396565, -167.643257)</td>\n      <td>B-</td>\n      <td>[https://costela.com/, http://melo.com/]</td>\n      <td>eda-paz</td>\n      <td>SR. RODRIGO RAMOS</td>\n      <td>Masculino</td>\n      <td>1932-12-28</td>\n    </tr>\n    <tr>\n      <th>477</th>\n      <td>Melo</td>\n      <td>58274.309197</td>\n      <td>Sítio de Alves, 28 Serra Verde 49833387 Lima d...</td>\n      <td>(17.6954405, -80.903456)</td>\n      <td>B+</td>\n      <td>[http://lima.com/, http://www.moraes.com/, htt...</td>\n      <td>kmonteiro</td>\n      <td>ANTÔNIO FREITAS</td>\n      <td>Masculino</td>\n      <td>1958-01-07</td>\n    </tr>\n    <tr>\n      <th>966</th>\n      <td>Rezende Ribeiro Ltda.</td>\n      <td>53690.472865</td>\n      <td>Área Araújo, 7 Das Industrias I 85600-417 da C...</td>\n      <td>(-40.1585215, 102.703068)</td>\n      <td>AB-</td>\n      <td>[http://www.teixeira.br/, http://ferreira.org/...</td>\n      <td>gustavo-henrique67</td>\n      <td>MARIA SOPHIA CUNHA</td>\n      <td>Feminino</td>\n      <td>1912-12-09</td>\n    </tr>\n    <tr>\n      <th>595</th>\n      <td>Correia</td>\n      <td>67430.258107</td>\n      <td>Morro Francisco da Conceição, 26 Havaí 6372383...</td>\n      <td>(70.3161285, 87.771628)</td>\n      <td>AB-</td>\n      <td>[http://gomes.net/, https://moreira.com/]</td>\n      <td>leonardo96</td>\n      <td>DRA. ELOAH BARROS</td>\n      <td>Feminino</td>\n      <td>1994-04-13</td>\n    </tr>\n    <tr>\n      <th>941</th>\n      <td>Rocha</td>\n      <td>64203.598729</td>\n      <td>Avenida de Cavalcanti, 408 Vila De Sá 30909-17...</td>\n      <td>(-64.969722, 3.300348)</td>\n      <td>AB-</td>\n      <td>[https://www.martins.com/]</td>\n      <td>aragaodaniel</td>\n      <td>LÍVIA ARAGÃO</td>\n      <td>Feminino</td>\n      <td>2004-11-21</td>\n    </tr>\n    <tr>\n      <th>710</th>\n      <td>da Cruz</td>\n      <td>13948.650233</td>\n      <td>Sítio Bruno Barros, 307 Santo Agostinho 554803...</td>\n      <td>(-8.1833245, 178.948782)</td>\n      <td>O+</td>\n      <td>[https://www.da.br/, http://www.lopes.com/, ht...</td>\n      <td>amandacaldeira</td>\n      <td>MARCOS VINICIUS LIMA</td>\n      <td>Masculino</td>\n      <td>1938-05-17</td>\n    </tr>\n    <tr>\n      <th>253</th>\n      <td>Dias</td>\n      <td>36945.107884</td>\n      <td>Estrada Eloah Sales, 598 Vila Aeroporto Jaragu...</td>\n      <td>(-64.9420375, -83.533286)</td>\n      <td>O+</td>\n      <td>[https://www.santos.com/, http://www.rocha.com...</td>\n      <td>ccastro</td>\n      <td>YURI NUNES</td>\n      <td>Masculino</td>\n      <td>1919-03-10</td>\n    </tr>\n  </tbody>\n</table>\n</div>"
     },
     "metadata": {},
     "execution_count": 234
    }
   ],
   "source": [
    "# para varias colunas ou linhaspode ser utilizado o metodo drop\n",
    "# para linhas basta usar o index para selecionar a linha a qual se quer a deleção\n",
    "df3.drop(926)\n"
   ]
  },
  {
   "cell_type": "code",
   "execution_count": 235,
   "metadata": {},
   "outputs": [
    {
     "output_type": "execute_result",
     "data": {
      "text/plain": [
       "                   company           ssn  \\\n",
       "755                da Cruz  96152.308712   \n",
       "711               Carvalho  28397.014640   \n",
       "765          da Cunha - ME  36420.985170   \n",
       "477                   Melo  58274.309197   \n",
       "966  Rezende Ribeiro Ltda.  53690.472865   \n",
       "595                Correia  67430.258107   \n",
       "941                  Rocha  64203.598729   \n",
       "926            da Paz - ME  89370.621431   \n",
       "710                da Cruz  13948.650233   \n",
       "253                   Dias  36945.107884   \n",
       "\n",
       "                                             residence  \\\n",
       "755  Setor Letícia Moreira, 29 Vila Primeiro De Mai...   \n",
       "711    Distrito Costa, 83 Castelo 85489-014 Nunes / RJ   \n",
       "765  Pátio Ferreira Nossa Senhora De Fátima 61790-4...   \n",
       "477  Sítio de Alves, 28 Serra Verde 49833387 Lima d...   \n",
       "966  Área Araújo, 7 Das Industrias I 85600-417 da C...   \n",
       "595  Morro Francisco da Conceição, 26 Havaí 6372383...   \n",
       "941  Avenida de Cavalcanti, 408 Vila De Sá 30909-17...   \n",
       "926  Lago Amanda Oliveira, 7 Marilandia 25208-328 d...   \n",
       "710  Sítio Bruno Barros, 307 Santo Agostinho 554803...   \n",
       "253  Estrada Eloah Sales, 598 Vila Aeroporto Jaragu...   \n",
       "\n",
       "               current_location blood_group            username  \\\n",
       "755    (25.1405145, 139.891089)          O+           anthony57   \n",
       "711     (84.655873, -11.840715)          A+           zsilveira   \n",
       "765  (-39.9396565, -167.643257)          B-             eda-paz   \n",
       "477    (17.6954405, -80.903456)          B+           kmonteiro   \n",
       "966   (-40.1585215, 102.703068)         AB-  gustavo-henrique67   \n",
       "595     (70.3161285, 87.771628)         AB-          leonardo96   \n",
       "941      (-64.969722, 3.300348)         AB-        aragaodaniel   \n",
       "926       (29.926771, 6.163834)          A-          yagosantos   \n",
       "710    (-8.1833245, 178.948782)          O+      amandacaldeira   \n",
       "253   (-64.9420375, -83.533286)          O+             ccastro   \n",
       "\n",
       "                     name        sex  \n",
       "755         ESTHER SANTOS   Feminino  \n",
       "711       LAVÍNIA PEIXOTO   Feminino  \n",
       "765     SR. RODRIGO RAMOS  Masculino  \n",
       "477       ANTÔNIO FREITAS  Masculino  \n",
       "966    MARIA SOPHIA CUNHA   Feminino  \n",
       "595     DRA. ELOAH BARROS   Feminino  \n",
       "941          LÍVIA ARAGÃO   Feminino  \n",
       "926  MARIA VITÓRIA DA LUZ   Feminino  \n",
       "710  MARCOS VINICIUS LIMA  Masculino  \n",
       "253            YURI NUNES  Masculino  "
      ],
      "text/html": "<div>\n<style scoped>\n    .dataframe tbody tr th:only-of-type {\n        vertical-align: middle;\n    }\n\n    .dataframe tbody tr th {\n        vertical-align: top;\n    }\n\n    .dataframe thead th {\n        text-align: right;\n    }\n</style>\n<table border=\"1\" class=\"dataframe\">\n  <thead>\n    <tr style=\"text-align: right;\">\n      <th></th>\n      <th>company</th>\n      <th>ssn</th>\n      <th>residence</th>\n      <th>current_location</th>\n      <th>blood_group</th>\n      <th>username</th>\n      <th>name</th>\n      <th>sex</th>\n    </tr>\n  </thead>\n  <tbody>\n    <tr>\n      <th>755</th>\n      <td>da Cruz</td>\n      <td>96152.308712</td>\n      <td>Setor Letícia Moreira, 29 Vila Primeiro De Mai...</td>\n      <td>(25.1405145, 139.891089)</td>\n      <td>O+</td>\n      <td>anthony57</td>\n      <td>ESTHER SANTOS</td>\n      <td>Feminino</td>\n    </tr>\n    <tr>\n      <th>711</th>\n      <td>Carvalho</td>\n      <td>28397.014640</td>\n      <td>Distrito Costa, 83 Castelo 85489-014 Nunes / RJ</td>\n      <td>(84.655873, -11.840715)</td>\n      <td>A+</td>\n      <td>zsilveira</td>\n      <td>LAVÍNIA PEIXOTO</td>\n      <td>Feminino</td>\n    </tr>\n    <tr>\n      <th>765</th>\n      <td>da Cunha - ME</td>\n      <td>36420.985170</td>\n      <td>Pátio Ferreira Nossa Senhora De Fátima 61790-4...</td>\n      <td>(-39.9396565, -167.643257)</td>\n      <td>B-</td>\n      <td>eda-paz</td>\n      <td>SR. RODRIGO RAMOS</td>\n      <td>Masculino</td>\n    </tr>\n    <tr>\n      <th>477</th>\n      <td>Melo</td>\n      <td>58274.309197</td>\n      <td>Sítio de Alves, 28 Serra Verde 49833387 Lima d...</td>\n      <td>(17.6954405, -80.903456)</td>\n      <td>B+</td>\n      <td>kmonteiro</td>\n      <td>ANTÔNIO FREITAS</td>\n      <td>Masculino</td>\n    </tr>\n    <tr>\n      <th>966</th>\n      <td>Rezende Ribeiro Ltda.</td>\n      <td>53690.472865</td>\n      <td>Área Araújo, 7 Das Industrias I 85600-417 da C...</td>\n      <td>(-40.1585215, 102.703068)</td>\n      <td>AB-</td>\n      <td>gustavo-henrique67</td>\n      <td>MARIA SOPHIA CUNHA</td>\n      <td>Feminino</td>\n    </tr>\n    <tr>\n      <th>595</th>\n      <td>Correia</td>\n      <td>67430.258107</td>\n      <td>Morro Francisco da Conceição, 26 Havaí 6372383...</td>\n      <td>(70.3161285, 87.771628)</td>\n      <td>AB-</td>\n      <td>leonardo96</td>\n      <td>DRA. ELOAH BARROS</td>\n      <td>Feminino</td>\n    </tr>\n    <tr>\n      <th>941</th>\n      <td>Rocha</td>\n      <td>64203.598729</td>\n      <td>Avenida de Cavalcanti, 408 Vila De Sá 30909-17...</td>\n      <td>(-64.969722, 3.300348)</td>\n      <td>AB-</td>\n      <td>aragaodaniel</td>\n      <td>LÍVIA ARAGÃO</td>\n      <td>Feminino</td>\n    </tr>\n    <tr>\n      <th>926</th>\n      <td>da Paz - ME</td>\n      <td>89370.621431</td>\n      <td>Lago Amanda Oliveira, 7 Marilandia 25208-328 d...</td>\n      <td>(29.926771, 6.163834)</td>\n      <td>A-</td>\n      <td>yagosantos</td>\n      <td>MARIA VITÓRIA DA LUZ</td>\n      <td>Feminino</td>\n    </tr>\n    <tr>\n      <th>710</th>\n      <td>da Cruz</td>\n      <td>13948.650233</td>\n      <td>Sítio Bruno Barros, 307 Santo Agostinho 554803...</td>\n      <td>(-8.1833245, 178.948782)</td>\n      <td>O+</td>\n      <td>amandacaldeira</td>\n      <td>MARCOS VINICIUS LIMA</td>\n      <td>Masculino</td>\n    </tr>\n    <tr>\n      <th>253</th>\n      <td>Dias</td>\n      <td>36945.107884</td>\n      <td>Estrada Eloah Sales, 598 Vila Aeroporto Jaragu...</td>\n      <td>(-64.9420375, -83.533286)</td>\n      <td>O+</td>\n      <td>ccastro</td>\n      <td>YURI NUNES</td>\n      <td>Masculino</td>\n    </tr>\n  </tbody>\n</table>\n</div>"
     },
     "metadata": {},
     "execution_count": 235
    }
   ],
   "source": [
    "df3.drop(columns=['website', 'birthdate']) # para deixar na memoria, basta utilizar inplace=True"
   ]
  },
  {
   "source": [
    "### Métodos importantes"
   ],
   "cell_type": "markdown",
   "metadata": {}
  },
  {
   "cell_type": "code",
   "execution_count": 236,
   "metadata": {},
   "outputs": [],
   "source": [
    "# gerando outro dataset \n",
    "df = make_fake_data(5000)\n",
    "del df['residence']\n"
   ]
  },
  {
   "cell_type": "code",
   "execution_count": 237,
   "metadata": {},
   "outputs": [
    {
     "output_type": "stream",
     "name": "stdout",
     "text": [
      "<class 'pandas.core.frame.DataFrame'>\nRangeIndex: 5000 entries, 0 to 4999\nData columns (total 10 columns):\n #   Column            Non-Null Count  Dtype \n---  ------            --------------  ----- \n 0   job               5000 non-null   object\n 1   company           5000 non-null   object\n 2   ssn               5000 non-null   object\n 3   current_location  5000 non-null   object\n 4   blood_group       5000 non-null   object\n 5   website           5000 non-null   object\n 6   username          5000 non-null   object\n 7   name              5000 non-null   object\n 8   sex               5000 non-null   object\n 9   birthdate         5000 non-null   object\ndtypes: object(10)\nmemory usage: 390.8+ KB\n"
     ]
    }
   ],
   "source": [
    "df.info()"
   ]
  },
  {
   "cell_type": "code",
   "execution_count": 238,
   "metadata": {},
   "outputs": [],
   "source": [
    "df['ssn'] = df['ssn'].astype(float)"
   ]
  },
  {
   "cell_type": "code",
   "execution_count": 239,
   "metadata": {},
   "outputs": [
    {
     "output_type": "stream",
     "name": "stdout",
     "text": [
      "<class 'pandas.core.frame.DataFrame'>\nRangeIndex: 5000 entries, 0 to 4999\nData columns (total 10 columns):\n #   Column            Non-Null Count  Dtype  \n---  ------            --------------  -----  \n 0   job               5000 non-null   object \n 1   company           5000 non-null   object \n 2   ssn               5000 non-null   float64\n 3   current_location  5000 non-null   object \n 4   blood_group       5000 non-null   object \n 5   website           5000 non-null   object \n 6   username          5000 non-null   object \n 7   name              5000 non-null   object \n 8   sex               5000 non-null   object \n 9   birthdate         5000 non-null   object \ndtypes: float64(1), object(9)\nmemory usage: 390.8+ KB\n"
     ]
    }
   ],
   "source": [
    "df.info()"
   ]
  },
  {
   "cell_type": "code",
   "execution_count": 240,
   "metadata": {},
   "outputs": [],
   "source": [
    "df['ssn'] = df['ssn']/ 10e6"
   ]
  },
  {
   "cell_type": "code",
   "execution_count": 241,
   "metadata": {},
   "outputs": [],
   "source": [
    "df.rename(columns={'ssn':'salary'}, inplace=True)"
   ]
  },
  {
   "source": [
    "### Unstack\n",
    "> `Transforma o indice mais proximo da coluna em outra coluna`"
   ],
   "cell_type": "markdown",
   "metadata": {}
  },
  {
   "cell_type": "code",
   "execution_count": 242,
   "metadata": {},
   "outputs": [],
   "source": [
    "grouped = df.groupby(['job', 'sex'])[['salary']].mean()"
   ]
  },
  {
   "cell_type": "code",
   "execution_count": 243,
   "metadata": {},
   "outputs": [
    {
     "output_type": "execute_result",
     "data": {
      "text/plain": [
       "                                salary\n",
       "job                   sex             \n",
       "Acompanhante          F    6283.527555\n",
       "Acupunturista         F    4773.328201\n",
       "                      M    5122.754151\n",
       "Adestrador de animais F    4951.557184\n",
       "                      M    5312.737367\n",
       "...                                ...\n",
       "Zelador               M    2493.675011\n",
       "Zootecnista           F    4124.483635\n",
       "                      M    2248.507363\n",
       "Árbitro e mediador    F    8067.499287\n",
       "                      M    2542.118439\n",
       "\n",
       "[1444 rows x 1 columns]"
      ],
      "text/html": "<div>\n<style scoped>\n    .dataframe tbody tr th:only-of-type {\n        vertical-align: middle;\n    }\n\n    .dataframe tbody tr th {\n        vertical-align: top;\n    }\n\n    .dataframe thead th {\n        text-align: right;\n    }\n</style>\n<table border=\"1\" class=\"dataframe\">\n  <thead>\n    <tr style=\"text-align: right;\">\n      <th></th>\n      <th></th>\n      <th>salary</th>\n    </tr>\n    <tr>\n      <th>job</th>\n      <th>sex</th>\n      <th></th>\n    </tr>\n  </thead>\n  <tbody>\n    <tr>\n      <th>Acompanhante</th>\n      <th>F</th>\n      <td>6283.527555</td>\n    </tr>\n    <tr>\n      <th rowspan=\"2\" valign=\"top\">Acupunturista</th>\n      <th>F</th>\n      <td>4773.328201</td>\n    </tr>\n    <tr>\n      <th>M</th>\n      <td>5122.754151</td>\n    </tr>\n    <tr>\n      <th rowspan=\"2\" valign=\"top\">Adestrador de animais</th>\n      <th>F</th>\n      <td>4951.557184</td>\n    </tr>\n    <tr>\n      <th>M</th>\n      <td>5312.737367</td>\n    </tr>\n    <tr>\n      <th>...</th>\n      <th>...</th>\n      <td>...</td>\n    </tr>\n    <tr>\n      <th>Zelador</th>\n      <th>M</th>\n      <td>2493.675011</td>\n    </tr>\n    <tr>\n      <th rowspan=\"2\" valign=\"top\">Zootecnista</th>\n      <th>F</th>\n      <td>4124.483635</td>\n    </tr>\n    <tr>\n      <th>M</th>\n      <td>2248.507363</td>\n    </tr>\n    <tr>\n      <th rowspan=\"2\" valign=\"top\">Árbitro e mediador</th>\n      <th>F</th>\n      <td>8067.499287</td>\n    </tr>\n    <tr>\n      <th>M</th>\n      <td>2542.118439</td>\n    </tr>\n  </tbody>\n</table>\n<p>1444 rows × 1 columns</p>\n</div>"
     },
     "metadata": {},
     "execution_count": 243
    }
   ],
   "source": [
    "# note q esta dataset é multindex e em alguns casos não haverá dados para o sex = 'M' ou 'F' e o job só possui uma linha apenas.\n",
    "grouped"
   ]
  },
  {
   "cell_type": "code",
   "execution_count": 244,
   "metadata": {},
   "outputs": [
    {
     "output_type": "execute_result",
     "data": {
      "text/plain": [
       "                                          salary             \n",
       "sex                                            F            M\n",
       "job                                                          \n",
       "Acompanhante                         6283.527555          NaN\n",
       "Acupunturista                        4773.328201  5122.754151\n",
       "Adestrador de animais                4951.557184  5312.737367\n",
       "Administrador                        6254.254707  5981.396256\n",
       "Administrador de banco de dados DBA  4532.735925  6556.428697\n",
       "...                                          ...          ...\n",
       "Windsurfer                           3752.447267  3952.796251\n",
       "Xilógrafo                            8794.863259  3600.324472\n",
       "Zelador                              5088.564158  2493.675011\n",
       "Zootecnista                          4124.483635  2248.507363\n",
       "Árbitro e mediador                   8067.499287  2542.118439\n",
       "\n",
       "[747 rows x 2 columns]"
      ],
      "text/html": "<div>\n<style scoped>\n    .dataframe tbody tr th:only-of-type {\n        vertical-align: middle;\n    }\n\n    .dataframe tbody tr th {\n        vertical-align: top;\n    }\n\n    .dataframe thead tr th {\n        text-align: left;\n    }\n\n    .dataframe thead tr:last-of-type th {\n        text-align: right;\n    }\n</style>\n<table border=\"1\" class=\"dataframe\">\n  <thead>\n    <tr>\n      <th></th>\n      <th colspan=\"2\" halign=\"left\">salary</th>\n    </tr>\n    <tr>\n      <th>sex</th>\n      <th>F</th>\n      <th>M</th>\n    </tr>\n    <tr>\n      <th>job</th>\n      <th></th>\n      <th></th>\n    </tr>\n  </thead>\n  <tbody>\n    <tr>\n      <th>Acompanhante</th>\n      <td>6283.527555</td>\n      <td>NaN</td>\n    </tr>\n    <tr>\n      <th>Acupunturista</th>\n      <td>4773.328201</td>\n      <td>5122.754151</td>\n    </tr>\n    <tr>\n      <th>Adestrador de animais</th>\n      <td>4951.557184</td>\n      <td>5312.737367</td>\n    </tr>\n    <tr>\n      <th>Administrador</th>\n      <td>6254.254707</td>\n      <td>5981.396256</td>\n    </tr>\n    <tr>\n      <th>Administrador de banco de dados DBA</th>\n      <td>4532.735925</td>\n      <td>6556.428697</td>\n    </tr>\n    <tr>\n      <th>...</th>\n      <td>...</td>\n      <td>...</td>\n    </tr>\n    <tr>\n      <th>Windsurfer</th>\n      <td>3752.447267</td>\n      <td>3952.796251</td>\n    </tr>\n    <tr>\n      <th>Xilógrafo</th>\n      <td>8794.863259</td>\n      <td>3600.324472</td>\n    </tr>\n    <tr>\n      <th>Zelador</th>\n      <td>5088.564158</td>\n      <td>2493.675011</td>\n    </tr>\n    <tr>\n      <th>Zootecnista</th>\n      <td>4124.483635</td>\n      <td>2248.507363</td>\n    </tr>\n    <tr>\n      <th>Árbitro e mediador</th>\n      <td>8067.499287</td>\n      <td>2542.118439</td>\n    </tr>\n  </tbody>\n</table>\n<p>747 rows × 2 columns</p>\n</div>"
     },
     "metadata": {},
     "execution_count": 244
    }
   ],
   "source": [
    "unstack = grouped.unstack()\n",
    "unstack"
   ]
  },
  {
   "source": [
    "### FillNa"
   ],
   "cell_type": "markdown",
   "metadata": {}
  },
  {
   "cell_type": "code",
   "execution_count": 245,
   "metadata": {},
   "outputs": [
    {
     "output_type": "execute_result",
     "data": {
      "text/plain": [
       "                                          salary             \n",
       "sex                                            F            M\n",
       "job                                                          \n",
       "Acompanhante                         6283.527555     0.000000\n",
       "Acupunturista                        4773.328201  5122.754151\n",
       "Adestrador de animais                4951.557184  5312.737367\n",
       "Administrador                        6254.254707  5981.396256\n",
       "Administrador de banco de dados DBA  4532.735925  6556.428697\n",
       "...                                          ...          ...\n",
       "Windsurfer                           3752.447267  3952.796251\n",
       "Xilógrafo                            8794.863259  3600.324472\n",
       "Zelador                              5088.564158  2493.675011\n",
       "Zootecnista                          4124.483635  2248.507363\n",
       "Árbitro e mediador                   8067.499287  2542.118439\n",
       "\n",
       "[747 rows x 2 columns]"
      ],
      "text/html": "<div>\n<style scoped>\n    .dataframe tbody tr th:only-of-type {\n        vertical-align: middle;\n    }\n\n    .dataframe tbody tr th {\n        vertical-align: top;\n    }\n\n    .dataframe thead tr th {\n        text-align: left;\n    }\n\n    .dataframe thead tr:last-of-type th {\n        text-align: right;\n    }\n</style>\n<table border=\"1\" class=\"dataframe\">\n  <thead>\n    <tr>\n      <th></th>\n      <th colspan=\"2\" halign=\"left\">salary</th>\n    </tr>\n    <tr>\n      <th>sex</th>\n      <th>F</th>\n      <th>M</th>\n    </tr>\n    <tr>\n      <th>job</th>\n      <th></th>\n      <th></th>\n    </tr>\n  </thead>\n  <tbody>\n    <tr>\n      <th>Acompanhante</th>\n      <td>6283.527555</td>\n      <td>0.000000</td>\n    </tr>\n    <tr>\n      <th>Acupunturista</th>\n      <td>4773.328201</td>\n      <td>5122.754151</td>\n    </tr>\n    <tr>\n      <th>Adestrador de animais</th>\n      <td>4951.557184</td>\n      <td>5312.737367</td>\n    </tr>\n    <tr>\n      <th>Administrador</th>\n      <td>6254.254707</td>\n      <td>5981.396256</td>\n    </tr>\n    <tr>\n      <th>Administrador de banco de dados DBA</th>\n      <td>4532.735925</td>\n      <td>6556.428697</td>\n    </tr>\n    <tr>\n      <th>...</th>\n      <td>...</td>\n      <td>...</td>\n    </tr>\n    <tr>\n      <th>Windsurfer</th>\n      <td>3752.447267</td>\n      <td>3952.796251</td>\n    </tr>\n    <tr>\n      <th>Xilógrafo</th>\n      <td>8794.863259</td>\n      <td>3600.324472</td>\n    </tr>\n    <tr>\n      <th>Zelador</th>\n      <td>5088.564158</td>\n      <td>2493.675011</td>\n    </tr>\n    <tr>\n      <th>Zootecnista</th>\n      <td>4124.483635</td>\n      <td>2248.507363</td>\n    </tr>\n    <tr>\n      <th>Árbitro e mediador</th>\n      <td>8067.499287</td>\n      <td>2542.118439</td>\n    </tr>\n  </tbody>\n</table>\n<p>747 rows × 2 columns</p>\n</div>"
     },
     "metadata": {},
     "execution_count": 245
    }
   ],
   "source": [
    "# preencher as celulas sem dados com zeros\n",
    "unstack.fillna(0)"
   ]
  },
  {
   "cell_type": "code",
   "execution_count": 246,
   "metadata": {},
   "outputs": [
    {
     "output_type": "execute_result",
     "data": {
      "text/plain": [
       "          salary                                                    \\\n",
       "job Acompanhante Acupunturista Adestrador de animais Administrador   \n",
       "sex                                                                  \n",
       "F    6283.527555   4773.328201           4951.557184   6254.254707   \n",
       "M            NaN   5122.754151           5312.737367   5981.396256   \n",
       "\n",
       "                                                                \\\n",
       "job Administrador de banco de dados DBA Administrador de redes   \n",
       "sex                                                              \n",
       "F                           4532.735925             4761.34822   \n",
       "M                           6556.428697              970.44759   \n",
       "\n",
       "                                                                  ...  \\\n",
       "job Administrador público     Advogado     Aeromoça    Aeronauta  ...   \n",
       "sex                                                               ...   \n",
       "F             8049.213561  1094.756237  3845.436943  3259.971920  ...   \n",
       "M             6417.288522  3939.658673  4599.486350  4119.696876  ...   \n",
       "\n",
       "                                                                     \\\n",
       "job   Violonista Vistoriador de sinistros   Viveirista  Webdesigner   \n",
       "sex                                                                   \n",
       "F    1030.616656              1349.573789  5686.512361  4958.037702   \n",
       "M    2619.053472              5362.104364  6201.030865  7009.821520   \n",
       "\n",
       "                                                                      \\\n",
       "job    Webmaster   Windsurfer    Xilógrafo      Zelador  Zootecnista   \n",
       "sex                                                                    \n",
       "F    3688.973737  3752.447267  8794.863259  5088.564158  4124.483635   \n",
       "M            NaN  3952.796251  3600.324472  2493.675011  2248.507363   \n",
       "\n",
       "                        \n",
       "job Árbitro e mediador  \n",
       "sex                     \n",
       "F          8067.499287  \n",
       "M          2542.118439  \n",
       "\n",
       "[2 rows x 747 columns]"
      ],
      "text/html": "<div>\n<style scoped>\n    .dataframe tbody tr th:only-of-type {\n        vertical-align: middle;\n    }\n\n    .dataframe tbody tr th {\n        vertical-align: top;\n    }\n\n    .dataframe thead tr th {\n        text-align: left;\n    }\n\n    .dataframe thead tr:last-of-type th {\n        text-align: right;\n    }\n</style>\n<table border=\"1\" class=\"dataframe\">\n  <thead>\n    <tr>\n      <th></th>\n      <th colspan=\"21\" halign=\"left\">salary</th>\n    </tr>\n    <tr>\n      <th>job</th>\n      <th>Acompanhante</th>\n      <th>Acupunturista</th>\n      <th>Adestrador de animais</th>\n      <th>Administrador</th>\n      <th>Administrador de banco de dados DBA</th>\n      <th>Administrador de redes</th>\n      <th>Administrador público</th>\n      <th>Advogado</th>\n      <th>Aeromoça</th>\n      <th>Aeronauta</th>\n      <th>...</th>\n      <th>Violonista</th>\n      <th>Vistoriador de sinistros</th>\n      <th>Viveirista</th>\n      <th>Webdesigner</th>\n      <th>Webmaster</th>\n      <th>Windsurfer</th>\n      <th>Xilógrafo</th>\n      <th>Zelador</th>\n      <th>Zootecnista</th>\n      <th>Árbitro e mediador</th>\n    </tr>\n    <tr>\n      <th>sex</th>\n      <th></th>\n      <th></th>\n      <th></th>\n      <th></th>\n      <th></th>\n      <th></th>\n      <th></th>\n      <th></th>\n      <th></th>\n      <th></th>\n      <th></th>\n      <th></th>\n      <th></th>\n      <th></th>\n      <th></th>\n      <th></th>\n      <th></th>\n      <th></th>\n      <th></th>\n      <th></th>\n      <th></th>\n    </tr>\n  </thead>\n  <tbody>\n    <tr>\n      <th>F</th>\n      <td>6283.527555</td>\n      <td>4773.328201</td>\n      <td>4951.557184</td>\n      <td>6254.254707</td>\n      <td>4532.735925</td>\n      <td>4761.34822</td>\n      <td>8049.213561</td>\n      <td>1094.756237</td>\n      <td>3845.436943</td>\n      <td>3259.971920</td>\n      <td>...</td>\n      <td>1030.616656</td>\n      <td>1349.573789</td>\n      <td>5686.512361</td>\n      <td>4958.037702</td>\n      <td>3688.973737</td>\n      <td>3752.447267</td>\n      <td>8794.863259</td>\n      <td>5088.564158</td>\n      <td>4124.483635</td>\n      <td>8067.499287</td>\n    </tr>\n    <tr>\n      <th>M</th>\n      <td>NaN</td>\n      <td>5122.754151</td>\n      <td>5312.737367</td>\n      <td>5981.396256</td>\n      <td>6556.428697</td>\n      <td>970.44759</td>\n      <td>6417.288522</td>\n      <td>3939.658673</td>\n      <td>4599.486350</td>\n      <td>4119.696876</td>\n      <td>...</td>\n      <td>2619.053472</td>\n      <td>5362.104364</td>\n      <td>6201.030865</td>\n      <td>7009.821520</td>\n      <td>NaN</td>\n      <td>3952.796251</td>\n      <td>3600.324472</td>\n      <td>2493.675011</td>\n      <td>2248.507363</td>\n      <td>2542.118439</td>\n    </tr>\n  </tbody>\n</table>\n<p>2 rows × 747 columns</p>\n</div>"
     },
     "metadata": {},
     "execution_count": 246
    }
   ],
   "source": [
    "# Para fazer utilizando o primeiro indice em colunas\n",
    "grouped.unstack(0)"
   ]
  },
  {
   "source": [
    "### Stack\n",
    "> `Para fazer o inverso do unstack`"
   ],
   "cell_type": "markdown",
   "metadata": {}
  },
  {
   "cell_type": "code",
   "execution_count": 247,
   "metadata": {},
   "outputs": [
    {
     "output_type": "execute_result",
     "data": {
      "text/plain": [
       "                                salary\n",
       "job                   sex             \n",
       "Acompanhante          F    6283.527555\n",
       "Acupunturista         F    4773.328201\n",
       "                      M    5122.754151\n",
       "Adestrador de animais F    4951.557184\n",
       "                      M    5312.737367\n",
       "...                                ...\n",
       "Zelador               M    2493.675011\n",
       "Zootecnista           F    4124.483635\n",
       "                      M    2248.507363\n",
       "Árbitro e mediador    F    8067.499287\n",
       "                      M    2542.118439\n",
       "\n",
       "[1444 rows x 1 columns]"
      ],
      "text/html": "<div>\n<style scoped>\n    .dataframe tbody tr th:only-of-type {\n        vertical-align: middle;\n    }\n\n    .dataframe tbody tr th {\n        vertical-align: top;\n    }\n\n    .dataframe thead th {\n        text-align: right;\n    }\n</style>\n<table border=\"1\" class=\"dataframe\">\n  <thead>\n    <tr style=\"text-align: right;\">\n      <th></th>\n      <th></th>\n      <th>salary</th>\n    </tr>\n    <tr>\n      <th>job</th>\n      <th>sex</th>\n      <th></th>\n    </tr>\n  </thead>\n  <tbody>\n    <tr>\n      <th>Acompanhante</th>\n      <th>F</th>\n      <td>6283.527555</td>\n    </tr>\n    <tr>\n      <th rowspan=\"2\" valign=\"top\">Acupunturista</th>\n      <th>F</th>\n      <td>4773.328201</td>\n    </tr>\n    <tr>\n      <th>M</th>\n      <td>5122.754151</td>\n    </tr>\n    <tr>\n      <th rowspan=\"2\" valign=\"top\">Adestrador de animais</th>\n      <th>F</th>\n      <td>4951.557184</td>\n    </tr>\n    <tr>\n      <th>M</th>\n      <td>5312.737367</td>\n    </tr>\n    <tr>\n      <th>...</th>\n      <th>...</th>\n      <td>...</td>\n    </tr>\n    <tr>\n      <th>Zelador</th>\n      <th>M</th>\n      <td>2493.675011</td>\n    </tr>\n    <tr>\n      <th rowspan=\"2\" valign=\"top\">Zootecnista</th>\n      <th>F</th>\n      <td>4124.483635</td>\n    </tr>\n    <tr>\n      <th>M</th>\n      <td>2248.507363</td>\n    </tr>\n    <tr>\n      <th rowspan=\"2\" valign=\"top\">Árbitro e mediador</th>\n      <th>F</th>\n      <td>8067.499287</td>\n    </tr>\n    <tr>\n      <th>M</th>\n      <td>2542.118439</td>\n    </tr>\n  </tbody>\n</table>\n<p>1444 rows × 1 columns</p>\n</div>"
     },
     "metadata": {},
     "execution_count": 247
    }
   ],
   "source": [
    "stacked = unstack.stack()\n",
    "transp  = stacked\n",
    "stacked\n"
   ]
  },
  {
   "cell_type": "code",
   "execution_count": 248,
   "metadata": {},
   "outputs": [
    {
     "output_type": "execute_result",
     "data": {
      "text/plain": [
       "                                     job       salary             \n",
       "sex                                                 F            M\n",
       "0                           Acompanhante  6283.527555          NaN\n",
       "1                          Acupunturista  4773.328201  5122.754151\n",
       "2                  Adestrador de animais  4951.557184  5312.737367\n",
       "3                          Administrador  6254.254707  5981.396256\n",
       "4    Administrador de banco de dados DBA  4532.735925  6556.428697\n",
       "..                                   ...          ...          ...\n",
       "742                           Windsurfer  3752.447267  3952.796251\n",
       "743                            Xilógrafo  8794.863259  3600.324472\n",
       "744                              Zelador  5088.564158  2493.675011\n",
       "745                          Zootecnista  4124.483635  2248.507363\n",
       "746                   Árbitro e mediador  8067.499287  2542.118439\n",
       "\n",
       "[747 rows x 3 columns]"
      ],
      "text/html": "<div>\n<style scoped>\n    .dataframe tbody tr th:only-of-type {\n        vertical-align: middle;\n    }\n\n    .dataframe tbody tr th {\n        vertical-align: top;\n    }\n\n    .dataframe thead tr th {\n        text-align: left;\n    }\n</style>\n<table border=\"1\" class=\"dataframe\">\n  <thead>\n    <tr>\n      <th></th>\n      <th>job</th>\n      <th colspan=\"2\" halign=\"left\">salary</th>\n    </tr>\n    <tr>\n      <th>sex</th>\n      <th></th>\n      <th>F</th>\n      <th>M</th>\n    </tr>\n  </thead>\n  <tbody>\n    <tr>\n      <th>0</th>\n      <td>Acompanhante</td>\n      <td>6283.527555</td>\n      <td>NaN</td>\n    </tr>\n    <tr>\n      <th>1</th>\n      <td>Acupunturista</td>\n      <td>4773.328201</td>\n      <td>5122.754151</td>\n    </tr>\n    <tr>\n      <th>2</th>\n      <td>Adestrador de animais</td>\n      <td>4951.557184</td>\n      <td>5312.737367</td>\n    </tr>\n    <tr>\n      <th>3</th>\n      <td>Administrador</td>\n      <td>6254.254707</td>\n      <td>5981.396256</td>\n    </tr>\n    <tr>\n      <th>4</th>\n      <td>Administrador de banco de dados DBA</td>\n      <td>4532.735925</td>\n      <td>6556.428697</td>\n    </tr>\n    <tr>\n      <th>...</th>\n      <td>...</td>\n      <td>...</td>\n      <td>...</td>\n    </tr>\n    <tr>\n      <th>742</th>\n      <td>Windsurfer</td>\n      <td>3752.447267</td>\n      <td>3952.796251</td>\n    </tr>\n    <tr>\n      <th>743</th>\n      <td>Xilógrafo</td>\n      <td>8794.863259</td>\n      <td>3600.324472</td>\n    </tr>\n    <tr>\n      <th>744</th>\n      <td>Zelador</td>\n      <td>5088.564158</td>\n      <td>2493.675011</td>\n    </tr>\n    <tr>\n      <th>745</th>\n      <td>Zootecnista</td>\n      <td>4124.483635</td>\n      <td>2248.507363</td>\n    </tr>\n    <tr>\n      <th>746</th>\n      <td>Árbitro e mediador</td>\n      <td>8067.499287</td>\n      <td>2542.118439</td>\n    </tr>\n  </tbody>\n</table>\n<p>747 rows × 3 columns</p>\n</div>"
     },
     "metadata": {},
     "execution_count": 248
    }
   ],
   "source": [
    "unstack.reset_index()"
   ]
  },
  {
   "source": [
    "### Transpose"
   ],
   "cell_type": "markdown",
   "metadata": {}
  },
  {
   "cell_type": "code",
   "execution_count": 249,
   "metadata": {},
   "outputs": [
    {
     "output_type": "execute_result",
     "data": {
      "text/plain": [
       "job    Acompanhante Acupunturista              Adestrador de animais  \\\n",
       "sex               F             F            M                     F   \n",
       "salary  6283.527555   4773.328201  5122.754151           4951.557184   \n",
       "\n",
       "job                 Administrador               \\\n",
       "sex               M             F            M   \n",
       "salary  5312.737367   6254.254707  5981.396256   \n",
       "\n",
       "job    Administrador de banco de dados DBA               \\\n",
       "sex                                      F            M   \n",
       "salary                         4532.735925  6556.428697   \n",
       "\n",
       "job    Administrador de redes  ...   Windsurfer                 Xilógrafo  \\\n",
       "sex                         F  ...            F            M            F   \n",
       "salary             4761.34822  ...  3752.447267  3952.796251  8794.863259   \n",
       "\n",
       "job                      Zelador               Zootecnista               \\\n",
       "sex               M            F            M            F            M   \n",
       "salary  3600.324472  5088.564158  2493.675011  4124.483635  2248.507363   \n",
       "\n",
       "job    Árbitro e mediador               \n",
       "sex                     F            M  \n",
       "salary        8067.499287  2542.118439  \n",
       "\n",
       "[1 rows x 1444 columns]"
      ],
      "text/html": "<div>\n<style scoped>\n    .dataframe tbody tr th:only-of-type {\n        vertical-align: middle;\n    }\n\n    .dataframe tbody tr th {\n        vertical-align: top;\n    }\n\n    .dataframe thead tr th {\n        text-align: left;\n    }\n</style>\n<table border=\"1\" class=\"dataframe\">\n  <thead>\n    <tr>\n      <th>job</th>\n      <th>Acompanhante</th>\n      <th colspan=\"2\" halign=\"left\">Acupunturista</th>\n      <th colspan=\"2\" halign=\"left\">Adestrador de animais</th>\n      <th colspan=\"2\" halign=\"left\">Administrador</th>\n      <th colspan=\"2\" halign=\"left\">Administrador de banco de dados DBA</th>\n      <th>Administrador de redes</th>\n      <th>...</th>\n      <th colspan=\"2\" halign=\"left\">Windsurfer</th>\n      <th colspan=\"2\" halign=\"left\">Xilógrafo</th>\n      <th colspan=\"2\" halign=\"left\">Zelador</th>\n      <th colspan=\"2\" halign=\"left\">Zootecnista</th>\n      <th colspan=\"2\" halign=\"left\">Árbitro e mediador</th>\n    </tr>\n    <tr>\n      <th>sex</th>\n      <th>F</th>\n      <th>F</th>\n      <th>M</th>\n      <th>F</th>\n      <th>M</th>\n      <th>F</th>\n      <th>M</th>\n      <th>F</th>\n      <th>M</th>\n      <th>F</th>\n      <th>...</th>\n      <th>F</th>\n      <th>M</th>\n      <th>F</th>\n      <th>M</th>\n      <th>F</th>\n      <th>M</th>\n      <th>F</th>\n      <th>M</th>\n      <th>F</th>\n      <th>M</th>\n    </tr>\n  </thead>\n  <tbody>\n    <tr>\n      <th>salary</th>\n      <td>6283.527555</td>\n      <td>4773.328201</td>\n      <td>5122.754151</td>\n      <td>4951.557184</td>\n      <td>5312.737367</td>\n      <td>6254.254707</td>\n      <td>5981.396256</td>\n      <td>4532.735925</td>\n      <td>6556.428697</td>\n      <td>4761.34822</td>\n      <td>...</td>\n      <td>3752.447267</td>\n      <td>3952.796251</td>\n      <td>8794.863259</td>\n      <td>3600.324472</td>\n      <td>5088.564158</td>\n      <td>2493.675011</td>\n      <td>4124.483635</td>\n      <td>2248.507363</td>\n      <td>8067.499287</td>\n      <td>2542.118439</td>\n    </tr>\n  </tbody>\n</table>\n<p>1 rows × 1444 columns</p>\n</div>"
     },
     "metadata": {},
     "execution_count": 249
    }
   ],
   "source": [
    "transp.transpose()"
   ]
  },
  {
   "cell_type": "code",
   "execution_count": 250,
   "metadata": {},
   "outputs": [
    {
     "output_type": "execute_result",
     "data": {
      "text/plain": [
       "                        job sex       salary\n",
       "0              Acompanhante   F  6283.527555\n",
       "1             Acupunturista   F  4773.328201\n",
       "2             Acupunturista   M  5122.754151\n",
       "3     Adestrador de animais   F  4951.557184\n",
       "4     Adestrador de animais   M  5312.737367\n",
       "...                     ...  ..          ...\n",
       "1439                Zelador   M  2493.675011\n",
       "1440            Zootecnista   F  4124.483635\n",
       "1441            Zootecnista   M  2248.507363\n",
       "1442     Árbitro e mediador   F  8067.499287\n",
       "1443     Árbitro e mediador   M  2542.118439\n",
       "\n",
       "[1444 rows x 3 columns]"
      ],
      "text/html": "<div>\n<style scoped>\n    .dataframe tbody tr th:only-of-type {\n        vertical-align: middle;\n    }\n\n    .dataframe tbody tr th {\n        vertical-align: top;\n    }\n\n    .dataframe thead th {\n        text-align: right;\n    }\n</style>\n<table border=\"1\" class=\"dataframe\">\n  <thead>\n    <tr style=\"text-align: right;\">\n      <th></th>\n      <th>job</th>\n      <th>sex</th>\n      <th>salary</th>\n    </tr>\n  </thead>\n  <tbody>\n    <tr>\n      <th>0</th>\n      <td>Acompanhante</td>\n      <td>F</td>\n      <td>6283.527555</td>\n    </tr>\n    <tr>\n      <th>1</th>\n      <td>Acupunturista</td>\n      <td>F</td>\n      <td>4773.328201</td>\n    </tr>\n    <tr>\n      <th>2</th>\n      <td>Acupunturista</td>\n      <td>M</td>\n      <td>5122.754151</td>\n    </tr>\n    <tr>\n      <th>3</th>\n      <td>Adestrador de animais</td>\n      <td>F</td>\n      <td>4951.557184</td>\n    </tr>\n    <tr>\n      <th>4</th>\n      <td>Adestrador de animais</td>\n      <td>M</td>\n      <td>5312.737367</td>\n    </tr>\n    <tr>\n      <th>...</th>\n      <td>...</td>\n      <td>...</td>\n      <td>...</td>\n    </tr>\n    <tr>\n      <th>1439</th>\n      <td>Zelador</td>\n      <td>M</td>\n      <td>2493.675011</td>\n    </tr>\n    <tr>\n      <th>1440</th>\n      <td>Zootecnista</td>\n      <td>F</td>\n      <td>4124.483635</td>\n    </tr>\n    <tr>\n      <th>1441</th>\n      <td>Zootecnista</td>\n      <td>M</td>\n      <td>2248.507363</td>\n    </tr>\n    <tr>\n      <th>1442</th>\n      <td>Árbitro e mediador</td>\n      <td>F</td>\n      <td>8067.499287</td>\n    </tr>\n    <tr>\n      <th>1443</th>\n      <td>Árbitro e mediador</td>\n      <td>M</td>\n      <td>2542.118439</td>\n    </tr>\n  </tbody>\n</table>\n<p>1444 rows × 3 columns</p>\n</div>"
     },
     "metadata": {},
     "execution_count": 250
    }
   ],
   "source": [
    "res = stacked.reset_index()\n",
    "res"
   ]
  },
  {
   "source": [
    "### Pivot Table"
   ],
   "cell_type": "markdown",
   "metadata": {}
  },
  {
   "cell_type": "code",
   "execution_count": 252,
   "metadata": {},
   "outputs": [
    {
     "output_type": "execute_result",
     "data": {
      "text/plain": [
       "sex                                            F            M\n",
       "job                                                          \n",
       "Acompanhante                         6283.527555          NaN\n",
       "Acupunturista                        4773.328201  5122.754151\n",
       "Adestrador de animais                4951.557184  5312.737367\n",
       "Administrador                        6254.254707  5981.396256\n",
       "Administrador de banco de dados DBA  4532.735925  6556.428697\n",
       "...                                          ...          ...\n",
       "Windsurfer                           3752.447267  3952.796251\n",
       "Xilógrafo                            8794.863259  3600.324472\n",
       "Zelador                              5088.564158  2493.675011\n",
       "Zootecnista                          4124.483635  2248.507363\n",
       "Árbitro e mediador                   8067.499287  2542.118439\n",
       "\n",
       "[747 rows x 2 columns]"
      ],
      "text/html": "<div>\n<style scoped>\n    .dataframe tbody tr th:only-of-type {\n        vertical-align: middle;\n    }\n\n    .dataframe tbody tr th {\n        vertical-align: top;\n    }\n\n    .dataframe thead th {\n        text-align: right;\n    }\n</style>\n<table border=\"1\" class=\"dataframe\">\n  <thead>\n    <tr style=\"text-align: right;\">\n      <th>sex</th>\n      <th>F</th>\n      <th>M</th>\n    </tr>\n    <tr>\n      <th>job</th>\n      <th></th>\n      <th></th>\n    </tr>\n  </thead>\n  <tbody>\n    <tr>\n      <th>Acompanhante</th>\n      <td>6283.527555</td>\n      <td>NaN</td>\n    </tr>\n    <tr>\n      <th>Acupunturista</th>\n      <td>4773.328201</td>\n      <td>5122.754151</td>\n    </tr>\n    <tr>\n      <th>Adestrador de animais</th>\n      <td>4951.557184</td>\n      <td>5312.737367</td>\n    </tr>\n    <tr>\n      <th>Administrador</th>\n      <td>6254.254707</td>\n      <td>5981.396256</td>\n    </tr>\n    <tr>\n      <th>Administrador de banco de dados DBA</th>\n      <td>4532.735925</td>\n      <td>6556.428697</td>\n    </tr>\n    <tr>\n      <th>...</th>\n      <td>...</td>\n      <td>...</td>\n    </tr>\n    <tr>\n      <th>Windsurfer</th>\n      <td>3752.447267</td>\n      <td>3952.796251</td>\n    </tr>\n    <tr>\n      <th>Xilógrafo</th>\n      <td>8794.863259</td>\n      <td>3600.324472</td>\n    </tr>\n    <tr>\n      <th>Zelador</th>\n      <td>5088.564158</td>\n      <td>2493.675011</td>\n    </tr>\n    <tr>\n      <th>Zootecnista</th>\n      <td>4124.483635</td>\n      <td>2248.507363</td>\n    </tr>\n    <tr>\n      <th>Árbitro e mediador</th>\n      <td>8067.499287</td>\n      <td>2542.118439</td>\n    </tr>\n  </tbody>\n</table>\n<p>747 rows × 2 columns</p>\n</div>"
     },
     "metadata": {},
     "execution_count": 252
    }
   ],
   "source": [
    "res.pivot_table(values='salary', index='job', columns='sex')"
   ]
  },
  {
   "source": [
    "# Value Counts"
   ],
   "cell_type": "markdown",
   "metadata": {}
  },
  {
   "cell_type": "code",
   "execution_count": 253,
   "metadata": {},
   "outputs": [
    {
     "output_type": "execute_result",
     "data": {
      "text/plain": [
       "A-     644\n",
       "B+     641\n",
       "O+     635\n",
       "B-     627\n",
       "AB+    625\n",
       "A+     612\n",
       "AB-    609\n",
       "O-     607\n",
       "Name: blood_group, dtype: int64"
      ]
     },
     "metadata": {},
     "execution_count": 253
    }
   ],
   "source": [
    "df.blood_group.value_counts()"
   ]
  },
  {
   "cell_type": "code",
   "execution_count": 256,
   "metadata": {},
   "outputs": [
    {
     "output_type": "execute_result",
     "data": {
      "text/plain": [
       "     blood_group\n",
       "A-           644\n",
       "B+           641\n",
       "O+           635\n",
       "B-           627\n",
       "AB+          625\n",
       "A+           612\n",
       "AB-          609\n",
       "O-           607"
      ],
      "text/html": "<div>\n<style scoped>\n    .dataframe tbody tr th:only-of-type {\n        vertical-align: middle;\n    }\n\n    .dataframe tbody tr th {\n        vertical-align: top;\n    }\n\n    .dataframe thead th {\n        text-align: right;\n    }\n</style>\n<table border=\"1\" class=\"dataframe\">\n  <thead>\n    <tr style=\"text-align: right;\">\n      <th></th>\n      <th>blood_group</th>\n    </tr>\n  </thead>\n  <tbody>\n    <tr>\n      <th>A-</th>\n      <td>644</td>\n    </tr>\n    <tr>\n      <th>B+</th>\n      <td>641</td>\n    </tr>\n    <tr>\n      <th>O+</th>\n      <td>635</td>\n    </tr>\n    <tr>\n      <th>B-</th>\n      <td>627</td>\n    </tr>\n    <tr>\n      <th>AB+</th>\n      <td>625</td>\n    </tr>\n    <tr>\n      <th>A+</th>\n      <td>612</td>\n    </tr>\n    <tr>\n      <th>AB-</th>\n      <td>609</td>\n    </tr>\n    <tr>\n      <th>O-</th>\n      <td>607</td>\n    </tr>\n  </tbody>\n</table>\n</div>"
     },
     "metadata": {},
     "execution_count": 256
    }
   ],
   "source": [
    "# para gerar um dataframe dos dados acima\n",
    "contagem_sanguinea = df.blood_group.value_counts().to_frame()\n",
    "contagem_sanguinea"
   ]
  },
  {
   "cell_type": "code",
   "execution_count": 258,
   "metadata": {},
   "outputs": [
    {
     "output_type": "execute_result",
     "data": {
      "text/plain": [
       "     blood_group\n",
       "A+           612\n",
       "A-           644\n",
       "AB+          625\n",
       "AB-          609\n",
       "B+           641\n",
       "B-           627\n",
       "O+           635\n",
       "O-           607"
      ],
      "text/html": "<div>\n<style scoped>\n    .dataframe tbody tr th:only-of-type {\n        vertical-align: middle;\n    }\n\n    .dataframe tbody tr th {\n        vertical-align: top;\n    }\n\n    .dataframe thead th {\n        text-align: right;\n    }\n</style>\n<table border=\"1\" class=\"dataframe\">\n  <thead>\n    <tr style=\"text-align: right;\">\n      <th></th>\n      <th>blood_group</th>\n    </tr>\n  </thead>\n  <tbody>\n    <tr>\n      <th>A+</th>\n      <td>612</td>\n    </tr>\n    <tr>\n      <th>A-</th>\n      <td>644</td>\n    </tr>\n    <tr>\n      <th>AB+</th>\n      <td>625</td>\n    </tr>\n    <tr>\n      <th>AB-</th>\n      <td>609</td>\n    </tr>\n    <tr>\n      <th>B+</th>\n      <td>641</td>\n    </tr>\n    <tr>\n      <th>B-</th>\n      <td>627</td>\n    </tr>\n    <tr>\n      <th>O+</th>\n      <td>635</td>\n    </tr>\n    <tr>\n      <th>O-</th>\n      <td>607</td>\n    </tr>\n  </tbody>\n</table>\n</div>"
     },
     "metadata": {},
     "execution_count": 258
    }
   ],
   "source": [
    "contagem_sanguinea.sort_index()"
   ]
  },
  {
   "cell_type": "code",
   "execution_count": 259,
   "metadata": {},
   "outputs": [
    {
     "output_type": "execute_result",
     "data": {
      "text/plain": [
       "     blood_group\n",
       "O-           607\n",
       "AB-          609\n",
       "A+           612\n",
       "AB+          625\n",
       "B-           627\n",
       "O+           635\n",
       "B+           641\n",
       "A-           644"
      ],
      "text/html": "<div>\n<style scoped>\n    .dataframe tbody tr th:only-of-type {\n        vertical-align: middle;\n    }\n\n    .dataframe tbody tr th {\n        vertical-align: top;\n    }\n\n    .dataframe thead th {\n        text-align: right;\n    }\n</style>\n<table border=\"1\" class=\"dataframe\">\n  <thead>\n    <tr style=\"text-align: right;\">\n      <th></th>\n      <th>blood_group</th>\n    </tr>\n  </thead>\n  <tbody>\n    <tr>\n      <th>O-</th>\n      <td>607</td>\n    </tr>\n    <tr>\n      <th>AB-</th>\n      <td>609</td>\n    </tr>\n    <tr>\n      <th>A+</th>\n      <td>612</td>\n    </tr>\n    <tr>\n      <th>AB+</th>\n      <td>625</td>\n    </tr>\n    <tr>\n      <th>B-</th>\n      <td>627</td>\n    </tr>\n    <tr>\n      <th>O+</th>\n      <td>635</td>\n    </tr>\n    <tr>\n      <th>B+</th>\n      <td>641</td>\n    </tr>\n    <tr>\n      <th>A-</th>\n      <td>644</td>\n    </tr>\n  </tbody>\n</table>\n</div>"
     },
     "metadata": {},
     "execution_count": 259
    }
   ],
   "source": [
    "contagem_sanguinea.sort_values(by='blood_group')"
   ]
  },
  {
   "cell_type": "code",
   "execution_count": 261,
   "metadata": {},
   "outputs": [],
   "source": [
    "contagem_sanguinea.insert(0,\"ID\", range(len(contagem_sanguinea)))"
   ]
  },
  {
   "cell_type": "code",
   "execution_count": 262,
   "metadata": {},
   "outputs": [
    {
     "output_type": "execute_result",
     "data": {
      "text/plain": [
       "     ID  blood_group\n",
       "A-    0          644\n",
       "B+    1          641\n",
       "O+    2          635\n",
       "B-    3          627\n",
       "AB+   4          625\n",
       "A+    5          612\n",
       "AB-   6          609\n",
       "O-    7          607"
      ],
      "text/html": "<div>\n<style scoped>\n    .dataframe tbody tr th:only-of-type {\n        vertical-align: middle;\n    }\n\n    .dataframe tbody tr th {\n        vertical-align: top;\n    }\n\n    .dataframe thead th {\n        text-align: right;\n    }\n</style>\n<table border=\"1\" class=\"dataframe\">\n  <thead>\n    <tr style=\"text-align: right;\">\n      <th></th>\n      <th>ID</th>\n      <th>blood_group</th>\n    </tr>\n  </thead>\n  <tbody>\n    <tr>\n      <th>A-</th>\n      <td>0</td>\n      <td>644</td>\n    </tr>\n    <tr>\n      <th>B+</th>\n      <td>1</td>\n      <td>641</td>\n    </tr>\n    <tr>\n      <th>O+</th>\n      <td>2</td>\n      <td>635</td>\n    </tr>\n    <tr>\n      <th>B-</th>\n      <td>3</td>\n      <td>627</td>\n    </tr>\n    <tr>\n      <th>AB+</th>\n      <td>4</td>\n      <td>625</td>\n    </tr>\n    <tr>\n      <th>A+</th>\n      <td>5</td>\n      <td>612</td>\n    </tr>\n    <tr>\n      <th>AB-</th>\n      <td>6</td>\n      <td>609</td>\n    </tr>\n    <tr>\n      <th>O-</th>\n      <td>7</td>\n      <td>607</td>\n    </tr>\n  </tbody>\n</table>\n</div>"
     },
     "metadata": {},
     "execution_count": 262
    }
   ],
   "source": [
    "contagem_sanguinea"
   ]
  },
  {
   "cell_type": "code",
   "execution_count": 264,
   "metadata": {},
   "outputs": [
    {
     "output_type": "execute_result",
     "data": {
      "text/plain": [
       "     ID  blood_group\n",
       "O-    7          607\n",
       "AB-   6          609\n",
       "A+    5          612\n",
       "AB+   4          625\n",
       "B-    3          627\n",
       "O+    2          635\n",
       "B+    1          641\n",
       "A-    0          644"
      ],
      "text/html": "<div>\n<style scoped>\n    .dataframe tbody tr th:only-of-type {\n        vertical-align: middle;\n    }\n\n    .dataframe tbody tr th {\n        vertical-align: top;\n    }\n\n    .dataframe thead th {\n        text-align: right;\n    }\n</style>\n<table border=\"1\" class=\"dataframe\">\n  <thead>\n    <tr style=\"text-align: right;\">\n      <th></th>\n      <th>ID</th>\n      <th>blood_group</th>\n    </tr>\n  </thead>\n  <tbody>\n    <tr>\n      <th>O-</th>\n      <td>7</td>\n      <td>607</td>\n    </tr>\n    <tr>\n      <th>AB-</th>\n      <td>6</td>\n      <td>609</td>\n    </tr>\n    <tr>\n      <th>A+</th>\n      <td>5</td>\n      <td>612</td>\n    </tr>\n    <tr>\n      <th>AB+</th>\n      <td>4</td>\n      <td>625</td>\n    </tr>\n    <tr>\n      <th>B-</th>\n      <td>3</td>\n      <td>627</td>\n    </tr>\n    <tr>\n      <th>O+</th>\n      <td>2</td>\n      <td>635</td>\n    </tr>\n    <tr>\n      <th>B+</th>\n      <td>1</td>\n      <td>641</td>\n    </tr>\n    <tr>\n      <th>A-</th>\n      <td>0</td>\n      <td>644</td>\n    </tr>\n  </tbody>\n</table>\n</div>"
     },
     "metadata": {},
     "execution_count": 264
    }
   ],
   "source": [
    "contagem_sanguinea.sort_values(by='ID', ascending=False)"
   ]
  },
  {
   "cell_type": "code",
   "execution_count": 265,
   "metadata": {},
   "outputs": [
    {
     "output_type": "execute_result",
     "data": {
      "text/plain": [
       "     ID  blood_group\n",
       "O-    7          607\n",
       "AB-   6          609\n",
       "A+    5          612\n",
       "AB+   4          625\n",
       "B-    3          627\n",
       "O+    2          635\n",
       "B+    1          641\n",
       "A-    0          644"
      ],
      "text/html": "<div>\n<style scoped>\n    .dataframe tbody tr th:only-of-type {\n        vertical-align: middle;\n    }\n\n    .dataframe tbody tr th {\n        vertical-align: top;\n    }\n\n    .dataframe thead th {\n        text-align: right;\n    }\n</style>\n<table border=\"1\" class=\"dataframe\">\n  <thead>\n    <tr style=\"text-align: right;\">\n      <th></th>\n      <th>ID</th>\n      <th>blood_group</th>\n    </tr>\n  </thead>\n  <tbody>\n    <tr>\n      <th>O-</th>\n      <td>7</td>\n      <td>607</td>\n    </tr>\n    <tr>\n      <th>AB-</th>\n      <td>6</td>\n      <td>609</td>\n    </tr>\n    <tr>\n      <th>A+</th>\n      <td>5</td>\n      <td>612</td>\n    </tr>\n    <tr>\n      <th>AB+</th>\n      <td>4</td>\n      <td>625</td>\n    </tr>\n    <tr>\n      <th>B-</th>\n      <td>3</td>\n      <td>627</td>\n    </tr>\n    <tr>\n      <th>O+</th>\n      <td>2</td>\n      <td>635</td>\n    </tr>\n    <tr>\n      <th>B+</th>\n      <td>1</td>\n      <td>641</td>\n    </tr>\n    <tr>\n      <th>A-</th>\n      <td>0</td>\n      <td>644</td>\n    </tr>\n  </tbody>\n</table>\n</div>"
     },
     "metadata": {},
     "execution_count": 265
    }
   ],
   "source": [
    "# regras de ordenação composta\n",
    "# um campo com asc e outro como desc\n",
    "contagem_sanguinea.sort_values(by=['blood_group', 'ID'], ascending=[True, False])"
   ]
  },
  {
   "source": [
    "### Explode"
   ],
   "cell_type": "markdown",
   "metadata": {}
  },
  {
   "cell_type": "code",
   "execution_count": 266,
   "metadata": {},
   "outputs": [
    {
     "output_type": "execute_result",
     "data": {
      "text/plain": [
       "0            https://lopes.br/\n",
       "0          https://www.da.org/\n",
       "0       https://nascimento.br/\n",
       "1            https://rocha.br/\n",
       "2       https://www.vieira.br/\n",
       "                 ...          \n",
       "4998             http://da.br/\n",
       "4998       http://pereira.net/\n",
       "4999            http://da.com/\n",
       "4999         https://silva.br/\n",
       "4999        http://www.da.com/\n",
       "Name: website, Length: 12446, dtype: object"
      ]
     },
     "metadata": {},
     "execution_count": 266
    }
   ],
   "source": [
    "df.website.explode()"
   ]
  },
  {
   "cell_type": "code",
   "execution_count": 268,
   "metadata": {},
   "outputs": [
    {
     "output_type": "execute_result",
     "data": {
      "text/plain": [
       "array(['https://lopes.br/', 'https://www.da.org/',\n",
       "       'https://nascimento.br/', ..., 'http://da.com/',\n",
       "       'https://silva.br/', 'http://www.da.com/'], dtype=object)"
      ]
     },
     "metadata": {},
     "execution_count": 268
    }
   ],
   "source": [
    "# somente os valores\n",
    "df.website.explode().values"
   ]
  },
  {
   "cell_type": "code",
   "execution_count": 270,
   "metadata": {},
   "outputs": [],
   "source": [
    "# transformando em lista\n",
    "lista_sites = list(df.website.explode().values)"
   ]
  },
  {
   "source": [
    "### read_clipboard\n",
    "> `Copia elementos do clipboard já transformando em dataframes`\n",
    "\n",
    "- site exemplo https://www.todamateria.com.br/estados-do-brasil/ -"
   ],
   "cell_type": "markdown",
   "metadata": {}
  },
  {
   "cell_type": "code",
   "execution_count": 271,
   "metadata": {},
   "outputs": [],
   "source": [
    "uf_br = pd.read_clipboard()"
   ]
  },
  {
   "cell_type": "code",
   "execution_count": 272,
   "metadata": {},
   "outputs": [
    {
     "output_type": "execute_result",
     "data": {
      "text/plain": [
       "                 Estado Sigla         Capital\n",
       "0                  Acre    AC      Rio Branco\n",
       "1               Alagoas    AL          Maceió\n",
       "2                 Amapá    AP          Macapá\n",
       "3              Amazonas    AM          Manaus\n",
       "4                 Bahia    BA        Salvador\n",
       "5                 Ceará    CE       Fortaleza\n",
       "6        Espírito Santo    ES         Vitória\n",
       "7                 Goiás    GO         Goiânia\n",
       "8              Maranhão    MA        São Luís\n",
       "9           Mato Grosso    MT          Cuiabá\n",
       "10   Mato Grosso do Sul    MS    Campo Grande\n",
       "11         Minas Gerais    MG  Belo Horizonte\n",
       "12                 Pará    PA           Belém\n",
       "13              Paraíba    PB     João Pessoa\n",
       "14               Paraná    PR        Curitiba\n",
       "15           Pernambuco    PE          Recife\n",
       "16                Piauí    PI        Teresina\n",
       "17       Rio de Janeiro    RJ  Rio de Janeiro\n",
       "18  Rio Grande do Norte    RN           Natal\n",
       "19    Rio Grande do Sul    RS    Porto Alegre\n",
       "20             Rondônia    RO     Porto Velho\n",
       "21              Roraima    RR       Boa Vista\n",
       "22       Santa Catarina    SC   Florianópolis\n",
       "23            São Paulo    SP       São Paulo\n",
       "24              Sergipe    SE         Aracaju\n",
       "25            Tocantins    TO          Palmas"
      ],
      "text/html": "<div>\n<style scoped>\n    .dataframe tbody tr th:only-of-type {\n        vertical-align: middle;\n    }\n\n    .dataframe tbody tr th {\n        vertical-align: top;\n    }\n\n    .dataframe thead th {\n        text-align: right;\n    }\n</style>\n<table border=\"1\" class=\"dataframe\">\n  <thead>\n    <tr style=\"text-align: right;\">\n      <th></th>\n      <th>Estado</th>\n      <th>Sigla</th>\n      <th>Capital</th>\n    </tr>\n  </thead>\n  <tbody>\n    <tr>\n      <th>0</th>\n      <td>Acre</td>\n      <td>AC</td>\n      <td>Rio Branco</td>\n    </tr>\n    <tr>\n      <th>1</th>\n      <td>Alagoas</td>\n      <td>AL</td>\n      <td>Maceió</td>\n    </tr>\n    <tr>\n      <th>2</th>\n      <td>Amapá</td>\n      <td>AP</td>\n      <td>Macapá</td>\n    </tr>\n    <tr>\n      <th>3</th>\n      <td>Amazonas</td>\n      <td>AM</td>\n      <td>Manaus</td>\n    </tr>\n    <tr>\n      <th>4</th>\n      <td>Bahia</td>\n      <td>BA</td>\n      <td>Salvador</td>\n    </tr>\n    <tr>\n      <th>5</th>\n      <td>Ceará</td>\n      <td>CE</td>\n      <td>Fortaleza</td>\n    </tr>\n    <tr>\n      <th>6</th>\n      <td>Espírito Santo</td>\n      <td>ES</td>\n      <td>Vitória</td>\n    </tr>\n    <tr>\n      <th>7</th>\n      <td>Goiás</td>\n      <td>GO</td>\n      <td>Goiânia</td>\n    </tr>\n    <tr>\n      <th>8</th>\n      <td>Maranhão</td>\n      <td>MA</td>\n      <td>São Luís</td>\n    </tr>\n    <tr>\n      <th>9</th>\n      <td>Mato Grosso</td>\n      <td>MT</td>\n      <td>Cuiabá</td>\n    </tr>\n    <tr>\n      <th>10</th>\n      <td>Mato Grosso do Sul</td>\n      <td>MS</td>\n      <td>Campo Grande</td>\n    </tr>\n    <tr>\n      <th>11</th>\n      <td>Minas Gerais</td>\n      <td>MG</td>\n      <td>Belo Horizonte</td>\n    </tr>\n    <tr>\n      <th>12</th>\n      <td>Pará</td>\n      <td>PA</td>\n      <td>Belém</td>\n    </tr>\n    <tr>\n      <th>13</th>\n      <td>Paraíba</td>\n      <td>PB</td>\n      <td>João Pessoa</td>\n    </tr>\n    <tr>\n      <th>14</th>\n      <td>Paraná</td>\n      <td>PR</td>\n      <td>Curitiba</td>\n    </tr>\n    <tr>\n      <th>15</th>\n      <td>Pernambuco</td>\n      <td>PE</td>\n      <td>Recife</td>\n    </tr>\n    <tr>\n      <th>16</th>\n      <td>Piauí</td>\n      <td>PI</td>\n      <td>Teresina</td>\n    </tr>\n    <tr>\n      <th>17</th>\n      <td>Rio de Janeiro</td>\n      <td>RJ</td>\n      <td>Rio de Janeiro</td>\n    </tr>\n    <tr>\n      <th>18</th>\n      <td>Rio Grande do Norte</td>\n      <td>RN</td>\n      <td>Natal</td>\n    </tr>\n    <tr>\n      <th>19</th>\n      <td>Rio Grande do Sul</td>\n      <td>RS</td>\n      <td>Porto Alegre</td>\n    </tr>\n    <tr>\n      <th>20</th>\n      <td>Rondônia</td>\n      <td>RO</td>\n      <td>Porto Velho</td>\n    </tr>\n    <tr>\n      <th>21</th>\n      <td>Roraima</td>\n      <td>RR</td>\n      <td>Boa Vista</td>\n    </tr>\n    <tr>\n      <th>22</th>\n      <td>Santa Catarina</td>\n      <td>SC</td>\n      <td>Florianópolis</td>\n    </tr>\n    <tr>\n      <th>23</th>\n      <td>São Paulo</td>\n      <td>SP</td>\n      <td>São Paulo</td>\n    </tr>\n    <tr>\n      <th>24</th>\n      <td>Sergipe</td>\n      <td>SE</td>\n      <td>Aracaju</td>\n    </tr>\n    <tr>\n      <th>25</th>\n      <td>Tocantins</td>\n      <td>TO</td>\n      <td>Palmas</td>\n    </tr>\n  </tbody>\n</table>\n</div>"
     },
     "metadata": {},
     "execution_count": 272
    }
   ],
   "source": [
    "uf_br"
   ]
  },
  {
   "cell_type": "code",
   "execution_count": 275,
   "metadata": {},
   "outputs": [],
   "source": [
    "# para fins didaticos, queremos add uma coluna UF em nosso df, colocado aleatoreamente, para isso usaremos uma função no numpy\n",
    "df1 = df.head(100).copy()\n",
    "\n",
    "\n",
    "df2 = df[101:201].copy()"
   ]
  },
  {
   "cell_type": "code",
   "execution_count": 277,
   "metadata": {},
   "outputs": [
    {
     "output_type": "execute_result",
     "data": {
      "text/plain": [
       "                        job              company       salary  \\\n",
       "0              Carnavalesco                Silva  8921.754032   \n",
       "1       Cobrador de pedágio                Sales  6872.594307   \n",
       "2                 Ombudsman  Moraes Barbosa - ME  5864.172031   \n",
       "3               Quadrinista              Martins  7028.935469   \n",
       "4                Guincheiro          Araújo S.A.  8710.549234   \n",
       "..                      ...                  ...          ...   \n",
       "95                Lancheiro     Cardoso e Filhos   794.162380   \n",
       "96      Seguidor de compras                Lopes   217.459366   \n",
       "97  Conferente de expedição    Campos Jesus S.A.  9126.340755   \n",
       "98            Transportador                Nunes  3421.978603   \n",
       "99                 Pedicure       das Neves - EI  2083.165942   \n",
       "\n",
       "              current_location blood_group  \\\n",
       "0     (82.5540815, 143.909076)          B+   \n",
       "1     (28.655761, -124.581833)          O+   \n",
       "2     (44.5817825, 169.507802)          O+   \n",
       "3    (87.6465955, -170.277372)         AB+   \n",
       "4   (-33.5538125, -154.010387)          O+   \n",
       "..                         ...         ...   \n",
       "95     (-35.047257, 72.794278)          O+   \n",
       "96     (14.6067055, 25.232013)          B+   \n",
       "97   (-61.3083225, -70.199385)          B-   \n",
       "98    (40.975675, -110.909263)          B+   \n",
       "99      (54.599131, 31.263637)          B+   \n",
       "\n",
       "                                              website           username  \\\n",
       "0   [https://lopes.br/, https://www.da.org/, https...          clarice62   \n",
       "1                                 [https://rocha.br/]         araujojuan   \n",
       "2   [https://www.vieira.br/, http://da.br/, https:...             lgomes   \n",
       "3   [http://www.rodrigues.org/, https://www.da.br/...          qnogueira   \n",
       "4                             [http://www.barros.br/]           calebe51   \n",
       "..                                                ...                ...   \n",
       "95                           [http://www.duarte.net/]  vieiramaria-clara   \n",
       "96     [http://www.cavalcanti.br/, http://jesus.com/]  nascimentonatalia   \n",
       "97      [https://www.novaes.br/, https://santos.net/]       agathacastro   \n",
       "98                           [http://www.rezende.br/]       da-cunhacaue   \n",
       "99  [https://da.com/, https://lima.com/, http://di...   noahda-conceicao   \n",
       "\n",
       "                       name sex   birthdate Sigla  \n",
       "0      Luiz Henrique Campos   M  1996-12-02    AL  \n",
       "1             Diego Almeida   M  1991-09-11    AP  \n",
       "2   Gustavo Henrique Fogaça   M  1957-12-17    AL  \n",
       "3           Bianca da Costa   F  2010-10-18    PB  \n",
       "4              Lucas Campos   M  1991-07-22    AL  \n",
       "..                      ...  ..         ...   ...  \n",
       "95          Kamilly Freitas   F  1950-12-16    MG  \n",
       "96          Eduardo da Cruz   M  1978-12-23    PB  \n",
       "97   Ana Beatriz Nascimento   F  1915-12-02    CE  \n",
       "98    Lucas Gabriel da Mata   M  2016-05-05    PB  \n",
       "99          Erick Rodrigues   M  2013-05-04    AM  \n",
       "\n",
       "[100 rows x 11 columns]"
      ],
      "text/html": "<div>\n<style scoped>\n    .dataframe tbody tr th:only-of-type {\n        vertical-align: middle;\n    }\n\n    .dataframe tbody tr th {\n        vertical-align: top;\n    }\n\n    .dataframe thead th {\n        text-align: right;\n    }\n</style>\n<table border=\"1\" class=\"dataframe\">\n  <thead>\n    <tr style=\"text-align: right;\">\n      <th></th>\n      <th>job</th>\n      <th>company</th>\n      <th>salary</th>\n      <th>current_location</th>\n      <th>blood_group</th>\n      <th>website</th>\n      <th>username</th>\n      <th>name</th>\n      <th>sex</th>\n      <th>birthdate</th>\n      <th>Sigla</th>\n    </tr>\n  </thead>\n  <tbody>\n    <tr>\n      <th>0</th>\n      <td>Carnavalesco</td>\n      <td>Silva</td>\n      <td>8921.754032</td>\n      <td>(82.5540815, 143.909076)</td>\n      <td>B+</td>\n      <td>[https://lopes.br/, https://www.da.org/, https...</td>\n      <td>clarice62</td>\n      <td>Luiz Henrique Campos</td>\n      <td>M</td>\n      <td>1996-12-02</td>\n      <td>AL</td>\n    </tr>\n    <tr>\n      <th>1</th>\n      <td>Cobrador de pedágio</td>\n      <td>Sales</td>\n      <td>6872.594307</td>\n      <td>(28.655761, -124.581833)</td>\n      <td>O+</td>\n      <td>[https://rocha.br/]</td>\n      <td>araujojuan</td>\n      <td>Diego Almeida</td>\n      <td>M</td>\n      <td>1991-09-11</td>\n      <td>AP</td>\n    </tr>\n    <tr>\n      <th>2</th>\n      <td>Ombudsman</td>\n      <td>Moraes Barbosa - ME</td>\n      <td>5864.172031</td>\n      <td>(44.5817825, 169.507802)</td>\n      <td>O+</td>\n      <td>[https://www.vieira.br/, http://da.br/, https:...</td>\n      <td>lgomes</td>\n      <td>Gustavo Henrique Fogaça</td>\n      <td>M</td>\n      <td>1957-12-17</td>\n      <td>AL</td>\n    </tr>\n    <tr>\n      <th>3</th>\n      <td>Quadrinista</td>\n      <td>Martins</td>\n      <td>7028.935469</td>\n      <td>(87.6465955, -170.277372)</td>\n      <td>AB+</td>\n      <td>[http://www.rodrigues.org/, https://www.da.br/...</td>\n      <td>qnogueira</td>\n      <td>Bianca da Costa</td>\n      <td>F</td>\n      <td>2010-10-18</td>\n      <td>PB</td>\n    </tr>\n    <tr>\n      <th>4</th>\n      <td>Guincheiro</td>\n      <td>Araújo S.A.</td>\n      <td>8710.549234</td>\n      <td>(-33.5538125, -154.010387)</td>\n      <td>O+</td>\n      <td>[http://www.barros.br/]</td>\n      <td>calebe51</td>\n      <td>Lucas Campos</td>\n      <td>M</td>\n      <td>1991-07-22</td>\n      <td>AL</td>\n    </tr>\n    <tr>\n      <th>...</th>\n      <td>...</td>\n      <td>...</td>\n      <td>...</td>\n      <td>...</td>\n      <td>...</td>\n      <td>...</td>\n      <td>...</td>\n      <td>...</td>\n      <td>...</td>\n      <td>...</td>\n      <td>...</td>\n    </tr>\n    <tr>\n      <th>95</th>\n      <td>Lancheiro</td>\n      <td>Cardoso e Filhos</td>\n      <td>794.162380</td>\n      <td>(-35.047257, 72.794278)</td>\n      <td>O+</td>\n      <td>[http://www.duarte.net/]</td>\n      <td>vieiramaria-clara</td>\n      <td>Kamilly Freitas</td>\n      <td>F</td>\n      <td>1950-12-16</td>\n      <td>MG</td>\n    </tr>\n    <tr>\n      <th>96</th>\n      <td>Seguidor de compras</td>\n      <td>Lopes</td>\n      <td>217.459366</td>\n      <td>(14.6067055, 25.232013)</td>\n      <td>B+</td>\n      <td>[http://www.cavalcanti.br/, http://jesus.com/]</td>\n      <td>nascimentonatalia</td>\n      <td>Eduardo da Cruz</td>\n      <td>M</td>\n      <td>1978-12-23</td>\n      <td>PB</td>\n    </tr>\n    <tr>\n      <th>97</th>\n      <td>Conferente de expedição</td>\n      <td>Campos Jesus S.A.</td>\n      <td>9126.340755</td>\n      <td>(-61.3083225, -70.199385)</td>\n      <td>B-</td>\n      <td>[https://www.novaes.br/, https://santos.net/]</td>\n      <td>agathacastro</td>\n      <td>Ana Beatriz Nascimento</td>\n      <td>F</td>\n      <td>1915-12-02</td>\n      <td>CE</td>\n    </tr>\n    <tr>\n      <th>98</th>\n      <td>Transportador</td>\n      <td>Nunes</td>\n      <td>3421.978603</td>\n      <td>(40.975675, -110.909263)</td>\n      <td>B+</td>\n      <td>[http://www.rezende.br/]</td>\n      <td>da-cunhacaue</td>\n      <td>Lucas Gabriel da Mata</td>\n      <td>M</td>\n      <td>2016-05-05</td>\n      <td>PB</td>\n    </tr>\n    <tr>\n      <th>99</th>\n      <td>Pedicure</td>\n      <td>das Neves - EI</td>\n      <td>2083.165942</td>\n      <td>(54.599131, 31.263637)</td>\n      <td>B+</td>\n      <td>[https://da.com/, https://lima.com/, http://di...</td>\n      <td>noahda-conceicao</td>\n      <td>Erick Rodrigues</td>\n      <td>M</td>\n      <td>2013-05-04</td>\n      <td>AM</td>\n    </tr>\n  </tbody>\n</table>\n<p>100 rows × 11 columns</p>\n</div>"
     },
     "metadata": {},
     "execution_count": 277
    }
   ],
   "source": [
    "df1['Sigla'] = np.random.choice(uf_br.Sigla.unique(), len(df1))\n",
    "df1"
   ]
  },
  {
   "source": [
    "### Merge"
   ],
   "cell_type": "markdown",
   "metadata": {}
  },
  {
   "cell_type": "code",
   "execution_count": 279,
   "metadata": {},
   "outputs": [
    {
     "output_type": "execute_result",
     "data": {
      "text/plain": [
       "                         job               company       salary  \\\n",
       "0               Carnavalesco                 Silva  8921.754032   \n",
       "1                  Ombudsman   Moraes Barbosa - ME  5864.172031   \n",
       "2                 Guincheiro           Araújo S.A.  8710.549234   \n",
       "3           Engenheiro naval            Cunha - EI  4256.807390   \n",
       "4   Desembargador de justiça                 Alves  7493.280170   \n",
       "..                       ...                   ...          ...   \n",
       "95                   Aviador               Correia  4560.319286   \n",
       "96               Webdesigner               Cardoso  5628.403793   \n",
       "97             Acupunturista     Porto Lopes Ltda.  2817.609530   \n",
       "98                Brigadeiro  Araújo Silveira - EI   124.785395   \n",
       "99                Psiquiatra                 Silva   239.478657   \n",
       "\n",
       "              current_location blood_group  \\\n",
       "0     (82.5540815, 143.909076)          B+   \n",
       "1     (44.5817825, 169.507802)          O+   \n",
       "2   (-33.5538125, -154.010387)          O+   \n",
       "3    (-55.8798685, -23.362755)          B+   \n",
       "4     (44.0137895, -80.723842)         AB-   \n",
       "..                         ...         ...   \n",
       "95     (21.368605, -13.630159)          O+   \n",
       "96   (-64.2884785, -43.409574)          A-   \n",
       "97    (66.5487445, 126.953687)          A+   \n",
       "98     (24.260925, -99.672525)          B-   \n",
       "99   (-41.625162, -163.383881)          O+   \n",
       "\n",
       "                                              website         username  \\\n",
       "0   [https://lopes.br/, https://www.da.org/, https...        clarice62   \n",
       "1   [https://www.vieira.br/, http://da.br/, https:...           lgomes   \n",
       "2                             [http://www.barros.br/]         calebe51   \n",
       "3   [http://www.jesus.com/, http://www.rocha.br/, ...       elisasouza   \n",
       "4             [http://moura.org/, https://www.da.br/]      ana-luiza95   \n",
       "..                                                ...              ...   \n",
       "95  [http://www.porto.br/, http://cardoso.br/, htt...  melojoao-felipe   \n",
       "96  [https://rezende.com/, https://www.fernandes.br/]          luana61   \n",
       "97  [https://fernandes.com/, http://teixeira.br/, ...         thiago42   \n",
       "98  [https://castro.com/, https://www.alves.com/, ...     davi-lucca23   \n",
       "99  [https://campos.com/, http://www.da.com/, http...        xcaldeira   \n",
       "\n",
       "                       name sex   birthdate Sigla              Estado  \\\n",
       "0      Luiz Henrique Campos   M  1996-12-02    AL             Alagoas   \n",
       "1   Gustavo Henrique Fogaça   M  1957-12-17    AL             Alagoas   \n",
       "2              Lucas Campos   M  1991-07-22    AL             Alagoas   \n",
       "3         Emanuelly Almeida   F  1952-10-20    AL             Alagoas   \n",
       "4      Lucas Gabriel Santos   M  1925-12-18    AL             Alagoas   \n",
       "..                      ...  ..         ...   ...                 ...   \n",
       "95          Alexandre Jesus   M  1939-08-30    SC      Santa Catarina   \n",
       "96     Augusto da Conceição   M  1971-12-14    MS  Mato Grosso do Sul   \n",
       "97          Bernardo Castro   M  1936-08-08    MS  Mato Grosso do Sul   \n",
       "98      João Miguel Martins   M  2012-11-20    MS  Mato Grosso do Sul   \n",
       "99     Davi Lucas das Neves   M  2003-01-31    AC                Acre   \n",
       "\n",
       "          Capital  \n",
       "0          Maceió  \n",
       "1          Maceió  \n",
       "2          Maceió  \n",
       "3          Maceió  \n",
       "4          Maceió  \n",
       "..            ...  \n",
       "95  Florianópolis  \n",
       "96   Campo Grande  \n",
       "97   Campo Grande  \n",
       "98   Campo Grande  \n",
       "99     Rio Branco  \n",
       "\n",
       "[100 rows x 13 columns]"
      ],
      "text/html": "<div>\n<style scoped>\n    .dataframe tbody tr th:only-of-type {\n        vertical-align: middle;\n    }\n\n    .dataframe tbody tr th {\n        vertical-align: top;\n    }\n\n    .dataframe thead th {\n        text-align: right;\n    }\n</style>\n<table border=\"1\" class=\"dataframe\">\n  <thead>\n    <tr style=\"text-align: right;\">\n      <th></th>\n      <th>job</th>\n      <th>company</th>\n      <th>salary</th>\n      <th>current_location</th>\n      <th>blood_group</th>\n      <th>website</th>\n      <th>username</th>\n      <th>name</th>\n      <th>sex</th>\n      <th>birthdate</th>\n      <th>Sigla</th>\n      <th>Estado</th>\n      <th>Capital</th>\n    </tr>\n  </thead>\n  <tbody>\n    <tr>\n      <th>0</th>\n      <td>Carnavalesco</td>\n      <td>Silva</td>\n      <td>8921.754032</td>\n      <td>(82.5540815, 143.909076)</td>\n      <td>B+</td>\n      <td>[https://lopes.br/, https://www.da.org/, https...</td>\n      <td>clarice62</td>\n      <td>Luiz Henrique Campos</td>\n      <td>M</td>\n      <td>1996-12-02</td>\n      <td>AL</td>\n      <td>Alagoas</td>\n      <td>Maceió</td>\n    </tr>\n    <tr>\n      <th>1</th>\n      <td>Ombudsman</td>\n      <td>Moraes Barbosa - ME</td>\n      <td>5864.172031</td>\n      <td>(44.5817825, 169.507802)</td>\n      <td>O+</td>\n      <td>[https://www.vieira.br/, http://da.br/, https:...</td>\n      <td>lgomes</td>\n      <td>Gustavo Henrique Fogaça</td>\n      <td>M</td>\n      <td>1957-12-17</td>\n      <td>AL</td>\n      <td>Alagoas</td>\n      <td>Maceió</td>\n    </tr>\n    <tr>\n      <th>2</th>\n      <td>Guincheiro</td>\n      <td>Araújo S.A.</td>\n      <td>8710.549234</td>\n      <td>(-33.5538125, -154.010387)</td>\n      <td>O+</td>\n      <td>[http://www.barros.br/]</td>\n      <td>calebe51</td>\n      <td>Lucas Campos</td>\n      <td>M</td>\n      <td>1991-07-22</td>\n      <td>AL</td>\n      <td>Alagoas</td>\n      <td>Maceió</td>\n    </tr>\n    <tr>\n      <th>3</th>\n      <td>Engenheiro naval</td>\n      <td>Cunha - EI</td>\n      <td>4256.807390</td>\n      <td>(-55.8798685, -23.362755)</td>\n      <td>B+</td>\n      <td>[http://www.jesus.com/, http://www.rocha.br/, ...</td>\n      <td>elisasouza</td>\n      <td>Emanuelly Almeida</td>\n      <td>F</td>\n      <td>1952-10-20</td>\n      <td>AL</td>\n      <td>Alagoas</td>\n      <td>Maceió</td>\n    </tr>\n    <tr>\n      <th>4</th>\n      <td>Desembargador de justiça</td>\n      <td>Alves</td>\n      <td>7493.280170</td>\n      <td>(44.0137895, -80.723842)</td>\n      <td>AB-</td>\n      <td>[http://moura.org/, https://www.da.br/]</td>\n      <td>ana-luiza95</td>\n      <td>Lucas Gabriel Santos</td>\n      <td>M</td>\n      <td>1925-12-18</td>\n      <td>AL</td>\n      <td>Alagoas</td>\n      <td>Maceió</td>\n    </tr>\n    <tr>\n      <th>...</th>\n      <td>...</td>\n      <td>...</td>\n      <td>...</td>\n      <td>...</td>\n      <td>...</td>\n      <td>...</td>\n      <td>...</td>\n      <td>...</td>\n      <td>...</td>\n      <td>...</td>\n      <td>...</td>\n      <td>...</td>\n      <td>...</td>\n    </tr>\n    <tr>\n      <th>95</th>\n      <td>Aviador</td>\n      <td>Correia</td>\n      <td>4560.319286</td>\n      <td>(21.368605, -13.630159)</td>\n      <td>O+</td>\n      <td>[http://www.porto.br/, http://cardoso.br/, htt...</td>\n      <td>melojoao-felipe</td>\n      <td>Alexandre Jesus</td>\n      <td>M</td>\n      <td>1939-08-30</td>\n      <td>SC</td>\n      <td>Santa Catarina</td>\n      <td>Florianópolis</td>\n    </tr>\n    <tr>\n      <th>96</th>\n      <td>Webdesigner</td>\n      <td>Cardoso</td>\n      <td>5628.403793</td>\n      <td>(-64.2884785, -43.409574)</td>\n      <td>A-</td>\n      <td>[https://rezende.com/, https://www.fernandes.br/]</td>\n      <td>luana61</td>\n      <td>Augusto da Conceição</td>\n      <td>M</td>\n      <td>1971-12-14</td>\n      <td>MS</td>\n      <td>Mato Grosso do Sul</td>\n      <td>Campo Grande</td>\n    </tr>\n    <tr>\n      <th>97</th>\n      <td>Acupunturista</td>\n      <td>Porto Lopes Ltda.</td>\n      <td>2817.609530</td>\n      <td>(66.5487445, 126.953687)</td>\n      <td>A+</td>\n      <td>[https://fernandes.com/, http://teixeira.br/, ...</td>\n      <td>thiago42</td>\n      <td>Bernardo Castro</td>\n      <td>M</td>\n      <td>1936-08-08</td>\n      <td>MS</td>\n      <td>Mato Grosso do Sul</td>\n      <td>Campo Grande</td>\n    </tr>\n    <tr>\n      <th>98</th>\n      <td>Brigadeiro</td>\n      <td>Araújo Silveira - EI</td>\n      <td>124.785395</td>\n      <td>(24.260925, -99.672525)</td>\n      <td>B-</td>\n      <td>[https://castro.com/, https://www.alves.com/, ...</td>\n      <td>davi-lucca23</td>\n      <td>João Miguel Martins</td>\n      <td>M</td>\n      <td>2012-11-20</td>\n      <td>MS</td>\n      <td>Mato Grosso do Sul</td>\n      <td>Campo Grande</td>\n    </tr>\n    <tr>\n      <th>99</th>\n      <td>Psiquiatra</td>\n      <td>Silva</td>\n      <td>239.478657</td>\n      <td>(-41.625162, -163.383881)</td>\n      <td>O+</td>\n      <td>[https://campos.com/, http://www.da.com/, http...</td>\n      <td>xcaldeira</td>\n      <td>Davi Lucas das Neves</td>\n      <td>M</td>\n      <td>2003-01-31</td>\n      <td>AC</td>\n      <td>Acre</td>\n      <td>Rio Branco</td>\n    </tr>\n  </tbody>\n</table>\n<p>100 rows × 13 columns</p>\n</div>"
     },
     "metadata": {},
     "execution_count": 279
    }
   ],
   "source": [
    "merged = pd.merge(df1, uf_br, on='Sigla', how='inner')\n",
    "merged"
   ]
  },
  {
   "source": [
    "### Concat"
   ],
   "cell_type": "markdown",
   "metadata": {}
  },
  {
   "cell_type": "code",
   "execution_count": 280,
   "metadata": {},
   "outputs": [],
   "source": [
    "df3 = df[201:301].copy()\n"
   ]
  },
  {
   "cell_type": "code",
   "execution_count": 281,
   "metadata": {},
   "outputs": [
    {
     "output_type": "execute_result",
     "data": {
      "text/plain": [
       "                          job                company       salary  \\\n",
       "101       Engenheiro elétrico  Cavalcanti Cunha - EI  7598.012637   \n",
       "102                 Impressor                  Souza  1768.549037   \n",
       "103                Sonoplasta                  Souza  9405.763288   \n",
       "104     Procurador de justiça         Gomes e Filhos  2835.016970   \n",
       "105            Neonatologista     das Neves e Filhos  7869.430154   \n",
       "..                        ...                    ...          ...   \n",
       "296  Jogador de tênis de mesa            Rezende S/A  1086.435729   \n",
       "297             Cinematográfo            Novaes - EI   532.679849   \n",
       "298     Adestrador de animais                 Moraes  5917.240389   \n",
       "299                  Repórter          Oliveira S.A.  1067.943528   \n",
       "300                  Pescador  Cardoso da Cruz Ltda.  2109.635843   \n",
       "\n",
       "               current_location blood_group  \\\n",
       "101   (83.0766235, -129.184839)          O+   \n",
       "102    (-46.939451, -36.002896)          B+   \n",
       "103   (28.1792735, -150.923899)          O+   \n",
       "104    (25.246783, -175.399468)          A+   \n",
       "105    (81.4016155, -80.198667)          B+   \n",
       "..                          ...         ...   \n",
       "296       (52.981904, 8.953207)          O+   \n",
       "297  (-10.6259625, -116.495177)         AB+   \n",
       "298   (-37.7469695, 109.909408)          A+   \n",
       "299      (3.041318, 108.979654)         AB-   \n",
       "300      (3.521959, -38.820333)          O+   \n",
       "\n",
       "                                               website             username  \\\n",
       "101         [https://www.correia.net/, https://da.br/]              laragao   \n",
       "102                            [https://nogueira.com/]             gda-cruz   \n",
       "103                             [http://www.lima.org/]           barrosluna   \n",
       "104  [https://www.pinto.org/, http://viana.br/, htt...            jmonteiro   \n",
       "105                               [https://porto.org/]           caroline50   \n",
       "..                                                 ...                  ...   \n",
       "296  [http://www.castro.net/, https://www.ferreira....              dmoraes   \n",
       "297                                   [https://da.br/]  ribeiromaria-sophia   \n",
       "298                          [https://www.duarte.com/]              cda-paz   \n",
       "299                                [http://costa.com/]        da-pazclarice   \n",
       "300  [http://www.barros.com/, https://www.das.br/, ...         kamillyramos   \n",
       "\n",
       "                    name sex   birthdate  \n",
       "101          Raul Castro   M  2018-04-12  \n",
       "102        Murilo Duarte   M  1929-03-25  \n",
       "103  Maria Sophia da Luz   F  1943-03-17  \n",
       "104      Dra. Ana Aragão   F  1979-06-21  \n",
       "105   João Gabriel Alves   M  1959-06-10  \n",
       "..                   ...  ..         ...  \n",
       "296     Dr. Renan da Paz   M  1957-10-11  \n",
       "297  Dra. Stephany Ramos   F  1913-03-28  \n",
       "298  Pietro da Conceição   M  1979-07-23  \n",
       "299        Henrique Lima   M  2015-07-25  \n",
       "300     Davi Luiz da Paz   M  1975-06-21  \n",
       "\n",
       "[200 rows x 10 columns]"
      ],
      "text/html": "<div>\n<style scoped>\n    .dataframe tbody tr th:only-of-type {\n        vertical-align: middle;\n    }\n\n    .dataframe tbody tr th {\n        vertical-align: top;\n    }\n\n    .dataframe thead th {\n        text-align: right;\n    }\n</style>\n<table border=\"1\" class=\"dataframe\">\n  <thead>\n    <tr style=\"text-align: right;\">\n      <th></th>\n      <th>job</th>\n      <th>company</th>\n      <th>salary</th>\n      <th>current_location</th>\n      <th>blood_group</th>\n      <th>website</th>\n      <th>username</th>\n      <th>name</th>\n      <th>sex</th>\n      <th>birthdate</th>\n    </tr>\n  </thead>\n  <tbody>\n    <tr>\n      <th>101</th>\n      <td>Engenheiro elétrico</td>\n      <td>Cavalcanti Cunha - EI</td>\n      <td>7598.012637</td>\n      <td>(83.0766235, -129.184839)</td>\n      <td>O+</td>\n      <td>[https://www.correia.net/, https://da.br/]</td>\n      <td>laragao</td>\n      <td>Raul Castro</td>\n      <td>M</td>\n      <td>2018-04-12</td>\n    </tr>\n    <tr>\n      <th>102</th>\n      <td>Impressor</td>\n      <td>Souza</td>\n      <td>1768.549037</td>\n      <td>(-46.939451, -36.002896)</td>\n      <td>B+</td>\n      <td>[https://nogueira.com/]</td>\n      <td>gda-cruz</td>\n      <td>Murilo Duarte</td>\n      <td>M</td>\n      <td>1929-03-25</td>\n    </tr>\n    <tr>\n      <th>103</th>\n      <td>Sonoplasta</td>\n      <td>Souza</td>\n      <td>9405.763288</td>\n      <td>(28.1792735, -150.923899)</td>\n      <td>O+</td>\n      <td>[http://www.lima.org/]</td>\n      <td>barrosluna</td>\n      <td>Maria Sophia da Luz</td>\n      <td>F</td>\n      <td>1943-03-17</td>\n    </tr>\n    <tr>\n      <th>104</th>\n      <td>Procurador de justiça</td>\n      <td>Gomes e Filhos</td>\n      <td>2835.016970</td>\n      <td>(25.246783, -175.399468)</td>\n      <td>A+</td>\n      <td>[https://www.pinto.org/, http://viana.br/, htt...</td>\n      <td>jmonteiro</td>\n      <td>Dra. Ana Aragão</td>\n      <td>F</td>\n      <td>1979-06-21</td>\n    </tr>\n    <tr>\n      <th>105</th>\n      <td>Neonatologista</td>\n      <td>das Neves e Filhos</td>\n      <td>7869.430154</td>\n      <td>(81.4016155, -80.198667)</td>\n      <td>B+</td>\n      <td>[https://porto.org/]</td>\n      <td>caroline50</td>\n      <td>João Gabriel Alves</td>\n      <td>M</td>\n      <td>1959-06-10</td>\n    </tr>\n    <tr>\n      <th>...</th>\n      <td>...</td>\n      <td>...</td>\n      <td>...</td>\n      <td>...</td>\n      <td>...</td>\n      <td>...</td>\n      <td>...</td>\n      <td>...</td>\n      <td>...</td>\n      <td>...</td>\n    </tr>\n    <tr>\n      <th>296</th>\n      <td>Jogador de tênis de mesa</td>\n      <td>Rezende S/A</td>\n      <td>1086.435729</td>\n      <td>(52.981904, 8.953207)</td>\n      <td>O+</td>\n      <td>[http://www.castro.net/, https://www.ferreira....</td>\n      <td>dmoraes</td>\n      <td>Dr. Renan da Paz</td>\n      <td>M</td>\n      <td>1957-10-11</td>\n    </tr>\n    <tr>\n      <th>297</th>\n      <td>Cinematográfo</td>\n      <td>Novaes - EI</td>\n      <td>532.679849</td>\n      <td>(-10.6259625, -116.495177)</td>\n      <td>AB+</td>\n      <td>[https://da.br/]</td>\n      <td>ribeiromaria-sophia</td>\n      <td>Dra. Stephany Ramos</td>\n      <td>F</td>\n      <td>1913-03-28</td>\n    </tr>\n    <tr>\n      <th>298</th>\n      <td>Adestrador de animais</td>\n      <td>Moraes</td>\n      <td>5917.240389</td>\n      <td>(-37.7469695, 109.909408)</td>\n      <td>A+</td>\n      <td>[https://www.duarte.com/]</td>\n      <td>cda-paz</td>\n      <td>Pietro da Conceição</td>\n      <td>M</td>\n      <td>1979-07-23</td>\n    </tr>\n    <tr>\n      <th>299</th>\n      <td>Repórter</td>\n      <td>Oliveira S.A.</td>\n      <td>1067.943528</td>\n      <td>(3.041318, 108.979654)</td>\n      <td>AB-</td>\n      <td>[http://costa.com/]</td>\n      <td>da-pazclarice</td>\n      <td>Henrique Lima</td>\n      <td>M</td>\n      <td>2015-07-25</td>\n    </tr>\n    <tr>\n      <th>300</th>\n      <td>Pescador</td>\n      <td>Cardoso da Cruz Ltda.</td>\n      <td>2109.635843</td>\n      <td>(3.521959, -38.820333)</td>\n      <td>O+</td>\n      <td>[http://www.barros.com/, https://www.das.br/, ...</td>\n      <td>kamillyramos</td>\n      <td>Davi Luiz da Paz</td>\n      <td>M</td>\n      <td>1975-06-21</td>\n    </tr>\n  </tbody>\n</table>\n<p>200 rows × 10 columns</p>\n</div>"
     },
     "metadata": {},
     "execution_count": 281
    }
   ],
   "source": [
    "pd.concat([df2,df3])"
   ]
  },
  {
   "cell_type": "code",
   "execution_count": null,
   "metadata": {},
   "outputs": [],
   "source": []
  }
 ]
}