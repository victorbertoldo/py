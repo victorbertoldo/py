{
 "metadata": {
  "language_info": {
   "codemirror_mode": {
    "name": "ipython",
    "version": 3
   },
   "file_extension": ".py",
   "mimetype": "text/x-python",
   "name": "python",
   "nbconvert_exporter": "python",
   "pygments_lexer": "ipython3",
   "version": "3.8.5-final"
  },
  "orig_nbformat": 2,
  "kernelspec": {
   "name": "python3",
   "display_name": "Python 3.8.5 64-bit (conda)",
   "metadata": {
    "interpreter": {
     "hash": "c9ac96ecdbd0bc9af86bc43b03465688350896f5289c88a63f86f204affded0e"
    }
   }
  }
 },
 "nbformat": 4,
 "nbformat_minor": 2,
 "cells": [
  {
   "source": [
    "# Funções"
   ],
   "cell_type": "markdown",
   "metadata": {}
  },
  {
   "source": [
    "## Type hinting\n",
    "> `Declaração explicita de tipos em uma função`"
   ],
   "cell_type": "markdown",
   "metadata": {}
  },
  {
   "cell_type": "code",
   "execution_count": 6,
   "metadata": {},
   "outputs": [],
   "source": [
    "def potencia(n1:float, n2:int = 2):\n",
    "    return n1**n2"
   ]
  },
  {
   "cell_type": "code",
   "execution_count": 7,
   "metadata": {},
   "outputs": [
    {
     "output_type": "execute_result",
     "data": {
      "text/plain": [
       "29.160000000000004"
      ]
     },
     "metadata": {},
     "execution_count": 7
    }
   ],
   "source": [
    "potencia(5.4)"
   ]
  },
  {
   "cell_type": "code",
   "execution_count": 8,
   "metadata": {},
   "outputs": [
    {
     "output_type": "execute_result",
     "data": {
      "text/plain": [
       "850.3056000000003"
      ]
     },
     "metadata": {},
     "execution_count": 8
    }
   ],
   "source": [
    "potencia(5.4, n2=4)"
   ]
  },
  {
   "source": [
    "### Return Type\n",
    "> `Definindo o tipo de retorno da função`"
   ],
   "cell_type": "markdown",
   "metadata": {}
  },
  {
   "cell_type": "code",
   "execution_count": 12,
   "metadata": {},
   "outputs": [],
   "source": [
    "def potencia(n1:float, n2:int = 2) -> float:\n",
    "    '''\n",
    "    Função para potenciação \n",
    "    '''\n",
    "    return n1**n2"
   ]
  },
  {
   "cell_type": "code",
   "execution_count": 11,
   "metadata": {},
   "outputs": [
    {
     "output_type": "execute_result",
     "data": {
      "text/plain": [
       "16"
      ]
     },
     "metadata": {},
     "execution_count": 11
    }
   ],
   "source": [
    "potencia(4)"
   ]
  },
  {
   "source": [
    "### *args\n",
    "> `Criando uma função sem limitação para qtd de parametros`"
   ],
   "cell_type": "markdown",
   "metadata": {}
  },
  {
   "cell_type": "code",
   "execution_count": 16,
   "metadata": {},
   "outputs": [],
   "source": [
    "def soma(*args): \n",
    "    '''\n",
    "    O *args gera uma lista com todos os elementos declarados\n",
    "    A função descompacta os elementos da lista e soma todos eles\n",
    "    '''\n",
    "    res = 0\n",
    "\n",
    "    for i in args:\n",
    "        res += i\n",
    "\n",
    "    return res\n"
   ]
  },
  {
   "cell_type": "code",
   "execution_count": 17,
   "metadata": {},
   "outputs": [
    {
     "output_type": "execute_result",
     "data": {
      "text/plain": [
       "15"
      ]
     },
     "metadata": {},
     "execution_count": 17
    }
   ],
   "source": [
    "soma(2,4,6,3)"
   ]
  },
  {
   "source": [
    "### **kwargs\n",
    "> `Passando elementos nomeados`"
   ],
   "cell_type": "markdown",
   "metadata": {}
  },
  {
   "cell_type": "code",
   "execution_count": 18,
   "metadata": {},
   "outputs": [],
   "source": [
    "def soma(*args, **kwargs): \n",
    "    '''\n",
    "    O *args gera uma lista com todos os elementos declarados\n",
    "    O **kwargs ao usa-lo é necessario passar elementos nomeados\n",
    "    A função descompacta os elementos da lista e soma todos eles, caso exista o parametro nomeado ele será extraido e estara acessivel para função\n",
    "    '''\n",
    "\n",
    "    subtracao = kwargs.get(\"subtrair\")\n",
    "\n",
    "    res = 0\n",
    "\n",
    "    for i in args:\n",
    "        res += i\n",
    "\n",
    "    if subtracao:\n",
    "        res -= subtracao        \n",
    "\n",
    "    return res"
   ]
  },
  {
   "cell_type": "code",
   "execution_count": 19,
   "metadata": {},
   "outputs": [
    {
     "output_type": "execute_result",
     "data": {
      "text/plain": [
       "10"
      ]
     },
     "metadata": {},
     "execution_count": 19
    }
   ],
   "source": [
    "soma(1, 4, 5)"
   ]
  },
  {
   "cell_type": "code",
   "execution_count": 21,
   "metadata": {},
   "outputs": [
    {
     "output_type": "execute_result",
     "data": {
      "text/plain": [
       "9"
      ]
     },
     "metadata": {},
     "execution_count": 21
    }
   ],
   "source": [
    "soma(1, 4, 5, subtrair=1)"
   ]
  },
  {
   "source": [
    "### Locals\n",
    "> `Retorna os parametros da função. Muito util qndo se tem muitos parametros.` "
   ],
   "cell_type": "markdown",
   "metadata": {}
  },
  {
   "cell_type": "code",
   "execution_count": 26,
   "metadata": {},
   "outputs": [],
   "source": [
    "def perfil():\n",
    "    nome_usuario = 'jao'\n",
    "    idade = 22\n",
    "    endereco = 'rua al mer, num 3'\n",
    "\n",
    "    return locals()\n",
    "\n",
    "    '''\n",
    "    para retornar uma lista somente com os parametros basta usar\n",
    "\n",
    "    return list(locals().keys())\n",
    "\n",
    "    para retornar uma lista somente com os valores\n",
    "\n",
    "    return list(locals().values())\n",
    "    '''"
   ]
  },
  {
   "cell_type": "code",
   "execution_count": 25,
   "metadata": {},
   "outputs": [
    {
     "output_type": "execute_result",
     "data": {
      "text/plain": [
       "{'nome_usuario': 'jao', 'idade': 22, 'endereco': 'rua al mer, num 3'}"
      ]
     },
     "metadata": {},
     "execution_count": 25
    }
   ],
   "source": [
    "perfil()"
   ]
  },
  {
   "cell_type": "code",
   "execution_count": null,
   "metadata": {},
   "outputs": [],
   "source": []
  }
 ]
}