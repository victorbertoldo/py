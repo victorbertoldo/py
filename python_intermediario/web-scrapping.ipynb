{
 "metadata": {
  "language_info": {
   "codemirror_mode": {
    "name": "ipython",
    "version": 3
   },
   "file_extension": ".py",
   "mimetype": "text/x-python",
   "name": "python",
   "nbconvert_exporter": "python",
   "pygments_lexer": "ipython3",
   "version": "3.8.5-final"
  },
  "orig_nbformat": 2,
  "kernelspec": {
   "name": "python385jvsc74a57bd0c9ac96ecdbd0bc9af86bc43b03465688350896f5289c88a63f86f204affded0e",
   "display_name": "Python 3.8.5 64-bit (conda)"
  }
 },
 "nbformat": 4,
 "nbformat_minor": 2,
 "cells": [
  {
   "cell_type": "code",
   "execution_count": 3,
   "metadata": {},
   "outputs": [],
   "source": [
    "import pandas as pd\n",
    "import requests\n",
    "import os\n",
    "from pprint import pprint\n",
    "import json\n",
    "import numpy as np"
   ]
  },
  {
   "cell_type": "code",
   "execution_count": 4,
   "metadata": {},
   "outputs": [],
   "source": [
    "n = 167\n",
    "page = 0\n",
    "response = requests.get(f'https://marketplace.ifood.com.br/v2/merchants?latitude=-16.6912533&longitude=-49.0845761&page={page}&channel=IFOOD&size={n}&features=&categories=&payment_types=&delivery_fee_from=0&delivery_fee_to=25&delivery_time_from=0&delivery_time_to=240')"
   ]
  },
  {
   "cell_type": "code",
   "execution_count": 5,
   "metadata": {},
   "outputs": [
    {
     "output_type": "execute_result",
     "data": {
      "text/plain": [
       ":\"senador-canedo-go/kero-horta-delivery-conjunto-uirapuru\",\"userRating\":0.0,\"priceRange\":\"CHEAPEST\",\"mainCategory\":{\"code\":\"LCH\",\"name\":\"Lanches\"},\"features\":[\"DELIVERY\",\"IMMEDIATE_ORDER\"],\"tags\":[\"ADDRESS_PREFORM_TYPE\",\"CPGN_USER_DISCOUNT_BR_LIST\",\"GUIDED_HELP_TYPE\",\"HAMBURGUER_TAXA_GRATIS\",\"JETSKI_BURGER_20AGO\",\"jetski_burger_ago20\",\"NOVO\",\"PRATOS_SOPAS_CALDOS\",\"RANKING_FASTFOODS_FEV21\"],\"paymentCodes\":[\"DNR\",\"MPAY\",\"MOVPAY_MC\",\"MC\",\"GPY_ELO\",\"ELOD\",\"GPY_MCMA\",\"AM\",\"MCMA\",\"MOVPAY_AM\",\"APL_ELOD\",\"IMV\",\"MOVPAY_VIS\",\"GPY_ELOD\",\"APL_MCMA\",\"GPY_MC\",\"APL_ELO\",\"MOVPAY_HIPER\",\"APL_VISE\",\"HIPER\",\"IFE\",\"VIS\",\"APL_VIS\",\"MOVPAY_ELO\",\"GPY_VISE\",\"MOVPAY_DNR\",\"VISE\",\"ELO\",\"APL_MC\",\"GPY_VIS\"],\"minimumOrderValue\":35.0,\"deliveryFee\":{\"type\":\"FIXED\",\"value\":0.0,\"originalValue\":0.0},\"deliveryTime\":59,\"distance\":2.02,\"available\":false,\"takeoutTime\":0,\"preparationTime\":0,\"deliveryMethods\":[{\"id\":\"DEFAULT\",\"priority\":1,\"type\":\"FIXED\",\"value\":0.0,\"originalValue\":0.0,\"title\":\"Padrão\",\"subtitle\":\"O entregador leva até você agora\",\"minTime\":59,\"maxTime\":69,\"mode\":\"DELIVERY\",\"schedule\":{\"now\":false,\"shifts\":[],\"timeSlots\":[]},\"deliveredBy\":\"MERCHANT\"}],\"availableForScheduling\":false,\"contextSetup\":{\"context\":\"DEFAULT\",\"regionGroup\":\"e1dbd9d8-45d6-4b33-aafc-417b8d69b06d\",\"catalogGroup\":\"ffca0022-eb43-4205-9a1b-73a72f8e3f95\"},\"currency\":\"BRL\"},{\"id\":\"193d56e0-ca1e-448f-80bc-2104b31b1d6d\",\"name\":\"Empório Gourmet\",\"resources\":[{\"type\":\"LOGO\",\"fileName\":\"193d56e0-ca1e-448f-80bc-2104b31b1d6d/202005310747_PDB5_i.jpg\"},{\"type\":\"HEADER\",\"fileName\":\"193d56e0-ca1e-448f-80bc-2104b31b1d6d/202005310748_NMsV_s.png\"}],\"slug\":\"goiania-go/emporio-gourmet-jardim-america\",\"userRating\":0.0,\"priceRange\":\"CHEAPEST\",\"mainCategory\":{\"code\":\"LCH\",\"name\":\"Lanches\"},\"features\":[\"DELIVERY\",\"IMMEDIATE_ORDER\"],\"tags\":[\"ADDRESS_PREFORM_TYPE\",\"GUIDED_HELP_TYPE\",\"JETSKI_BURGER_20AGO\",\"jetski_burger_ago20\",\"NOVO\",\"RANKING_FASTFOODS_FEV21\",\"RESTAURANTE VOUCHER5 GUARANA\"],\"paymentCodes\":[\"DNR\",\"MPAY\",\"MOVPAY_MC\",\"MC\",\"GPY_ELO\",\"ELOD\",\"GPY_MCMA\",\"AM\",\"MCMA\",\"MOVPAY_AM\",\"APL_ELOD\",\"IMV\",\"MOVPAY_VIS\",\"GPY_ELOD\",\"APL_MCMA\",\"GPY_MC\",\"APL_ELO\",\"MOVPAY_HIPER\",\"APL_VISE\",\"HIPER\",\"IFE\",\"VIS\",\"APL_VIS\",\"MOVPAY_ELO\",\"GPY_VISE\",\"MOVPAY_DNR\",\"VISE\",\"ELO\",\"APL_MC\",\"GPY_VIS\"],\"minimumOrderValue\":15.0,\"deliveryFee\":{\"type\":\"FIXED\",\"value\":9.0,\"originalValue\":9.0},\"deliveryTime\":90,\"distance\":9.0,\"available\":false,\"takeoutTime\":0,\"preparationTime\":0,\"deliveryMethods\":[{\"id\":\"DEFAULT\",\"priority\":1,\"type\":\"FIXED\",\"value\":9.0,\"originalValue\":9.0,\"title\":\"Padrão\",\"subtitle\":\"O entregador leva até você agora\",\"minTime\":90,\"maxTime\":100,\"mode\":\"DELIVERY\",\"schedule\":{\"now\":false,\"shifts\":[],\"timeSlots\":[]},\"deliveredBy\":\"MERCHANT\"}],\"availableForScheduling\":false,\"contextSetup\":{\"context\":\"DEFAULT\",\"regionGroup\":\"e1dbd9d8-45d6-4b33-aafc-417b8d69b06d\",\"catalogGroup\":\"ffca0022-eb43-4205-9a1b-73a72f8e3f95\"},\"currency\":\"BRL\"},{\"id\":\"09a99ddf-871e-46da-9473-d121b9853dd9\",\"name\":\"Home Açaí\",\"resources\":[{\"type\":\"LOGO\",\"fileName\":\"09a99ddf-871e-46da-9473-d121b9853dd9/202010222116_T0nT_i.jpg\"},{\"type\":\"HEADER\",\"fileName\":\"09a99ddf-871e-46da-9473-d121b9853dd9/202010222117_yNwa_i.jpg\"}],\"slug\":\"senador-canedo-go/home-acai-sao-francisco-ii\",\"userRating\":0.0,\"priceRange\":\"CHEAPEST\",\"mainCategory\":{\"code\":\"AC1\",\"name\":\"Açaí\"},\"features\":[\"DELIVERY\",\"IMMEDIATE_ORDER\"],\"tags\":[\"ADDRESS_PREFORM_TYPE\",\"GUIDED_HELP_TYPE\",\"MESDODOCE_FIDELIDADE_DEZ20 \",\"NOVO\",\"REST_REFRIS8_MAR21\"],\"paymentCodes\":[\"DNR\",\"MPAY\",\"MOVPAY_MC\",\"RAM\",\"MC\",\"GPY_ELO\",\"REC\",\"RDREST\",\"ELOD\",\"GPY_MCMA\",\"AM\",\"NUGO\",\"MCMA\",\"MOVPAY_AM\",\"DIN\",\"APL_ELOD\",\"BANRD\",\"MOVPAY_VIS\",\"GPY_ELOD\",\"APL_MCMA\",\"GPY_MC\",\"APL_ELO\",\"MOVPAY_HIPER\",\"DNREST\",\"APL_VISE\",\"HIPER\",\"IFE\",\"VIS\",\"RED\",\"VIREST\",\"VSREST\",\"BANRC\",\"APL_VIS\",\"RHIP\",\"MOVPAY_ELO\",\"GPY_VISE\",\"MOVPAY_DNR\",\"VISE\",\"VERDEC\",\"ELO\",\"APL_MC\",\"MEREST\",\"GPY_VIS\",\"GOODC\"],\"minimumOrderValue\":20.0,\"deliveryFee\":{\"type\":\"FIXED\",\"value\":3.0,\"originalValue\":3.0},\"deliveryTime\":75,\"distance\":1.58,\"available\":false,\"takeoutTime\":0,\"preparationTime\":0,\"deliveryMethods\":[{\"id\":\"DEFAULT\",\"priority\":1,\"type\":\"FIXED\",\"value\":3.0,\"originalValue\":3.0,\"title\":\"Padrão\",\"subtitle\":\"O entregador leva até você agora\",\"minTime\":75,\"maxTime\":85,\"mode\":\"DELIVERY\",\"schedule\":{\"now\":false,\"shifts\":[],\"timeSlots\":[]},\"deliveredBy\":\"MERCHANT\"}],\"availableForScheduling\":false,\"contextSetup\":{\"context\":\"DEFAULT\",\"regionGroup\":\"e1dbd9d8-45d6-4b33-aafc-417b8d69b06d\",\"catalogGroup\":\"ffca0022-eb43-4205-9a1b-73a72f8e3f95\"},\"currency\":\"BRL\"},{\"id\":\"27b7a22e-e46e-452e-8be9-106496183af4\",\"name\":\"Esfirras Khalifa\",\"resources\":[{\"type\":\"LOGO\",\"fileName\":\"27b7a22e-e46e-452e-8be9-106496183af4/202006102141_0o0S_i.jpg\"},{\"type\":\"HEADER\",\"fileName\":\"27b7a22e-e46e-452e-8be9-106496183af4/202006102142_h6LU_.jpeg\"}],\"slug\":\"senador-canedo-go/esfirras-khalifa-jardim-das-oliveiras\",\"userRating\":0.0,\"priceRange\":\"CHEAPEST\",\"mainCategory\":{\"code\":\"ARA\",\"name\":\"Árabe\"},\"features\":[\"DELIVERY\",\"IMMEDIATE_ORDER\"],\"tags\":[\"ADDRESS_PREFORM_TYPE\",\"BF_PIZZARIASESFIHARIAS_NOV20\",\"GUIDED_HELP_TYPE\",\"NOVO\",\"PRATOS_VEGETARIANOS_FEV21\",\"PRATOS_VEGETARIANOS_MAR21\"],\"paymentCodes\":[\"DNR\",\"MPAY\",\"MOVPAY_MC\",\"MC\",\"GPY_ELO\",\"ELOD\",\"GPY_MCMA\",\"AM\",\"MCMA\",\"MOVPAY_AM\",\"DIN\",\"APL_ELOD\",\"IMV\",\"MOVPAY_VIS\",\"GPY_ELOD\",\"APL_MCMA\",\"GPY_MC\",\"APL_ELO\",\"MOVPAY_HIPER\",\"APL_VISE\",\"HIPER\",\"IFE\",\"VIS\",\"APL_VIS\",\"MOVPAY_ELO\",\"GPY_VISE\",\"MOVPAY_DNR\",\"VISE\",\"ELO\",\"APL_MC\",\"GPY_VIS\"],\"minimumOrderValue\":10.0,\"deliveryFee\":{\"type\":\"FIXED\",\"value\":8.0,\"originalValue\":8.0},\"deliveryTime\":60,\"distance\":8.96,\"available\":false,\"takeoutTime\":0,\"preparationTime\":0,\"deliveryMethods\":[{\"id\":\"DEFAULT\",\"priority\":1,\"type\":\"FIXED\",\"value\":8.0,\"originalValue\":8.0,\"title\":\"Padrão\",\"subtitle\":\"O entregador leva até você agora\",\"minTime\":60,\"maxTime\":70,\"mode\":\"DELIVERY\",\"schedule\":{\"now\":false,\"shifts\":[],\"timeSlots\":[]},\"deliveredBy\":\"MERCHANT\"}],\"availableForScheduling\":false,\"contextSetup\":{\"context\":\"DEFAULT\",\"regionGroup\":\"e1dbd9d8-45d6-4b33-aafc-417b8d69b06d\",\"catalogGroup\":\"ffca0022-eb43-4205-9a1b-73a72f8e3f95\"},\"currency\":\"BRL\"},{\"id\":\"a74bcf4b-e0ed-422a-92ab-feb9da55f558\",\"name\":\"Laços de Doçura Lanches\",\"resources\":[{\"type\":\"LOGO\",\"fileName\":\"a74bcf4b-e0ed-422a-92ab-feb9da55f558/202007092030_lUej_.jpeg\"}],\"slug\":\"senador-canedo-go/lacos-de-docura-lanches-sitios-vale-das-brisas\",\"userRating\":0.0,\"priceRange\":\"CHEAPEST\",\"mainCategory\":{\"code\":\"LCH\",\"name\":\"Lanches\"},\"features\":[\"DELIVERY\",\"TAKEOUT\",\"IMMEDIATE_ORDER\"],\"tags\":[\"ADDRESS_PREFORM_TYPE\",\"GUIDED_HELP_TYPE\",\"JETSKI_BURGER_20AGO\",\"jetski_burger_ago20\",\"MARMITA_GRU_FRANGO\",\"NOVO\",\"RANKING_FASTFOODS_FEV21\",\"RESTAURANTE VOUCHER5 GUARANA\"],\"paymentCodes\":[\"DNR\",\"MPAY\",\"MOVPAY_MC\",\"RAM\",\"MC\",\"GPY_ELO\",\"REC\",\"RDREST\",\"ELOD\",\"GPY_MCMA\",\"AM\",\"MCMA\",\"MOVPAY_AM\",\"DIN\",\"APL_ELOD\",\"IMV\",\"MOVPAY_VIS\",\"GPY_ELOD\",\"APL_MCMA\",\"GPY_MC\",\"APL_ELO\",\"MOVPAY_HIPER\",\"APL_VISE\",\"HIPER\",\"IFE\",\"VIS\",\"RED\",\"VIREST\",\"VSREST\",\"APL_VIS\",\"RHIP\",\"MOVPAY_ELO\",\"GPY_VISE\",\"MOVPAY_DNR\",\"VISE\",\"ELO\",\"APL_MC\",\"MEREST\",\"GPY_VIS\"],\"minimumOrderValue\":5.0,\"deliveryFee\":{\"type\":\"FIXED\",\"value\":0.0,\"originalValue\":0.0},\"deliveryTime\":60,\"distance\":2.67,\"available\":false,\"takeoutTime\":10,\"preparationTime\":0,\"deliveryMethods\":[{\"id\":\"DEFAULT\",\"priority\":1,\"type\":\"FIXED\",\"value\":0.0,\"originalValue\":0.0,\"title\":\"Padrão\",\"subtitle\":\"O entregador leva até você agora\",\"minTime\":60,\"maxTime\":70,\"mode\":\"DELIVERY\",\"schedule\":{\"now\":false,\"shifts\":[],\"timeSlots\":[]},\"deliveredBy\":\"MERCHANT\"},{\"id\":\"TAKEOUT\",\"priority\":3,\"type\":\"FIXED\",\"value\":0.0,\"title\":\"Retirada\",\"subtitle\":\"Você retira seu pedido no local\",\"minTime\":10,\"maxTime\":20,\"mode\":\"TAKEOUT\",\"schedule\":{\"now\":false,\"shifts\":[],\"timeSlots\":[]}}],\"availableForScheduling\":false,\"contextSetup\":{\"context\":\"DEFAULT\",\"regionGroup\":\"e1dbd9d8-45d6-4b33-aafc-417b8d69b06d\",\"catalogGroup\":\"ffca0022-eb43-4205-9a1b-73a72f8e3f95\"},\"currency\":\"BRL\"},{\"id\":\"c207eb71-6007-4be5-9a03-3f822ba812a9\",\"name\":\"DESATIVADO\",\"resources\":[{\"type\":\"LOGO\",\"fileName\":\"c207eb71-6007-4be5-9a03-3f822ba812a9/202007280821_LGLp_i.jpg\"},{\"type\":\"HEADER\",\"fileName\":\"c207eb71-6007-4be5-9a03-3f822ba812a9/202007281004_oFul_c.jpg\"}],\"slug\":\"senador-canedo-go/desativado-conjunto-uirapuru\",\"userRating\":0.0,\"priceRange\":\"CHEAPEST\",\"mainCategory\":{\"code\":\"LCH\",\"name\":\"Lanches\"},\"features\":[\"DELIVERY\",\"IMMEDIATE_ORDER\"],\"tags\":[\"ADDRESS_PREFORM_TYPE\",\"GUIDED_HELP_TYPE\",\"JETSKI_BURGER_20AGO\",\"jetski_burger_ago20\",\"NOVO\",\"RANKING_FASTFOODS_FEV21\"],\"paymentCodes\":[\"DNR\",\"MPAY\",\"MOVPAY_MC\",\"RAM\",\"MC\",\"GPY_ELO\",\"REC\",\"RDREST\",\"ELOD\",\"GPY_MCMA\",\"AM\",\"MCMA\",\"MOVPAY_AM\",\"DIN\",\"APL_ELOD\",\"IMV\",\"MOVPAY_VIS\",\"GPY_ELOD\",\"APL_MCMA\",\"GPY_MC\",\"APL_ELO\",\"MOVPAY_HIPER\",\"APL_VISE\",\"HIPER\",\"IFE\",\"VIS\",\"RED\",\"VIREST\",\"VSREST\",\"APL_VIS\",\"MOVPAY_ELO\",\"GPY_VISE\",\"MOVPAY_DNR\",\"VISE\",\"ELO\",\"APL_MC\",\"MEREST\",\"GPY_VIS\"],\"minimumOrderValue\":11.0,\"deliveryFee\":{\"type\":\"FIXED\",\"value\":5.0,\"originalValue\":5.0},\"deliveryTime\":40,\"distance\":3.84,\"available\":false,\"takeoutTime\":0,\"preparationTime\":0,\"deliveryMethods\":[{\"id\":\"DEFAULT\",\"priority\":1,\"type\":\"FIXED\",\"value\":5.0,\"originalValue\":5.0,\"title\":\"Padrão\",\"subtitle\":\"O entregador leva até você agora\",\"minTime\":40,\"maxTime\":50,\"mode\":\"DELIVERY\",\"schedule\":{\"now\":false,\"shifts\":[],\"timeSlots\":[]},\"deliveredBy\":\"MERCHANT\"}],\"availableForScheduling\":false,\"contextSetup\":{\"context\":\"DEFAULT\",\"regionGroup\":\"e1dbd9d8-45d6-4b33-aafc-417b8d69b06d\",\"catalogGroup\":\"ffca0022-eb43-4205-9a1b-73a72f8e3f95\"},\"currency\":\"BRL\"},{\"id\":\"640297d9-450e-4047-bab7-998e81359c4e\",\"name\":\"Appetit\",\"resources\":[{\"type\":\"LOGO\",\"fileName\":\"640297d9-450e-4047-bab7-998e81359c4e/202008052321_nYNA_i.jpg\"},{\"type\":\"HEADER\",\"fileName\":\"640297d9-450e-4047-bab7-998e81359c4e/202008052323_241v_i.jpg\"}],\"slug\":\"senador-canedo-go/appetit-residencial-prado\",\"userRating\":0.0,\"priceRange\":\"CHEAPEST\",\"mainCategory\":{\"code\":\"AC1\",\"name\":\"Açaí\"},\"features\":[\"DELIVERY\",\"IMMEDIATE_ORDER\"],\"tags\":[\"ADDRESS_PREFORM_TYPE\",\"GUIDED_HELP_TYPE\",\"LONG_TAIL\",\"MESDODOCE_FIDELIDADE_DEZ20 \"],\"paymentCodes\":[\"DNR\",\"MPAY\",\"MOVPAY_MC\",\"MC\",\"GPY_ELO\",\"REC\",\"RDREST\",\"ELOD\",\"GPY_MCMA\",\"AM\",\"MCMA\",\"MOVPAY_AM\",\"DIN\",\"APL_ELOD\",\"IMV\",\"MOVPAY_VIS\",\"GPY_ELOD\",\"APL_MCMA\",\"GPY_MC\",\"APL_ELO\",\"MOVPAY_HIPER\",\"APL_VISE\",\"HIPER\",\"IFE\",\"VIS\",\"RED\",\"VIREST\",\"VSREST\",\"APL_VIS\",\"MOVPAY_ELO\",\"GPY_VISE\",\"MOVPAY_DNR\",\"VISE\",\"ELO\",\"APL_MC\",\"MEREST\",\"GPY_VIS\"],\"minimumOrderValue\":0.0,\"deliveryFee\":{\"type\":\"FIXED\",\"value\":0.0,\"originalValue\":0.0},\"deliveryTime\":40,\"distance\":3.48,\"available\":false,\"takeoutTime\":0,\"preparationTime\":0,\"deliveryMethods\":[{\"id\":\"DEFAULT\",\"priority\":1,\"type\":\"FIXED\",\"value\":0.0,\"originalValue\":0.0,\"title\":\"Padrão\",\"subtitle\":\"O entregador leva até você agora\",\"minTime\":40,\"maxTime\":50,\"mode\":\"DELIVERY\",\"schedule\":{\"now\":false,\"shifts\":[],\"timeSlots\":[]},\"deliveredBy\":\"MERCHANT\"}],\"availableForScheduling\":false,\"contextSetup\":{\"context\":\"DEFAULT\",\"regionGroup\":\"e1dbd9d8-45d6-4b33-aafc-417b8d69b06d\",\"catalogGroup\":\"ffca0022-eb43-4205-9a1b-73a72f8e3f95\"},\"currency\":\"BRL\"},{\"id\":\"9b51221b-7c64-4d6e-920b-951b23a98e6f\",\"name\":\"Crepe Francês\",\"resources\":[{\"type\":\"LOGO\",\"fileName\":\"9b51221b-7c64-4d6e-920b-951b23a98e6f/202008122213_wZPm_.jpeg\"},{\"type\":\"HEADER\",\"fileName\":\"9b51221b-7c64-4d6e-920b-951b23a98e6f/202008122215_RnCP_.jpeg\"}],\"slug\":\"senador-canedo-go/crepe-frances-sao-francisco\",\"userRating\":0.0,\"priceRange\":\"CHEAPEST\",\"mainCategory\":{\"code\":\"LCH\",\"name\":\"Lanches\"},\"features\":[\"DELIVERY\",\"IMMEDIATE_ORDER\"],\"tags\":[\"ADDRESS_PREFORM_TYPE\",\"GUIDED_HELP_TYPE\",\"NOVO\",\"RANKING_FASTFOODS_FEV21\",\"RESTAURANTE VOUCHER5 GUARANA\"],\"paymentCodes\":[\"DNR\",\"MPAY\",\"MOVPAY_MC\",\"RAM\",\"MC\",\"GPY_ELO\",\"REC\",\"RDREST\",\"ELOD\",\"GPY_MCMA\",\"AM\",\"NUGO\",\"MCMA\",\"MOVPAY_AM\",\"DIN\",\"APL_ELOD\",\"IMV\",\"BANRD\",\"MOVPAY_VIS\",\"GPY_ELOD\",\"APL_MCMA\",\"GPY_MC\",\"APL_ELO\",\"MOVPAY_HIPER\",\"DNREST\",\"APL_VISE\",\"HIPER\",\"IFE\",\"VIS\",\"RED\",\"VIREST\",\"VSREST\",\"BANRC\",\"APL_VIS\",\"RHIP\",\"MOVPAY_ELO\",\"GPY_VISE\",\"MOVPAY_DNR\",\"VISE\",\"VERDEC\",\"ELO\",\"APL_MC\",\"MEREST\",\"GPY_VIS\",\"GOODC\"],\"minimumOrderValue\":10.0,\"deliveryFee\":{\"type\":\"FIXED\",\"value\":3.0,\"originalValue\":3.0},\"deliveryTime\":35,\"distance\":1.34,\"available\":false,\"takeoutTime\":0,\"preparationTime\":0,\"deliveryMethods\":[{\"id\":\"DEFAULT\",\"priority\":1,\"type\":\"FIXED\",\"value\":3.0,\"originalValue\":3.0,\"title\":\"Padrão\",\"subtitle\":\"O entregador leva até você agora\",\"minTime\":35,\"maxTime\":45,\"mode\":\"DELIVERY\",\"schedule\":{\"now\":false,\"shifts\":[],\"timeSlots\":[]},\"deliveredBy\":\"MERCHANT\"}],\"availableForScheduling\":false,\"contextSetup\":{\"context\":\"DEFAULT\",\"regionGroup\":\"e1dbd9d8-45d6-4b33-aafc-417b8d69b06d\",\"catalogGroup\":\"ffca0022-eb43-4205-9a1b-73a72f8e3f95\"},\"currency\":\"BRL\"},{\"id\":\"8183d919-5cd1-452b-bdde-9cb9f515713f\",\"name\":\"Empadas do Gordo\",\"resources\":[{\"type\":\"LOGO\",\"fileName\":\"8183d919-5cd1-452b-bdde-9cb9f515713f/202008202202_vrct_i.png\"},{\"type\":\"HEADER\",\"fileName\":\"8183d919-5cd1-452b-bdde-9cb9f515713f/202008232143_R61z_g.jpg\"}],\"slug\":\"senador-canedo-go/empadas-do-gordo-jardim-todos-os-santos-ii\",\"userRating\":0.0,\"priceRange\":\"CHEAPEST\",\"mainCategory\":{\"code\":\"LCH\",\"name\":\"Lanches\"},\"features\":[\"DELIVERY\",\"TAKEOUT\",\"IMMEDIATE_ORDER\"],\"tags\":[\"ADDRESS_PREFORM_TYPE\",\"GUIDED_HELP_TYPE\",\"NOVO\",\"RANKING_FASTFOODS_FEV21\"],\"paymentCodes\":[\"DNR\",\"MPAY\",\"MOVPAY_MC\",\"RAM\",\"MC\",\"GPY_ELO\",\"REC\",\"RDREST\",\"ELOD\",\"GPY_MCMA\",\"AM\",\"MCMA\",\"MOVPAY_AM\",\"DIN\",\"APL_ELOD\",\"IMV\",\"BANRD\",\"MOVPAY_VIS\",\"GPY_ELOD\",\"APL_MCMA\",\"GPY_MC\",\"APL_ELO\",\"MOVPAY_HIPER\",\"DNREST\",\"APL_VISE\",\"HIPER\",\"IFE\",\"VIS\",\"RED\",\"VIREST\",\"VSREST\",\"BANRC\",\"APL_VIS\",\"RHIP\",\"MOVPAY_ELO\",\"GPY_VISE\",\"MOVPAY_DNR\",\"VISE\",\"ELO\",\"APL_MC\",\"MEREST\",\"GPY_VIS\"],\"minimumOrderValue\":12.0,\"deliveryFee\":{\"type\":\"FIXED\",\"value\":4.0,\"originalValue\":4.0},\"deliveryTime\":80,\"distance\":0.98,\"available\":false,\"takeoutTime\":55,\"preparationTime\":0,\"deliveryMethods\":[{\"id\":\"DEFAULT\",\"priority\":1,\"type\":\"FIXED\",\"value\":4.0,\"originalValue\":4.0,\"title\":\"Padrão\",\"subtitle\":\"O entregador leva até você agora\",\"minTime\":80,\"maxTime\":90,\"mode\":\"DELIVERY\",\"schedule\":{\"now\":false,\"shifts\":[],\"timeSlots\":[]},\"deliveredBy\":\"MERCHANT\"},{\"id\":\"TAKEOUT\",\"priority\":3,\"type\":\"FIXED\",\"value\":0.0,\"title\":\"Retirada\",\"subtitle\":\"Você retira seu pedido no local\",\"minTime\":55,\"maxTime\":65,\"mode\":\"TAKEOUT\",\"schedule\":{\"now\":false,\"shifts\":[],\"timeSlots\":[]}}],\"availableForScheduling\":false,\"contextSetup\":{\"context\":\"DEFAULT\",\"regionGroup\":\"e1dbd9d8-45d6-4b33-aafc-417b8d69b06d\",\"catalogGroup\":\"ffca0022-eb43-4205-9a1b-73a72f8e3f95\"},\"currency\":\"BRL\"}],\"facets\":{\"priceRange\":{\"cheapest\":143,\"cheap\":17,\"moderate\":5,\"expensive\":3,\"mostExpensive\":1},\"features\":[{\"key\":\"INDOOR_TAKEOUT\",\"count\":2},{\"key\":\"TAKEOUT\",\"count\":53},{\"key\":\"IMMEDIATE_ORDER\",\"count\":169},{\"key\":\"DELIVERY\",\"count\":169},{\"key\":\"INDOOR_DELIVERY\",\"count\":2},{\"key\":\"SCHEDULING\",\"count\":5}],\"tags\":[{\"key\":\"CART::MCHT::TAXA_GRATIS_NOVOS_ATE_3_0\",\"count\":5},{\"key\":\"RANKING_2POR1_MAR21\",\"count\":1},{\"key\":\"SEMANAPIZZA_TAXAGRATIS\",\"count\":1},{\"key\":\"MER_BEB_GELADO_REFRIGERANTES\",\"count\":2},{\"key\":\"EXCLUSIVO\",\"count\":13},{\"key\":\"VERAO_BEBIDAS_DEZ20\",\"count\":2},{\"key\":\"CONTA_ESTRATEGICA\",\"count\":2},{\"key\":\"REST_REFRIS8_MAR21\",\"count\":8},{\"key\":\"NAMORADOS_SOBREMESA_JUN20\",\"count\":1},{\"key\":\"VOUCHER_KA_REDES_OUT19\",\"count\":1},{\"key\":\"REST_FEIJOADA\",\"count\":10},{\"key\":\"NOVO\",\"count\":121},{\"key\":\"PRATOS_VEGETARIANOS_FEV21\",\"count\":13},{\"key\":\"MARKET\",\"count\":1},{\"key\":\"MARMITA_GRU_FRANGO\",\"count\":1},{\"key\":\"WRAPPED_DEZ19\",\"count\":31},{\"key\":\"MARMITA_GRU_CARNE\",\"count\":1},{\"key\":\"JETSKI_PIZZA_20AGO\",\"count\":6},{\"key\":\"MER_BEBIDAS20_CERVEJAS\",\"count\":1},{\"key\":\"NAMORADOS_CUPOM\",\"count\":2},{\"key\":\"MER_NATAL_REFRISUCO_DEZ20\",\"count\":1},{\"key\":\"MARMITA_GRU_15\",\"count\":2},{\"key\":\"CRM_BEBIDAS20\",\"count\":1},{\"key\":\"MARMITA_GRU_MASSA\",\"count\":1},{\"key\":\"ORD_AGENDAMENTO_PRATO_DEZ19\",\"count\":1},{\"key\":\"CART::MCHT::TX_GRATIS_CRITICOS_FEV_MAR_100\",\"count\":1},{\"key\":\"PRATOS_FEIJOADA\",\"count\":10},{\"key\":\"MAR20_CUPOM_REST_PEQ\",\"count\":21},{\"key\":\"LONG_TAIL\",\"count\":44},{\"key\":\"CPGN_USER_DISCOUNT_5_LIST\",\"count\":20},{\"key\":\"ABR20_LANCHE\",\"count\":1},{\"key\":\"RESTAURANTE VOUCHER5 GUARANA\",\"count\":22},{\"key\":\"MKT_PDIVIDIR_MAR20\",\"count\":2},{\"key\":\"MER_AMIGOSECRETO_CHOCOLATESEDOCES_DEZ20\",\"count\":1},{\"key\":\"CAFE_MANHA_MAES\",\"count\":1},{\"key\":\"CPGN_USER_DISCOUNT_BR_LIST\",\"count\":13},{\"key\":\"ATE15_TXGRATIS_NOVOS\",\"count\":1},{\"key\":\"MER_VALENTINES_PRESENTE_FEV21\",\"count\":1},{\"key\":\"IMPERDIVEIS20_ABR\",\"count\":1},{\"key\":\"BF_PIZZARIASESFIHARIAS_NOV20\",\"count\":7},{\"key\":\"FAVORITOS_IFOOD_NOV20\",\"count\":1},{\"key\":\"RANKING_PASCOA_ABRIL21\",\"count\":14},{\"key\":\"TX_GRATIS_DENGO_SEMEFEITO\",\"count\":1},{\"key\":\"CRITICOS_EXCLUSIVOS\",\"count\":1},{\"key\":\"jetski_burger_ago20\",\"count\":20},{\"key\":\"MARMITA_GRU_MAIS\",\"count\":2},{\"key\":\"BOMEBARATO_CUPOM\",\"count\":10},{\"key\":\"MAISRAPIDOS_ENTREGAGRATIS_DEZ20\",\"count\":4},{\"key\":\"CRITICOS_KAS\",\"count\":1},{\"key\":\"NEW\",\"count\":49},{\"key\":\"MER_BEBIDAS20_VINHOS_MAR21\",\"count\":1},{\"key\":\"CRM_LOW_VALUE_LIST\",\"count\":1},{\"key\":\"MAISPEDIDOS_REGIAO\",\"count\":2},{\"key\":\"PRATOS_ESPETINHOS\",\"count\":9},{\"key\":\"BF_CUPOM15OFF_NOV20\",\"count\":2},{\"key\":\"NATURE_FRIENDLY_MANDATORY\",\"count\":4},{\"key\":\"SO_TEM_NO_IFOOD\",\"count\":2},{\"key\":\"SORVETERIAS_SET20\",\"count\":2},{\"key\":\"ORD_AGENDAMENTO_NOV19\",\"count\":2},{\"key\":\"GUIDED_HELP_TYPE\",\"count\":169},{\"key\":\"PRATOS_VEGANOS\",\"count\":3},{\"key\":\"RANKING_OFERTAS_ATE20_MAR21\",\"count\":1},{\"key\":\"MER_CUR_ABR21_24H\",\"count\":2},{\"key\":\"PAGAMENTO_DINHEIRO_SET19\",\"count\":8},{\"key\":\"SEMANAPIZZA_CARROSSEL\",\"count\":1},{\"key\":\"NOVO_ABB_JUL20_V1\",\"count\":7},{\"key\":\"MER_BEBIDAS20_ENERGETICOS_MAR21\",\"count\":1},{\"key\":\"JAN20::TAKEOUT_20MIN\",\"count\":8},{\"key\":\"PRATOS_SOPAS_CALDOS\",\"count\":16},{\"key\":\"MESDODOCE_FIDELIDADE_DEZ20 \",\"count\":24},{\"key\":\"PRATOS_VEGETARIANOS_MAR21\",\"count\":12},{\"key\":\"MGM_CARD_NOV19\",\"count\":30},{\"key\":\"MER_AMIGOSECRETO_CERVEJAS_DEZ20\",\"count\":1},{\"key\":\"SOPA_JUL19\",\"count\":1},{\"key\":\"REST_ACABARAM_CHEGAR\",\"count\":1},{\"key\":\"jetski_pizza_ago20\",\"count\":6},{\"key\":\"PROMOBOMB_DO_BEM_JUNHO\",\"count\":2},{\"key\":\"JETSKI_BURGER_20AGO\",\"count\":20},{\"key\":\"KEY_ACCOUNT\",\"count\":2},{\"key\":\"MER_BEBIDAS20_ESPUMANTES_MAR21\",\"count\":1},{\"key\":\"JET_WPP_FREQ_23_03_TO_26_03\",\"count\":71},{\"key\":\"NATURE_FRIENDLY_OPTIONAL\",\"count\":1},{\"key\":\"LOYALTY_CARD_3\",\"count\":6},{\"key\":\"LOYALTY_CARD_5\",\"count\":2},{\"key\":\"SOPAS_AGO20\",\"count\":2},{\"key\":\"JETSKI_WPP_FREQ\",\"count\":13},{\"key\":\"HAMBURGUER_TAXA_GRATIS\",\"count\":14},{\"key\":\"PRESENTEAVEIS_FELICITACOES_DEZ20\",\"count\":1},{\"key\":\"NOVO_BOM_BARATO_JUN20\",\"count\":10},{\"key\":\"MARCAS_FAMOSAS_CARROSSEL\",\"count\":1},{\"key\":\"MELHORES_RESTAURANTES_CHURN_ABR21\",\"count\":80},{\"key\":\"MER_FEST_LIMPEZA_COZ_SET20\",\"count\":1},{\"key\":\"MER_FEST_LIMPEZA_ROUPA_SET20\",\"count\":1},{\"key\":\"MER_FAMILIA_DOCES_DEZ20\",\"count\":1},{\"key\":\"PRATOS_VEGANOS_MAR21\",\"count\":3},{\"key\":\"INVERNO_SOPASCALDOS_JUL20\",\"count\":3},{\"key\":\"RANKING_FASTFOODS_FEV21\",\"count\":44},{\"key\":\"SRVT_ACAI_ATE_15_FEV19\",\"count\":1},{\"key\":\"CART::MCHT::CRITICOS_ABR_JUN_TAXA_100\",\"count\":1},{\"key\":\"ADDRESS_PREFORM_TYPE\",\"count\":169},{\"key\":\"MER_VERAO_BEBIDAS_JAN21\",\"count\":1},{\"key\":\"MER_BEBIDAS20_DESTILADOS_MAR21\",\"count\":1},{\"key\":\"MER_BEB_GELADO_ALCOOL\",\"count\":1},{\"key\":\"CPGN_USER_DISCOUNT_6_LIST\",\"count\":3},{\"key\":\"CRM_20200109_TOGO_TAG\",\"count\":14}],\"available\":52,\"deliveryFee\":{\"min\":0.0,\"max\":19.9},\"deliveryTime\":{\"min\":20,\"max\":138},\"distance\":{\"min\":0.1,\"max\":26.2},\"userRating\":{\"min\":0.0,\"max\":5.0},\"categories\":[{\"key\":\"PIZ\",\"count\":11},{\"key\":\"CS1\",\"count\":1},{\"key\":\"CRP\",\"count\":1},{\"key\":\"PAS\",\"count\":2},{\"key\":\"SAU\",\"count\":1},{\"key\":\"VAR\",\"count\":1},{\"key\":\"AC1\",\"count\":14},{\"key\":\"MA1\",\"count\":12},{\"key\":\"BUR\",\"count\":2},{\"key\":\"BEB\",\"count\":2},{\"key\":\"CV1\",\"count\":1},{\"key\":\"PA1\",\"count\":1},{\"key\":\"TA1\",\"count\":1},{\"key\":\"DCE\",\"count\":16},{\"key\":\"CN1\",\"count\":1},{\"key\":\"PX1\",\"count\":1},{\"key\":\"MED\",\"count\":1},{\"key\":\"LCH\",\"count\":53},{\"key\":\"BRA\",\"count\":30},{\"key\":\"ARA\",\"count\":1},{\"key\":\"CAR\",\"count\":4},{\"key\":\"ITA\",\"count\":3},{\"key\":\"SOR\",\"count\":4},{\"key\":\"JAP\",\"count\":2},{\"key\":\"SAG\",\"count\":1},{\"key\":\"ALE\",\"count\":1},{\"key\":\"MER\",\"count\":1}],\"takeoutTime\":{\"min\":0,\"max\":75}}}'"
      ]
     },
     "metadata": {},
     "execution_count": 5
    }
   ],
   "source": [
    "response.text"
   ]
  },
  {
   "cell_type": "code",
   "execution_count": 6,
   "metadata": {},
   "outputs": [],
   "source": [
    "array = []\n",
    "n = 167\n",
    "for i in range(0,2):\n",
    "\n",
    "    r = requests.get(f'https://marketplace.ifood.com.br/v2/merchants?latitude=-16.6912533&longitude=-49.0845761&page={page}&channel=IFOOD&size={n}&features=&categories=&payment_types=&delivery_fee_from=0&delivery_fee_to=25&delivery_time_from=0&delivery_time_to=240')\n",
    "    js = json.loads(r.text)\n",
    "    array += js['merchants']\n"
   ]
  },
  {
   "cell_type": "code",
   "execution_count": 7,
   "metadata": {},
   "outputs": [],
   "source": [
    "array\n",
    "len(array)\n",
    "lojas = array"
   ]
  },
  {
   "cell_type": "code",
   "execution_count": 8,
   "metadata": {
    "tags": []
   },
   "outputs": [
    {
     "output_type": "execute_result",
     "data": {
      "text/plain": [
       "15.0"
      ]
     },
     "metadata": {},
     "execution_count": 8
    }
   ],
   "source": [
    "float(lojas[0]['minimumOrderValue'])"
   ]
  },
  {
   "cell_type": "code",
   "execution_count": 9,
   "metadata": {},
   "outputs": [],
   "source": [
    "def get_data(json) -> list:\n",
    "    '''\n",
    "    Função para pegar os dados da lista\n",
    "    '''\n",
    "    try:\n",
    "        id_ = json['id'].strip()\n",
    "    except:\n",
    "        id_ = ''\n",
    "\n",
    "    try:\n",
    "        nome = json['name'].strip()\n",
    "    except:\n",
    "        nome = ''\n",
    "    try:\n",
    "        resource = json['resources'][0]['fileName'].strip()\n",
    "    except:\n",
    "        resource = ''\n",
    "    try:\n",
    "        localizacao = json['slug'].split('/')[0].strip()\n",
    "    except:\n",
    "        localizacao = ''       \n",
    "    try:\n",
    "        categoria = json['mainCategory']['name'].strip()\n",
    "    except:\n",
    "        categoria = ''\n",
    "    try:\n",
    "        tx_delivery = json['deliveryFee']['value']\n",
    "    except:\n",
    "        tx_delivery = ''\n",
    "    try:\n",
    "        pedido_min = float(json['minimumOrderValue'])\n",
    "    except:\n",
    "        pedido_min = ''      \n",
    "\n",
    "    variaveis = locals()\n",
    "    variaveis.pop('json')\n",
    "\n",
    "    return variaveis.values()"
   ]
  },
  {
   "cell_type": "code",
   "execution_count": 10,
   "metadata": {},
   "outputs": [
    {
     "output_type": "execute_result",
     "data": {
      "text/plain": [
       "dict_values(['95c7c20a-728e-4984-b39c-035f6e291d2a', 'Gold Burger Sanduicheria', '95c7c20a-728e-4984-b39c-035f6e291d2a/201907261921_loke_.jpeg', 'senador-canedo-go', 'Lanches', 0.0, 15.0])"
      ]
     },
     "metadata": {},
     "execution_count": 10
    }
   ],
   "source": [
    "get_data(lojas[0])"
   ]
  },
  {
   "cell_type": "code",
   "execution_count": 13,
   "metadata": {},
   "outputs": [
    {
     "output_type": "execute_result",
     "data": {
      "text/plain": [
       "                                     id                      nome  \\\n",
       "0  95c7c20a-728e-4984-b39c-035f6e291d2a  Gold Burger Sanduicheria   \n",
       "1  b06ce7bd-6386-43d9-a785-4b3d9b577d8c              Nativos Açaí   \n",
       "2  3747779d-967e-4b49-8278-646e63a39dbf              Casa do Açaí   \n",
       "3  3591705c-1f61-4e17-8844-05dcc90362e0           Espetos Grill 🍖   \n",
       "4  cc4bdc76-656a-4670-8802-b023fae92378                 D Esfihas   \n",
       "\n",
       "                                            resource        localizacao  \\\n",
       "0  95c7c20a-728e-4984-b39c-035f6e291d2a/201907261...  senador-canedo-go   \n",
       "1  b06ce7bd-6386-43d9-a785-4b3d9b577d8c/202007251...  senador-canedo-go   \n",
       "2  3747779d-967e-4b49-8278-646e63a39dbf/202103092...  senador-canedo-go   \n",
       "3  3591705c-1f61-4e17-8844-05dcc90362e0/202012301...  senador-canedo-go   \n",
       "4  cc4bdc76-656a-4670-8802-b023fae92378/202009202...  senador-canedo-go   \n",
       "\n",
       "    categoria  tx_delivery pedido_minimo  \n",
       "0     Lanches          0.0            15  \n",
       "1        Açaí          0.0             8  \n",
       "2        Açaí          0.0            10  \n",
       "3  Brasileira          3.0            10  \n",
       "4     Lanches          5.0            10  "
      ],
      "text/html": "<div>\n<style scoped>\n    .dataframe tbody tr th:only-of-type {\n        vertical-align: middle;\n    }\n\n    .dataframe tbody tr th {\n        vertical-align: top;\n    }\n\n    .dataframe thead th {\n        text-align: right;\n    }\n</style>\n<table border=\"1\" class=\"dataframe\">\n  <thead>\n    <tr style=\"text-align: right;\">\n      <th></th>\n      <th>id</th>\n      <th>nome</th>\n      <th>resource</th>\n      <th>localizacao</th>\n      <th>categoria</th>\n      <th>tx_delivery</th>\n      <th>pedido_minimo</th>\n    </tr>\n  </thead>\n  <tbody>\n    <tr>\n      <th>0</th>\n      <td>95c7c20a-728e-4984-b39c-035f6e291d2a</td>\n      <td>Gold Burger Sanduicheria</td>\n      <td>95c7c20a-728e-4984-b39c-035f6e291d2a/201907261...</td>\n      <td>senador-canedo-go</td>\n      <td>Lanches</td>\n      <td>0.0</td>\n      <td>15</td>\n    </tr>\n    <tr>\n      <th>1</th>\n      <td>b06ce7bd-6386-43d9-a785-4b3d9b577d8c</td>\n      <td>Nativos Açaí</td>\n      <td>b06ce7bd-6386-43d9-a785-4b3d9b577d8c/202007251...</td>\n      <td>senador-canedo-go</td>\n      <td>Açaí</td>\n      <td>0.0</td>\n      <td>8</td>\n    </tr>\n    <tr>\n      <th>2</th>\n      <td>3747779d-967e-4b49-8278-646e63a39dbf</td>\n      <td>Casa do Açaí</td>\n      <td>3747779d-967e-4b49-8278-646e63a39dbf/202103092...</td>\n      <td>senador-canedo-go</td>\n      <td>Açaí</td>\n      <td>0.0</td>\n      <td>10</td>\n    </tr>\n    <tr>\n      <th>3</th>\n      <td>3591705c-1f61-4e17-8844-05dcc90362e0</td>\n      <td>Espetos Grill 🍖</td>\n      <td>3591705c-1f61-4e17-8844-05dcc90362e0/202012301...</td>\n      <td>senador-canedo-go</td>\n      <td>Brasileira</td>\n      <td>3.0</td>\n      <td>10</td>\n    </tr>\n    <tr>\n      <th>4</th>\n      <td>cc4bdc76-656a-4670-8802-b023fae92378</td>\n      <td>D Esfihas</td>\n      <td>cc4bdc76-656a-4670-8802-b023fae92378/202009202...</td>\n      <td>senador-canedo-go</td>\n      <td>Lanches</td>\n      <td>5.0</td>\n      <td>10</td>\n    </tr>\n  </tbody>\n</table>\n</div>"
     },
     "metadata": {},
     "execution_count": 13
    }
   ],
   "source": [
    "res = list()\n",
    "for json in lojas:\n",
    "    res.append(get_data(json))\n",
    "df = pd.DataFrame(res, columns=['id', 'nome', 'resource', 'localizacao', 'categoria', 'tx_delivery', 'pedido_minimo'])\n",
    "df.head()    "
   ]
  },
  {
   "cell_type": "code",
   "execution_count": 14,
   "metadata": {},
   "outputs": [],
   "source": [
    "url = 'https://static-images.ifood.com.br/image/upload/t_thumbnail/logosgde/'"
   ]
  },
  {
   "cell_type": "code",
   "execution_count": 15,
   "metadata": {},
   "outputs": [],
   "source": [
    "df['resource'] = df['resource'].apply(lambda x: url+x)"
   ]
  },
  {
   "cell_type": "code",
   "execution_count": 16,
   "metadata": {},
   "outputs": [
    {
     "output_type": "stream",
     "name": "stdout",
     "text": [
      "<class 'pandas.core.frame.DataFrame'>\nRangeIndex: 334 entries, 0 to 333\nData columns (total 7 columns):\n #   Column         Non-Null Count  Dtype  \n---  ------         --------------  -----  \n 0   id             334 non-null    object \n 1   nome           334 non-null    object \n 2   resource       334 non-null    object \n 3   localizacao    334 non-null    object \n 4   categoria      334 non-null    object \n 5   tx_delivery    334 non-null    float64\n 6   pedido_minimo  334 non-null    object \ndtypes: float64(1), object(6)\nmemory usage: 18.4+ KB\n"
     ]
    }
   ],
   "source": [
    "df.info()"
   ]
  },
  {
   "cell_type": "code",
   "execution_count": 17,
   "metadata": {},
   "outputs": [],
   "source": [
    "df['pedido_minimo'] = pd.to_numeric(df['pedido_minimo'], downcast='float')"
   ]
  },
  {
   "cell_type": "code",
   "execution_count": 18,
   "metadata": {},
   "outputs": [
    {
     "output_type": "stream",
     "name": "stdout",
     "text": [
      "<class 'pandas.core.frame.DataFrame'>\nRangeIndex: 334 entries, 0 to 333\nData columns (total 7 columns):\n #   Column         Non-Null Count  Dtype  \n---  ------         --------------  -----  \n 0   id             334 non-null    object \n 1   nome           334 non-null    object \n 2   resource       334 non-null    object \n 3   localizacao    334 non-null    object \n 4   categoria      334 non-null    object \n 5   tx_delivery    334 non-null    float64\n 6   pedido_minimo  332 non-null    float32\ndtypes: float32(1), float64(1), object(5)\nmemory usage: 17.1+ KB\n"
     ]
    }
   ],
   "source": [
    "df.info()"
   ]
  },
  {
   "cell_type": "code",
   "execution_count": 19,
   "metadata": {},
   "outputs": [],
   "source": [
    "def download_logos(id_: str, resource: str) -> None:\n",
    "    '''\n",
    "    Função para fazer download localmente das logos\n",
    "    '''\n",
    "    pics_path = 'pics'\n",
    "\n",
    "    if not os.path.exists(pics_path):\n",
    "        os.mkdir(pics_path)\n",
    "\n",
    "    posfix = resource.split('.')[-1]\n",
    "    file_name = f'{id_}.{posfix}'\n",
    "\n",
    "    file_path = os.path.join(os.getcwd(), pics_path, file_name)\n",
    "\n",
    "    try:\n",
    "        response = requests.get(resource)\n",
    "    except:\n",
    "        pass\n",
    "    else:\n",
    "        with open(file_path, 'wb') as f:\n",
    "            f.write(response.content)"
   ]
  },
  {
   "cell_type": "code",
   "execution_count": 20,
   "metadata": {},
   "outputs": [
    {
     "output_type": "execute_result",
     "data": {
      "text/plain": [
       "'d:\\\\Projetos\\\\Pessoais\\\\py\\\\python_intermediario'"
      ]
     },
     "metadata": {},
     "execution_count": 20
    }
   ],
   "source": [
    "os.getcwd()"
   ]
  },
  {
   "cell_type": "code",
   "execution_count": 21,
   "metadata": {},
   "outputs": [],
   "source": [
    "download_logos('teste', df.iloc[0].resource)"
   ]
  },
  {
   "cell_type": "code",
   "execution_count": 22,
   "metadata": {},
   "outputs": [],
   "source": [
    "for _, row in df.iterrows():\n",
    "    download_logos(row.id, row.resource)"
   ]
  },
  {
   "cell_type": "code",
   "execution_count": 23,
   "metadata": {},
   "outputs": [
    {
     "output_type": "execute_result",
     "data": {
      "text/plain": [
       "(334, 7)"
      ]
     },
     "metadata": {},
     "execution_count": 23
    }
   ],
   "source": [
    "df.shape"
   ]
  },
  {
   "cell_type": "code",
   "execution_count": 24,
   "metadata": {},
   "outputs": [],
   "source": [
    "df.to_csv('dados_lj.csv', index=False)"
   ]
  },
  {
   "cell_type": "code",
   "execution_count": null,
   "metadata": {},
   "outputs": [],
   "source": []
  }
 ]
}