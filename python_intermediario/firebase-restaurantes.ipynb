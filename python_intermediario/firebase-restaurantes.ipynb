{
 "metadata": {
  "language_info": {
   "codemirror_mode": {
    "name": "ipython",
    "version": 3
   },
   "file_extension": ".py",
   "mimetype": "text/x-python",
   "name": "python",
   "nbconvert_exporter": "python",
   "pygments_lexer": "ipython3",
   "version": "3.8.5"
  },
  "orig_nbformat": 2,
  "kernelspec": {
   "name": "python3",
   "display_name": "Python 3.8.5 64-bit ('base': conda)"
  },
  "interpreter": {
   "hash": "c9ac96ecdbd0bc9af86bc43b03465688350896f5289c88a63f86f204affded0e"
  }
 },
 "nbformat": 4,
 "nbformat_minor": 2,
 "cells": [
  {
   "cell_type": "code",
   "execution_count": 7,
   "metadata": {},
   "outputs": [],
   "source": [
    "import pandas as pd\n",
    "import os\n",
    "\n",
    "import firebase_admin\n",
    "from firebase_admin import credentials, firestore"
   ]
  },
  {
   "cell_type": "code",
   "execution_count": 2,
   "metadata": {},
   "outputs": [],
   "source": [
    "json_key = './fire/firebase-config.json'"
   ]
  },
  {
   "cell_type": "code",
   "execution_count": 3,
   "metadata": {},
   "outputs": [
    {
     "output_type": "execute_result",
     "data": {
      "text/plain": [
       "<firebase_admin.App at 0x1eae9f0c310>"
      ]
     },
     "metadata": {},
     "execution_count": 3
    }
   ],
   "source": [
    "cred = credentials.Certificate(json_key)\n",
    "\n",
    "firebase_admin.initialize_app(cred,\n",
    "                            {'storageBucket': 'gs://teste-restaurantes.appspot.com',\n",
    "                            'projectId': 'teste-restaurantes'}\n",
    "                            )"
   ]
  },
  {
   "cell_type": "code",
   "execution_count": 4,
   "metadata": {},
   "outputs": [],
   "source": [
    "df = pd.read_csv('dados_lj.csv')"
   ]
  },
  {
   "cell_type": "code",
   "execution_count": 5,
   "metadata": {},
   "outputs": [
    {
     "output_type": "execute_result",
     "data": {
      "text/plain": [
       "                                     id                      nome  \\\n",
       "0  95c7c20a-728e-4984-b39c-035f6e291d2a  Gold Burger Sanduicheria   \n",
       "1  b06ce7bd-6386-43d9-a785-4b3d9b577d8c              Nativos Açaí   \n",
       "2  3747779d-967e-4b49-8278-646e63a39dbf              Casa do Açaí   \n",
       "3  3591705c-1f61-4e17-8844-05dcc90362e0           Espetos Grill 🍖   \n",
       "4  cc4bdc76-656a-4670-8802-b023fae92378                 D Esfihas   \n",
       "\n",
       "                                            resource        localizacao  \\\n",
       "0  https://static-images.ifood.com.br/image/uploa...  senador-canedo-go   \n",
       "1  https://static-images.ifood.com.br/image/uploa...  senador-canedo-go   \n",
       "2  https://static-images.ifood.com.br/image/uploa...  senador-canedo-go   \n",
       "3  https://static-images.ifood.com.br/image/uploa...  senador-canedo-go   \n",
       "4  https://static-images.ifood.com.br/image/uploa...  senador-canedo-go   \n",
       "\n",
       "    categoria  tx_delivery  pedido_minimo  \n",
       "0     Lanches          0.0           15.0  \n",
       "1        Açaí          0.0            8.0  \n",
       "2        Açaí          0.0           10.0  \n",
       "3  Brasileira          3.0           10.0  \n",
       "4     Lanches          5.0           10.0  "
      ],
      "text/html": "<div>\n<style scoped>\n    .dataframe tbody tr th:only-of-type {\n        vertical-align: middle;\n    }\n\n    .dataframe tbody tr th {\n        vertical-align: top;\n    }\n\n    .dataframe thead th {\n        text-align: right;\n    }\n</style>\n<table border=\"1\" class=\"dataframe\">\n  <thead>\n    <tr style=\"text-align: right;\">\n      <th></th>\n      <th>id</th>\n      <th>nome</th>\n      <th>resource</th>\n      <th>localizacao</th>\n      <th>categoria</th>\n      <th>tx_delivery</th>\n      <th>pedido_minimo</th>\n    </tr>\n  </thead>\n  <tbody>\n    <tr>\n      <th>0</th>\n      <td>95c7c20a-728e-4984-b39c-035f6e291d2a</td>\n      <td>Gold Burger Sanduicheria</td>\n      <td>https://static-images.ifood.com.br/image/uploa...</td>\n      <td>senador-canedo-go</td>\n      <td>Lanches</td>\n      <td>0.0</td>\n      <td>15.0</td>\n    </tr>\n    <tr>\n      <th>1</th>\n      <td>b06ce7bd-6386-43d9-a785-4b3d9b577d8c</td>\n      <td>Nativos Açaí</td>\n      <td>https://static-images.ifood.com.br/image/uploa...</td>\n      <td>senador-canedo-go</td>\n      <td>Açaí</td>\n      <td>0.0</td>\n      <td>8.0</td>\n    </tr>\n    <tr>\n      <th>2</th>\n      <td>3747779d-967e-4b49-8278-646e63a39dbf</td>\n      <td>Casa do Açaí</td>\n      <td>https://static-images.ifood.com.br/image/uploa...</td>\n      <td>senador-canedo-go</td>\n      <td>Açaí</td>\n      <td>0.0</td>\n      <td>10.0</td>\n    </tr>\n    <tr>\n      <th>3</th>\n      <td>3591705c-1f61-4e17-8844-05dcc90362e0</td>\n      <td>Espetos Grill 🍖</td>\n      <td>https://static-images.ifood.com.br/image/uploa...</td>\n      <td>senador-canedo-go</td>\n      <td>Brasileira</td>\n      <td>3.0</td>\n      <td>10.0</td>\n    </tr>\n    <tr>\n      <th>4</th>\n      <td>cc4bdc76-656a-4670-8802-b023fae92378</td>\n      <td>D Esfihas</td>\n      <td>https://static-images.ifood.com.br/image/uploa...</td>\n      <td>senador-canedo-go</td>\n      <td>Lanches</td>\n      <td>5.0</td>\n      <td>10.0</td>\n    </tr>\n  </tbody>\n</table>\n</div>"
     },
     "metadata": {},
     "execution_count": 5
    }
   ],
   "source": [
    "df.head()"
   ]
  },
  {
   "cell_type": "code",
   "execution_count": 8,
   "metadata": {},
   "outputs": [],
   "source": [
    "db = firestore.client()"
   ]
  },
  {
   "cell_type": "code",
   "execution_count": 9,
   "metadata": {},
   "outputs": [],
   "source": [
    "colecao = 'restaurantes'"
   ]
  },
  {
   "cell_type": "code",
   "execution_count": 10,
   "metadata": {},
   "outputs": [],
   "source": [
    "def put_data(colection: str, df: pd.DataFrame) -> None:\n",
    "    '''\n",
    "    Function to put data on cloud firestore\n",
    "    '''\n",
    "    try:\n",
    "        doc_ref = db.collection(colection)\n",
    "\n",
    "        rows = df.to_dict(orient='records')\n",
    "        list(map(lambda x: doc_ref.add(x), rows))\n",
    "\n",
    "    except Exception as e:\n",
    "        print(e)"
   ]
  },
  {
   "cell_type": "code",
   "execution_count": 11,
   "metadata": {},
   "outputs": [
    {
     "output_type": "error",
     "ename": "TypeError",
     "evalue": "put_data() missing 1 required positional argument: 'df'",
     "traceback": [
      "\u001b[1;31m---------------------------------------------------------------------------\u001b[0m",
      "\u001b[1;31mTypeError\u001b[0m                                 Traceback (most recent call last)",
      "\u001b[1;32m<ipython-input-11-1658869cd758>\u001b[0m in \u001b[0;36m<module>\u001b[1;34m\u001b[0m\n\u001b[1;32m----> 1\u001b[1;33m \u001b[0mput_data\u001b[0m\u001b[1;33m(\u001b[0m\u001b[0mcolecao\u001b[0m\u001b[1;33m)\u001b[0m\u001b[1;33m\u001b[0m\u001b[1;33m\u001b[0m\u001b[0m\n\u001b[0m",
      "\u001b[1;31mTypeError\u001b[0m: put_data() missing 1 required positional argument: 'df'"
     ]
    }
   ],
   "source": [
    "put_data(colecao, df)"
   ]
  },
  {
   "cell_type": "code",
   "execution_count": null,
   "metadata": {},
   "outputs": [],
   "source": []
  }
 ]
}