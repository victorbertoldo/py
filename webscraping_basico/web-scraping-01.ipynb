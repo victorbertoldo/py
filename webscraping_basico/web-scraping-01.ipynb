{
 "metadata": {
  "language_info": {
   "codemirror_mode": {
    "name": "ipython",
    "version": 3
   },
   "file_extension": ".py",
   "mimetype": "text/x-python",
   "name": "python",
   "nbconvert_exporter": "python",
   "pygments_lexer": "ipython3",
   "version": "3.8.5"
  },
  "orig_nbformat": 4,
  "kernelspec": {
   "name": "python3",
   "display_name": "Python 3.8.5 64-bit ('base': conda)"
  },
  "interpreter": {
   "hash": "c9ac96ecdbd0bc9af86bc43b03465688350896f5289c88a63f86f204affded0e"
  }
 },
 "nbformat": 4,
 "nbformat_minor": 2,
 "cells": [
  {
   "cell_type": "code",
   "execution_count": 1,
   "metadata": {},
   "outputs": [],
   "source": [
    "from bs4 import BeautifulSoup as bs\n",
    "import requests as rq\n",
    "import re"
   ]
  },
  {
   "cell_type": "code",
   "execution_count": 2,
   "metadata": {},
   "outputs": [],
   "source": [
    "html_complete = rq.get(\"https://webscraping.andreregino.com.br\")\n",
    "html_formated = bs(html_complete.content)"
   ]
  },
  {
   "cell_type": "code",
   "execution_count": 6,
   "metadata": {},
   "outputs": [
    {
     "output_type": "stream",
     "name": "stdout",
     "text": [
      "<ul class=\"key-points-list list-unstyled mb-4 mx-auto d-inline-block text-left\">\n<li><i class=\"fas fa-check-circle mr-2\"></i>Instalação do Git e Criação de Conta no GitHub</li>\n<li><i class=\"fas fa-check-circle mr-2\"></i>Adicionar, Excluir e Listar  Modificações de Código</li>\n<li><i class=\"fas fa-check-circle mr-2\"></i>Receber, Enviar, Verificar e Resetar Modificações de Código</li>\n<li><i class=\"fas fa-check-circle mr-2\"></i>Lidar com Conflitos e Clonar Projetos Públicos</li>\n</ul>\n\n <li><i class=\"fas fa-check-circle mr-2\"></i>Instalação do Git e Criação de Conta no GitHub</li>\n"
     ]
    }
   ],
   "source": [
    "# getting 'li', these are elements of a list on html\n",
    "element = html_formated.find(\"section\", class_=\"content-section\").ul\n",
    "\n",
    "print(element)\n",
    "print('\\n', element.li)\n"
   ]
  },
  {
   "source": [
    "### As we can see above, using .li to navigate and expand elements, we get only the first one. But, what if we wont to get a 4th element? How can we do?\n"
   ],
   "cell_type": "markdown",
   "metadata": {}
  },
  {
   "cell_type": "code",
   "execution_count": 8,
   "metadata": {},
   "outputs": [
    {
     "output_type": "execute_result",
     "data": {
      "text/plain": [
       "[<li><i class=\"fas fa-check-circle mr-2\"></i>Lidar com Conflitos e Clonar Projetos Públicos</li>]"
      ]
     },
     "metadata": {},
     "execution_count": 8
    }
   ],
   "source": [
    "# On select method from bs4 when we wont to get a class we uses a dot (.) before the name\n",
    "# On select method from bs4 when we wont to get a id we uses a hashtag (#) before the name\n",
    "# When we wont another thing we just give a space\n",
    "# And to get a enumerade object like a 'li' we have to use a css selector, on this case we use 'nth-of-type' with enumerate \n",
    "# here we have a list of it https://www.w3schools.com/cssref/css_selectors.asp\n",
    "fourth_element = html_formated.select(\".content-section ul li:nth-of-type(4)\")\n",
    "fourth_element"
   ]
  },
  {
   "cell_type": "code",
   "execution_count": null,
   "metadata": {},
   "outputs": [],
   "source": []
  }
 ]
}