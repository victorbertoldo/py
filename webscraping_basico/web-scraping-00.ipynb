{
 "metadata": {
  "language_info": {
   "codemirror_mode": {
    "name": "ipython",
    "version": 3
   },
   "file_extension": ".py",
   "mimetype": "text/x-python",
   "name": "python",
   "nbconvert_exporter": "python",
   "pygments_lexer": "ipython3",
   "version": "3.8.5"
  },
  "orig_nbformat": 4,
  "kernelspec": {
   "name": "python3",
   "display_name": "Python 3.8.5 64-bit ('base': conda)"
  },
  "interpreter": {
   "hash": "c9ac96ecdbd0bc9af86bc43b03465688350896f5289c88a63f86f204affded0e"
  }
 },
 "nbformat": 4,
 "nbformat_minor": 2,
 "cells": [
  {
   "cell_type": "code",
   "execution_count": 35,
   "metadata": {},
   "outputs": [],
   "source": [
    "from bs4 import BeautifulSoup as bs\n",
    "import requests as rq\n",
    "import re"
   ]
  },
  {
   "cell_type": "code",
   "execution_count": 6,
   "metadata": {},
   "outputs": [],
   "source": [
    "html_complete = rq.get(\"https://webscraping.andreregino.com.br\")\n",
    "html_formated = bs(html_complete.content)\n",
    "#print(html_formated.prettify()) # to show it on more legible way"
   ]
  },
  {
   "cell_type": "code",
   "execution_count": 12,
   "metadata": {},
   "outputs": [
    {
     "output_type": "stream",
     "name": "stdout",
     "text": [
      "Para que aprender Git?\n"
     ]
    }
   ],
   "source": [
    "# to see only de text on page we can use the 'text' method\n",
    "first_h2 = html_formated.find(\"h2\").text\n",
    "print(first_h2)"
   ]
  },
  {
   "cell_type": "code",
   "execution_count": 17,
   "metadata": {},
   "outputs": [
    {
     "output_type": "stream",
     "name": "stdout",
     "text": [
      "Para que aprender Git?\nPara que aprender GitHub?\nQuais os Benefícios deste E-book?\nQuais os Tópicos?\nQuais os Tópicos?\nPara Quem é Esse Livro\nQuais os Pré Requisitos\nReviews\nSobre o Autor\nInvestimento\n"
     ]
    }
   ],
   "source": [
    "# but the find() only returns first ref that we search. \n",
    "# What if we could be returning all of it\n",
    "all_h2 = html_formated.find_all(\"h2\")\n",
    "\n",
    "for i in all_h2:\n",
    "    print(i.text)"
   ]
  },
  {
   "cell_type": "code",
   "execution_count": 18,
   "metadata": {},
   "outputs": [
    {
     "output_type": "stream",
     "name": "stdout",
     "text": [
      "\n\t\t\t\t\t\t    E-book Git e GitHubSeu Código Versionado\n\t\t\t\t\t    \nPara que aprender Git?\nPara que aprender GitHub?\nQuais os Benefícios deste E-book?\nQuais os Tópicos?\nQuais os Tópicos?\nPara Quem é Esse Livro\nQuais os Pré Requisitos\nReviews\nSobre o Autor\nInvestimento\n4x de R$9,90\n"
     ]
    }
   ],
   "source": [
    "# finding more than one\n",
    "all_h = html_formated.find_all([\"h2\", \"h1\"])\n",
    "\n",
    "for i in all_h:\n",
    "    print(i.text)"
   ]
  },
  {
   "source": [
    "### Getting content with Class and Ids"
   ],
   "cell_type": "markdown",
   "metadata": {}
  },
  {
   "cell_type": "code",
   "execution_count": 25,
   "metadata": {},
   "outputs": [
    {
     "output_type": "stream",
     "name": "stdout",
     "text": [
      "[<h1 class=\"card-title pricing-card-title\"><small class=\"text-muted\">4x de </small><span style=\"color: green\">R$9,90</span></h1>]\n\n <section class=\"pre-requisite-section\" id=\"pre-requisite-section\">\n<div class=\"container\">\n<div class=\"lead-form-wrapper single-col-max mx-auto theme-bg-light rounded p-5\">\n<h2 class=\"form-heading text-center\">Quais os Pré Requisitos</h2>\n<div class=\"form-intro text-center mb-3\">Nenhum, somente sua vontade de aprender.</div>\n</div><!--//lead-form-wrapper-->\n</div><!--//container-->\n</section>\n"
     ]
    }
   ],
   "source": [
    "# class can return 1 or more, but Id will return only one, because Ids are unique\n",
    "price = html_formated.find_all(class_='card-title pricing-card-title')\n",
    "print(price)\n",
    "\n",
    "pre_req = html_formated.find(id='pre-requisite-section')\n",
    "print('\\n',pre_req)"
   ]
  },
  {
   "source": [
    "### Getting content with text filter and regex (re lib)"
   ],
   "cell_type": "markdown",
   "metadata": {}
  },
  {
   "cell_type": "code",
   "execution_count": 40,
   "metadata": {},
   "outputs": [
    {
     "output_type": "stream",
     "name": "stdout",
     "text": [
      "<h2 class=\"section-heading text-center mb-3\">Quais os Benefícios deste E-book?</h2>\n<h2 class=\"section-heading text-center mb-5\">Quais os Tópicos?</h2>\n<h2 class=\"section-heading text-center mb-5\">Quais os Tópicos?</h2>\n<h2 class=\"form-heading text-center\">Quais os Pré Requisitos</h2>\n"
     ]
    }
   ],
   "source": [
    "whitch_h2 = html_formated.find_all(\"h2\", text=re.compile(\"Quais\"))\n",
    "for i in whitch_h2:\n",
    "    print(i)"
   ]
  },
  {
   "cell_type": "code",
   "execution_count": 44,
   "metadata": {},
   "outputs": [
    {
     "output_type": "execute_result",
     "data": {
      "text/plain": [
       "'https://payment.hotmart.com/R54638781B?checkoutMode=10'"
      ]
     },
     "metadata": {},
     "execution_count": 44
    }
   ],
   "source": [
    "button = html_formated.find(class_=\"price\").a\n",
    "button['href']"
   ]
  },
  {
   "cell_type": "code",
   "execution_count": 46,
   "metadata": {},
   "outputs": [
    {
     "output_type": "execute_result",
     "data": {
      "text/plain": [
       "'assets/images/capa-ebook-git-github.png'"
      ]
     },
     "metadata": {},
     "execution_count": 46
    }
   ],
   "source": [
    "image = html_formated.find(\"img\")\n",
    "image['src']"
   ]
  },
  {
   "cell_type": "code",
   "execution_count": null,
   "metadata": {},
   "outputs": [],
   "source": []
  }
 ]
}