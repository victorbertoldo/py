{
 "cells": [
  {
   "cell_type": "markdown",
   "metadata": {},
   "source": []
  },
  {
   "cell_type": "code",
   "execution_count": 1,
   "metadata": {},
   "outputs": [],
   "source": [
    "import pandas as pd\n",
    "import numpy as np"
   ]
  },
  {
   "cell_type": "code",
   "execution_count": 2,
   "metadata": {},
   "outputs": [],
   "source": [
    "datas = pd.date_range('20200101', periods=6)\n",
    "\n",
    "df = pd.DataFrame(np.random.randn(6, 4), index=datas, columns=['Var_A', 'Var_B', 'Var_C', 'Var_D'])"
   ]
  },
  {
   "cell_type": "code",
   "execution_count": 3,
   "metadata": {},
   "outputs": [
    {
     "data": {
      "text/html": [
       "<div>\n",
       "<style scoped>\n",
       "    .dataframe tbody tr th:only-of-type {\n",
       "        vertical-align: middle;\n",
       "    }\n",
       "\n",
       "    .dataframe tbody tr th {\n",
       "        vertical-align: top;\n",
       "    }\n",
       "\n",
       "    .dataframe thead th {\n",
       "        text-align: right;\n",
       "    }\n",
       "</style>\n",
       "<table border=\"1\" class=\"dataframe\">\n",
       "  <thead>\n",
       "    <tr style=\"text-align: right;\">\n",
       "      <th></th>\n",
       "      <th>Var_A</th>\n",
       "      <th>Var_B</th>\n",
       "      <th>Var_C</th>\n",
       "      <th>Var_D</th>\n",
       "    </tr>\n",
       "  </thead>\n",
       "  <tbody>\n",
       "    <tr>\n",
       "      <th>2020-01-01</th>\n",
       "      <td>1.462615</td>\n",
       "      <td>-0.285293</td>\n",
       "      <td>0.919391</td>\n",
       "      <td>1.163474</td>\n",
       "    </tr>\n",
       "    <tr>\n",
       "      <th>2020-01-02</th>\n",
       "      <td>0.055746</td>\n",
       "      <td>0.438836</td>\n",
       "      <td>0.079301</td>\n",
       "      <td>0.683052</td>\n",
       "    </tr>\n",
       "    <tr>\n",
       "      <th>2020-01-03</th>\n",
       "      <td>0.565101</td>\n",
       "      <td>-0.881466</td>\n",
       "      <td>0.417141</td>\n",
       "      <td>0.484943</td>\n",
       "    </tr>\n",
       "    <tr>\n",
       "      <th>2020-01-04</th>\n",
       "      <td>0.232900</td>\n",
       "      <td>1.457195</td>\n",
       "      <td>0.552843</td>\n",
       "      <td>-0.551849</td>\n",
       "    </tr>\n",
       "    <tr>\n",
       "      <th>2020-01-05</th>\n",
       "      <td>0.004785</td>\n",
       "      <td>-1.449325</td>\n",
       "      <td>0.077949</td>\n",
       "      <td>-0.308681</td>\n",
       "    </tr>\n",
       "    <tr>\n",
       "      <th>2020-01-06</th>\n",
       "      <td>0.378662</td>\n",
       "      <td>1.185189</td>\n",
       "      <td>-0.519344</td>\n",
       "      <td>0.756860</td>\n",
       "    </tr>\n",
       "  </tbody>\n",
       "</table>\n",
       "</div>"
      ],
      "text/plain": [
       "               Var_A     Var_B     Var_C     Var_D\n",
       "2020-01-01  1.462615 -0.285293  0.919391  1.163474\n",
       "2020-01-02  0.055746  0.438836  0.079301  0.683052\n",
       "2020-01-03  0.565101 -0.881466  0.417141  0.484943\n",
       "2020-01-04  0.232900  1.457195  0.552843 -0.551849\n",
       "2020-01-05  0.004785 -1.449325  0.077949 -0.308681\n",
       "2020-01-06  0.378662  1.185189 -0.519344  0.756860"
      ]
     },
     "execution_count": 3,
     "metadata": {},
     "output_type": "execute_result"
    }
   ],
   "source": [
    "df"
   ]
  },
  {
   "cell_type": "code",
   "execution_count": 7,
   "metadata": {},
   "outputs": [
    {
     "data": {
      "text/html": [
       "<div>\n",
       "<style scoped>\n",
       "    .dataframe tbody tr th:only-of-type {\n",
       "        vertical-align: middle;\n",
       "    }\n",
       "\n",
       "    .dataframe tbody tr th {\n",
       "        vertical-align: top;\n",
       "    }\n",
       "\n",
       "    .dataframe thead th {\n",
       "        text-align: right;\n",
       "    }\n",
       "</style>\n",
       "<table border=\"1\" class=\"dataframe\">\n",
       "  <thead>\n",
       "    <tr style=\"text-align: right;\">\n",
       "      <th></th>\n",
       "      <th>2020-01-01</th>\n",
       "      <th>2020-01-02</th>\n",
       "      <th>2020-01-03</th>\n",
       "      <th>2020-01-04</th>\n",
       "      <th>2020-01-05</th>\n",
       "      <th>2020-01-06</th>\n",
       "    </tr>\n",
       "  </thead>\n",
       "  <tbody>\n",
       "    <tr>\n",
       "      <th>Var_A</th>\n",
       "      <td>1.462615</td>\n",
       "      <td>0.055746</td>\n",
       "      <td>0.565101</td>\n",
       "      <td>0.232900</td>\n",
       "      <td>0.004785</td>\n",
       "      <td>0.378662</td>\n",
       "    </tr>\n",
       "    <tr>\n",
       "      <th>Var_B</th>\n",
       "      <td>-0.285293</td>\n",
       "      <td>0.438836</td>\n",
       "      <td>-0.881466</td>\n",
       "      <td>1.457195</td>\n",
       "      <td>-1.449325</td>\n",
       "      <td>1.185189</td>\n",
       "    </tr>\n",
       "    <tr>\n",
       "      <th>Var_C</th>\n",
       "      <td>0.919391</td>\n",
       "      <td>0.079301</td>\n",
       "      <td>0.417141</td>\n",
       "      <td>0.552843</td>\n",
       "      <td>0.077949</td>\n",
       "      <td>-0.519344</td>\n",
       "    </tr>\n",
       "    <tr>\n",
       "      <th>Var_D</th>\n",
       "      <td>1.163474</td>\n",
       "      <td>0.683052</td>\n",
       "      <td>0.484943</td>\n",
       "      <td>-0.551849</td>\n",
       "      <td>-0.308681</td>\n",
       "      <td>0.756860</td>\n",
       "    </tr>\n",
       "  </tbody>\n",
       "</table>\n",
       "</div>"
      ],
      "text/plain": [
       "       2020-01-01  2020-01-02  2020-01-03  2020-01-04  2020-01-05  2020-01-06\n",
       "Var_A    1.462615    0.055746    0.565101    0.232900    0.004785    0.378662\n",
       "Var_B   -0.285293    0.438836   -0.881466    1.457195   -1.449325    1.185189\n",
       "Var_C    0.919391    0.079301    0.417141    0.552843    0.077949   -0.519344\n",
       "Var_D    1.163474    0.683052    0.484943   -0.551849   -0.308681    0.756860"
      ]
     },
     "execution_count": 7,
     "metadata": {},
     "output_type": "execute_result"
    }
   ],
   "source": [
    "df_T = df.T\n",
    "df_T"
   ]
  },
  {
   "cell_type": "code",
   "execution_count": 8,
   "metadata": {},
   "outputs": [
    {
     "data": {
      "text/plain": [
       "(6, 4)"
      ]
     },
     "execution_count": 8,
     "metadata": {},
     "output_type": "execute_result"
    }
   ],
   "source": [
    "df.shape"
   ]
  },
  {
   "cell_type": "code",
   "execution_count": 9,
   "metadata": {},
   "outputs": [
    {
     "data": {
      "text/plain": [
       "(4, 6)"
      ]
     },
     "execution_count": 9,
     "metadata": {},
     "output_type": "execute_result"
    }
   ],
   "source": [
    "df_T.shape"
   ]
  },
  {
   "cell_type": "code",
   "execution_count": 10,
   "metadata": {},
   "outputs": [
    {
     "data": {
      "text/plain": [
       "array([[ 1.46261464,  0.05574624,  0.56510094,  0.23290046,  0.00478484,\n",
       "         0.37866241],\n",
       "       [-0.28529289,  0.43883587, -0.88146614,  1.45719519, -1.44932542,\n",
       "         1.18518857],\n",
       "       [ 0.91939145,  0.07930137,  0.417141  ,  0.55284303,  0.07794877,\n",
       "        -0.51934367],\n",
       "       [ 1.16347356,  0.68305238,  0.48494313, -0.55184906, -0.3086812 ,\n",
       "         0.75685954]])"
      ]
     },
     "execution_count": 10,
     "metadata": {},
     "output_type": "execute_result"
    }
   ],
   "source": [
    "df_T.values"
   ]
  },
  {
   "cell_type": "code",
   "execution_count": 11,
   "metadata": {},
   "outputs": [],
   "source": [
    "v = df_T.values"
   ]
  },
  {
   "cell_type": "code",
   "execution_count": 13,
   "metadata": {},
   "outputs": [
    {
     "data": {
      "text/plain": [
       "24"
      ]
     },
     "execution_count": 13,
     "metadata": {},
     "output_type": "execute_result"
    }
   ],
   "source": [
    "np.size(v)"
   ]
  },
  {
   "cell_type": "markdown",
   "metadata": {},
   "source": [
    "### Realizando a transformação do dado"
   ]
  },
  {
   "cell_type": "code",
   "execution_count": 14,
   "metadata": {},
   "outputs": [
    {
     "data": {
      "text/plain": [
       "array([[ 1.46261464,  0.05574624,  0.56510094,  0.23290046,  0.00478484,\n",
       "         0.37866241, -0.28529289,  0.43883587, -0.88146614,  1.45719519,\n",
       "        -1.44932542,  1.18518857],\n",
       "       [ 0.91939145,  0.07930137,  0.417141  ,  0.55284303,  0.07794877,\n",
       "        -0.51934367,  1.16347356,  0.68305238,  0.48494313, -0.55184906,\n",
       "        -0.3086812 ,  0.75685954]])"
      ]
     },
     "execution_count": 14,
     "metadata": {},
     "output_type": "execute_result"
    }
   ],
   "source": [
    "v.reshape((2,12))"
   ]
  },
  {
   "cell_type": "code",
   "execution_count": 15,
   "metadata": {},
   "outputs": [
    {
     "data": {
      "text/plain": [
       "array([[ 1.46261464,  0.05574624,  0.56510094,  0.23290046,  0.00478484,\n",
       "         0.37866241],\n",
       "       [-0.28529289,  0.43883587, -0.88146614,  1.45719519, -1.44932542,\n",
       "         1.18518857],\n",
       "       [ 0.91939145,  0.07930137,  0.417141  ,  0.55284303,  0.07794877,\n",
       "        -0.51934367],\n",
       "       [ 1.16347356,  0.68305238,  0.48494313, -0.55184906, -0.3086812 ,\n",
       "         0.75685954]])"
      ]
     },
     "execution_count": 15,
     "metadata": {},
     "output_type": "execute_result"
    }
   ],
   "source": [
    "v.reshape((4,6))"
   ]
  },
  {
   "cell_type": "code",
   "execution_count": null,
   "metadata": {},
   "outputs": [],
   "source": []
  }
 ],
 "metadata": {
  "kernelspec": {
   "display_name": "Python 3.7.6 64-bit ('scripts-py': conda)",
   "language": "python",
   "name": "python37664bitscriptspyconda4c8432764c9244a194ddb1f2cad01aa7"
  },
  "language_info": {
   "codemirror_mode": {
    "name": "ipython",
    "version": 3
   },
   "file_extension": ".py",
   "mimetype": "text/x-python",
   "name": "python",
   "nbconvert_exporter": "python",
   "pygments_lexer": "ipython3",
   "version": "3.7.6"
  }
 },
 "nbformat": 4,
 "nbformat_minor": 2
}
