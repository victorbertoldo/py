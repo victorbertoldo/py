{
 "cells": [
  {
   "cell_type": "code",
   "execution_count": 1,
   "metadata": {},
   "outputs": [],
   "source": [
    "import numpy as np\n",
    "import pandas as pd"
   ]
  },
  {
   "cell_type": "markdown",
   "metadata": {},
   "source": [
    "# Gerando um dataframe maior"
   ]
  },
  {
   "cell_type": "code",
   "execution_count": 3,
   "metadata": {},
   "outputs": [],
   "source": [
    "datas = pd.date_range('20200101', periods = 60, freq=\"D\") # desta forma irá gerar 60 linhas \n",
    "\n",
    "df = pd.DataFrame(np.random.randn(60,5), index = datas, columns = list(\"ABCDE\"))"
   ]
  },
  {
   "cell_type": "markdown",
   "metadata": {},
   "source": [
    "#### Qtd de linhas e colunas do DataFrame"
   ]
  },
  {
   "cell_type": "code",
   "execution_count": 5,
   "metadata": {},
   "outputs": [
    {
     "data": {
      "text/plain": [
       "(60, 5)"
      ]
     },
     "execution_count": 5,
     "metadata": {},
     "output_type": "execute_result"
    }
   ],
   "source": [
    "df.shape"
   ]
  },
  {
   "cell_type": "code",
   "execution_count": 6,
   "metadata": {},
   "outputs": [
    {
     "data": {
      "text/html": [
       "<div>\n",
       "<style scoped>\n",
       "    .dataframe tbody tr th:only-of-type {\n",
       "        vertical-align: middle;\n",
       "    }\n",
       "\n",
       "    .dataframe tbody tr th {\n",
       "        vertical-align: top;\n",
       "    }\n",
       "\n",
       "    .dataframe thead th {\n",
       "        text-align: right;\n",
       "    }\n",
       "</style>\n",
       "<table border=\"1\" class=\"dataframe\">\n",
       "  <thead>\n",
       "    <tr style=\"text-align: right;\">\n",
       "      <th></th>\n",
       "      <th>A</th>\n",
       "      <th>B</th>\n",
       "      <th>C</th>\n",
       "      <th>D</th>\n",
       "      <th>E</th>\n",
       "    </tr>\n",
       "  </thead>\n",
       "  <tbody>\n",
       "    <tr>\n",
       "      <th>2020-01-01</th>\n",
       "      <td>0.312335</td>\n",
       "      <td>-1.857820</td>\n",
       "      <td>0.079510</td>\n",
       "      <td>-1.254958</td>\n",
       "      <td>-0.701024</td>\n",
       "    </tr>\n",
       "    <tr>\n",
       "      <th>2020-01-02</th>\n",
       "      <td>-1.079757</td>\n",
       "      <td>-0.281823</td>\n",
       "      <td>0.015584</td>\n",
       "      <td>-1.389458</td>\n",
       "      <td>-0.687168</td>\n",
       "    </tr>\n",
       "    <tr>\n",
       "      <th>2020-01-03</th>\n",
       "      <td>-0.212579</td>\n",
       "      <td>-0.207260</td>\n",
       "      <td>-0.379821</td>\n",
       "      <td>0.752350</td>\n",
       "      <td>0.000577</td>\n",
       "    </tr>\n",
       "    <tr>\n",
       "      <th>2020-01-04</th>\n",
       "      <td>-0.699804</td>\n",
       "      <td>-1.025902</td>\n",
       "      <td>-0.202052</td>\n",
       "      <td>-1.745956</td>\n",
       "      <td>-0.392921</td>\n",
       "    </tr>\n",
       "    <tr>\n",
       "      <th>2020-01-05</th>\n",
       "      <td>0.277698</td>\n",
       "      <td>-0.411488</td>\n",
       "      <td>-0.426055</td>\n",
       "      <td>1.206849</td>\n",
       "      <td>-0.152562</td>\n",
       "    </tr>\n",
       "  </tbody>\n",
       "</table>\n",
       "</div>"
      ],
      "text/plain": [
       "                   A         B         C         D         E\n",
       "2020-01-01  0.312335 -1.857820  0.079510 -1.254958 -0.701024\n",
       "2020-01-02 -1.079757 -0.281823  0.015584 -1.389458 -0.687168\n",
       "2020-01-03 -0.212579 -0.207260 -0.379821  0.752350  0.000577\n",
       "2020-01-04 -0.699804 -1.025902 -0.202052 -1.745956 -0.392921\n",
       "2020-01-05  0.277698 -0.411488 -0.426055  1.206849 -0.152562"
      ]
     },
     "execution_count": 6,
     "metadata": {},
     "output_type": "execute_result"
    }
   ],
   "source": [
    "df.head()"
   ]
  },
  {
   "cell_type": "markdown",
   "metadata": {},
   "source": [
    "### Adicionando colunas ao DataFrame"
   ]
  },
  {
   "cell_type": "code",
   "execution_count": 7,
   "metadata": {},
   "outputs": [],
   "source": [
    "df['F'] = 1"
   ]
  },
  {
   "cell_type": "code",
   "execution_count": 8,
   "metadata": {},
   "outputs": [
    {
     "data": {
      "text/html": [
       "<div>\n",
       "<style scoped>\n",
       "    .dataframe tbody tr th:only-of-type {\n",
       "        vertical-align: middle;\n",
       "    }\n",
       "\n",
       "    .dataframe tbody tr th {\n",
       "        vertical-align: top;\n",
       "    }\n",
       "\n",
       "    .dataframe thead th {\n",
       "        text-align: right;\n",
       "    }\n",
       "</style>\n",
       "<table border=\"1\" class=\"dataframe\">\n",
       "  <thead>\n",
       "    <tr style=\"text-align: right;\">\n",
       "      <th></th>\n",
       "      <th>A</th>\n",
       "      <th>B</th>\n",
       "      <th>C</th>\n",
       "      <th>D</th>\n",
       "      <th>E</th>\n",
       "      <th>F</th>\n",
       "    </tr>\n",
       "  </thead>\n",
       "  <tbody>\n",
       "    <tr>\n",
       "      <th>2020-01-01</th>\n",
       "      <td>0.312335</td>\n",
       "      <td>-1.857820</td>\n",
       "      <td>0.079510</td>\n",
       "      <td>-1.254958</td>\n",
       "      <td>-0.701024</td>\n",
       "      <td>1</td>\n",
       "    </tr>\n",
       "    <tr>\n",
       "      <th>2020-01-02</th>\n",
       "      <td>-1.079757</td>\n",
       "      <td>-0.281823</td>\n",
       "      <td>0.015584</td>\n",
       "      <td>-1.389458</td>\n",
       "      <td>-0.687168</td>\n",
       "      <td>1</td>\n",
       "    </tr>\n",
       "    <tr>\n",
       "      <th>2020-01-03</th>\n",
       "      <td>-0.212579</td>\n",
       "      <td>-0.207260</td>\n",
       "      <td>-0.379821</td>\n",
       "      <td>0.752350</td>\n",
       "      <td>0.000577</td>\n",
       "      <td>1</td>\n",
       "    </tr>\n",
       "    <tr>\n",
       "      <th>2020-01-04</th>\n",
       "      <td>-0.699804</td>\n",
       "      <td>-1.025902</td>\n",
       "      <td>-0.202052</td>\n",
       "      <td>-1.745956</td>\n",
       "      <td>-0.392921</td>\n",
       "      <td>1</td>\n",
       "    </tr>\n",
       "    <tr>\n",
       "      <th>2020-01-05</th>\n",
       "      <td>0.277698</td>\n",
       "      <td>-0.411488</td>\n",
       "      <td>-0.426055</td>\n",
       "      <td>1.206849</td>\n",
       "      <td>-0.152562</td>\n",
       "      <td>1</td>\n",
       "    </tr>\n",
       "  </tbody>\n",
       "</table>\n",
       "</div>"
      ],
      "text/plain": [
       "                   A         B         C         D         E  F\n",
       "2020-01-01  0.312335 -1.857820  0.079510 -1.254958 -0.701024  1\n",
       "2020-01-02 -1.079757 -0.281823  0.015584 -1.389458 -0.687168  1\n",
       "2020-01-03 -0.212579 -0.207260 -0.379821  0.752350  0.000577  1\n",
       "2020-01-04 -0.699804 -1.025902 -0.202052 -1.745956 -0.392921  1\n",
       "2020-01-05  0.277698 -0.411488 -0.426055  1.206849 -0.152562  1"
      ]
     },
     "execution_count": 8,
     "metadata": {},
     "output_type": "execute_result"
    }
   ],
   "source": [
    "df.head()"
   ]
  },
  {
   "cell_type": "code",
   "execution_count": 9,
   "metadata": {},
   "outputs": [],
   "source": [
    "df['G'] = range(60)"
   ]
  },
  {
   "cell_type": "code",
   "execution_count": 10,
   "metadata": {},
   "outputs": [
    {
     "data": {
      "text/html": [
       "<div>\n",
       "<style scoped>\n",
       "    .dataframe tbody tr th:only-of-type {\n",
       "        vertical-align: middle;\n",
       "    }\n",
       "\n",
       "    .dataframe tbody tr th {\n",
       "        vertical-align: top;\n",
       "    }\n",
       "\n",
       "    .dataframe thead th {\n",
       "        text-align: right;\n",
       "    }\n",
       "</style>\n",
       "<table border=\"1\" class=\"dataframe\">\n",
       "  <thead>\n",
       "    <tr style=\"text-align: right;\">\n",
       "      <th></th>\n",
       "      <th>A</th>\n",
       "      <th>B</th>\n",
       "      <th>C</th>\n",
       "      <th>D</th>\n",
       "      <th>E</th>\n",
       "      <th>F</th>\n",
       "      <th>G</th>\n",
       "    </tr>\n",
       "  </thead>\n",
       "  <tbody>\n",
       "    <tr>\n",
       "      <th>2020-01-01</th>\n",
       "      <td>0.312335</td>\n",
       "      <td>-1.857820</td>\n",
       "      <td>0.079510</td>\n",
       "      <td>-1.254958</td>\n",
       "      <td>-0.701024</td>\n",
       "      <td>1</td>\n",
       "      <td>0</td>\n",
       "    </tr>\n",
       "    <tr>\n",
       "      <th>2020-01-02</th>\n",
       "      <td>-1.079757</td>\n",
       "      <td>-0.281823</td>\n",
       "      <td>0.015584</td>\n",
       "      <td>-1.389458</td>\n",
       "      <td>-0.687168</td>\n",
       "      <td>1</td>\n",
       "      <td>1</td>\n",
       "    </tr>\n",
       "    <tr>\n",
       "      <th>2020-01-03</th>\n",
       "      <td>-0.212579</td>\n",
       "      <td>-0.207260</td>\n",
       "      <td>-0.379821</td>\n",
       "      <td>0.752350</td>\n",
       "      <td>0.000577</td>\n",
       "      <td>1</td>\n",
       "      <td>2</td>\n",
       "    </tr>\n",
       "    <tr>\n",
       "      <th>2020-01-04</th>\n",
       "      <td>-0.699804</td>\n",
       "      <td>-1.025902</td>\n",
       "      <td>-0.202052</td>\n",
       "      <td>-1.745956</td>\n",
       "      <td>-0.392921</td>\n",
       "      <td>1</td>\n",
       "      <td>3</td>\n",
       "    </tr>\n",
       "    <tr>\n",
       "      <th>2020-01-05</th>\n",
       "      <td>0.277698</td>\n",
       "      <td>-0.411488</td>\n",
       "      <td>-0.426055</td>\n",
       "      <td>1.206849</td>\n",
       "      <td>-0.152562</td>\n",
       "      <td>1</td>\n",
       "      <td>4</td>\n",
       "    </tr>\n",
       "  </tbody>\n",
       "</table>\n",
       "</div>"
      ],
      "text/plain": [
       "                   A         B         C         D         E  F  G\n",
       "2020-01-01  0.312335 -1.857820  0.079510 -1.254958 -0.701024  1  0\n",
       "2020-01-02 -1.079757 -0.281823  0.015584 -1.389458 -0.687168  1  1\n",
       "2020-01-03 -0.212579 -0.207260 -0.379821  0.752350  0.000577  1  2\n",
       "2020-01-04 -0.699804 -1.025902 -0.202052 -1.745956 -0.392921  1  3\n",
       "2020-01-05  0.277698 -0.411488 -0.426055  1.206849 -0.152562  1  4"
      ]
     },
     "execution_count": 10,
     "metadata": {},
     "output_type": "execute_result"
    }
   ],
   "source": [
    "df.head()"
   ]
  },
  {
   "cell_type": "markdown",
   "metadata": {},
   "source": [
    "### Adicionando colunas calculadas"
   ]
  },
  {
   "cell_type": "code",
   "execution_count": 11,
   "metadata": {},
   "outputs": [
    {
     "data": {
      "text/html": [
       "<div>\n",
       "<style scoped>\n",
       "    .dataframe tbody tr th:only-of-type {\n",
       "        vertical-align: middle;\n",
       "    }\n",
       "\n",
       "    .dataframe tbody tr th {\n",
       "        vertical-align: top;\n",
       "    }\n",
       "\n",
       "    .dataframe thead th {\n",
       "        text-align: right;\n",
       "    }\n",
       "</style>\n",
       "<table border=\"1\" class=\"dataframe\">\n",
       "  <thead>\n",
       "    <tr style=\"text-align: right;\">\n",
       "      <th></th>\n",
       "      <th>A</th>\n",
       "      <th>B</th>\n",
       "      <th>C</th>\n",
       "      <th>D</th>\n",
       "      <th>E</th>\n",
       "      <th>F</th>\n",
       "      <th>G</th>\n",
       "      <th>Produto</th>\n",
       "    </tr>\n",
       "  </thead>\n",
       "  <tbody>\n",
       "    <tr>\n",
       "      <th>2020-01-01</th>\n",
       "      <td>0.312335</td>\n",
       "      <td>-1.857820</td>\n",
       "      <td>0.079510</td>\n",
       "      <td>-1.254958</td>\n",
       "      <td>-0.701024</td>\n",
       "      <td>1</td>\n",
       "      <td>0</td>\n",
       "      <td>-0.580262</td>\n",
       "    </tr>\n",
       "    <tr>\n",
       "      <th>2020-01-02</th>\n",
       "      <td>-1.079757</td>\n",
       "      <td>-0.281823</td>\n",
       "      <td>0.015584</td>\n",
       "      <td>-1.389458</td>\n",
       "      <td>-0.687168</td>\n",
       "      <td>1</td>\n",
       "      <td>1</td>\n",
       "      <td>0.304300</td>\n",
       "    </tr>\n",
       "    <tr>\n",
       "      <th>2020-01-03</th>\n",
       "      <td>-0.212579</td>\n",
       "      <td>-0.207260</td>\n",
       "      <td>-0.379821</td>\n",
       "      <td>0.752350</td>\n",
       "      <td>0.000577</td>\n",
       "      <td>1</td>\n",
       "      <td>2</td>\n",
       "      <td>0.044059</td>\n",
       "    </tr>\n",
       "    <tr>\n",
       "      <th>2020-01-04</th>\n",
       "      <td>-0.699804</td>\n",
       "      <td>-1.025902</td>\n",
       "      <td>-0.202052</td>\n",
       "      <td>-1.745956</td>\n",
       "      <td>-0.392921</td>\n",
       "      <td>1</td>\n",
       "      <td>3</td>\n",
       "      <td>0.717931</td>\n",
       "    </tr>\n",
       "    <tr>\n",
       "      <th>2020-01-05</th>\n",
       "      <td>0.277698</td>\n",
       "      <td>-0.411488</td>\n",
       "      <td>-0.426055</td>\n",
       "      <td>1.206849</td>\n",
       "      <td>-0.152562</td>\n",
       "      <td>1</td>\n",
       "      <td>4</td>\n",
       "      <td>-0.114270</td>\n",
       "    </tr>\n",
       "  </tbody>\n",
       "</table>\n",
       "</div>"
      ],
      "text/plain": [
       "                   A         B         C         D         E  F  G   Produto\n",
       "2020-01-01  0.312335 -1.857820  0.079510 -1.254958 -0.701024  1  0 -0.580262\n",
       "2020-01-02 -1.079757 -0.281823  0.015584 -1.389458 -0.687168  1  1  0.304300\n",
       "2020-01-03 -0.212579 -0.207260 -0.379821  0.752350  0.000577  1  2  0.044059\n",
       "2020-01-04 -0.699804 -1.025902 -0.202052 -1.745956 -0.392921  1  3  0.717931\n",
       "2020-01-05  0.277698 -0.411488 -0.426055  1.206849 -0.152562  1  4 -0.114270"
      ]
     },
     "execution_count": 11,
     "metadata": {},
     "output_type": "execute_result"
    }
   ],
   "source": [
    "df['Produto'] = df['A'] * df['B']\n",
    "\n",
    "df.head()"
   ]
  },
  {
   "cell_type": "markdown",
   "metadata": {},
   "source": [
    "### Editando valores de colunas pré-existentes"
   ]
  },
  {
   "cell_type": "code",
   "execution_count": 12,
   "metadata": {},
   "outputs": [
    {
     "data": {
      "text/html": [
       "<div>\n",
       "<style scoped>\n",
       "    .dataframe tbody tr th:only-of-type {\n",
       "        vertical-align: middle;\n",
       "    }\n",
       "\n",
       "    .dataframe tbody tr th {\n",
       "        vertical-align: top;\n",
       "    }\n",
       "\n",
       "    .dataframe thead th {\n",
       "        text-align: right;\n",
       "    }\n",
       "</style>\n",
       "<table border=\"1\" class=\"dataframe\">\n",
       "  <thead>\n",
       "    <tr style=\"text-align: right;\">\n",
       "      <th></th>\n",
       "      <th>A</th>\n",
       "      <th>B</th>\n",
       "      <th>C</th>\n",
       "      <th>D</th>\n",
       "      <th>E</th>\n",
       "      <th>F</th>\n",
       "      <th>G</th>\n",
       "      <th>Produto</th>\n",
       "    </tr>\n",
       "  </thead>\n",
       "  <tbody>\n",
       "    <tr>\n",
       "      <th>2020-01-01</th>\n",
       "      <td>0.312335</td>\n",
       "      <td>-1.857820</td>\n",
       "      <td>0.079510</td>\n",
       "      <td>-100.396657</td>\n",
       "      <td>-0.701024</td>\n",
       "      <td>1</td>\n",
       "      <td>0</td>\n",
       "      <td>-0.580262</td>\n",
       "    </tr>\n",
       "    <tr>\n",
       "      <th>2020-01-02</th>\n",
       "      <td>-1.079757</td>\n",
       "      <td>-0.281823</td>\n",
       "      <td>0.015584</td>\n",
       "      <td>-111.156628</td>\n",
       "      <td>-0.687168</td>\n",
       "      <td>1</td>\n",
       "      <td>1</td>\n",
       "      <td>0.304300</td>\n",
       "    </tr>\n",
       "    <tr>\n",
       "      <th>2020-01-03</th>\n",
       "      <td>-0.212579</td>\n",
       "      <td>-0.207260</td>\n",
       "      <td>-0.379821</td>\n",
       "      <td>60.188034</td>\n",
       "      <td>0.000577</td>\n",
       "      <td>1</td>\n",
       "      <td>2</td>\n",
       "      <td>0.044059</td>\n",
       "    </tr>\n",
       "    <tr>\n",
       "      <th>2020-01-04</th>\n",
       "      <td>-0.699804</td>\n",
       "      <td>-1.025902</td>\n",
       "      <td>-0.202052</td>\n",
       "      <td>-139.676445</td>\n",
       "      <td>-0.392921</td>\n",
       "      <td>1</td>\n",
       "      <td>3</td>\n",
       "      <td>0.717931</td>\n",
       "    </tr>\n",
       "    <tr>\n",
       "      <th>2020-01-05</th>\n",
       "      <td>0.277698</td>\n",
       "      <td>-0.411488</td>\n",
       "      <td>-0.426055</td>\n",
       "      <td>96.547953</td>\n",
       "      <td>-0.152562</td>\n",
       "      <td>1</td>\n",
       "      <td>4</td>\n",
       "      <td>-0.114270</td>\n",
       "    </tr>\n",
       "  </tbody>\n",
       "</table>\n",
       "</div>"
      ],
      "text/plain": [
       "                   A         B         C           D         E  F  G   Produto\n",
       "2020-01-01  0.312335 -1.857820  0.079510 -100.396657 -0.701024  1  0 -0.580262\n",
       "2020-01-02 -1.079757 -0.281823  0.015584 -111.156628 -0.687168  1  1  0.304300\n",
       "2020-01-03 -0.212579 -0.207260 -0.379821   60.188034  0.000577  1  2  0.044059\n",
       "2020-01-04 -0.699804 -1.025902 -0.202052 -139.676445 -0.392921  1  3  0.717931\n",
       "2020-01-05  0.277698 -0.411488 -0.426055   96.547953 -0.152562  1  4 -0.114270"
      ]
     },
     "execution_count": 12,
     "metadata": {},
     "output_type": "execute_result"
    }
   ],
   "source": [
    "df['D'] = df['D'] * 80\n",
    "\n",
    "df.head()"
   ]
  },
  {
   "cell_type": "code",
   "execution_count": null,
   "metadata": {},
   "outputs": [],
   "source": []
  }
 ],
 "metadata": {
  "kernelspec": {
   "display_name": "Python 3.7.6 64-bit ('scripts-py': conda)",
   "language": "python",
   "name": "python37664bitscriptspyconda4c8432764c9244a194ddb1f2cad01aa7"
  },
  "language_info": {
   "codemirror_mode": {
    "name": "ipython",
    "version": 3
   },
   "file_extension": ".py",
   "mimetype": "text/x-python",
   "name": "python",
   "nbconvert_exporter": "python",
   "pygments_lexer": "ipython3",
   "version": "3.7.6"
  }
 },
 "nbformat": 4,
 "nbformat_minor": 2
}
