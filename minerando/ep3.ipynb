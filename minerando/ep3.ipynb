{
 "metadata": {
  "language_info": {
   "codemirror_mode": {
    "name": "ipython",
    "version": 3
   },
   "file_extension": ".py",
   "mimetype": "text/x-python",
   "name": "python",
   "nbconvert_exporter": "python",
   "pygments_lexer": "ipython3",
   "version": "3.8.5-final"
  },
  "orig_nbformat": 2,
  "kernelspec": {
   "name": "python3",
   "display_name": "Python 3.8.5 64-bit (conda)",
   "metadata": {
    "interpreter": {
     "hash": "c9ac96ecdbd0bc9af86bc43b03465688350896f5289c88a63f86f204affded0e"
    }
   }
  }
 },
 "nbformat": 4,
 "nbformat_minor": 2,
 "cells": [
  {
   "cell_type": "code",
   "execution_count": 15,
   "metadata": {},
   "outputs": [],
   "source": [
    "import pandas as pd\n",
    "import seaborn as sns\n",
    "import numpy as np\n",
    "import matplotlib.pyplot as plt\n",
    "from pandas_profiling import ProfileReport"
   ]
  },
  {
   "cell_type": "code",
   "execution_count": 16,
   "metadata": {},
   "outputs": [],
   "source": [
    "data = pd.read_csv('data.csv')\n",
    "top16 = data.nlargest(16, 'MEDV').index\n",
    "data.drop(top16, inplace=True)\n",
    "data.RM = data.RM.astype(int)"
   ]
  },
  {
   "cell_type": "code",
   "execution_count": 17,
   "metadata": {},
   "outputs": [],
   "source": [
    "categorias = []\n",
    "\n",
    "for i in data.RM.iteritems():\n",
    "\n",
    "    valor = (i[1])\n",
    "    if valor <=4:\n",
    "        categorias.append('Pequeno')\n",
    "    elif valor < 7:\n",
    "        categorias.append('Médio')\n",
    "    else:\n",
    "        categorias.append('Grande')\n",
    "\n",
    "data['categorias'] = categorias\n",
    "medias_categorias = data.groupby(by='categorias')['MEDV'].mean()\n",
    "dict_baseline = dict(medias_categorias)\n",
    "def return_baseline(num_quartos):\n",
    "    if num_quartos <= 4:\n",
    "        return dict_baseline.get('Pequeno')\n",
    "    elif num_quartos < 7:\n",
    "        return dict_baseline.get('Médio')\n",
    "    else:\n",
    "        return dict_baseline.get('Grande')"
   ]
  },
  {
   "cell_type": "code",
   "execution_count": 18,
   "metadata": {},
   "outputs": [
    {
     "output_type": "execute_result",
     "data": {
      "text/plain": [
       "   Unnamed: 0     CRIM    ZN  INDUS  CHAS    NOX  RM   AGE     DIS  RAD  \\\n",
       "0           0  0.00632  18.0   2.31   0.0  0.538   6  65.2  4.0900  1.0   \n",
       "1           1  0.02731   0.0   7.07   0.0  0.469   6  78.9  4.9671  2.0   \n",
       "2           2  0.02729   0.0   7.07   0.0  0.469   7  61.1  4.9671  2.0   \n",
       "3           3  0.03237   0.0   2.18   0.0  0.458   6  45.8  6.0622  3.0   \n",
       "4           4  0.06905   0.0   2.18   0.0  0.458   7  54.2  6.0622  3.0   \n",
       "\n",
       "     TAX  PTRATIO       B  LSTAT  MEDV categorias  \n",
       "0  296.0     15.3  396.90   4.98  24.0      Médio  \n",
       "1  242.0     17.8  396.90   9.14  21.6      Médio  \n",
       "2  242.0     17.8  392.83   4.03  34.7     Grande  \n",
       "3  222.0     18.7  394.63   2.94  33.4      Médio  \n",
       "4  222.0     18.7  396.90   5.33  36.2     Grande  "
      ],
      "text/html": "<div>\n<style scoped>\n    .dataframe tbody tr th:only-of-type {\n        vertical-align: middle;\n    }\n\n    .dataframe tbody tr th {\n        vertical-align: top;\n    }\n\n    .dataframe thead th {\n        text-align: right;\n    }\n</style>\n<table border=\"1\" class=\"dataframe\">\n  <thead>\n    <tr style=\"text-align: right;\">\n      <th></th>\n      <th>Unnamed: 0</th>\n      <th>CRIM</th>\n      <th>ZN</th>\n      <th>INDUS</th>\n      <th>CHAS</th>\n      <th>NOX</th>\n      <th>RM</th>\n      <th>AGE</th>\n      <th>DIS</th>\n      <th>RAD</th>\n      <th>TAX</th>\n      <th>PTRATIO</th>\n      <th>B</th>\n      <th>LSTAT</th>\n      <th>MEDV</th>\n      <th>categorias</th>\n    </tr>\n  </thead>\n  <tbody>\n    <tr>\n      <th>0</th>\n      <td>0</td>\n      <td>0.00632</td>\n      <td>18.0</td>\n      <td>2.31</td>\n      <td>0.0</td>\n      <td>0.538</td>\n      <td>6</td>\n      <td>65.2</td>\n      <td>4.0900</td>\n      <td>1.0</td>\n      <td>296.0</td>\n      <td>15.3</td>\n      <td>396.90</td>\n      <td>4.98</td>\n      <td>24.0</td>\n      <td>Médio</td>\n    </tr>\n    <tr>\n      <th>1</th>\n      <td>1</td>\n      <td>0.02731</td>\n      <td>0.0</td>\n      <td>7.07</td>\n      <td>0.0</td>\n      <td>0.469</td>\n      <td>6</td>\n      <td>78.9</td>\n      <td>4.9671</td>\n      <td>2.0</td>\n      <td>242.0</td>\n      <td>17.8</td>\n      <td>396.90</td>\n      <td>9.14</td>\n      <td>21.6</td>\n      <td>Médio</td>\n    </tr>\n    <tr>\n      <th>2</th>\n      <td>2</td>\n      <td>0.02729</td>\n      <td>0.0</td>\n      <td>7.07</td>\n      <td>0.0</td>\n      <td>0.469</td>\n      <td>7</td>\n      <td>61.1</td>\n      <td>4.9671</td>\n      <td>2.0</td>\n      <td>242.0</td>\n      <td>17.8</td>\n      <td>392.83</td>\n      <td>4.03</td>\n      <td>34.7</td>\n      <td>Grande</td>\n    </tr>\n    <tr>\n      <th>3</th>\n      <td>3</td>\n      <td>0.03237</td>\n      <td>0.0</td>\n      <td>2.18</td>\n      <td>0.0</td>\n      <td>0.458</td>\n      <td>6</td>\n      <td>45.8</td>\n      <td>6.0622</td>\n      <td>3.0</td>\n      <td>222.0</td>\n      <td>18.7</td>\n      <td>394.63</td>\n      <td>2.94</td>\n      <td>33.4</td>\n      <td>Médio</td>\n    </tr>\n    <tr>\n      <th>4</th>\n      <td>4</td>\n      <td>0.06905</td>\n      <td>0.0</td>\n      <td>2.18</td>\n      <td>0.0</td>\n      <td>0.458</td>\n      <td>7</td>\n      <td>54.2</td>\n      <td>6.0622</td>\n      <td>3.0</td>\n      <td>222.0</td>\n      <td>18.7</td>\n      <td>396.90</td>\n      <td>5.33</td>\n      <td>36.2</td>\n      <td>Grande</td>\n    </tr>\n  </tbody>\n</table>\n</div>"
     },
     "metadata": {},
     "execution_count": 18
    }
   ],
   "source": [
    "data.head()"
   ]
  },
  {
   "cell_type": "code",
   "execution_count": null,
   "metadata": {},
   "outputs": [],
   "source": []
  },
  {
   "cell_type": "code",
   "execution_count": null,
   "metadata": {},
   "outputs": [],
   "source": []
  },
  {
   "source": [
    "> Para validar os modelos, usaremos a metrica RMSE (Erro médio quadratico), é a somatoria da diferença entre os valores preditos e os valore reais.\n",
    "Ele utiliza a mesma variavel dependente. Ou seja, ele está na mesma escala das variaveis\n"
   ],
   "cell_type": "markdown",
   "metadata": {}
  },
  {
   "source": [
    "### Preparar os dados\n",
    "\n",
    "Separando entre dados de treino e teste.\n",
    "Por convenção os dados de treino são o nosso 'x' e os dados de teste são o 'y'"
   ],
   "cell_type": "markdown",
   "metadata": {}
  },
  {
   "cell_type": "code",
   "execution_count": 19,
   "metadata": {},
   "outputs": [],
   "source": [
    "# a variavel 'y' é o nosso alvo\n",
    "y = data['MEDV']"
   ]
  },
  {
   "cell_type": "code",
   "execution_count": 20,
   "metadata": {},
   "outputs": [],
   "source": [
    "# removendo colunas colineares, variavel alvo e coluna categorias\n",
    "# Colunas muito correlacionadas atrapalham o modelo de previsão\n",
    "X = data.drop(['RAD', 'TAX', 'MEDV','DIS', 'AGE', 'ZN', 'categorias'], axis=1)"
   ]
  },
  {
   "cell_type": "code",
   "execution_count": 21,
   "metadata": {},
   "outputs": [
    {
     "output_type": "execute_result",
     "data": {
      "text/plain": [
       "   Unnamed: 0     CRIM  INDUS  CHAS    NOX  RM  PTRATIO       B  LSTAT\n",
       "0           0  0.00632   2.31   0.0  0.538   6     15.3  396.90   4.98\n",
       "1           1  0.02731   7.07   0.0  0.469   6     17.8  396.90   9.14\n",
       "2           2  0.02729   7.07   0.0  0.469   7     17.8  392.83   4.03\n",
       "3           3  0.03237   2.18   0.0  0.458   6     18.7  394.63   2.94\n",
       "4           4  0.06905   2.18   0.0  0.458   7     18.7  396.90   5.33"
      ],
      "text/html": "<div>\n<style scoped>\n    .dataframe tbody tr th:only-of-type {\n        vertical-align: middle;\n    }\n\n    .dataframe tbody tr th {\n        vertical-align: top;\n    }\n\n    .dataframe thead th {\n        text-align: right;\n    }\n</style>\n<table border=\"1\" class=\"dataframe\">\n  <thead>\n    <tr style=\"text-align: right;\">\n      <th></th>\n      <th>Unnamed: 0</th>\n      <th>CRIM</th>\n      <th>INDUS</th>\n      <th>CHAS</th>\n      <th>NOX</th>\n      <th>RM</th>\n      <th>PTRATIO</th>\n      <th>B</th>\n      <th>LSTAT</th>\n    </tr>\n  </thead>\n  <tbody>\n    <tr>\n      <th>0</th>\n      <td>0</td>\n      <td>0.00632</td>\n      <td>2.31</td>\n      <td>0.0</td>\n      <td>0.538</td>\n      <td>6</td>\n      <td>15.3</td>\n      <td>396.90</td>\n      <td>4.98</td>\n    </tr>\n    <tr>\n      <th>1</th>\n      <td>1</td>\n      <td>0.02731</td>\n      <td>7.07</td>\n      <td>0.0</td>\n      <td>0.469</td>\n      <td>6</td>\n      <td>17.8</td>\n      <td>396.90</td>\n      <td>9.14</td>\n    </tr>\n    <tr>\n      <th>2</th>\n      <td>2</td>\n      <td>0.02729</td>\n      <td>7.07</td>\n      <td>0.0</td>\n      <td>0.469</td>\n      <td>7</td>\n      <td>17.8</td>\n      <td>392.83</td>\n      <td>4.03</td>\n    </tr>\n    <tr>\n      <th>3</th>\n      <td>3</td>\n      <td>0.03237</td>\n      <td>2.18</td>\n      <td>0.0</td>\n      <td>0.458</td>\n      <td>6</td>\n      <td>18.7</td>\n      <td>394.63</td>\n      <td>2.94</td>\n    </tr>\n    <tr>\n      <th>4</th>\n      <td>4</td>\n      <td>0.06905</td>\n      <td>2.18</td>\n      <td>0.0</td>\n      <td>0.458</td>\n      <td>7</td>\n      <td>18.7</td>\n      <td>396.90</td>\n      <td>5.33</td>\n    </tr>\n  </tbody>\n</table>\n</div>"
     },
     "metadata": {},
     "execution_count": 21
    }
   ],
   "source": [
    "X.head()"
   ]
  },
  {
   "cell_type": "code",
   "execution_count": 22,
   "metadata": {},
   "outputs": [
    {
     "output_type": "execute_result",
     "data": {
      "text/plain": [
       "0    24.0\n",
       "1    21.6\n",
       "2    34.7\n",
       "3    33.4\n",
       "4    36.2\n",
       "Name: MEDV, dtype: float64"
      ]
     },
     "metadata": {},
     "execution_count": 22
    }
   ],
   "source": [
    "y.head()"
   ]
  },
  {
   "source": [
    "#### Separando dados de treino e teste"
   ],
   "cell_type": "markdown",
   "metadata": {}
  },
  {
   "source": [
    "# carrega o metodo train_test_split\n",
    "from sklearn.model_selection import train_test_split"
   ],
   "cell_type": "code",
   "metadata": {},
   "execution_count": 23,
   "outputs": []
  },
  {
   "cell_type": "code",
   "execution_count": 24,
   "metadata": {},
   "outputs": [],
   "source": [
    "# divide os dados entre o conjunto de treino e teste, 80% e 20% respectivamente\n",
    "# define qlr valor para o parametro random_state\n",
    "X_train, X_test, y_train, y_test = train_test_split(X, y, test_size = 0.2, random_state=5) #test_size define o 'tamanho' dos dados de teste, já o random_state define a aleatoriedade do teste, é um seed"
   ]
  },
  {
   "cell_type": "code",
   "execution_count": 25,
   "metadata": {},
   "outputs": [
    {
     "output_type": "stream",
     "name": "stdout",
     "text": [
      "X_train: numero de linhas e colunas: (392, 9)\nX_test: numero de linhas e colunas: (98, 9)\ny_train: numero de linhas e colunas: (392,)\ny_test: numero de linhas e colunas: (98,)\n"
     ]
    }
   ],
   "source": [
    "# impreme a qtd de linhas de cada um dos conj\n",
    "print( 'X_train: numero de linhas e colunas: {}'.format(X_train.shape))\n",
    "print( 'X_test: numero de linhas e colunas: {}'.format(X_test.shape))\n",
    "print( 'y_train: numero de linhas e colunas: {}'.format(y_train.shape))\n",
    "print( 'y_test: numero de linhas e colunas: {}'.format(y_test.shape))"
   ]
  },
  {
   "source": [
    "### Modelo de baseline"
   ],
   "cell_type": "markdown",
   "metadata": {}
  },
  {
   "cell_type": "code",
   "execution_count": 26,
   "metadata": {},
   "outputs": [
    {
     "output_type": "execute_result",
     "data": {
      "text/plain": [
       "     Unnamed: 0     CRIM  INDUS  CHAS    NOX  RM  PTRATIO       B  LSTAT\n",
       "245         245  0.19133   5.86   0.0  0.431   5     19.1  389.13  18.46\n",
       "456         456  4.66883  18.10   0.0  0.713   5     20.2   10.48  19.01\n",
       "75           75  0.09512  12.83   0.0  0.437   6     18.7  383.23   8.94\n",
       "238         238  0.08244   4.93   0.0  0.428   6     16.6  379.41   6.36\n",
       "362         362  3.67822  18.10   0.0  0.770   5     20.2  380.79  10.19"
      ],
      "text/html": "<div>\n<style scoped>\n    .dataframe tbody tr th:only-of-type {\n        vertical-align: middle;\n    }\n\n    .dataframe tbody tr th {\n        vertical-align: top;\n    }\n\n    .dataframe thead th {\n        text-align: right;\n    }\n</style>\n<table border=\"1\" class=\"dataframe\">\n  <thead>\n    <tr style=\"text-align: right;\">\n      <th></th>\n      <th>Unnamed: 0</th>\n      <th>CRIM</th>\n      <th>INDUS</th>\n      <th>CHAS</th>\n      <th>NOX</th>\n      <th>RM</th>\n      <th>PTRATIO</th>\n      <th>B</th>\n      <th>LSTAT</th>\n    </tr>\n  </thead>\n  <tbody>\n    <tr>\n      <th>245</th>\n      <td>245</td>\n      <td>0.19133</td>\n      <td>5.86</td>\n      <td>0.0</td>\n      <td>0.431</td>\n      <td>5</td>\n      <td>19.1</td>\n      <td>389.13</td>\n      <td>18.46</td>\n    </tr>\n    <tr>\n      <th>456</th>\n      <td>456</td>\n      <td>4.66883</td>\n      <td>18.10</td>\n      <td>0.0</td>\n      <td>0.713</td>\n      <td>5</td>\n      <td>20.2</td>\n      <td>10.48</td>\n      <td>19.01</td>\n    </tr>\n    <tr>\n      <th>75</th>\n      <td>75</td>\n      <td>0.09512</td>\n      <td>12.83</td>\n      <td>0.0</td>\n      <td>0.437</td>\n      <td>6</td>\n      <td>18.7</td>\n      <td>383.23</td>\n      <td>8.94</td>\n    </tr>\n    <tr>\n      <th>238</th>\n      <td>238</td>\n      <td>0.08244</td>\n      <td>4.93</td>\n      <td>0.0</td>\n      <td>0.428</td>\n      <td>6</td>\n      <td>16.6</td>\n      <td>379.41</td>\n      <td>6.36</td>\n    </tr>\n    <tr>\n      <th>362</th>\n      <td>362</td>\n      <td>3.67822</td>\n      <td>18.10</td>\n      <td>0.0</td>\n      <td>0.770</td>\n      <td>5</td>\n      <td>20.2</td>\n      <td>380.79</td>\n      <td>10.19</td>\n    </tr>\n  </tbody>\n</table>\n</div>"
     },
     "metadata": {},
     "execution_count": 26
    }
   ],
   "source": [
    "X_test.head()"
   ]
  },
  {
   "cell_type": "code",
   "execution_count": 27,
   "metadata": {},
   "outputs": [],
   "source": [
    "# definindo uma lista vazia para as predições\n",
    "predicoes = []"
   ]
  },
  {
   "cell_type": "code",
   "execution_count": 29,
   "metadata": {},
   "outputs": [],
   "source": [
    "# para cada elemento do teste alimenta a lista\n",
    "for i in X_test.RM.iteritems():\n",
    "    n_quartos = i[1]\n",
    "    predicoes.append(return_baseline(n_quartos))"
   ]
  },
  {
   "cell_type": "code",
   "execution_count": 30,
   "metadata": {},
   "outputs": [
    {
     "output_type": "execute_result",
     "data": {
      "text/plain": [
       "[20.1304245283019,\n",
       " 20.1304245283019,\n",
       " 20.1304245283019,\n",
       " 20.1304245283019,\n",
       " 20.1304245283019,\n",
       " 20.1304245283019,\n",
       " 20.1304245283019,\n",
       " 20.1304245283019,\n",
       " 35.71923076923077,\n",
       " 35.71923076923077]"
      ]
     },
     "metadata": {},
     "execution_count": 30
    }
   ],
   "source": [
    "# 10 primeiras linhas da lista de predições\n",
    "predicoes[:10]"
   ]
  },
  {
   "source": [
    "Atribuindo resultados a um dataframe\n",
    "\n",
    "-   `Manteremos um log ao longo do projeto`\n",
    "-   `Permite a evolução dado o baseline`"
   ],
   "cell_type": "markdown",
   "metadata": {}
  },
  {
   "cell_type": "code",
   "execution_count": 31,
   "metadata": {},
   "outputs": [],
   "source": [
    "df_results = pd.DataFrame()"
   ]
  },
  {
   "cell_type": "code",
   "execution_count": 32,
   "metadata": {},
   "outputs": [
    {
     "output_type": "execute_result",
     "data": {
      "text/plain": [
       "   valor_real  valor_predito_baseline\n",
       "0        18.5               20.130425\n",
       "1        12.7               20.130425\n",
       "2        21.4               20.130425\n",
       "3        23.7               20.130425\n",
       "4        20.8               20.130425"
      ],
      "text/html": "<div>\n<style scoped>\n    .dataframe tbody tr th:only-of-type {\n        vertical-align: middle;\n    }\n\n    .dataframe tbody tr th {\n        vertical-align: top;\n    }\n\n    .dataframe thead th {\n        text-align: right;\n    }\n</style>\n<table border=\"1\" class=\"dataframe\">\n  <thead>\n    <tr style=\"text-align: right;\">\n      <th></th>\n      <th>valor_real</th>\n      <th>valor_predito_baseline</th>\n    </tr>\n  </thead>\n  <tbody>\n    <tr>\n      <th>0</th>\n      <td>18.5</td>\n      <td>20.130425</td>\n    </tr>\n    <tr>\n      <th>1</th>\n      <td>12.7</td>\n      <td>20.130425</td>\n    </tr>\n    <tr>\n      <th>2</th>\n      <td>21.4</td>\n      <td>20.130425</td>\n    </tr>\n    <tr>\n      <th>3</th>\n      <td>23.7</td>\n      <td>20.130425</td>\n    </tr>\n    <tr>\n      <th>4</th>\n      <td>20.8</td>\n      <td>20.130425</td>\n    </tr>\n  </tbody>\n</table>\n</div>"
     },
     "metadata": {},
     "execution_count": 32
    }
   ],
   "source": [
    "df_results['valor_real'] = y_test.values\n",
    "df_results['valor_predito_baseline'] = predicoes\n",
    "df_results.head()"
   ]
  },
  {
   "source": [
    "### Plotando o valor real e o baseline"
   ],
   "cell_type": "markdown",
   "metadata": {}
  },
  {
   "cell_type": "code",
   "execution_count": 33,
   "metadata": {},
   "outputs": [
    {
     "output_type": "display_data",
     "data": {
      "application/vnd.plotly.v1+json": {
       "config": {
        "plotlyServerURL": "https://plot.ly"
       },
       "data": [
        {
         "mode": "lines+markers",
         "name": "Valor Real",
         "type": "scatter",
         "x": [
          0,
          1,
          2,
          3,
          4,
          5,
          6,
          7,
          8,
          9,
          10,
          11,
          12,
          13,
          14,
          15,
          16,
          17,
          18,
          19,
          20,
          21,
          22,
          23,
          24,
          25,
          26,
          27,
          28,
          29,
          30,
          31,
          32,
          33,
          34,
          35,
          36,
          37,
          38,
          39,
          40,
          41,
          42,
          43,
          44,
          45,
          46,
          47,
          48,
          49,
          50,
          51,
          52,
          53,
          54,
          55,
          56,
          57,
          58,
          59,
          60,
          61,
          62,
          63,
          64,
          65,
          66,
          67,
          68,
          69,
          70,
          71,
          72,
          73,
          74,
          75,
          76,
          77,
          78,
          79,
          80,
          81,
          82,
          83,
          84,
          85,
          86,
          87,
          88,
          89,
          90,
          91,
          92,
          93,
          94,
          95,
          96,
          97
         ],
         "y": [
          18.5,
          12.7,
          21.4,
          23.7,
          20.8,
          25,
          9.7,
          14.9,
          34.9,
          31.6,
          24.7,
          22.9,
          33.2,
          9.6,
          30.5,
          19.2,
          30.3,
          15.4,
          24.3,
          24.4,
          21.5,
          27.9,
          17.3,
          21.4,
          21.7,
          24.4,
          8.5,
          15,
          11.5,
          13.6,
          24.4,
          7.4,
          44,
          21.7,
          19.3,
          16.1,
          29,
          26.4,
          20.3,
          10.8,
          5,
          19.6,
          23.1,
          23.9,
          17.5,
          13.5,
          48.8,
          26.2,
          19.7,
          14.2,
          11,
          19,
          21.7,
          18.4,
          33.4,
          14,
          24.7,
          43.8,
          48.5,
          25,
          22.6,
          21.2,
          22.4,
          23.8,
          19.9,
          16.5,
          16.7,
          17.2,
          13.1,
          19.1,
          18.5,
          22.2,
          22.6,
          19.4,
          15.2,
          19.8,
          19.4,
          21.6,
          18.2,
          19.6,
          19.6,
          23,
          7,
          17.6,
          25,
          41.3,
          24.1,
          22.6,
          18.7,
          22.6,
          13.1,
          22.2,
          16.1,
          39.8,
          25,
          20.5,
          10.4,
          20.4
         ]
        },
        {
         "mode": "lines+markers",
         "name": "Valor Predito Baseline",
         "type": "scatter",
         "x": [
          0,
          1,
          2,
          3,
          4,
          5,
          6,
          7,
          8,
          9,
          10,
          11,
          12,
          13,
          14,
          15,
          16,
          17,
          18,
          19,
          20,
          21,
          22,
          23,
          24,
          25,
          26,
          27,
          28,
          29,
          30,
          31,
          32,
          33,
          34,
          35,
          36,
          37,
          38,
          39,
          40,
          41,
          42,
          43,
          44,
          45,
          46,
          47,
          48,
          49,
          50,
          51,
          52,
          53,
          54,
          55,
          56,
          57,
          58,
          59,
          60,
          61,
          62,
          63,
          64,
          65,
          66,
          67,
          68,
          69,
          70,
          71,
          72,
          73,
          74,
          75,
          76,
          77,
          78,
          79,
          80,
          81,
          82,
          83,
          84,
          85,
          86,
          87,
          88,
          89,
          90,
          91,
          92,
          93,
          94,
          95,
          96,
          97
         ],
         "y": [
          20.1304245283019,
          20.1304245283019,
          20.1304245283019,
          20.1304245283019,
          20.1304245283019,
          20.1304245283019,
          20.1304245283019,
          20.1304245283019,
          35.71923076923077,
          35.71923076923077,
          20.1304245283019,
          20.1304245283019,
          35.71923076923077,
          20.1304245283019,
          20.1304245283019,
          20.1304245283019,
          35.71923076923077,
          20.1304245283019,
          20.1304245283019,
          20.1304245283019,
          20.1304245283019,
          20.1304245283019,
          20.1304245283019,
          20.1304245283019,
          20.1304245283019,
          20.1304245283019,
          20.1304245283019,
          35.71923076923077,
          20.1304245283019,
          20.1304245283019,
          20.1304245283019,
          20.1304245283019,
          35.71923076923077,
          20.1304245283019,
          20.1304245283019,
          14.921428571428574,
          35.71923076923077,
          20.1304245283019,
          20.1304245283019,
          20.1304245283019,
          20.1304245283019,
          20.1304245283019,
          20.1304245283019,
          20.1304245283019,
          20.1304245283019,
          20.1304245283019,
          35.71923076923077,
          20.1304245283019,
          20.1304245283019,
          20.1304245283019,
          20.1304245283019,
          20.1304245283019,
          20.1304245283019,
          20.1304245283019,
          35.71923076923077,
          20.1304245283019,
          20.1304245283019,
          35.71923076923077,
          35.71923076923077,
          20.1304245283019,
          20.1304245283019,
          20.1304245283019,
          20.1304245283019,
          20.1304245283019,
          20.1304245283019,
          20.1304245283019,
          20.1304245283019,
          20.1304245283019,
          20.1304245283019,
          20.1304245283019,
          20.1304245283019,
          20.1304245283019,
          20.1304245283019,
          20.1304245283019,
          20.1304245283019,
          20.1304245283019,
          20.1304245283019,
          20.1304245283019,
          20.1304245283019,
          20.1304245283019,
          20.1304245283019,
          20.1304245283019,
          14.921428571428574,
          20.1304245283019,
          20.1304245283019,
          20.1304245283019,
          20.1304245283019,
          20.1304245283019,
          20.1304245283019,
          20.1304245283019,
          20.1304245283019,
          20.1304245283019,
          20.1304245283019,
          35.71923076923077,
          35.71923076923077,
          20.1304245283019,
          20.1304245283019,
          20.1304245283019
         ]
        }
       ],
       "layout": {
        "template": {
         "data": {
          "bar": [
           {
            "error_x": {
             "color": "#2a3f5f"
            },
            "error_y": {
             "color": "#2a3f5f"
            },
            "marker": {
             "line": {
              "color": "#E5ECF6",
              "width": 0.5
             }
            },
            "type": "bar"
           }
          ],
          "barpolar": [
           {
            "marker": {
             "line": {
              "color": "#E5ECF6",
              "width": 0.5
             }
            },
            "type": "barpolar"
           }
          ],
          "carpet": [
           {
            "aaxis": {
             "endlinecolor": "#2a3f5f",
             "gridcolor": "white",
             "linecolor": "white",
             "minorgridcolor": "white",
             "startlinecolor": "#2a3f5f"
            },
            "baxis": {
             "endlinecolor": "#2a3f5f",
             "gridcolor": "white",
             "linecolor": "white",
             "minorgridcolor": "white",
             "startlinecolor": "#2a3f5f"
            },
            "type": "carpet"
           }
          ],
          "choropleth": [
           {
            "colorbar": {
             "outlinewidth": 0,
             "ticks": ""
            },
            "type": "choropleth"
           }
          ],
          "contour": [
           {
            "colorbar": {
             "outlinewidth": 0,
             "ticks": ""
            },
            "colorscale": [
             [
              0,
              "#0d0887"
             ],
             [
              0.1111111111111111,
              "#46039f"
             ],
             [
              0.2222222222222222,
              "#7201a8"
             ],
             [
              0.3333333333333333,
              "#9c179e"
             ],
             [
              0.4444444444444444,
              "#bd3786"
             ],
             [
              0.5555555555555556,
              "#d8576b"
             ],
             [
              0.6666666666666666,
              "#ed7953"
             ],
             [
              0.7777777777777778,
              "#fb9f3a"
             ],
             [
              0.8888888888888888,
              "#fdca26"
             ],
             [
              1,
              "#f0f921"
             ]
            ],
            "type": "contour"
           }
          ],
          "contourcarpet": [
           {
            "colorbar": {
             "outlinewidth": 0,
             "ticks": ""
            },
            "type": "contourcarpet"
           }
          ],
          "heatmap": [
           {
            "colorbar": {
             "outlinewidth": 0,
             "ticks": ""
            },
            "colorscale": [
             [
              0,
              "#0d0887"
             ],
             [
              0.1111111111111111,
              "#46039f"
             ],
             [
              0.2222222222222222,
              "#7201a8"
             ],
             [
              0.3333333333333333,
              "#9c179e"
             ],
             [
              0.4444444444444444,
              "#bd3786"
             ],
             [
              0.5555555555555556,
              "#d8576b"
             ],
             [
              0.6666666666666666,
              "#ed7953"
             ],
             [
              0.7777777777777778,
              "#fb9f3a"
             ],
             [
              0.8888888888888888,
              "#fdca26"
             ],
             [
              1,
              "#f0f921"
             ]
            ],
            "type": "heatmap"
           }
          ],
          "heatmapgl": [
           {
            "colorbar": {
             "outlinewidth": 0,
             "ticks": ""
            },
            "colorscale": [
             [
              0,
              "#0d0887"
             ],
             [
              0.1111111111111111,
              "#46039f"
             ],
             [
              0.2222222222222222,
              "#7201a8"
             ],
             [
              0.3333333333333333,
              "#9c179e"
             ],
             [
              0.4444444444444444,
              "#bd3786"
             ],
             [
              0.5555555555555556,
              "#d8576b"
             ],
             [
              0.6666666666666666,
              "#ed7953"
             ],
             [
              0.7777777777777778,
              "#fb9f3a"
             ],
             [
              0.8888888888888888,
              "#fdca26"
             ],
             [
              1,
              "#f0f921"
             ]
            ],
            "type": "heatmapgl"
           }
          ],
          "histogram": [
           {
            "marker": {
             "colorbar": {
              "outlinewidth": 0,
              "ticks": ""
             }
            },
            "type": "histogram"
           }
          ],
          "histogram2d": [
           {
            "colorbar": {
             "outlinewidth": 0,
             "ticks": ""
            },
            "colorscale": [
             [
              0,
              "#0d0887"
             ],
             [
              0.1111111111111111,
              "#46039f"
             ],
             [
              0.2222222222222222,
              "#7201a8"
             ],
             [
              0.3333333333333333,
              "#9c179e"
             ],
             [
              0.4444444444444444,
              "#bd3786"
             ],
             [
              0.5555555555555556,
              "#d8576b"
             ],
             [
              0.6666666666666666,
              "#ed7953"
             ],
             [
              0.7777777777777778,
              "#fb9f3a"
             ],
             [
              0.8888888888888888,
              "#fdca26"
             ],
             [
              1,
              "#f0f921"
             ]
            ],
            "type": "histogram2d"
           }
          ],
          "histogram2dcontour": [
           {
            "colorbar": {
             "outlinewidth": 0,
             "ticks": ""
            },
            "colorscale": [
             [
              0,
              "#0d0887"
             ],
             [
              0.1111111111111111,
              "#46039f"
             ],
             [
              0.2222222222222222,
              "#7201a8"
             ],
             [
              0.3333333333333333,
              "#9c179e"
             ],
             [
              0.4444444444444444,
              "#bd3786"
             ],
             [
              0.5555555555555556,
              "#d8576b"
             ],
             [
              0.6666666666666666,
              "#ed7953"
             ],
             [
              0.7777777777777778,
              "#fb9f3a"
             ],
             [
              0.8888888888888888,
              "#fdca26"
             ],
             [
              1,
              "#f0f921"
             ]
            ],
            "type": "histogram2dcontour"
           }
          ],
          "mesh3d": [
           {
            "colorbar": {
             "outlinewidth": 0,
             "ticks": ""
            },
            "type": "mesh3d"
           }
          ],
          "parcoords": [
           {
            "line": {
             "colorbar": {
              "outlinewidth": 0,
              "ticks": ""
             }
            },
            "type": "parcoords"
           }
          ],
          "pie": [
           {
            "automargin": true,
            "type": "pie"
           }
          ],
          "scatter": [
           {
            "marker": {
             "colorbar": {
              "outlinewidth": 0,
              "ticks": ""
             }
            },
            "type": "scatter"
           }
          ],
          "scatter3d": [
           {
            "line": {
             "colorbar": {
              "outlinewidth": 0,
              "ticks": ""
             }
            },
            "marker": {
             "colorbar": {
              "outlinewidth": 0,
              "ticks": ""
             }
            },
            "type": "scatter3d"
           }
          ],
          "scattercarpet": [
           {
            "marker": {
             "colorbar": {
              "outlinewidth": 0,
              "ticks": ""
             }
            },
            "type": "scattercarpet"
           }
          ],
          "scattergeo": [
           {
            "marker": {
             "colorbar": {
              "outlinewidth": 0,
              "ticks": ""
             }
            },
            "type": "scattergeo"
           }
          ],
          "scattergl": [
           {
            "marker": {
             "colorbar": {
              "outlinewidth": 0,
              "ticks": ""
             }
            },
            "type": "scattergl"
           }
          ],
          "scattermapbox": [
           {
            "marker": {
             "colorbar": {
              "outlinewidth": 0,
              "ticks": ""
             }
            },
            "type": "scattermapbox"
           }
          ],
          "scatterpolar": [
           {
            "marker": {
             "colorbar": {
              "outlinewidth": 0,
              "ticks": ""
             }
            },
            "type": "scatterpolar"
           }
          ],
          "scatterpolargl": [
           {
            "marker": {
             "colorbar": {
              "outlinewidth": 0,
              "ticks": ""
             }
            },
            "type": "scatterpolargl"
           }
          ],
          "scatterternary": [
           {
            "marker": {
             "colorbar": {
              "outlinewidth": 0,
              "ticks": ""
             }
            },
            "type": "scatterternary"
           }
          ],
          "surface": [
           {
            "colorbar": {
             "outlinewidth": 0,
             "ticks": ""
            },
            "colorscale": [
             [
              0,
              "#0d0887"
             ],
             [
              0.1111111111111111,
              "#46039f"
             ],
             [
              0.2222222222222222,
              "#7201a8"
             ],
             [
              0.3333333333333333,
              "#9c179e"
             ],
             [
              0.4444444444444444,
              "#bd3786"
             ],
             [
              0.5555555555555556,
              "#d8576b"
             ],
             [
              0.6666666666666666,
              "#ed7953"
             ],
             [
              0.7777777777777778,
              "#fb9f3a"
             ],
             [
              0.8888888888888888,
              "#fdca26"
             ],
             [
              1,
              "#f0f921"
             ]
            ],
            "type": "surface"
           }
          ],
          "table": [
           {
            "cells": {
             "fill": {
              "color": "#EBF0F8"
             },
             "line": {
              "color": "white"
             }
            },
            "header": {
             "fill": {
              "color": "#C8D4E3"
             },
             "line": {
              "color": "white"
             }
            },
            "type": "table"
           }
          ]
         },
         "layout": {
          "annotationdefaults": {
           "arrowcolor": "#2a3f5f",
           "arrowhead": 0,
           "arrowwidth": 1
          },
          "autotypenumbers": "strict",
          "coloraxis": {
           "colorbar": {
            "outlinewidth": 0,
            "ticks": ""
           }
          },
          "colorscale": {
           "diverging": [
            [
             0,
             "#8e0152"
            ],
            [
             0.1,
             "#c51b7d"
            ],
            [
             0.2,
             "#de77ae"
            ],
            [
             0.3,
             "#f1b6da"
            ],
            [
             0.4,
             "#fde0ef"
            ],
            [
             0.5,
             "#f7f7f7"
            ],
            [
             0.6,
             "#e6f5d0"
            ],
            [
             0.7,
             "#b8e186"
            ],
            [
             0.8,
             "#7fbc41"
            ],
            [
             0.9,
             "#4d9221"
            ],
            [
             1,
             "#276419"
            ]
           ],
           "sequential": [
            [
             0,
             "#0d0887"
            ],
            [
             0.1111111111111111,
             "#46039f"
            ],
            [
             0.2222222222222222,
             "#7201a8"
            ],
            [
             0.3333333333333333,
             "#9c179e"
            ],
            [
             0.4444444444444444,
             "#bd3786"
            ],
            [
             0.5555555555555556,
             "#d8576b"
            ],
            [
             0.6666666666666666,
             "#ed7953"
            ],
            [
             0.7777777777777778,
             "#fb9f3a"
            ],
            [
             0.8888888888888888,
             "#fdca26"
            ],
            [
             1,
             "#f0f921"
            ]
           ],
           "sequentialminus": [
            [
             0,
             "#0d0887"
            ],
            [
             0.1111111111111111,
             "#46039f"
            ],
            [
             0.2222222222222222,
             "#7201a8"
            ],
            [
             0.3333333333333333,
             "#9c179e"
            ],
            [
             0.4444444444444444,
             "#bd3786"
            ],
            [
             0.5555555555555556,
             "#d8576b"
            ],
            [
             0.6666666666666666,
             "#ed7953"
            ],
            [
             0.7777777777777778,
             "#fb9f3a"
            ],
            [
             0.8888888888888888,
             "#fdca26"
            ],
            [
             1,
             "#f0f921"
            ]
           ]
          },
          "colorway": [
           "#636efa",
           "#EF553B",
           "#00cc96",
           "#ab63fa",
           "#FFA15A",
           "#19d3f3",
           "#FF6692",
           "#B6E880",
           "#FF97FF",
           "#FECB52"
          ],
          "font": {
           "color": "#2a3f5f"
          },
          "geo": {
           "bgcolor": "white",
           "lakecolor": "white",
           "landcolor": "#E5ECF6",
           "showlakes": true,
           "showland": true,
           "subunitcolor": "white"
          },
          "hoverlabel": {
           "align": "left"
          },
          "hovermode": "closest",
          "mapbox": {
           "style": "light"
          },
          "paper_bgcolor": "white",
          "plot_bgcolor": "#E5ECF6",
          "polar": {
           "angularaxis": {
            "gridcolor": "white",
            "linecolor": "white",
            "ticks": ""
           },
           "bgcolor": "#E5ECF6",
           "radialaxis": {
            "gridcolor": "white",
            "linecolor": "white",
            "ticks": ""
           }
          },
          "scene": {
           "xaxis": {
            "backgroundcolor": "#E5ECF6",
            "gridcolor": "white",
            "gridwidth": 2,
            "linecolor": "white",
            "showbackground": true,
            "ticks": "",
            "zerolinecolor": "white"
           },
           "yaxis": {
            "backgroundcolor": "#E5ECF6",
            "gridcolor": "white",
            "gridwidth": 2,
            "linecolor": "white",
            "showbackground": true,
            "ticks": "",
            "zerolinecolor": "white"
           },
           "zaxis": {
            "backgroundcolor": "#E5ECF6",
            "gridcolor": "white",
            "gridwidth": 2,
            "linecolor": "white",
            "showbackground": true,
            "ticks": "",
            "zerolinecolor": "white"
           }
          },
          "shapedefaults": {
           "line": {
            "color": "#2a3f5f"
           }
          },
          "ternary": {
           "aaxis": {
            "gridcolor": "white",
            "linecolor": "white",
            "ticks": ""
           },
           "baxis": {
            "gridcolor": "white",
            "linecolor": "white",
            "ticks": ""
           },
           "bgcolor": "#E5ECF6",
           "caxis": {
            "gridcolor": "white",
            "linecolor": "white",
            "ticks": ""
           }
          },
          "title": {
           "x": 0.05
          },
          "xaxis": {
           "automargin": true,
           "gridcolor": "white",
           "linecolor": "white",
           "ticks": "",
           "title": {
            "standoff": 15
           },
           "zerolinecolor": "white",
           "zerolinewidth": 2
          },
          "yaxis": {
           "automargin": true,
           "gridcolor": "white",
           "linecolor": "white",
           "ticks": "",
           "title": {
            "standoff": 15
           },
           "zerolinecolor": "white",
           "zerolinewidth": 2
          }
         }
        }
       }
      }
     },
     "metadata": {}
    }
   ],
   "source": [
    "import plotly.graph_objects as go\n",
    "\n",
    "# Create traces\n",
    "fig = go.Figure()\n",
    "\n",
    "# Linha com os dados de teste\n",
    "fig.add_trace(go.Scatter(x=df_results.index,\n",
    "                         y=df_results.valor_real,\n",
    "                         mode='lines+markers',\n",
    "                         name='Valor Real'))\n",
    "\n",
    "# Linha com os dados preditos\n",
    "fig.add_trace(go.Scatter(x=df_results.index,\n",
    "                         y=df_results.valor_predito_baseline,\n",
    "                         mode='lines+markers',\n",
    "                         name='Valor Predito Baseline'))\n",
    "# Plota a figura\n",
    "fig.show()"
   ]
  },
  {
   "source": [
    "### Avaliando o modelo de baseline"
   ],
   "cell_type": "markdown",
   "metadata": {}
  },
  {
   "cell_type": "code",
   "execution_count": 34,
   "metadata": {},
   "outputs": [],
   "source": [
    "# Calculando a metri ca RMSE\n",
    "from sklearn.metrics import mean_squared_error\n",
    "from math import sqrt"
   ]
  },
  {
   "cell_type": "code",
   "execution_count": 35,
   "metadata": {},
   "outputs": [],
   "source": [
    "rmse = (np.sqrt(mean_squared_error(y_test, predicoes)))"
   ]
  },
  {
   "cell_type": "code",
   "execution_count": 37,
   "metadata": {},
   "outputs": [
    {
     "output_type": "stream",
     "name": "stdout",
     "text": [
      "Performance do modelo baseline:\n\nRMSE é: 6.205816494411828 \n\nO que quer dizer que nosso modelo pode ter errado o valor 6.205816494411828 pra cima ou pra baixo\n"
     ]
    }
   ],
   "source": [
    "# imprime a performance do modelo\n",
    "print ('Performance do modelo baseline:')\n",
    "print('\\nRMSE é: {} '.format(rmse))\n",
    "print('\\nO que quer dizer que nosso modelo pode ter errado o valor {} pra cima ou pra baixo'.format(rmse))"
   ]
  },
  {
   "source": [
    "## Machine learning\n",
    "### Regressão Linear\n",
    "\n",
    "- `Devido a correlação entre algumas features podemos usar uma regressão linear.`\n",
    "- `Modelo simples e eficiente.`\n",
    "- `Solução rápida e robusta.`"
   ],
   "cell_type": "markdown",
   "metadata": {}
  },
  {
   "cell_type": "code",
   "execution_count": 59,
   "metadata": {},
   "outputs": [],
   "source": [
    "# carrega o pacote LinearRegression \n",
    "from sklearn.linear_model import LinearRegression"
   ]
  },
  {
   "cell_type": "code",
   "execution_count": 60,
   "metadata": {},
   "outputs": [],
   "source": [
    "# carrega objeto do tipo LinearRegression\n",
    "lin_model = LinearRegression()"
   ]
  },
  {
   "cell_type": "code",
   "execution_count": 61,
   "metadata": {},
   "outputs": [
    {
     "output_type": "execute_result",
     "data": {
      "text/plain": [
       "LinearRegression()"
      ]
     },
     "metadata": {},
     "execution_count": 61
    }
   ],
   "source": [
    "# treina o algoritimo de regressão linear\n",
    "lin_model.fit(X_train, y_train)"
   ]
  },
  {
   "cell_type": "code",
   "execution_count": 62,
   "metadata": {},
   "outputs": [],
   "source": [
    "# avaliação do modelo nos dados de teste\n",
    "y_pred = lin_model.predict(X_test)"
   ]
  },
  {
   "cell_type": "code",
   "execution_count": 63,
   "metadata": {},
   "outputs": [],
   "source": [
    "# Calcula a metrica rmse\n",
    "rmse = (np.sqrt(mean_squared_error(y_test, y_pred)))"
   ]
  },
  {
   "cell_type": "code",
   "execution_count": 64,
   "metadata": {},
   "outputs": [
    {
     "output_type": "stream",
     "name": "stdout",
     "text": [
      "Performance do modelo avaliado com os dados de teste:\n\nRMSE é: 4.532753484786164 \n"
     ]
    }
   ],
   "source": [
    "# imprime a performance do modelo\n",
    "print ('Performance do modelo avaliado com os dados de teste:')\n",
    "print('\\nRMSE é: {} '.format(rmse))"
   ]
  },
  {
   "cell_type": "code",
   "execution_count": 65,
   "metadata": {},
   "outputs": [
    {
     "output_type": "execute_result",
     "data": {
      "text/plain": [
       "   valor_real  valor_predito_baseline  valor_predito_reg_linear\n",
       "0        18.5               20.130425                 18.705018\n",
       "1        12.7               20.130425                 12.497096\n",
       "2        21.4               20.130425                 24.224920\n",
       "3        23.7               20.130425                 28.429271\n",
       "4        20.8               20.130425                 18.240804\n",
       "5        25.0               20.130425                 21.591147\n",
       "6         9.7               20.130425                 11.514857\n",
       "7        14.9               20.130425                 14.666961\n",
       "8        34.9               35.719231                 31.189513\n",
       "9        31.6               35.719231                 29.577867"
      ],
      "text/html": "<div>\n<style scoped>\n    .dataframe tbody tr th:only-of-type {\n        vertical-align: middle;\n    }\n\n    .dataframe tbody tr th {\n        vertical-align: top;\n    }\n\n    .dataframe thead th {\n        text-align: right;\n    }\n</style>\n<table border=\"1\" class=\"dataframe\">\n  <thead>\n    <tr style=\"text-align: right;\">\n      <th></th>\n      <th>valor_real</th>\n      <th>valor_predito_baseline</th>\n      <th>valor_predito_reg_linear</th>\n    </tr>\n  </thead>\n  <tbody>\n    <tr>\n      <th>0</th>\n      <td>18.5</td>\n      <td>20.130425</td>\n      <td>18.705018</td>\n    </tr>\n    <tr>\n      <th>1</th>\n      <td>12.7</td>\n      <td>20.130425</td>\n      <td>12.497096</td>\n    </tr>\n    <tr>\n      <th>2</th>\n      <td>21.4</td>\n      <td>20.130425</td>\n      <td>24.224920</td>\n    </tr>\n    <tr>\n      <th>3</th>\n      <td>23.7</td>\n      <td>20.130425</td>\n      <td>28.429271</td>\n    </tr>\n    <tr>\n      <th>4</th>\n      <td>20.8</td>\n      <td>20.130425</td>\n      <td>18.240804</td>\n    </tr>\n    <tr>\n      <th>5</th>\n      <td>25.0</td>\n      <td>20.130425</td>\n      <td>21.591147</td>\n    </tr>\n    <tr>\n      <th>6</th>\n      <td>9.7</td>\n      <td>20.130425</td>\n      <td>11.514857</td>\n    </tr>\n    <tr>\n      <th>7</th>\n      <td>14.9</td>\n      <td>20.130425</td>\n      <td>14.666961</td>\n    </tr>\n    <tr>\n      <th>8</th>\n      <td>34.9</td>\n      <td>35.719231</td>\n      <td>31.189513</td>\n    </tr>\n    <tr>\n      <th>9</th>\n      <td>31.6</td>\n      <td>35.719231</td>\n      <td>29.577867</td>\n    </tr>\n  </tbody>\n</table>\n</div>"
     },
     "metadata": {},
     "execution_count": 65
    }
   ],
   "source": [
    "# atribuindo os resultados ao dataframe\n",
    "df_results['valor_predito_reg_linear'] = y_pred\n",
    "df_results.head(10)"
   ]
  },
  {
   "cell_type": "code",
   "execution_count": 66,
   "metadata": {},
   "outputs": [
    {
     "output_type": "display_data",
     "data": {
      "application/vnd.plotly.v1+json": {
       "config": {
        "plotlyServerURL": "https://plot.ly"
       },
       "data": [
        {
         "mode": "lines+markers",
         "name": "Valor Real",
         "type": "scatter",
         "x": [
          0,
          1,
          2,
          3,
          4,
          5,
          6,
          7,
          8,
          9,
          10,
          11,
          12,
          13,
          14,
          15,
          16,
          17,
          18,
          19,
          20,
          21,
          22,
          23,
          24,
          25,
          26,
          27,
          28,
          29,
          30,
          31,
          32,
          33,
          34,
          35,
          36,
          37,
          38,
          39,
          40,
          41,
          42,
          43,
          44,
          45,
          46,
          47,
          48,
          49,
          50,
          51,
          52,
          53,
          54,
          55,
          56,
          57,
          58,
          59,
          60,
          61,
          62,
          63,
          64,
          65,
          66,
          67,
          68,
          69,
          70,
          71,
          72,
          73,
          74,
          75,
          76,
          77,
          78,
          79,
          80,
          81,
          82,
          83,
          84,
          85,
          86,
          87,
          88,
          89,
          90,
          91,
          92,
          93,
          94,
          95,
          96,
          97
         ],
         "y": [
          18.5,
          12.7,
          21.4,
          23.7,
          20.8,
          25,
          9.7,
          14.9,
          34.9,
          31.6,
          24.7,
          22.9,
          33.2,
          9.6,
          30.5,
          19.2,
          30.3,
          15.4,
          24.3,
          24.4,
          21.5,
          27.9,
          17.3,
          21.4,
          21.7,
          24.4,
          8.5,
          15,
          11.5,
          13.6,
          24.4,
          7.4,
          44,
          21.7,
          19.3,
          16.1,
          29,
          26.4,
          20.3,
          10.8,
          5,
          19.6,
          23.1,
          23.9,
          17.5,
          13.5,
          48.8,
          26.2,
          19.7,
          14.2,
          11,
          19,
          21.7,
          18.4,
          33.4,
          14,
          24.7,
          43.8,
          48.5,
          25,
          22.6,
          21.2,
          22.4,
          23.8,
          19.9,
          16.5,
          16.7,
          17.2,
          13.1,
          19.1,
          18.5,
          22.2,
          22.6,
          19.4,
          15.2,
          19.8,
          19.4,
          21.6,
          18.2,
          19.6,
          19.6,
          23,
          7,
          17.6,
          25,
          41.3,
          24.1,
          22.6,
          18.7,
          22.6,
          13.1,
          22.2,
          16.1,
          39.8,
          25,
          20.5,
          10.4,
          20.4
         ]
        },
        {
         "mode": "lines+markers",
         "name": "Baseline",
         "type": "scatter",
         "x": [
          0,
          1,
          2,
          3,
          4,
          5,
          6,
          7,
          8,
          9,
          10,
          11,
          12,
          13,
          14,
          15,
          16,
          17,
          18,
          19,
          20,
          21,
          22,
          23,
          24,
          25,
          26,
          27,
          28,
          29,
          30,
          31,
          32,
          33,
          34,
          35,
          36,
          37,
          38,
          39,
          40,
          41,
          42,
          43,
          44,
          45,
          46,
          47,
          48,
          49,
          50,
          51,
          52,
          53,
          54,
          55,
          56,
          57,
          58,
          59,
          60,
          61,
          62,
          63,
          64,
          65,
          66,
          67,
          68,
          69,
          70,
          71,
          72,
          73,
          74,
          75,
          76,
          77,
          78,
          79,
          80,
          81,
          82,
          83,
          84,
          85,
          86,
          87,
          88,
          89,
          90,
          91,
          92,
          93,
          94,
          95,
          96,
          97
         ],
         "y": [
          20.1304245283019,
          20.1304245283019,
          20.1304245283019,
          20.1304245283019,
          20.1304245283019,
          20.1304245283019,
          20.1304245283019,
          20.1304245283019,
          35.71923076923077,
          35.71923076923077,
          20.1304245283019,
          20.1304245283019,
          35.71923076923077,
          20.1304245283019,
          20.1304245283019,
          20.1304245283019,
          35.71923076923077,
          20.1304245283019,
          20.1304245283019,
          20.1304245283019,
          20.1304245283019,
          20.1304245283019,
          20.1304245283019,
          20.1304245283019,
          20.1304245283019,
          20.1304245283019,
          20.1304245283019,
          35.71923076923077,
          20.1304245283019,
          20.1304245283019,
          20.1304245283019,
          20.1304245283019,
          35.71923076923077,
          20.1304245283019,
          20.1304245283019,
          14.921428571428574,
          35.71923076923077,
          20.1304245283019,
          20.1304245283019,
          20.1304245283019,
          20.1304245283019,
          20.1304245283019,
          20.1304245283019,
          20.1304245283019,
          20.1304245283019,
          20.1304245283019,
          35.71923076923077,
          20.1304245283019,
          20.1304245283019,
          20.1304245283019,
          20.1304245283019,
          20.1304245283019,
          20.1304245283019,
          20.1304245283019,
          35.71923076923077,
          20.1304245283019,
          20.1304245283019,
          35.71923076923077,
          35.71923076923077,
          20.1304245283019,
          20.1304245283019,
          20.1304245283019,
          20.1304245283019,
          20.1304245283019,
          20.1304245283019,
          20.1304245283019,
          20.1304245283019,
          20.1304245283019,
          20.1304245283019,
          20.1304245283019,
          20.1304245283019,
          20.1304245283019,
          20.1304245283019,
          20.1304245283019,
          20.1304245283019,
          20.1304245283019,
          20.1304245283019,
          20.1304245283019,
          20.1304245283019,
          20.1304245283019,
          20.1304245283019,
          20.1304245283019,
          14.921428571428574,
          20.1304245283019,
          20.1304245283019,
          20.1304245283019,
          20.1304245283019,
          20.1304245283019,
          20.1304245283019,
          20.1304245283019,
          20.1304245283019,
          20.1304245283019,
          20.1304245283019,
          35.71923076923077,
          35.71923076923077,
          20.1304245283019,
          20.1304245283019,
          20.1304245283019
         ]
        },
        {
         "line": {
          "color": "#FEBFB3"
         },
         "mode": "lines",
         "name": "Valor Predito Regressão Linear",
         "type": "scatter",
         "x": [
          0,
          1,
          2,
          3,
          4,
          5,
          6,
          7,
          8,
          9,
          10,
          11,
          12,
          13,
          14,
          15,
          16,
          17,
          18,
          19,
          20,
          21,
          22,
          23,
          24,
          25,
          26,
          27,
          28,
          29,
          30,
          31,
          32,
          33,
          34,
          35,
          36,
          37,
          38,
          39,
          40,
          41,
          42,
          43,
          44,
          45,
          46,
          47,
          48,
          49,
          50,
          51,
          52,
          53,
          54,
          55,
          56,
          57,
          58,
          59,
          60,
          61,
          62,
          63,
          64,
          65,
          66,
          67,
          68,
          69,
          70,
          71,
          72,
          73,
          74,
          75,
          76,
          77,
          78,
          79,
          80,
          81,
          82,
          83,
          84,
          85,
          86,
          87,
          88,
          89,
          90,
          91,
          92,
          93,
          94,
          95,
          96,
          97
         ],
         "y": [
          18.70501848106695,
          12.497095516185738,
          24.22491965679478,
          28.42927057661392,
          18.240804135076125,
          21.59114663676924,
          11.51485699022146,
          14.666960621524142,
          31.189512912471887,
          29.57786681405491,
          28.347429680860987,
          26.911118129628836,
          29.70163413767084,
          14.547225938941322,
          30.366130641335346,
          24.342911246516845,
          33.39557377777198,
          16.516415955374185,
          25.135832403187187,
          26.605031766258204,
          22.325376659483215,
          27.36838461536491,
          12.178000586951171,
          19.716106689078796,
          21.29159734190754,
          23.84779637184583,
          14.305544211864536,
          21.14993230117048,
          13.839039953136375,
          15.227352489192874,
          25.97991098610236,
          7.976596433904103,
          33.228287434207154,
          26.319310742856732,
          24.503078300420796,
          18.05906637774344,
          33.58395964367327,
          27.870160015175372,
          21.55379059283636,
          11.16613208013866,
          7.49015380178831,
          18.914376527451935,
          27.83199447889143,
          24.416020347834582,
          25.1606204025742,
          16.413519934728722,
          35.51457160043188,
          26.29791708332756,
          22.26388364110458,
          18.062544290690127,
          14.295607146348074,
          21.53843925564789,
          20.632599107403404,
          20.611631115212973,
          29.744193737405137,
          13.81888394726365,
          26.157906760394418,
          30.805247185743028,
          33.823742148727746,
          24.57220712714704,
          24.21517914682618,
          23.584128509924355,
          22.64237334859078,
          21.14957552118839,
          19.308321244625464,
          28.273102378941843,
          18.047595379326435,
          13.896589089189288,
          17.141097300268925,
          19.77400928079087,
          20.916313744564675,
          25.65099415594178,
          25.97948483080598,
          18.427009970368566,
          15.252785929299016,
          27.224116876170527,
          24.7421982895757,
          25.409933707762672,
          21.64474638619783,
          20.06637897348993,
          17.748683064335417,
          21.85427100592557,
          -0.18405367771253722,
          21.1619187859388,
          28.22567919185476,
          27.722564249322634,
          28.129277502471645,
          21.483397718099628,
          21.734465006944163,
          28.016965356096904,
          15.591826333987255,
          26.300864601031382,
          18.053664942388075,
          29.315177978544,
          25.88791245570838,
          15.453119078358494,
          8.475099721751356,
          20.426087072821428
         ]
        }
       ],
       "layout": {
        "template": {
         "data": {
          "bar": [
           {
            "error_x": {
             "color": "#2a3f5f"
            },
            "error_y": {
             "color": "#2a3f5f"
            },
            "marker": {
             "line": {
              "color": "#E5ECF6",
              "width": 0.5
             }
            },
            "type": "bar"
           }
          ],
          "barpolar": [
           {
            "marker": {
             "line": {
              "color": "#E5ECF6",
              "width": 0.5
             }
            },
            "type": "barpolar"
           }
          ],
          "carpet": [
           {
            "aaxis": {
             "endlinecolor": "#2a3f5f",
             "gridcolor": "white",
             "linecolor": "white",
             "minorgridcolor": "white",
             "startlinecolor": "#2a3f5f"
            },
            "baxis": {
             "endlinecolor": "#2a3f5f",
             "gridcolor": "white",
             "linecolor": "white",
             "minorgridcolor": "white",
             "startlinecolor": "#2a3f5f"
            },
            "type": "carpet"
           }
          ],
          "choropleth": [
           {
            "colorbar": {
             "outlinewidth": 0,
             "ticks": ""
            },
            "type": "choropleth"
           }
          ],
          "contour": [
           {
            "colorbar": {
             "outlinewidth": 0,
             "ticks": ""
            },
            "colorscale": [
             [
              0,
              "#0d0887"
             ],
             [
              0.1111111111111111,
              "#46039f"
             ],
             [
              0.2222222222222222,
              "#7201a8"
             ],
             [
              0.3333333333333333,
              "#9c179e"
             ],
             [
              0.4444444444444444,
              "#bd3786"
             ],
             [
              0.5555555555555556,
              "#d8576b"
             ],
             [
              0.6666666666666666,
              "#ed7953"
             ],
             [
              0.7777777777777778,
              "#fb9f3a"
             ],
             [
              0.8888888888888888,
              "#fdca26"
             ],
             [
              1,
              "#f0f921"
             ]
            ],
            "type": "contour"
           }
          ],
          "contourcarpet": [
           {
            "colorbar": {
             "outlinewidth": 0,
             "ticks": ""
            },
            "type": "contourcarpet"
           }
          ],
          "heatmap": [
           {
            "colorbar": {
             "outlinewidth": 0,
             "ticks": ""
            },
            "colorscale": [
             [
              0,
              "#0d0887"
             ],
             [
              0.1111111111111111,
              "#46039f"
             ],
             [
              0.2222222222222222,
              "#7201a8"
             ],
             [
              0.3333333333333333,
              "#9c179e"
             ],
             [
              0.4444444444444444,
              "#bd3786"
             ],
             [
              0.5555555555555556,
              "#d8576b"
             ],
             [
              0.6666666666666666,
              "#ed7953"
             ],
             [
              0.7777777777777778,
              "#fb9f3a"
             ],
             [
              0.8888888888888888,
              "#fdca26"
             ],
             [
              1,
              "#f0f921"
             ]
            ],
            "type": "heatmap"
           }
          ],
          "heatmapgl": [
           {
            "colorbar": {
             "outlinewidth": 0,
             "ticks": ""
            },
            "colorscale": [
             [
              0,
              "#0d0887"
             ],
             [
              0.1111111111111111,
              "#46039f"
             ],
             [
              0.2222222222222222,
              "#7201a8"
             ],
             [
              0.3333333333333333,
              "#9c179e"
             ],
             [
              0.4444444444444444,
              "#bd3786"
             ],
             [
              0.5555555555555556,
              "#d8576b"
             ],
             [
              0.6666666666666666,
              "#ed7953"
             ],
             [
              0.7777777777777778,
              "#fb9f3a"
             ],
             [
              0.8888888888888888,
              "#fdca26"
             ],
             [
              1,
              "#f0f921"
             ]
            ],
            "type": "heatmapgl"
           }
          ],
          "histogram": [
           {
            "marker": {
             "colorbar": {
              "outlinewidth": 0,
              "ticks": ""
             }
            },
            "type": "histogram"
           }
          ],
          "histogram2d": [
           {
            "colorbar": {
             "outlinewidth": 0,
             "ticks": ""
            },
            "colorscale": [
             [
              0,
              "#0d0887"
             ],
             [
              0.1111111111111111,
              "#46039f"
             ],
             [
              0.2222222222222222,
              "#7201a8"
             ],
             [
              0.3333333333333333,
              "#9c179e"
             ],
             [
              0.4444444444444444,
              "#bd3786"
             ],
             [
              0.5555555555555556,
              "#d8576b"
             ],
             [
              0.6666666666666666,
              "#ed7953"
             ],
             [
              0.7777777777777778,
              "#fb9f3a"
             ],
             [
              0.8888888888888888,
              "#fdca26"
             ],
             [
              1,
              "#f0f921"
             ]
            ],
            "type": "histogram2d"
           }
          ],
          "histogram2dcontour": [
           {
            "colorbar": {
             "outlinewidth": 0,
             "ticks": ""
            },
            "colorscale": [
             [
              0,
              "#0d0887"
             ],
             [
              0.1111111111111111,
              "#46039f"
             ],
             [
              0.2222222222222222,
              "#7201a8"
             ],
             [
              0.3333333333333333,
              "#9c179e"
             ],
             [
              0.4444444444444444,
              "#bd3786"
             ],
             [
              0.5555555555555556,
              "#d8576b"
             ],
             [
              0.6666666666666666,
              "#ed7953"
             ],
             [
              0.7777777777777778,
              "#fb9f3a"
             ],
             [
              0.8888888888888888,
              "#fdca26"
             ],
             [
              1,
              "#f0f921"
             ]
            ],
            "type": "histogram2dcontour"
           }
          ],
          "mesh3d": [
           {
            "colorbar": {
             "outlinewidth": 0,
             "ticks": ""
            },
            "type": "mesh3d"
           }
          ],
          "parcoords": [
           {
            "line": {
             "colorbar": {
              "outlinewidth": 0,
              "ticks": ""
             }
            },
            "type": "parcoords"
           }
          ],
          "pie": [
           {
            "automargin": true,
            "type": "pie"
           }
          ],
          "scatter": [
           {
            "marker": {
             "colorbar": {
              "outlinewidth": 0,
              "ticks": ""
             }
            },
            "type": "scatter"
           }
          ],
          "scatter3d": [
           {
            "line": {
             "colorbar": {
              "outlinewidth": 0,
              "ticks": ""
             }
            },
            "marker": {
             "colorbar": {
              "outlinewidth": 0,
              "ticks": ""
             }
            },
            "type": "scatter3d"
           }
          ],
          "scattercarpet": [
           {
            "marker": {
             "colorbar": {
              "outlinewidth": 0,
              "ticks": ""
             }
            },
            "type": "scattercarpet"
           }
          ],
          "scattergeo": [
           {
            "marker": {
             "colorbar": {
              "outlinewidth": 0,
              "ticks": ""
             }
            },
            "type": "scattergeo"
           }
          ],
          "scattergl": [
           {
            "marker": {
             "colorbar": {
              "outlinewidth": 0,
              "ticks": ""
             }
            },
            "type": "scattergl"
           }
          ],
          "scattermapbox": [
           {
            "marker": {
             "colorbar": {
              "outlinewidth": 0,
              "ticks": ""
             }
            },
            "type": "scattermapbox"
           }
          ],
          "scatterpolar": [
           {
            "marker": {
             "colorbar": {
              "outlinewidth": 0,
              "ticks": ""
             }
            },
            "type": "scatterpolar"
           }
          ],
          "scatterpolargl": [
           {
            "marker": {
             "colorbar": {
              "outlinewidth": 0,
              "ticks": ""
             }
            },
            "type": "scatterpolargl"
           }
          ],
          "scatterternary": [
           {
            "marker": {
             "colorbar": {
              "outlinewidth": 0,
              "ticks": ""
             }
            },
            "type": "scatterternary"
           }
          ],
          "surface": [
           {
            "colorbar": {
             "outlinewidth": 0,
             "ticks": ""
            },
            "colorscale": [
             [
              0,
              "#0d0887"
             ],
             [
              0.1111111111111111,
              "#46039f"
             ],
             [
              0.2222222222222222,
              "#7201a8"
             ],
             [
              0.3333333333333333,
              "#9c179e"
             ],
             [
              0.4444444444444444,
              "#bd3786"
             ],
             [
              0.5555555555555556,
              "#d8576b"
             ],
             [
              0.6666666666666666,
              "#ed7953"
             ],
             [
              0.7777777777777778,
              "#fb9f3a"
             ],
             [
              0.8888888888888888,
              "#fdca26"
             ],
             [
              1,
              "#f0f921"
             ]
            ],
            "type": "surface"
           }
          ],
          "table": [
           {
            "cells": {
             "fill": {
              "color": "#EBF0F8"
             },
             "line": {
              "color": "white"
             }
            },
            "header": {
             "fill": {
              "color": "#C8D4E3"
             },
             "line": {
              "color": "white"
             }
            },
            "type": "table"
           }
          ]
         },
         "layout": {
          "annotationdefaults": {
           "arrowcolor": "#2a3f5f",
           "arrowhead": 0,
           "arrowwidth": 1
          },
          "autotypenumbers": "strict",
          "coloraxis": {
           "colorbar": {
            "outlinewidth": 0,
            "ticks": ""
           }
          },
          "colorscale": {
           "diverging": [
            [
             0,
             "#8e0152"
            ],
            [
             0.1,
             "#c51b7d"
            ],
            [
             0.2,
             "#de77ae"
            ],
            [
             0.3,
             "#f1b6da"
            ],
            [
             0.4,
             "#fde0ef"
            ],
            [
             0.5,
             "#f7f7f7"
            ],
            [
             0.6,
             "#e6f5d0"
            ],
            [
             0.7,
             "#b8e186"
            ],
            [
             0.8,
             "#7fbc41"
            ],
            [
             0.9,
             "#4d9221"
            ],
            [
             1,
             "#276419"
            ]
           ],
           "sequential": [
            [
             0,
             "#0d0887"
            ],
            [
             0.1111111111111111,
             "#46039f"
            ],
            [
             0.2222222222222222,
             "#7201a8"
            ],
            [
             0.3333333333333333,
             "#9c179e"
            ],
            [
             0.4444444444444444,
             "#bd3786"
            ],
            [
             0.5555555555555556,
             "#d8576b"
            ],
            [
             0.6666666666666666,
             "#ed7953"
            ],
            [
             0.7777777777777778,
             "#fb9f3a"
            ],
            [
             0.8888888888888888,
             "#fdca26"
            ],
            [
             1,
             "#f0f921"
            ]
           ],
           "sequentialminus": [
            [
             0,
             "#0d0887"
            ],
            [
             0.1111111111111111,
             "#46039f"
            ],
            [
             0.2222222222222222,
             "#7201a8"
            ],
            [
             0.3333333333333333,
             "#9c179e"
            ],
            [
             0.4444444444444444,
             "#bd3786"
            ],
            [
             0.5555555555555556,
             "#d8576b"
            ],
            [
             0.6666666666666666,
             "#ed7953"
            ],
            [
             0.7777777777777778,
             "#fb9f3a"
            ],
            [
             0.8888888888888888,
             "#fdca26"
            ],
            [
             1,
             "#f0f921"
            ]
           ]
          },
          "colorway": [
           "#636efa",
           "#EF553B",
           "#00cc96",
           "#ab63fa",
           "#FFA15A",
           "#19d3f3",
           "#FF6692",
           "#B6E880",
           "#FF97FF",
           "#FECB52"
          ],
          "font": {
           "color": "#2a3f5f"
          },
          "geo": {
           "bgcolor": "white",
           "lakecolor": "white",
           "landcolor": "#E5ECF6",
           "showlakes": true,
           "showland": true,
           "subunitcolor": "white"
          },
          "hoverlabel": {
           "align": "left"
          },
          "hovermode": "closest",
          "mapbox": {
           "style": "light"
          },
          "paper_bgcolor": "white",
          "plot_bgcolor": "#E5ECF6",
          "polar": {
           "angularaxis": {
            "gridcolor": "white",
            "linecolor": "white",
            "ticks": ""
           },
           "bgcolor": "#E5ECF6",
           "radialaxis": {
            "gridcolor": "white",
            "linecolor": "white",
            "ticks": ""
           }
          },
          "scene": {
           "xaxis": {
            "backgroundcolor": "#E5ECF6",
            "gridcolor": "white",
            "gridwidth": 2,
            "linecolor": "white",
            "showbackground": true,
            "ticks": "",
            "zerolinecolor": "white"
           },
           "yaxis": {
            "backgroundcolor": "#E5ECF6",
            "gridcolor": "white",
            "gridwidth": 2,
            "linecolor": "white",
            "showbackground": true,
            "ticks": "",
            "zerolinecolor": "white"
           },
           "zaxis": {
            "backgroundcolor": "#E5ECF6",
            "gridcolor": "white",
            "gridwidth": 2,
            "linecolor": "white",
            "showbackground": true,
            "ticks": "",
            "zerolinecolor": "white"
           }
          },
          "shapedefaults": {
           "line": {
            "color": "#2a3f5f"
           }
          },
          "ternary": {
           "aaxis": {
            "gridcolor": "white",
            "linecolor": "white",
            "ticks": ""
           },
           "baxis": {
            "gridcolor": "white",
            "linecolor": "white",
            "ticks": ""
           },
           "bgcolor": "#E5ECF6",
           "caxis": {
            "gridcolor": "white",
            "linecolor": "white",
            "ticks": ""
           }
          },
          "title": {
           "x": 0.05
          },
          "xaxis": {
           "automargin": true,
           "gridcolor": "white",
           "linecolor": "white",
           "ticks": "",
           "title": {
            "standoff": 15
           },
           "zerolinecolor": "white",
           "zerolinewidth": 2
          },
          "yaxis": {
           "automargin": true,
           "gridcolor": "white",
           "linecolor": "white",
           "ticks": "",
           "title": {
            "standoff": 15
           },
           "zerolinecolor": "white",
           "zerolinewidth": 2
          }
         }
        }
       }
      }
     },
     "metadata": {}
    }
   ],
   "source": [
    "import plotly.graph_objects as go\n",
    "\n",
    "# Create traces\n",
    "fig = go.Figure()\n",
    "\n",
    "# Linha com os dados de teste\n",
    "fig.add_trace(go.Scatter(x=df_results.index,\n",
    "                         y=df_results.valor_real,\n",
    "                         mode='lines+markers',\n",
    "                         name='Valor Real'))\n",
    "\n",
    "# Linha com os dados de baseline\n",
    "fig.add_trace(go.Scatter(x=df_results.index,\n",
    "                         y=df_results.valor_predito_baseline,\n",
    "                         mode='lines+markers',\n",
    "                         name='Baseline'))\n",
    "\n",
    "# Linha com os dados preditos pela regressão linear\n",
    "fig.add_trace(go.Scatter(x=df_results.index,\n",
    "                         y=df_results.valor_predito_reg_linear,\n",
    "                         mode='lines',\n",
    "                         line = dict(color = '#FEBFB3'),\n",
    "                         name='Valor Predito Regressão Linear'))\n",
    "\n",
    "# Plota a figura\n",
    "fig.show()"
   ]
  },
  {
   "source": [
    "##### Arvore de decisão\n",
    "\n",
    "*   `Algoritmo de aprendizado supervisionado`\n",
    "*   `Explicabilidade do Modelo`\n",
    "*   `Simples`"
   ],
   "cell_type": "markdown",
   "metadata": {}
  },
  {
   "cell_type": "code",
   "execution_count": 67,
   "metadata": {},
   "outputs": [],
   "source": [
    "# importa o pct da arvore\n",
    "from sklearn.tree import DecisionTreeRegressor"
   ]
  },
  {
   "cell_type": "code",
   "execution_count": 68,
   "metadata": {},
   "outputs": [],
   "source": [
    "#cria o obj\n",
    "regressor = DecisionTreeRegressor()"
   ]
  },
  {
   "cell_type": "code",
   "execution_count": 69,
   "metadata": {},
   "outputs": [
    {
     "output_type": "execute_result",
     "data": {
      "text/plain": [
       "DecisionTreeRegressor()"
      ]
     },
     "metadata": {},
     "execution_count": 69
    }
   ],
   "source": [
    "regressor.fit(X_train, y_train)"
   ]
  },
  {
   "source": [
    "### Avaliando o modelo da arvore de decisão"
   ],
   "cell_type": "markdown",
   "metadata": {}
  },
  {
   "cell_type": "code",
   "execution_count": 71,
   "metadata": {},
   "outputs": [],
   "source": [
    "# fazendo previsões\n",
    "y_pred = regressor.predict(X_test)"
   ]
  },
  {
   "cell_type": "code",
   "execution_count": 72,
   "metadata": {},
   "outputs": [],
   "source": [
    "# Adicionando ao modelo\n",
    "df_results['valor_predito_arvore'] = y_pred"
   ]
  },
  {
   "cell_type": "code",
   "execution_count": 73,
   "metadata": {},
   "outputs": [
    {
     "output_type": "execute_result",
     "data": {
      "text/plain": [
       "   valor_real  valor_predito_baseline  valor_predito_reg_linear  \\\n",
       "0        18.5               20.130425                 18.705018   \n",
       "1        12.7               20.130425                 12.497096   \n",
       "2        21.4               20.130425                 24.224920   \n",
       "3        23.7               20.130425                 28.429271   \n",
       "4        20.8               20.130425                 18.240804   \n",
       "5        25.0               20.130425                 21.591147   \n",
       "6         9.7               20.130425                 11.514857   \n",
       "7        14.9               20.130425                 14.666961   \n",
       "8        34.9               35.719231                 31.189513   \n",
       "9        31.6               35.719231                 29.577867   \n",
       "\n",
       "   valor_predito_arvore  \n",
       "0                  23.1  \n",
       "1                  23.2  \n",
       "2                  24.5  \n",
       "3                  23.3  \n",
       "4                  21.2  \n",
       "5                  27.5  \n",
       "6                   7.2  \n",
       "7                  17.1  \n",
       "8                  33.3  \n",
       "9                  31.7  "
      ],
      "text/html": "<div>\n<style scoped>\n    .dataframe tbody tr th:only-of-type {\n        vertical-align: middle;\n    }\n\n    .dataframe tbody tr th {\n        vertical-align: top;\n    }\n\n    .dataframe thead th {\n        text-align: right;\n    }\n</style>\n<table border=\"1\" class=\"dataframe\">\n  <thead>\n    <tr style=\"text-align: right;\">\n      <th></th>\n      <th>valor_real</th>\n      <th>valor_predito_baseline</th>\n      <th>valor_predito_reg_linear</th>\n      <th>valor_predito_arvore</th>\n    </tr>\n  </thead>\n  <tbody>\n    <tr>\n      <th>0</th>\n      <td>18.5</td>\n      <td>20.130425</td>\n      <td>18.705018</td>\n      <td>23.1</td>\n    </tr>\n    <tr>\n      <th>1</th>\n      <td>12.7</td>\n      <td>20.130425</td>\n      <td>12.497096</td>\n      <td>23.2</td>\n    </tr>\n    <tr>\n      <th>2</th>\n      <td>21.4</td>\n      <td>20.130425</td>\n      <td>24.224920</td>\n      <td>24.5</td>\n    </tr>\n    <tr>\n      <th>3</th>\n      <td>23.7</td>\n      <td>20.130425</td>\n      <td>28.429271</td>\n      <td>23.3</td>\n    </tr>\n    <tr>\n      <th>4</th>\n      <td>20.8</td>\n      <td>20.130425</td>\n      <td>18.240804</td>\n      <td>21.2</td>\n    </tr>\n    <tr>\n      <th>5</th>\n      <td>25.0</td>\n      <td>20.130425</td>\n      <td>21.591147</td>\n      <td>27.5</td>\n    </tr>\n    <tr>\n      <th>6</th>\n      <td>9.7</td>\n      <td>20.130425</td>\n      <td>11.514857</td>\n      <td>7.2</td>\n    </tr>\n    <tr>\n      <th>7</th>\n      <td>14.9</td>\n      <td>20.130425</td>\n      <td>14.666961</td>\n      <td>17.1</td>\n    </tr>\n    <tr>\n      <th>8</th>\n      <td>34.9</td>\n      <td>35.719231</td>\n      <td>31.189513</td>\n      <td>33.3</td>\n    </tr>\n    <tr>\n      <th>9</th>\n      <td>31.6</td>\n      <td>35.719231</td>\n      <td>29.577867</td>\n      <td>31.7</td>\n    </tr>\n  </tbody>\n</table>\n</div>"
     },
     "metadata": {},
     "execution_count": 73
    }
   ],
   "source": [
    "df_results.head(10)"
   ]
  },
  {
   "cell_type": "code",
   "execution_count": 74,
   "metadata": {},
   "outputs": [
    {
     "output_type": "display_data",
     "data": {
      "application/vnd.plotly.v1+json": {
       "config": {
        "plotlyServerURL": "https://plot.ly"
       },
       "data": [
        {
         "mode": "lines+markers",
         "name": "Valor Real",
         "type": "scatter",
         "x": [
          0,
          1,
          2,
          3,
          4,
          5,
          6,
          7,
          8,
          9,
          10,
          11,
          12,
          13,
          14,
          15,
          16,
          17,
          18,
          19,
          20,
          21,
          22,
          23,
          24,
          25,
          26,
          27,
          28,
          29,
          30,
          31,
          32,
          33,
          34,
          35,
          36,
          37,
          38,
          39,
          40,
          41,
          42,
          43,
          44,
          45,
          46,
          47,
          48,
          49,
          50,
          51,
          52,
          53,
          54,
          55,
          56,
          57,
          58,
          59,
          60,
          61,
          62,
          63,
          64,
          65,
          66,
          67,
          68,
          69,
          70,
          71,
          72,
          73,
          74,
          75,
          76,
          77,
          78,
          79,
          80,
          81,
          82,
          83,
          84,
          85,
          86,
          87,
          88,
          89,
          90,
          91,
          92,
          93,
          94,
          95,
          96,
          97
         ],
         "y": [
          18.5,
          12.7,
          21.4,
          23.7,
          20.8,
          25,
          9.7,
          14.9,
          34.9,
          31.6,
          24.7,
          22.9,
          33.2,
          9.6,
          30.5,
          19.2,
          30.3,
          15.4,
          24.3,
          24.4,
          21.5,
          27.9,
          17.3,
          21.4,
          21.7,
          24.4,
          8.5,
          15,
          11.5,
          13.6,
          24.4,
          7.4,
          44,
          21.7,
          19.3,
          16.1,
          29,
          26.4,
          20.3,
          10.8,
          5,
          19.6,
          23.1,
          23.9,
          17.5,
          13.5,
          48.8,
          26.2,
          19.7,
          14.2,
          11,
          19,
          21.7,
          18.4,
          33.4,
          14,
          24.7,
          43.8,
          48.5,
          25,
          22.6,
          21.2,
          22.4,
          23.8,
          19.9,
          16.5,
          16.7,
          17.2,
          13.1,
          19.1,
          18.5,
          22.2,
          22.6,
          19.4,
          15.2,
          19.8,
          19.4,
          21.6,
          18.2,
          19.6,
          19.6,
          23,
          7,
          17.6,
          25,
          41.3,
          24.1,
          22.6,
          18.7,
          22.6,
          13.1,
          22.2,
          16.1,
          39.8,
          25,
          20.5,
          10.4,
          20.4
         ]
        },
        {
         "mode": "lines+markers",
         "name": "Valor Predito Baseline",
         "type": "scatter",
         "x": [
          0,
          1,
          2,
          3,
          4,
          5,
          6,
          7,
          8,
          9,
          10,
          11,
          12,
          13,
          14,
          15,
          16,
          17,
          18,
          19,
          20,
          21,
          22,
          23,
          24,
          25,
          26,
          27,
          28,
          29,
          30,
          31,
          32,
          33,
          34,
          35,
          36,
          37,
          38,
          39,
          40,
          41,
          42,
          43,
          44,
          45,
          46,
          47,
          48,
          49,
          50,
          51,
          52,
          53,
          54,
          55,
          56,
          57,
          58,
          59,
          60,
          61,
          62,
          63,
          64,
          65,
          66,
          67,
          68,
          69,
          70,
          71,
          72,
          73,
          74,
          75,
          76,
          77,
          78,
          79,
          80,
          81,
          82,
          83,
          84,
          85,
          86,
          87,
          88,
          89,
          90,
          91,
          92,
          93,
          94,
          95,
          96,
          97
         ],
         "y": [
          20.1304245283019,
          20.1304245283019,
          20.1304245283019,
          20.1304245283019,
          20.1304245283019,
          20.1304245283019,
          20.1304245283019,
          20.1304245283019,
          35.71923076923077,
          35.71923076923077,
          20.1304245283019,
          20.1304245283019,
          35.71923076923077,
          20.1304245283019,
          20.1304245283019,
          20.1304245283019,
          35.71923076923077,
          20.1304245283019,
          20.1304245283019,
          20.1304245283019,
          20.1304245283019,
          20.1304245283019,
          20.1304245283019,
          20.1304245283019,
          20.1304245283019,
          20.1304245283019,
          20.1304245283019,
          35.71923076923077,
          20.1304245283019,
          20.1304245283019,
          20.1304245283019,
          20.1304245283019,
          35.71923076923077,
          20.1304245283019,
          20.1304245283019,
          14.921428571428574,
          35.71923076923077,
          20.1304245283019,
          20.1304245283019,
          20.1304245283019,
          20.1304245283019,
          20.1304245283019,
          20.1304245283019,
          20.1304245283019,
          20.1304245283019,
          20.1304245283019,
          35.71923076923077,
          20.1304245283019,
          20.1304245283019,
          20.1304245283019,
          20.1304245283019,
          20.1304245283019,
          20.1304245283019,
          20.1304245283019,
          35.71923076923077,
          20.1304245283019,
          20.1304245283019,
          35.71923076923077,
          35.71923076923077,
          20.1304245283019,
          20.1304245283019,
          20.1304245283019,
          20.1304245283019,
          20.1304245283019,
          20.1304245283019,
          20.1304245283019,
          20.1304245283019,
          20.1304245283019,
          20.1304245283019,
          20.1304245283019,
          20.1304245283019,
          20.1304245283019,
          20.1304245283019,
          20.1304245283019,
          20.1304245283019,
          20.1304245283019,
          20.1304245283019,
          20.1304245283019,
          20.1304245283019,
          20.1304245283019,
          20.1304245283019,
          20.1304245283019,
          14.921428571428574,
          20.1304245283019,
          20.1304245283019,
          20.1304245283019,
          20.1304245283019,
          20.1304245283019,
          20.1304245283019,
          20.1304245283019,
          20.1304245283019,
          20.1304245283019,
          20.1304245283019,
          35.71923076923077,
          35.71923076923077,
          20.1304245283019,
          20.1304245283019,
          20.1304245283019
         ]
        },
        {
         "mode": "lines+markers",
         "name": "Valor Predito Reg Liner",
         "type": "scatter",
         "x": [
          0,
          1,
          2,
          3,
          4,
          5,
          6,
          7,
          8,
          9,
          10,
          11,
          12,
          13,
          14,
          15,
          16,
          17,
          18,
          19,
          20,
          21,
          22,
          23,
          24,
          25,
          26,
          27,
          28,
          29,
          30,
          31,
          32,
          33,
          34,
          35,
          36,
          37,
          38,
          39,
          40,
          41,
          42,
          43,
          44,
          45,
          46,
          47,
          48,
          49,
          50,
          51,
          52,
          53,
          54,
          55,
          56,
          57,
          58,
          59,
          60,
          61,
          62,
          63,
          64,
          65,
          66,
          67,
          68,
          69,
          70,
          71,
          72,
          73,
          74,
          75,
          76,
          77,
          78,
          79,
          80,
          81,
          82,
          83,
          84,
          85,
          86,
          87,
          88,
          89,
          90,
          91,
          92,
          93,
          94,
          95,
          96,
          97
         ],
         "y": [
          18.70501848106695,
          12.497095516185738,
          24.22491965679478,
          28.42927057661392,
          18.240804135076125,
          21.59114663676924,
          11.51485699022146,
          14.666960621524142,
          31.189512912471887,
          29.57786681405491,
          28.347429680860987,
          26.911118129628836,
          29.70163413767084,
          14.547225938941322,
          30.366130641335346,
          24.342911246516845,
          33.39557377777198,
          16.516415955374185,
          25.135832403187187,
          26.605031766258204,
          22.325376659483215,
          27.36838461536491,
          12.178000586951171,
          19.716106689078796,
          21.29159734190754,
          23.84779637184583,
          14.305544211864536,
          21.14993230117048,
          13.839039953136375,
          15.227352489192874,
          25.97991098610236,
          7.976596433904103,
          33.228287434207154,
          26.319310742856732,
          24.503078300420796,
          18.05906637774344,
          33.58395964367327,
          27.870160015175372,
          21.55379059283636,
          11.16613208013866,
          7.49015380178831,
          18.914376527451935,
          27.83199447889143,
          24.416020347834582,
          25.1606204025742,
          16.413519934728722,
          35.51457160043188,
          26.29791708332756,
          22.26388364110458,
          18.062544290690127,
          14.295607146348074,
          21.53843925564789,
          20.632599107403404,
          20.611631115212973,
          29.744193737405137,
          13.81888394726365,
          26.157906760394418,
          30.805247185743028,
          33.823742148727746,
          24.57220712714704,
          24.21517914682618,
          23.584128509924355,
          22.64237334859078,
          21.14957552118839,
          19.308321244625464,
          28.273102378941843,
          18.047595379326435,
          13.896589089189288,
          17.141097300268925,
          19.77400928079087,
          20.916313744564675,
          25.65099415594178,
          25.97948483080598,
          18.427009970368566,
          15.252785929299016,
          27.224116876170527,
          24.7421982895757,
          25.409933707762672,
          21.64474638619783,
          20.06637897348993,
          17.748683064335417,
          21.85427100592557,
          -0.18405367771253722,
          21.1619187859388,
          28.22567919185476,
          27.722564249322634,
          28.129277502471645,
          21.483397718099628,
          21.734465006944163,
          28.016965356096904,
          15.591826333987255,
          26.300864601031382,
          18.053664942388075,
          29.315177978544,
          25.88791245570838,
          15.453119078358494,
          8.475099721751356,
          20.426087072821428
         ]
        },
        {
         "mode": "lines+markers",
         "name": "Valor Predito Arvore",
         "type": "scatter",
         "x": [
          0,
          1,
          2,
          3,
          4,
          5,
          6,
          7,
          8,
          9,
          10,
          11,
          12,
          13,
          14,
          15,
          16,
          17,
          18,
          19,
          20,
          21,
          22,
          23,
          24,
          25,
          26,
          27,
          28,
          29,
          30,
          31,
          32,
          33,
          34,
          35,
          36,
          37,
          38,
          39,
          40,
          41,
          42,
          43,
          44,
          45,
          46,
          47,
          48,
          49,
          50,
          51,
          52,
          53,
          54,
          55,
          56,
          57,
          58,
          59,
          60,
          61,
          62,
          63,
          64,
          65,
          66,
          67,
          68,
          69,
          70,
          71,
          72,
          73,
          74,
          75,
          76,
          77,
          78,
          79,
          80,
          81,
          82,
          83,
          84,
          85,
          86,
          87,
          88,
          89,
          90,
          91,
          92,
          93,
          94,
          95,
          96,
          97
         ],
         "y": [
          23.1,
          23.2,
          24.5,
          23.3,
          21.2,
          27.5,
          7.2,
          17.1,
          33.3,
          31.7,
          25,
          23,
          34.9,
          15.4,
          32,
          18.5,
          34.6,
          17.8,
          24.5,
          23.8,
          15.3,
          28.5,
          15.7,
          20.6,
          24.5,
          19.3,
          12.1,
          30.7,
          12.1,
          16.7,
          25.2,
          7.2,
          45.4,
          23,
          22.8,
          21.1,
          32.9,
          23.3,
          23.1,
          10.5,
          6.3,
          19.2,
          24.5,
          23,
          18.5,
          13.9,
          21.9,
          23.3,
          22.9,
          22.4,
          12.1,
          19.5,
          19.9,
          21,
          36.1,
          13.3,
          21.2,
          38.7,
          42.3,
          23.3,
          22.2,
          18.5,
          26.5,
          19.1,
          15.2,
          19.4,
          13.8,
          27.5,
          15.6,
          17.7,
          23.1,
          20.7,
          20.9,
          22.4,
          16.7,
          19.4,
          23.2,
          23.8,
          26.5,
          15.3,
          21,
          20.6,
          8.8,
          20.5,
          23.5,
          29.1,
          22.5,
          18.5,
          19.5,
          32.5,
          13.6,
          22,
          18.1,
          37.9,
          28.7,
          18.8,
          7.2,
          17.4
         ]
        }
       ],
       "layout": {
        "template": {
         "data": {
          "bar": [
           {
            "error_x": {
             "color": "#2a3f5f"
            },
            "error_y": {
             "color": "#2a3f5f"
            },
            "marker": {
             "line": {
              "color": "#E5ECF6",
              "width": 0.5
             }
            },
            "type": "bar"
           }
          ],
          "barpolar": [
           {
            "marker": {
             "line": {
              "color": "#E5ECF6",
              "width": 0.5
             }
            },
            "type": "barpolar"
           }
          ],
          "carpet": [
           {
            "aaxis": {
             "endlinecolor": "#2a3f5f",
             "gridcolor": "white",
             "linecolor": "white",
             "minorgridcolor": "white",
             "startlinecolor": "#2a3f5f"
            },
            "baxis": {
             "endlinecolor": "#2a3f5f",
             "gridcolor": "white",
             "linecolor": "white",
             "minorgridcolor": "white",
             "startlinecolor": "#2a3f5f"
            },
            "type": "carpet"
           }
          ],
          "choropleth": [
           {
            "colorbar": {
             "outlinewidth": 0,
             "ticks": ""
            },
            "type": "choropleth"
           }
          ],
          "contour": [
           {
            "colorbar": {
             "outlinewidth": 0,
             "ticks": ""
            },
            "colorscale": [
             [
              0,
              "#0d0887"
             ],
             [
              0.1111111111111111,
              "#46039f"
             ],
             [
              0.2222222222222222,
              "#7201a8"
             ],
             [
              0.3333333333333333,
              "#9c179e"
             ],
             [
              0.4444444444444444,
              "#bd3786"
             ],
             [
              0.5555555555555556,
              "#d8576b"
             ],
             [
              0.6666666666666666,
              "#ed7953"
             ],
             [
              0.7777777777777778,
              "#fb9f3a"
             ],
             [
              0.8888888888888888,
              "#fdca26"
             ],
             [
              1,
              "#f0f921"
             ]
            ],
            "type": "contour"
           }
          ],
          "contourcarpet": [
           {
            "colorbar": {
             "outlinewidth": 0,
             "ticks": ""
            },
            "type": "contourcarpet"
           }
          ],
          "heatmap": [
           {
            "colorbar": {
             "outlinewidth": 0,
             "ticks": ""
            },
            "colorscale": [
             [
              0,
              "#0d0887"
             ],
             [
              0.1111111111111111,
              "#46039f"
             ],
             [
              0.2222222222222222,
              "#7201a8"
             ],
             [
              0.3333333333333333,
              "#9c179e"
             ],
             [
              0.4444444444444444,
              "#bd3786"
             ],
             [
              0.5555555555555556,
              "#d8576b"
             ],
             [
              0.6666666666666666,
              "#ed7953"
             ],
             [
              0.7777777777777778,
              "#fb9f3a"
             ],
             [
              0.8888888888888888,
              "#fdca26"
             ],
             [
              1,
              "#f0f921"
             ]
            ],
            "type": "heatmap"
           }
          ],
          "heatmapgl": [
           {
            "colorbar": {
             "outlinewidth": 0,
             "ticks": ""
            },
            "colorscale": [
             [
              0,
              "#0d0887"
             ],
             [
              0.1111111111111111,
              "#46039f"
             ],
             [
              0.2222222222222222,
              "#7201a8"
             ],
             [
              0.3333333333333333,
              "#9c179e"
             ],
             [
              0.4444444444444444,
              "#bd3786"
             ],
             [
              0.5555555555555556,
              "#d8576b"
             ],
             [
              0.6666666666666666,
              "#ed7953"
             ],
             [
              0.7777777777777778,
              "#fb9f3a"
             ],
             [
              0.8888888888888888,
              "#fdca26"
             ],
             [
              1,
              "#f0f921"
             ]
            ],
            "type": "heatmapgl"
           }
          ],
          "histogram": [
           {
            "marker": {
             "colorbar": {
              "outlinewidth": 0,
              "ticks": ""
             }
            },
            "type": "histogram"
           }
          ],
          "histogram2d": [
           {
            "colorbar": {
             "outlinewidth": 0,
             "ticks": ""
            },
            "colorscale": [
             [
              0,
              "#0d0887"
             ],
             [
              0.1111111111111111,
              "#46039f"
             ],
             [
              0.2222222222222222,
              "#7201a8"
             ],
             [
              0.3333333333333333,
              "#9c179e"
             ],
             [
              0.4444444444444444,
              "#bd3786"
             ],
             [
              0.5555555555555556,
              "#d8576b"
             ],
             [
              0.6666666666666666,
              "#ed7953"
             ],
             [
              0.7777777777777778,
              "#fb9f3a"
             ],
             [
              0.8888888888888888,
              "#fdca26"
             ],
             [
              1,
              "#f0f921"
             ]
            ],
            "type": "histogram2d"
           }
          ],
          "histogram2dcontour": [
           {
            "colorbar": {
             "outlinewidth": 0,
             "ticks": ""
            },
            "colorscale": [
             [
              0,
              "#0d0887"
             ],
             [
              0.1111111111111111,
              "#46039f"
             ],
             [
              0.2222222222222222,
              "#7201a8"
             ],
             [
              0.3333333333333333,
              "#9c179e"
             ],
             [
              0.4444444444444444,
              "#bd3786"
             ],
             [
              0.5555555555555556,
              "#d8576b"
             ],
             [
              0.6666666666666666,
              "#ed7953"
             ],
             [
              0.7777777777777778,
              "#fb9f3a"
             ],
             [
              0.8888888888888888,
              "#fdca26"
             ],
             [
              1,
              "#f0f921"
             ]
            ],
            "type": "histogram2dcontour"
           }
          ],
          "mesh3d": [
           {
            "colorbar": {
             "outlinewidth": 0,
             "ticks": ""
            },
            "type": "mesh3d"
           }
          ],
          "parcoords": [
           {
            "line": {
             "colorbar": {
              "outlinewidth": 0,
              "ticks": ""
             }
            },
            "type": "parcoords"
           }
          ],
          "pie": [
           {
            "automargin": true,
            "type": "pie"
           }
          ],
          "scatter": [
           {
            "marker": {
             "colorbar": {
              "outlinewidth": 0,
              "ticks": ""
             }
            },
            "type": "scatter"
           }
          ],
          "scatter3d": [
           {
            "line": {
             "colorbar": {
              "outlinewidth": 0,
              "ticks": ""
             }
            },
            "marker": {
             "colorbar": {
              "outlinewidth": 0,
              "ticks": ""
             }
            },
            "type": "scatter3d"
           }
          ],
          "scattercarpet": [
           {
            "marker": {
             "colorbar": {
              "outlinewidth": 0,
              "ticks": ""
             }
            },
            "type": "scattercarpet"
           }
          ],
          "scattergeo": [
           {
            "marker": {
             "colorbar": {
              "outlinewidth": 0,
              "ticks": ""
             }
            },
            "type": "scattergeo"
           }
          ],
          "scattergl": [
           {
            "marker": {
             "colorbar": {
              "outlinewidth": 0,
              "ticks": ""
             }
            },
            "type": "scattergl"
           }
          ],
          "scattermapbox": [
           {
            "marker": {
             "colorbar": {
              "outlinewidth": 0,
              "ticks": ""
             }
            },
            "type": "scattermapbox"
           }
          ],
          "scatterpolar": [
           {
            "marker": {
             "colorbar": {
              "outlinewidth": 0,
              "ticks": ""
             }
            },
            "type": "scatterpolar"
           }
          ],
          "scatterpolargl": [
           {
            "marker": {
             "colorbar": {
              "outlinewidth": 0,
              "ticks": ""
             }
            },
            "type": "scatterpolargl"
           }
          ],
          "scatterternary": [
           {
            "marker": {
             "colorbar": {
              "outlinewidth": 0,
              "ticks": ""
             }
            },
            "type": "scatterternary"
           }
          ],
          "surface": [
           {
            "colorbar": {
             "outlinewidth": 0,
             "ticks": ""
            },
            "colorscale": [
             [
              0,
              "#0d0887"
             ],
             [
              0.1111111111111111,
              "#46039f"
             ],
             [
              0.2222222222222222,
              "#7201a8"
             ],
             [
              0.3333333333333333,
              "#9c179e"
             ],
             [
              0.4444444444444444,
              "#bd3786"
             ],
             [
              0.5555555555555556,
              "#d8576b"
             ],
             [
              0.6666666666666666,
              "#ed7953"
             ],
             [
              0.7777777777777778,
              "#fb9f3a"
             ],
             [
              0.8888888888888888,
              "#fdca26"
             ],
             [
              1,
              "#f0f921"
             ]
            ],
            "type": "surface"
           }
          ],
          "table": [
           {
            "cells": {
             "fill": {
              "color": "#EBF0F8"
             },
             "line": {
              "color": "white"
             }
            },
            "header": {
             "fill": {
              "color": "#C8D4E3"
             },
             "line": {
              "color": "white"
             }
            },
            "type": "table"
           }
          ]
         },
         "layout": {
          "annotationdefaults": {
           "arrowcolor": "#2a3f5f",
           "arrowhead": 0,
           "arrowwidth": 1
          },
          "autotypenumbers": "strict",
          "coloraxis": {
           "colorbar": {
            "outlinewidth": 0,
            "ticks": ""
           }
          },
          "colorscale": {
           "diverging": [
            [
             0,
             "#8e0152"
            ],
            [
             0.1,
             "#c51b7d"
            ],
            [
             0.2,
             "#de77ae"
            ],
            [
             0.3,
             "#f1b6da"
            ],
            [
             0.4,
             "#fde0ef"
            ],
            [
             0.5,
             "#f7f7f7"
            ],
            [
             0.6,
             "#e6f5d0"
            ],
            [
             0.7,
             "#b8e186"
            ],
            [
             0.8,
             "#7fbc41"
            ],
            [
             0.9,
             "#4d9221"
            ],
            [
             1,
             "#276419"
            ]
           ],
           "sequential": [
            [
             0,
             "#0d0887"
            ],
            [
             0.1111111111111111,
             "#46039f"
            ],
            [
             0.2222222222222222,
             "#7201a8"
            ],
            [
             0.3333333333333333,
             "#9c179e"
            ],
            [
             0.4444444444444444,
             "#bd3786"
            ],
            [
             0.5555555555555556,
             "#d8576b"
            ],
            [
             0.6666666666666666,
             "#ed7953"
            ],
            [
             0.7777777777777778,
             "#fb9f3a"
            ],
            [
             0.8888888888888888,
             "#fdca26"
            ],
            [
             1,
             "#f0f921"
            ]
           ],
           "sequentialminus": [
            [
             0,
             "#0d0887"
            ],
            [
             0.1111111111111111,
             "#46039f"
            ],
            [
             0.2222222222222222,
             "#7201a8"
            ],
            [
             0.3333333333333333,
             "#9c179e"
            ],
            [
             0.4444444444444444,
             "#bd3786"
            ],
            [
             0.5555555555555556,
             "#d8576b"
            ],
            [
             0.6666666666666666,
             "#ed7953"
            ],
            [
             0.7777777777777778,
             "#fb9f3a"
            ],
            [
             0.8888888888888888,
             "#fdca26"
            ],
            [
             1,
             "#f0f921"
            ]
           ]
          },
          "colorway": [
           "#636efa",
           "#EF553B",
           "#00cc96",
           "#ab63fa",
           "#FFA15A",
           "#19d3f3",
           "#FF6692",
           "#B6E880",
           "#FF97FF",
           "#FECB52"
          ],
          "font": {
           "color": "#2a3f5f"
          },
          "geo": {
           "bgcolor": "white",
           "lakecolor": "white",
           "landcolor": "#E5ECF6",
           "showlakes": true,
           "showland": true,
           "subunitcolor": "white"
          },
          "hoverlabel": {
           "align": "left"
          },
          "hovermode": "closest",
          "mapbox": {
           "style": "light"
          },
          "paper_bgcolor": "white",
          "plot_bgcolor": "#E5ECF6",
          "polar": {
           "angularaxis": {
            "gridcolor": "white",
            "linecolor": "white",
            "ticks": ""
           },
           "bgcolor": "#E5ECF6",
           "radialaxis": {
            "gridcolor": "white",
            "linecolor": "white",
            "ticks": ""
           }
          },
          "scene": {
           "xaxis": {
            "backgroundcolor": "#E5ECF6",
            "gridcolor": "white",
            "gridwidth": 2,
            "linecolor": "white",
            "showbackground": true,
            "ticks": "",
            "zerolinecolor": "white"
           },
           "yaxis": {
            "backgroundcolor": "#E5ECF6",
            "gridcolor": "white",
            "gridwidth": 2,
            "linecolor": "white",
            "showbackground": true,
            "ticks": "",
            "zerolinecolor": "white"
           },
           "zaxis": {
            "backgroundcolor": "#E5ECF6",
            "gridcolor": "white",
            "gridwidth": 2,
            "linecolor": "white",
            "showbackground": true,
            "ticks": "",
            "zerolinecolor": "white"
           }
          },
          "shapedefaults": {
           "line": {
            "color": "#2a3f5f"
           }
          },
          "ternary": {
           "aaxis": {
            "gridcolor": "white",
            "linecolor": "white",
            "ticks": ""
           },
           "baxis": {
            "gridcolor": "white",
            "linecolor": "white",
            "ticks": ""
           },
           "bgcolor": "#E5ECF6",
           "caxis": {
            "gridcolor": "white",
            "linecolor": "white",
            "ticks": ""
           }
          },
          "title": {
           "x": 0.05
          },
          "xaxis": {
           "automargin": true,
           "gridcolor": "white",
           "linecolor": "white",
           "ticks": "",
           "title": {
            "standoff": 15
           },
           "zerolinecolor": "white",
           "zerolinewidth": 2
          },
          "yaxis": {
           "automargin": true,
           "gridcolor": "white",
           "linecolor": "white",
           "ticks": "",
           "title": {
            "standoff": 15
           },
           "zerolinecolor": "white",
           "zerolinewidth": 2
          }
         }
        }
       }
      }
     },
     "metadata": {}
    }
   ],
   "source": [
    "import plotly.graph_objects as go\n",
    "\n",
    "# cria uma figura\n",
    "fig = go.Figure()\n",
    "\n",
    "# Linha com os dados de teste\n",
    "fig.add_trace(go.Scatter(x=df_results.index,\n",
    "                         y=df_results.valor_real,\n",
    "                         mode='lines+markers',\n",
    "                         name='Valor Real'))\n",
    "\n",
    "# Linha com os dados de teste\n",
    "fig.add_trace(go.Scatter(x=df_results.index,\n",
    "                         y=df_results.valor_predito_baseline,\n",
    "                         mode='lines+markers',\n",
    "                         name='Valor Predito Baseline'))\n",
    "\n",
    "\n",
    "# Linha com os dados de teste\n",
    "fig.add_trace(go.Scatter(x=df_results.index,\n",
    "                         y=df_results.valor_predito_reg_linear,\n",
    "                         mode='lines+markers',\n",
    "                         name='Valor Predito Reg Liner'))\n",
    "\n",
    "# Linha com os dados preditos\n",
    "fig.add_trace(go.Scatter(x=df_results.index,\n",
    "                         y=df_results.valor_predito_arvore,\n",
    "                         mode='lines+markers',\n",
    "                         name='Valor Predito Arvore'))\n",
    "# Plota a figura\n",
    "fig.show()"
   ]
  },
  {
   "source": [
    "### Avaliação do modelo"
   ],
   "cell_type": "markdown",
   "metadata": {}
  },
  {
   "cell_type": "code",
   "execution_count": 75,
   "metadata": {},
   "outputs": [],
   "source": [
    "# calcula a métrica rmse\n",
    "rmse = (np.sqrt(mean_squared_error(y_test, y_pred)))"
   ]
  },
  {
   "cell_type": "code",
   "execution_count": 76,
   "metadata": {},
   "outputs": [
    {
     "output_type": "stream",
     "name": "stdout",
     "text": [
      "Performance do modelo avaliado com os dados de teste:\n\nRMSE é: 4.775693132725257 \n"
     ]
    }
   ],
   "source": [
    "# imprime a performance do modelo\n",
    "print ('Performance do modelo avaliado com os dados de teste:')\n",
    "print('\\nRMSE é: {} '.format(rmse))"
   ]
  },
  {
   "source": [
    "#### Random Forest\n",
    "\n",
    "- `Método Ensemble`\n",
    "- `Mais robustez para os modelos`"
   ],
   "cell_type": "markdown",
   "metadata": {}
  },
  {
   "cell_type": "code",
   "execution_count": 77,
   "metadata": {},
   "outputs": [],
   "source": [
    "# Importa o método RandomForestRegressor\n",
    "from sklearn.ensemble import RandomForestRegressor"
   ]
  },
  {
   "cell_type": "code",
   "execution_count": 78,
   "metadata": {},
   "outputs": [],
   "source": [
    "# cria o objeto rf_regressor\n",
    "rf_regressor = RandomForestRegressor()"
   ]
  },
  {
   "cell_type": "code",
   "execution_count": 79,
   "metadata": {},
   "outputs": [
    {
     "output_type": "execute_result",
     "data": {
      "text/plain": [
       "RandomForestRegressor()"
      ]
     },
     "metadata": {},
     "execution_count": 79
    }
   ],
   "source": [
    "# treina o algoritmo\n",
    "rf_regressor.fit(X_train, y_train)"
   ]
  },
  {
   "cell_type": "code",
   "execution_count": 80,
   "metadata": {},
   "outputs": [],
   "source": [
    "# avaliação do modelo nos dados de teste\n",
    "y_pred = rf_regressor.predict(X_test)"
   ]
  },
  {
   "cell_type": "code",
   "execution_count": 81,
   "metadata": {},
   "outputs": [],
   "source": [
    "# adiciona os resultados no dataframe df_results\n",
    "df_results['valor_predito_random_forest'] = rf_regressor.predict(X_test)"
   ]
  },
  {
   "cell_type": "code",
   "execution_count": 82,
   "metadata": {},
   "outputs": [
    {
     "output_type": "execute_result",
     "data": {
      "text/plain": [
       "   valor_real  valor_predito_baseline  valor_predito_reg_linear  \\\n",
       "0        18.5               20.130425                 18.705018   \n",
       "1        12.7               20.130425                 12.497096   \n",
       "2        21.4               20.130425                 24.224920   \n",
       "3        23.7               20.130425                 28.429271   \n",
       "4        20.8               20.130425                 18.240804   \n",
       "\n",
       "   valor_predito_arvore  valor_predito_random_forest  \n",
       "0                  23.1                       20.613  \n",
       "1                  23.2                       16.480  \n",
       "2                  24.5                       22.848  \n",
       "3                  23.3                       24.888  \n",
       "4                  21.2                       21.851  "
      ],
      "text/html": "<div>\n<style scoped>\n    .dataframe tbody tr th:only-of-type {\n        vertical-align: middle;\n    }\n\n    .dataframe tbody tr th {\n        vertical-align: top;\n    }\n\n    .dataframe thead th {\n        text-align: right;\n    }\n</style>\n<table border=\"1\" class=\"dataframe\">\n  <thead>\n    <tr style=\"text-align: right;\">\n      <th></th>\n      <th>valor_real</th>\n      <th>valor_predito_baseline</th>\n      <th>valor_predito_reg_linear</th>\n      <th>valor_predito_arvore</th>\n      <th>valor_predito_random_forest</th>\n    </tr>\n  </thead>\n  <tbody>\n    <tr>\n      <th>0</th>\n      <td>18.5</td>\n      <td>20.130425</td>\n      <td>18.705018</td>\n      <td>23.1</td>\n      <td>20.613</td>\n    </tr>\n    <tr>\n      <th>1</th>\n      <td>12.7</td>\n      <td>20.130425</td>\n      <td>12.497096</td>\n      <td>23.2</td>\n      <td>16.480</td>\n    </tr>\n    <tr>\n      <th>2</th>\n      <td>21.4</td>\n      <td>20.130425</td>\n      <td>24.224920</td>\n      <td>24.5</td>\n      <td>22.848</td>\n    </tr>\n    <tr>\n      <th>3</th>\n      <td>23.7</td>\n      <td>20.130425</td>\n      <td>28.429271</td>\n      <td>23.3</td>\n      <td>24.888</td>\n    </tr>\n    <tr>\n      <th>4</th>\n      <td>20.8</td>\n      <td>20.130425</td>\n      <td>18.240804</td>\n      <td>21.2</td>\n      <td>21.851</td>\n    </tr>\n  </tbody>\n</table>\n</div>"
     },
     "metadata": {},
     "execution_count": 82
    }
   ],
   "source": [
    "df_results.head()"
   ]
  },
  {
   "cell_type": "code",
   "execution_count": 83,
   "metadata": {},
   "outputs": [],
   "source": [
    "# calcula a métrica rmse\n",
    "rmse = (np.sqrt(mean_squared_error(y_test, y_pred)))"
   ]
  },
  {
   "cell_type": "code",
   "execution_count": 84,
   "metadata": {},
   "outputs": [
    {
     "output_type": "stream",
     "name": "stdout",
     "text": [
      "Performance do modelo avaliado com os dados de teste:\n\nRMSE é: 3.103742740627835 \n"
     ]
    }
   ],
   "source": [
    "# imprime a performance do modelo\n",
    "print ('Performance do modelo avaliado com os dados de teste:')\n",
    "print('\\nRMSE é: {} '.format(rmse))"
   ]
  },
  {
   "cell_type": "code",
   "execution_count": 85,
   "metadata": {},
   "outputs": [
    {
     "output_type": "display_data",
     "data": {
      "application/vnd.plotly.v1+json": {
       "config": {
        "plotlyServerURL": "https://plot.ly"
       },
       "data": [
        {
         "mode": "markers",
         "name": "Valor Real",
         "type": "scatter",
         "x": [
          0,
          1,
          2,
          3,
          4,
          5,
          6,
          7,
          8,
          9,
          10,
          11,
          12,
          13,
          14,
          15,
          16,
          17,
          18,
          19,
          20,
          21,
          22,
          23,
          24,
          25,
          26,
          27,
          28,
          29,
          30,
          31,
          32,
          33,
          34,
          35,
          36,
          37,
          38,
          39,
          40,
          41,
          42,
          43,
          44,
          45,
          46,
          47,
          48,
          49,
          50,
          51,
          52,
          53,
          54,
          55,
          56,
          57,
          58,
          59,
          60,
          61,
          62,
          63,
          64,
          65,
          66,
          67,
          68,
          69,
          70,
          71,
          72,
          73,
          74,
          75,
          76,
          77,
          78,
          79,
          80,
          81,
          82,
          83,
          84,
          85,
          86,
          87,
          88,
          89,
          90,
          91,
          92,
          93,
          94,
          95,
          96,
          97
         ],
         "y": [
          18.5,
          12.7,
          21.4,
          23.7,
          20.8,
          25,
          9.7,
          14.9,
          34.9,
          31.6,
          24.7,
          22.9,
          33.2,
          9.6,
          30.5,
          19.2,
          30.3,
          15.4,
          24.3,
          24.4,
          21.5,
          27.9,
          17.3,
          21.4,
          21.7,
          24.4,
          8.5,
          15,
          11.5,
          13.6,
          24.4,
          7.4,
          44,
          21.7,
          19.3,
          16.1,
          29,
          26.4,
          20.3,
          10.8,
          5,
          19.6,
          23.1,
          23.9,
          17.5,
          13.5,
          48.8,
          26.2,
          19.7,
          14.2,
          11,
          19,
          21.7,
          18.4,
          33.4,
          14,
          24.7,
          43.8,
          48.5,
          25,
          22.6,
          21.2,
          22.4,
          23.8,
          19.9,
          16.5,
          16.7,
          17.2,
          13.1,
          19.1,
          18.5,
          22.2,
          22.6,
          19.4,
          15.2,
          19.8,
          19.4,
          21.6,
          18.2,
          19.6,
          19.6,
          23,
          7,
          17.6,
          25,
          41.3,
          24.1,
          22.6,
          18.7,
          22.6,
          13.1,
          22.2,
          16.1,
          39.8,
          25,
          20.5,
          10.4,
          20.4
         ]
        },
        {
         "line": {
          "color": "#FF00FF"
         },
         "mode": "lines+markers",
         "name": "Valor da Baseline",
         "type": "scatter",
         "x": [
          0,
          1,
          2,
          3,
          4,
          5,
          6,
          7,
          8,
          9,
          10,
          11,
          12,
          13,
          14,
          15,
          16,
          17,
          18,
          19,
          20,
          21,
          22,
          23,
          24,
          25,
          26,
          27,
          28,
          29,
          30,
          31,
          32,
          33,
          34,
          35,
          36,
          37,
          38,
          39,
          40,
          41,
          42,
          43,
          44,
          45,
          46,
          47,
          48,
          49,
          50,
          51,
          52,
          53,
          54,
          55,
          56,
          57,
          58,
          59,
          60,
          61,
          62,
          63,
          64,
          65,
          66,
          67,
          68,
          69,
          70,
          71,
          72,
          73,
          74,
          75,
          76,
          77,
          78,
          79,
          80,
          81,
          82,
          83,
          84,
          85,
          86,
          87,
          88,
          89,
          90,
          91,
          92,
          93,
          94,
          95,
          96,
          97
         ],
         "y": [
          20.1304245283019,
          20.1304245283019,
          20.1304245283019,
          20.1304245283019,
          20.1304245283019,
          20.1304245283019,
          20.1304245283019,
          20.1304245283019,
          35.71923076923077,
          35.71923076923077,
          20.1304245283019,
          20.1304245283019,
          35.71923076923077,
          20.1304245283019,
          20.1304245283019,
          20.1304245283019,
          35.71923076923077,
          20.1304245283019,
          20.1304245283019,
          20.1304245283019,
          20.1304245283019,
          20.1304245283019,
          20.1304245283019,
          20.1304245283019,
          20.1304245283019,
          20.1304245283019,
          20.1304245283019,
          35.71923076923077,
          20.1304245283019,
          20.1304245283019,
          20.1304245283019,
          20.1304245283019,
          35.71923076923077,
          20.1304245283019,
          20.1304245283019,
          14.921428571428574,
          35.71923076923077,
          20.1304245283019,
          20.1304245283019,
          20.1304245283019,
          20.1304245283019,
          20.1304245283019,
          20.1304245283019,
          20.1304245283019,
          20.1304245283019,
          20.1304245283019,
          35.71923076923077,
          20.1304245283019,
          20.1304245283019,
          20.1304245283019,
          20.1304245283019,
          20.1304245283019,
          20.1304245283019,
          20.1304245283019,
          35.71923076923077,
          20.1304245283019,
          20.1304245283019,
          35.71923076923077,
          35.71923076923077,
          20.1304245283019,
          20.1304245283019,
          20.1304245283019,
          20.1304245283019,
          20.1304245283019,
          20.1304245283019,
          20.1304245283019,
          20.1304245283019,
          20.1304245283019,
          20.1304245283019,
          20.1304245283019,
          20.1304245283019,
          20.1304245283019,
          20.1304245283019,
          20.1304245283019,
          20.1304245283019,
          20.1304245283019,
          20.1304245283019,
          20.1304245283019,
          20.1304245283019,
          20.1304245283019,
          20.1304245283019,
          20.1304245283019,
          14.921428571428574,
          20.1304245283019,
          20.1304245283019,
          20.1304245283019,
          20.1304245283019,
          20.1304245283019,
          20.1304245283019,
          20.1304245283019,
          20.1304245283019,
          20.1304245283019,
          20.1304245283019,
          35.71923076923077,
          35.71923076923077,
          20.1304245283019,
          20.1304245283019,
          20.1304245283019
         ]
        },
        {
         "line": {
          "color": "#B2FF66"
         },
         "mode": "lines",
         "name": "Valor Predito Árvore",
         "type": "scatter",
         "x": [
          0,
          1,
          2,
          3,
          4,
          5,
          6,
          7,
          8,
          9,
          10,
          11,
          12,
          13,
          14,
          15,
          16,
          17,
          18,
          19,
          20,
          21,
          22,
          23,
          24,
          25,
          26,
          27,
          28,
          29,
          30,
          31,
          32,
          33,
          34,
          35,
          36,
          37,
          38,
          39,
          40,
          41,
          42,
          43,
          44,
          45,
          46,
          47,
          48,
          49,
          50,
          51,
          52,
          53,
          54,
          55,
          56,
          57,
          58,
          59,
          60,
          61,
          62,
          63,
          64,
          65,
          66,
          67,
          68,
          69,
          70,
          71,
          72,
          73,
          74,
          75,
          76,
          77,
          78,
          79,
          80,
          81,
          82,
          83,
          84,
          85,
          86,
          87,
          88,
          89,
          90,
          91,
          92,
          93,
          94,
          95,
          96,
          97
         ],
         "y": [
          23.1,
          23.2,
          24.5,
          23.3,
          21.2,
          27.5,
          7.2,
          17.1,
          33.3,
          31.7,
          25,
          23,
          34.9,
          15.4,
          32,
          18.5,
          34.6,
          17.8,
          24.5,
          23.8,
          15.3,
          28.5,
          15.7,
          20.6,
          24.5,
          19.3,
          12.1,
          30.7,
          12.1,
          16.7,
          25.2,
          7.2,
          45.4,
          23,
          22.8,
          21.1,
          32.9,
          23.3,
          23.1,
          10.5,
          6.3,
          19.2,
          24.5,
          23,
          18.5,
          13.9,
          21.9,
          23.3,
          22.9,
          22.4,
          12.1,
          19.5,
          19.9,
          21,
          36.1,
          13.3,
          21.2,
          38.7,
          42.3,
          23.3,
          22.2,
          18.5,
          26.5,
          19.1,
          15.2,
          19.4,
          13.8,
          27.5,
          15.6,
          17.7,
          23.1,
          20.7,
          20.9,
          22.4,
          16.7,
          19.4,
          23.2,
          23.8,
          26.5,
          15.3,
          21,
          20.6,
          8.8,
          20.5,
          23.5,
          29.1,
          22.5,
          18.5,
          19.5,
          32.5,
          13.6,
          22,
          18.1,
          37.9,
          28.7,
          18.8,
          7.2,
          17.4
         ]
        },
        {
         "line": {
          "color": "#17BECF"
         },
         "mode": "lines",
         "name": "Valor Predito Regressão Linear",
         "type": "scatter",
         "x": [
          0,
          1,
          2,
          3,
          4,
          5,
          6,
          7,
          8,
          9,
          10,
          11,
          12,
          13,
          14,
          15,
          16,
          17,
          18,
          19,
          20,
          21,
          22,
          23,
          24,
          25,
          26,
          27,
          28,
          29,
          30,
          31,
          32,
          33,
          34,
          35,
          36,
          37,
          38,
          39,
          40,
          41,
          42,
          43,
          44,
          45,
          46,
          47,
          48,
          49,
          50,
          51,
          52,
          53,
          54,
          55,
          56,
          57,
          58,
          59,
          60,
          61,
          62,
          63,
          64,
          65,
          66,
          67,
          68,
          69,
          70,
          71,
          72,
          73,
          74,
          75,
          76,
          77,
          78,
          79,
          80,
          81,
          82,
          83,
          84,
          85,
          86,
          87,
          88,
          89,
          90,
          91,
          92,
          93,
          94,
          95,
          96,
          97
         ],
         "y": [
          18.70501848106695,
          12.497095516185738,
          24.22491965679478,
          28.42927057661392,
          18.240804135076125,
          21.59114663676924,
          11.51485699022146,
          14.666960621524142,
          31.189512912471887,
          29.57786681405491,
          28.347429680860987,
          26.911118129628836,
          29.70163413767084,
          14.547225938941322,
          30.366130641335346,
          24.342911246516845,
          33.39557377777198,
          16.516415955374185,
          25.135832403187187,
          26.605031766258204,
          22.325376659483215,
          27.36838461536491,
          12.178000586951171,
          19.716106689078796,
          21.29159734190754,
          23.84779637184583,
          14.305544211864536,
          21.14993230117048,
          13.839039953136375,
          15.227352489192874,
          25.97991098610236,
          7.976596433904103,
          33.228287434207154,
          26.319310742856732,
          24.503078300420796,
          18.05906637774344,
          33.58395964367327,
          27.870160015175372,
          21.55379059283636,
          11.16613208013866,
          7.49015380178831,
          18.914376527451935,
          27.83199447889143,
          24.416020347834582,
          25.1606204025742,
          16.413519934728722,
          35.51457160043188,
          26.29791708332756,
          22.26388364110458,
          18.062544290690127,
          14.295607146348074,
          21.53843925564789,
          20.632599107403404,
          20.611631115212973,
          29.744193737405137,
          13.81888394726365,
          26.157906760394418,
          30.805247185743028,
          33.823742148727746,
          24.57220712714704,
          24.21517914682618,
          23.584128509924355,
          22.64237334859078,
          21.14957552118839,
          19.308321244625464,
          28.273102378941843,
          18.047595379326435,
          13.896589089189288,
          17.141097300268925,
          19.77400928079087,
          20.916313744564675,
          25.65099415594178,
          25.97948483080598,
          18.427009970368566,
          15.252785929299016,
          27.224116876170527,
          24.7421982895757,
          25.409933707762672,
          21.64474638619783,
          20.06637897348993,
          17.748683064335417,
          21.85427100592557,
          -0.18405367771253722,
          21.1619187859388,
          28.22567919185476,
          27.722564249322634,
          28.129277502471645,
          21.483397718099628,
          21.734465006944163,
          28.016965356096904,
          15.591826333987255,
          26.300864601031382,
          18.053664942388075,
          29.315177978544,
          25.88791245570838,
          15.453119078358494,
          8.475099721751356,
          20.426087072821428
         ]
        },
        {
         "line": {
          "color": "#7F7F7F"
         },
         "mode": "lines",
         "name": "Valor Predito Random Forest",
         "type": "scatter",
         "x": [
          0,
          1,
          2,
          3,
          4,
          5,
          6,
          7,
          8,
          9,
          10,
          11,
          12,
          13,
          14,
          15,
          16,
          17,
          18,
          19,
          20,
          21,
          22,
          23,
          24,
          25,
          26,
          27,
          28,
          29,
          30,
          31,
          32,
          33,
          34,
          35,
          36,
          37,
          38,
          39,
          40,
          41,
          42,
          43,
          44,
          45,
          46,
          47,
          48,
          49,
          50,
          51,
          52,
          53,
          54,
          55,
          56,
          57,
          58,
          59,
          60,
          61,
          62,
          63,
          64,
          65,
          66,
          67,
          68,
          69,
          70,
          71,
          72,
          73,
          74,
          75,
          76,
          77,
          78,
          79,
          80,
          81,
          82,
          83,
          84,
          85,
          86,
          87,
          88,
          89,
          90,
          91,
          92,
          93,
          94,
          95,
          96,
          97
         ],
         "y": [
          20.612999999999996,
          16.479999999999997,
          22.847999999999992,
          24.88799999999999,
          21.851000000000003,
          23.429000000000006,
          9.231000000000005,
          14.144,
          38.21500000000002,
          33.57399999999996,
          25.778999999999986,
          26.51699999999998,
          33.138999999999996,
          13.189000000000007,
          33.149999999999984,
          20.815999999999985,
          32.09899999999999,
          15.457999999999986,
          24.031999999999996,
          25.148999999999987,
          18.53099999999999,
          28.846999999999998,
          16.747,
          22.410999999999994,
          21.872999999999998,
          22.127000000000006,
          13.465999999999992,
          21.737000000000013,
          12.188999999999991,
          17.384999999999994,
          24.786000000000005,
          8.223000000000006,
          42.019000000000034,
          21.625999999999994,
          22.871,
          20.40699999999999,
          34.81300000000001,
          24.537999999999997,
          20.706999999999994,
          10.909999999999995,
          6.396000000000007,
          19.29100000000001,
          24.544999999999995,
          23.03599999999998,
          20.356999999999992,
          13.828000000000005,
          37.74499999999998,
          24.727999999999994,
          20.107000000000006,
          15.690000000000005,
          12.083000000000002,
          20.02499999999999,
          21.37499999999999,
          19.42200000000001,
          33.870999999999974,
          14.274999999999988,
          24.476999999999993,
          38.78500000000001,
          40.02900000000004,
          24.20599999999999,
          23.53499999999999,
          20.465999999999987,
          21.819999999999997,
          20.517999999999983,
          17.495000000000008,
          23.945999999999994,
          14.323000000000002,
          17.144000000000002,
          15.461999999999982,
          18.154000000000007,
          21.226999999999993,
          23.67199999999998,
          24.084,
          16.12099999999999,
          17.062999999999995,
          23.226,
          22.236000000000004,
          23.146000000000004,
          21.302999999999994,
          17.462999999999983,
          18.50000000000001,
          20.990999999999996,
          8.262999999999998,
          20.15,
          28.30799999999999,
          27.952000000000012,
          25.01999999999998,
          21.093000000000004,
          20.506999999999984,
          27.120000000000008,
          14.605999999999996,
          22.33299999999999,
          17.77100000000001,
          34.611999999999995,
          30.24800000000001,
          19.33699999999999,
          7.646,
          20.021999999999988
         ]
        }
       ],
       "layout": {
        "template": {
         "data": {
          "bar": [
           {
            "error_x": {
             "color": "#2a3f5f"
            },
            "error_y": {
             "color": "#2a3f5f"
            },
            "marker": {
             "line": {
              "color": "#E5ECF6",
              "width": 0.5
             }
            },
            "type": "bar"
           }
          ],
          "barpolar": [
           {
            "marker": {
             "line": {
              "color": "#E5ECF6",
              "width": 0.5
             }
            },
            "type": "barpolar"
           }
          ],
          "carpet": [
           {
            "aaxis": {
             "endlinecolor": "#2a3f5f",
             "gridcolor": "white",
             "linecolor": "white",
             "minorgridcolor": "white",
             "startlinecolor": "#2a3f5f"
            },
            "baxis": {
             "endlinecolor": "#2a3f5f",
             "gridcolor": "white",
             "linecolor": "white",
             "minorgridcolor": "white",
             "startlinecolor": "#2a3f5f"
            },
            "type": "carpet"
           }
          ],
          "choropleth": [
           {
            "colorbar": {
             "outlinewidth": 0,
             "ticks": ""
            },
            "type": "choropleth"
           }
          ],
          "contour": [
           {
            "colorbar": {
             "outlinewidth": 0,
             "ticks": ""
            },
            "colorscale": [
             [
              0,
              "#0d0887"
             ],
             [
              0.1111111111111111,
              "#46039f"
             ],
             [
              0.2222222222222222,
              "#7201a8"
             ],
             [
              0.3333333333333333,
              "#9c179e"
             ],
             [
              0.4444444444444444,
              "#bd3786"
             ],
             [
              0.5555555555555556,
              "#d8576b"
             ],
             [
              0.6666666666666666,
              "#ed7953"
             ],
             [
              0.7777777777777778,
              "#fb9f3a"
             ],
             [
              0.8888888888888888,
              "#fdca26"
             ],
             [
              1,
              "#f0f921"
             ]
            ],
            "type": "contour"
           }
          ],
          "contourcarpet": [
           {
            "colorbar": {
             "outlinewidth": 0,
             "ticks": ""
            },
            "type": "contourcarpet"
           }
          ],
          "heatmap": [
           {
            "colorbar": {
             "outlinewidth": 0,
             "ticks": ""
            },
            "colorscale": [
             [
              0,
              "#0d0887"
             ],
             [
              0.1111111111111111,
              "#46039f"
             ],
             [
              0.2222222222222222,
              "#7201a8"
             ],
             [
              0.3333333333333333,
              "#9c179e"
             ],
             [
              0.4444444444444444,
              "#bd3786"
             ],
             [
              0.5555555555555556,
              "#d8576b"
             ],
             [
              0.6666666666666666,
              "#ed7953"
             ],
             [
              0.7777777777777778,
              "#fb9f3a"
             ],
             [
              0.8888888888888888,
              "#fdca26"
             ],
             [
              1,
              "#f0f921"
             ]
            ],
            "type": "heatmap"
           }
          ],
          "heatmapgl": [
           {
            "colorbar": {
             "outlinewidth": 0,
             "ticks": ""
            },
            "colorscale": [
             [
              0,
              "#0d0887"
             ],
             [
              0.1111111111111111,
              "#46039f"
             ],
             [
              0.2222222222222222,
              "#7201a8"
             ],
             [
              0.3333333333333333,
              "#9c179e"
             ],
             [
              0.4444444444444444,
              "#bd3786"
             ],
             [
              0.5555555555555556,
              "#d8576b"
             ],
             [
              0.6666666666666666,
              "#ed7953"
             ],
             [
              0.7777777777777778,
              "#fb9f3a"
             ],
             [
              0.8888888888888888,
              "#fdca26"
             ],
             [
              1,
              "#f0f921"
             ]
            ],
            "type": "heatmapgl"
           }
          ],
          "histogram": [
           {
            "marker": {
             "colorbar": {
              "outlinewidth": 0,
              "ticks": ""
             }
            },
            "type": "histogram"
           }
          ],
          "histogram2d": [
           {
            "colorbar": {
             "outlinewidth": 0,
             "ticks": ""
            },
            "colorscale": [
             [
              0,
              "#0d0887"
             ],
             [
              0.1111111111111111,
              "#46039f"
             ],
             [
              0.2222222222222222,
              "#7201a8"
             ],
             [
              0.3333333333333333,
              "#9c179e"
             ],
             [
              0.4444444444444444,
              "#bd3786"
             ],
             [
              0.5555555555555556,
              "#d8576b"
             ],
             [
              0.6666666666666666,
              "#ed7953"
             ],
             [
              0.7777777777777778,
              "#fb9f3a"
             ],
             [
              0.8888888888888888,
              "#fdca26"
             ],
             [
              1,
              "#f0f921"
             ]
            ],
            "type": "histogram2d"
           }
          ],
          "histogram2dcontour": [
           {
            "colorbar": {
             "outlinewidth": 0,
             "ticks": ""
            },
            "colorscale": [
             [
              0,
              "#0d0887"
             ],
             [
              0.1111111111111111,
              "#46039f"
             ],
             [
              0.2222222222222222,
              "#7201a8"
             ],
             [
              0.3333333333333333,
              "#9c179e"
             ],
             [
              0.4444444444444444,
              "#bd3786"
             ],
             [
              0.5555555555555556,
              "#d8576b"
             ],
             [
              0.6666666666666666,
              "#ed7953"
             ],
             [
              0.7777777777777778,
              "#fb9f3a"
             ],
             [
              0.8888888888888888,
              "#fdca26"
             ],
             [
              1,
              "#f0f921"
             ]
            ],
            "type": "histogram2dcontour"
           }
          ],
          "mesh3d": [
           {
            "colorbar": {
             "outlinewidth": 0,
             "ticks": ""
            },
            "type": "mesh3d"
           }
          ],
          "parcoords": [
           {
            "line": {
             "colorbar": {
              "outlinewidth": 0,
              "ticks": ""
             }
            },
            "type": "parcoords"
           }
          ],
          "pie": [
           {
            "automargin": true,
            "type": "pie"
           }
          ],
          "scatter": [
           {
            "marker": {
             "colorbar": {
              "outlinewidth": 0,
              "ticks": ""
             }
            },
            "type": "scatter"
           }
          ],
          "scatter3d": [
           {
            "line": {
             "colorbar": {
              "outlinewidth": 0,
              "ticks": ""
             }
            },
            "marker": {
             "colorbar": {
              "outlinewidth": 0,
              "ticks": ""
             }
            },
            "type": "scatter3d"
           }
          ],
          "scattercarpet": [
           {
            "marker": {
             "colorbar": {
              "outlinewidth": 0,
              "ticks": ""
             }
            },
            "type": "scattercarpet"
           }
          ],
          "scattergeo": [
           {
            "marker": {
             "colorbar": {
              "outlinewidth": 0,
              "ticks": ""
             }
            },
            "type": "scattergeo"
           }
          ],
          "scattergl": [
           {
            "marker": {
             "colorbar": {
              "outlinewidth": 0,
              "ticks": ""
             }
            },
            "type": "scattergl"
           }
          ],
          "scattermapbox": [
           {
            "marker": {
             "colorbar": {
              "outlinewidth": 0,
              "ticks": ""
             }
            },
            "type": "scattermapbox"
           }
          ],
          "scatterpolar": [
           {
            "marker": {
             "colorbar": {
              "outlinewidth": 0,
              "ticks": ""
             }
            },
            "type": "scatterpolar"
           }
          ],
          "scatterpolargl": [
           {
            "marker": {
             "colorbar": {
              "outlinewidth": 0,
              "ticks": ""
             }
            },
            "type": "scatterpolargl"
           }
          ],
          "scatterternary": [
           {
            "marker": {
             "colorbar": {
              "outlinewidth": 0,
              "ticks": ""
             }
            },
            "type": "scatterternary"
           }
          ],
          "surface": [
           {
            "colorbar": {
             "outlinewidth": 0,
             "ticks": ""
            },
            "colorscale": [
             [
              0,
              "#0d0887"
             ],
             [
              0.1111111111111111,
              "#46039f"
             ],
             [
              0.2222222222222222,
              "#7201a8"
             ],
             [
              0.3333333333333333,
              "#9c179e"
             ],
             [
              0.4444444444444444,
              "#bd3786"
             ],
             [
              0.5555555555555556,
              "#d8576b"
             ],
             [
              0.6666666666666666,
              "#ed7953"
             ],
             [
              0.7777777777777778,
              "#fb9f3a"
             ],
             [
              0.8888888888888888,
              "#fdca26"
             ],
             [
              1,
              "#f0f921"
             ]
            ],
            "type": "surface"
           }
          ],
          "table": [
           {
            "cells": {
             "fill": {
              "color": "#EBF0F8"
             },
             "line": {
              "color": "white"
             }
            },
            "header": {
             "fill": {
              "color": "#C8D4E3"
             },
             "line": {
              "color": "white"
             }
            },
            "type": "table"
           }
          ]
         },
         "layout": {
          "annotationdefaults": {
           "arrowcolor": "#2a3f5f",
           "arrowhead": 0,
           "arrowwidth": 1
          },
          "autotypenumbers": "strict",
          "coloraxis": {
           "colorbar": {
            "outlinewidth": 0,
            "ticks": ""
           }
          },
          "colorscale": {
           "diverging": [
            [
             0,
             "#8e0152"
            ],
            [
             0.1,
             "#c51b7d"
            ],
            [
             0.2,
             "#de77ae"
            ],
            [
             0.3,
             "#f1b6da"
            ],
            [
             0.4,
             "#fde0ef"
            ],
            [
             0.5,
             "#f7f7f7"
            ],
            [
             0.6,
             "#e6f5d0"
            ],
            [
             0.7,
             "#b8e186"
            ],
            [
             0.8,
             "#7fbc41"
            ],
            [
             0.9,
             "#4d9221"
            ],
            [
             1,
             "#276419"
            ]
           ],
           "sequential": [
            [
             0,
             "#0d0887"
            ],
            [
             0.1111111111111111,
             "#46039f"
            ],
            [
             0.2222222222222222,
             "#7201a8"
            ],
            [
             0.3333333333333333,
             "#9c179e"
            ],
            [
             0.4444444444444444,
             "#bd3786"
            ],
            [
             0.5555555555555556,
             "#d8576b"
            ],
            [
             0.6666666666666666,
             "#ed7953"
            ],
            [
             0.7777777777777778,
             "#fb9f3a"
            ],
            [
             0.8888888888888888,
             "#fdca26"
            ],
            [
             1,
             "#f0f921"
            ]
           ],
           "sequentialminus": [
            [
             0,
             "#0d0887"
            ],
            [
             0.1111111111111111,
             "#46039f"
            ],
            [
             0.2222222222222222,
             "#7201a8"
            ],
            [
             0.3333333333333333,
             "#9c179e"
            ],
            [
             0.4444444444444444,
             "#bd3786"
            ],
            [
             0.5555555555555556,
             "#d8576b"
            ],
            [
             0.6666666666666666,
             "#ed7953"
            ],
            [
             0.7777777777777778,
             "#fb9f3a"
            ],
            [
             0.8888888888888888,
             "#fdca26"
            ],
            [
             1,
             "#f0f921"
            ]
           ]
          },
          "colorway": [
           "#636efa",
           "#EF553B",
           "#00cc96",
           "#ab63fa",
           "#FFA15A",
           "#19d3f3",
           "#FF6692",
           "#B6E880",
           "#FF97FF",
           "#FECB52"
          ],
          "font": {
           "color": "#2a3f5f"
          },
          "geo": {
           "bgcolor": "white",
           "lakecolor": "white",
           "landcolor": "#E5ECF6",
           "showlakes": true,
           "showland": true,
           "subunitcolor": "white"
          },
          "hoverlabel": {
           "align": "left"
          },
          "hovermode": "closest",
          "mapbox": {
           "style": "light"
          },
          "paper_bgcolor": "white",
          "plot_bgcolor": "#E5ECF6",
          "polar": {
           "angularaxis": {
            "gridcolor": "white",
            "linecolor": "white",
            "ticks": ""
           },
           "bgcolor": "#E5ECF6",
           "radialaxis": {
            "gridcolor": "white",
            "linecolor": "white",
            "ticks": ""
           }
          },
          "scene": {
           "xaxis": {
            "backgroundcolor": "#E5ECF6",
            "gridcolor": "white",
            "gridwidth": 2,
            "linecolor": "white",
            "showbackground": true,
            "ticks": "",
            "zerolinecolor": "white"
           },
           "yaxis": {
            "backgroundcolor": "#E5ECF6",
            "gridcolor": "white",
            "gridwidth": 2,
            "linecolor": "white",
            "showbackground": true,
            "ticks": "",
            "zerolinecolor": "white"
           },
           "zaxis": {
            "backgroundcolor": "#E5ECF6",
            "gridcolor": "white",
            "gridwidth": 2,
            "linecolor": "white",
            "showbackground": true,
            "ticks": "",
            "zerolinecolor": "white"
           }
          },
          "shapedefaults": {
           "line": {
            "color": "#2a3f5f"
           }
          },
          "ternary": {
           "aaxis": {
            "gridcolor": "white",
            "linecolor": "white",
            "ticks": ""
           },
           "baxis": {
            "gridcolor": "white",
            "linecolor": "white",
            "ticks": ""
           },
           "bgcolor": "#E5ECF6",
           "caxis": {
            "gridcolor": "white",
            "linecolor": "white",
            "ticks": ""
           }
          },
          "title": {
           "x": 0.05
          },
          "xaxis": {
           "automargin": true,
           "gridcolor": "white",
           "linecolor": "white",
           "ticks": "",
           "title": {
            "standoff": 15
           },
           "zerolinecolor": "white",
           "zerolinewidth": 2
          },
          "yaxis": {
           "automargin": true,
           "gridcolor": "white",
           "linecolor": "white",
           "ticks": "",
           "title": {
            "standoff": 15
           },
           "zerolinecolor": "white",
           "zerolinewidth": 2
          }
         }
        }
       }
      }
     },
     "metadata": {}
    }
   ],
   "source": [
    "# plota os resultados dos modelos e o valor real.\n",
    "import plotly.graph_objects as go\n",
    "\n",
    "# Create traces\n",
    "fig = go.Figure()\n",
    "\n",
    "# Linha com os dados de teste\n",
    "fig.add_trace(go.Scatter(x=df_results.index,\n",
    "                         y=df_results.valor_real,\n",
    "                         mode='markers',\n",
    "                         name='Valor Real'))\n",
    "\n",
    "# Linha com os dados da baseline\n",
    "fig.add_trace(go.Scatter(x=df_results.index,\n",
    "                         y=df_results.valor_predito_baseline,\n",
    "                         mode='lines+markers',\n",
    "                         line = dict(color = '#FF00FF'),\n",
    "                         name='Valor da Baseline'))\n",
    "\n",
    "# Linha com os dados preditos pela arvore\n",
    "fig.add_trace(go.Scatter(x=df_results.index,\n",
    "                         y=df_results.valor_predito_arvore,\n",
    "                         mode='lines',\n",
    "                         line = dict(color = '#B2FF66'),\n",
    "                         name='Valor Predito Árvore'))\n",
    "\n",
    "# Linha com os dados preditos pela regressão linear\n",
    "fig.add_trace(go.Scatter(x=df_results.index,\n",
    "                         y=df_results.valor_predito_reg_linear,\n",
    "                         mode='lines',\n",
    "                         line = dict(color = '#17BECF'),\n",
    "                         name='Valor Predito Regressão Linear'))\n",
    "\n",
    "\n",
    "# Linha com os dados preditos pela Random Forest\n",
    "fig.add_trace(go.Scatter(x=df_results.index,\n",
    "                         y=df_results.valor_predito_random_forest,\n",
    "                         mode='lines',\n",
    "                         line = dict(color = '#7F7F7F'),\n",
    "                         name='Valor Predito Random Forest'))\n",
    "\n",
    "# Plota a figura\n",
    "fig.show()"
   ]
  },
  {
   "source": [
    "### Tunning do Algoritmo de Machine Learning\n",
    "**Parâmetros da Random Forest**\n",
    "\n",
    "- `O parâmetro n_estimators define a quantidade de árvores que serão usadas para criação dos modelos. Quanto maior o número de árvores, maior será o número de modelos no ensemble.`\n",
    "\n",
    "- `O parâmtro max_deph define a profundidade da árvore, quanto mais profunda a árvore, mais especializado nos dados de treino o nosso modelo estará.`\n",
    "\n",
    "- `O parâmetro max_features define a quantidade máxima de nós que serão usados para separar os níveis folha da árvore`"
   ],
   "cell_type": "markdown",
   "metadata": {}
  },
  {
   "cell_type": "code",
   "execution_count": 86,
   "metadata": {},
   "outputs": [],
   "source": [
    "X['MEDV'] = y"
   ]
  },
  {
   "cell_type": "code",
   "execution_count": 94,
   "metadata": {},
   "outputs": [
    {
     "output_type": "execute_result",
     "data": {
      "text/plain": [
       "      CRIM  INDUS  CHAS    NOX  RM  PTRATIO       B  LSTAT  MEDV\n",
       "0  0.00632   2.31   0.0  0.538   6     15.3  396.90   4.98  24.0\n",
       "1  0.02731   7.07   0.0  0.469   6     17.8  396.90   9.14  21.6\n",
       "2  0.02729   7.07   0.0  0.469   7     17.8  392.83   4.03  34.7\n",
       "3  0.03237   2.18   0.0  0.458   6     18.7  394.63   2.94  33.4\n",
       "4  0.06905   2.18   0.0  0.458   7     18.7  396.90   5.33  36.2"
      ],
      "text/html": "<div>\n<style scoped>\n    .dataframe tbody tr th:only-of-type {\n        vertical-align: middle;\n    }\n\n    .dataframe tbody tr th {\n        vertical-align: top;\n    }\n\n    .dataframe thead th {\n        text-align: right;\n    }\n</style>\n<table border=\"1\" class=\"dataframe\">\n  <thead>\n    <tr style=\"text-align: right;\">\n      <th></th>\n      <th>CRIM</th>\n      <th>INDUS</th>\n      <th>CHAS</th>\n      <th>NOX</th>\n      <th>RM</th>\n      <th>PTRATIO</th>\n      <th>B</th>\n      <th>LSTAT</th>\n      <th>MEDV</th>\n    </tr>\n  </thead>\n  <tbody>\n    <tr>\n      <th>0</th>\n      <td>0.00632</td>\n      <td>2.31</td>\n      <td>0.0</td>\n      <td>0.538</td>\n      <td>6</td>\n      <td>15.3</td>\n      <td>396.90</td>\n      <td>4.98</td>\n      <td>24.0</td>\n    </tr>\n    <tr>\n      <th>1</th>\n      <td>0.02731</td>\n      <td>7.07</td>\n      <td>0.0</td>\n      <td>0.469</td>\n      <td>6</td>\n      <td>17.8</td>\n      <td>396.90</td>\n      <td>9.14</td>\n      <td>21.6</td>\n    </tr>\n    <tr>\n      <th>2</th>\n      <td>0.02729</td>\n      <td>7.07</td>\n      <td>0.0</td>\n      <td>0.469</td>\n      <td>7</td>\n      <td>17.8</td>\n      <td>392.83</td>\n      <td>4.03</td>\n      <td>34.7</td>\n    </tr>\n    <tr>\n      <th>3</th>\n      <td>0.03237</td>\n      <td>2.18</td>\n      <td>0.0</td>\n      <td>0.458</td>\n      <td>6</td>\n      <td>18.7</td>\n      <td>394.63</td>\n      <td>2.94</td>\n      <td>33.4</td>\n    </tr>\n    <tr>\n      <th>4</th>\n      <td>0.06905</td>\n      <td>2.18</td>\n      <td>0.0</td>\n      <td>0.458</td>\n      <td>7</td>\n      <td>18.7</td>\n      <td>396.90</td>\n      <td>5.33</td>\n      <td>36.2</td>\n    </tr>\n  </tbody>\n</table>\n</div>"
     },
     "metadata": {},
     "execution_count": 94
    }
   ],
   "source": [
    "X = X.loc[:, ~X.columns.str.contains('^Unnamed')]\n",
    "X.head()\n"
   ]
  },
  {
   "cell_type": "code",
   "execution_count": 95,
   "metadata": {},
   "outputs": [],
   "source": [
    "X.to_csv('data.csv', index=False)"
   ]
  },
  {
   "cell_type": "code",
   "execution_count": null,
   "metadata": {},
   "outputs": [],
   "source": []
  }
 ]
}